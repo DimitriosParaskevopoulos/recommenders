{
 "cells": [
  {
   "cell_type": "code",
   "execution_count": null,
   "metadata": {},
   "outputs": [],
   "source": [
    "# %pip install openai plotly"
   ]
  },
  {
   "cell_type": "code",
   "execution_count": 1,
   "metadata": {},
   "outputs": [],
   "source": [
    "import os\n",
    "from openai import AzureOpenAI\n",
    "\n",
    "from recommenders.datasets import movielens"
   ]
  },
  {
   "cell_type": "code",
   "execution_count": 2,
   "metadata": {},
   "outputs": [
    {
     "name": "stderr",
     "output_type": "stream",
     "text": [
      "100%|██████████| 4.81k/4.81k [00:00<00:00, 6.91kKB/s]\n"
     ]
    },
    {
     "data": {
      "text/html": [
       "<div>\n",
       "<style scoped>\n",
       "    .dataframe tbody tr th:only-of-type {\n",
       "        vertical-align: middle;\n",
       "    }\n",
       "\n",
       "    .dataframe tbody tr th {\n",
       "        vertical-align: top;\n",
       "    }\n",
       "\n",
       "    .dataframe thead th {\n",
       "        text-align: right;\n",
       "    }\n",
       "</style>\n",
       "<table border=\"1\" class=\"dataframe\">\n",
       "  <thead>\n",
       "    <tr style=\"text-align: right;\">\n",
       "      <th></th>\n",
       "      <th>userID</th>\n",
       "      <th>itemID</th>\n",
       "      <th>rating</th>\n",
       "      <th>timestamp</th>\n",
       "      <th>title</th>\n",
       "      <th>genres</th>\n",
       "    </tr>\n",
       "  </thead>\n",
       "  <tbody>\n",
       "    <tr>\n",
       "      <th>0</th>\n",
       "      <td>196</td>\n",
       "      <td>242</td>\n",
       "      <td>3.0</td>\n",
       "      <td>881250949</td>\n",
       "      <td>Kolya (1996)</td>\n",
       "      <td>Comedy</td>\n",
       "    </tr>\n",
       "    <tr>\n",
       "      <th>1</th>\n",
       "      <td>63</td>\n",
       "      <td>242</td>\n",
       "      <td>3.0</td>\n",
       "      <td>875747190</td>\n",
       "      <td>Kolya (1996)</td>\n",
       "      <td>Comedy</td>\n",
       "    </tr>\n",
       "    <tr>\n",
       "      <th>2</th>\n",
       "      <td>226</td>\n",
       "      <td>242</td>\n",
       "      <td>5.0</td>\n",
       "      <td>883888671</td>\n",
       "      <td>Kolya (1996)</td>\n",
       "      <td>Comedy</td>\n",
       "    </tr>\n",
       "    <tr>\n",
       "      <th>3</th>\n",
       "      <td>154</td>\n",
       "      <td>242</td>\n",
       "      <td>3.0</td>\n",
       "      <td>879138235</td>\n",
       "      <td>Kolya (1996)</td>\n",
       "      <td>Comedy</td>\n",
       "    </tr>\n",
       "    <tr>\n",
       "      <th>4</th>\n",
       "      <td>306</td>\n",
       "      <td>242</td>\n",
       "      <td>5.0</td>\n",
       "      <td>876503793</td>\n",
       "      <td>Kolya (1996)</td>\n",
       "      <td>Comedy</td>\n",
       "    </tr>\n",
       "  </tbody>\n",
       "</table>\n",
       "</div>"
      ],
      "text/plain": [
       "   userID  itemID  rating  timestamp         title  genres\n",
       "0     196     242     3.0  881250949  Kolya (1996)  Comedy\n",
       "1      63     242     3.0  875747190  Kolya (1996)  Comedy\n",
       "2     226     242     5.0  883888671  Kolya (1996)  Comedy\n",
       "3     154     242     3.0  879138235  Kolya (1996)  Comedy\n",
       "4     306     242     5.0  876503793  Kolya (1996)  Comedy"
      ]
     },
     "execution_count": 2,
     "metadata": {},
     "output_type": "execute_result"
    }
   ],
   "source": [
    "df = movielens.load_pandas_df(\n",
    "    title_col='title',\n",
    "    genres_col='genres',\n",
    ")\n",
    "df.head()"
   ]
  },
  {
   "cell_type": "code",
   "execution_count": 3,
   "metadata": {},
   "outputs": [],
   "source": [
    "def clean_title(title):\n",
    "    \"\"\"Parse the title and change 'title, The (year)' to be 'The title (year)'\"\"\"\n",
    "    i = title.find(\", The (\")\n",
    "    if i > 0:\n",
    "        year = title[-6:]\n",
    "        title = f\"The {title[:i]} {year}\"\n",
    "    return title"
   ]
  },
  {
   "cell_type": "code",
   "execution_count": 30,
   "metadata": {},
   "outputs": [
    {
     "data": {
      "text/plain": [
       "array(['Kolya (1996)', 'L.A. Confidential (1997)', 'Heavyweights (1994)',\n",
       "       ..., 'Girls Town (1996)', 'The Silence of the Palace (1994)',\n",
       "       'Dadetown (1995)'], dtype=object)"
      ]
     },
     "execution_count": 30,
     "metadata": {},
     "output_type": "execute_result"
    }
   ],
   "source": [
    "df['title'] = df['title'].apply(clean_title)\n",
    "df['title'].unique()"
   ]
  },
  {
   "cell_type": "code",
   "execution_count": 14,
   "metadata": {},
   "outputs": [],
   "source": [
    "from typing import Union, List\n",
    "from tqdm.auto import tqdm\n",
    "\n",
    "class OpenAIModel:\n",
    "    def __init__(self, deployment_name):\n",
    "        self.model = deployment_name  # OpenAI embedding model deployment name\n",
    "        self.client = AzureOpenAI(\n",
    "            api_key=os.getenv(\"OPENAI_API_KEY\"),  \n",
    "            api_version=\"2023-05-15\",\n",
    "            azure_endpoint=os.getenv(\"OPENAI_API_ENDPOINT\"), \n",
    "        )\n",
    "\n",
    "    def __call__(self, inputs: Union[str, List[str]]):\n",
    "        is_str = False\n",
    "        if isinstance(inputs, str):\n",
    "            inputs = [inputs]\n",
    "            is_str = True\n",
    "        \n",
    "        batch_size = 20  # this is current limit (https://learn.microsoft.com/en-us/answers/questions/1334800/batching-requests-in-azure-openai)\n",
    "        n_batches = len(inputs) // batch_size + 1\n",
    "        i_start = 0\n",
    "        res = []\n",
    "        for _ in tqdm(range(n_batches)):\n",
    "            i_end = i_start + batch_size\n",
    "            batch = inputs[i_start:i_end]\n",
    "            res += [\n",
    "                data.embedding for data in self.client.embeddings.create(\n",
    "                    model=self.model,\n",
    "                    input=batch,\n",
    "                ).data\n",
    "            ]\n",
    "            i_start = i_end\n",
    "\n",
    "        return res[0] if is_str else res\n",
    "\n",
    "    def __repr__(self):\n",
    "        return f\"OpenAIModel(model={self.model})\""
   ]
  },
  {
   "cell_type": "code",
   "execution_count": 15,
   "metadata": {},
   "outputs": [],
   "source": [
    "# To use OpenAI's embedding model, you need to create an account, get an API key,\n",
    "# and store it in environment variables OPENAI_API_KEY and OPENAI_API_ENDPOINT.\n",
    "embedding_model = OpenAIModel(\"jun-openai-ada\")"
   ]
  },
  {
   "cell_type": "code",
   "execution_count": 16,
   "metadata": {},
   "outputs": [],
   "source": [
    "import numpy as np\n",
    "import pandas as pd\n",
    "\n",
    "\n",
    "def cosine_similarity(a, b):\n",
    "    return np.dot(a, b) / (np.linalg.norm(a) * np.linalg.norm(b))\n",
    "\n",
    "\n",
    "def search_docs(user_query_embedding, df, embedding_col, top_n=4):\n",
    "    df[\"similarities\"] = df[embedding_col].apply(lambda x: cosine_similarity(x, user_query_embedding))\n",
    "\n",
    "    return (\n",
    "        df.sort_values(\"similarities\", ascending=False)\n",
    "        .head(top_n)\n",
    "    )"
   ]
  },
  {
   "cell_type": "code",
   "execution_count": 17,
   "metadata": {},
   "outputs": [
    {
     "data": {
      "application/vnd.jupyter.widget-view+json": {
       "model_id": "0c8d26cc5e7e4b24840b239640b10bc8",
       "version_major": 2,
       "version_minor": 0
      },
      "text/plain": [
       "  0%|          | 0/84 [00:00<?, ?it/s]"
      ]
     },
     "metadata": {},
     "output_type": "display_data"
    },
    {
     "data": {
      "text/html": [
       "<div>\n",
       "<style scoped>\n",
       "    .dataframe tbody tr th:only-of-type {\n",
       "        vertical-align: middle;\n",
       "    }\n",
       "\n",
       "    .dataframe tbody tr th {\n",
       "        vertical-align: top;\n",
       "    }\n",
       "\n",
       "    .dataframe thead th {\n",
       "        text-align: right;\n",
       "    }\n",
       "</style>\n",
       "<table border=\"1\" class=\"dataframe\">\n",
       "  <thead>\n",
       "    <tr style=\"text-align: right;\">\n",
       "      <th></th>\n",
       "      <th>title</th>\n",
       "      <th>title_embedding</th>\n",
       "    </tr>\n",
       "  </thead>\n",
       "  <tbody>\n",
       "    <tr>\n",
       "      <th>0</th>\n",
       "      <td>Kolya (1996)</td>\n",
       "      <td>[0.0032892634626477957, -0.022517412900924683,...</td>\n",
       "    </tr>\n",
       "    <tr>\n",
       "      <th>1</th>\n",
       "      <td>L.A. Confidential (1997)</td>\n",
       "      <td>[0.015241828747093678, -0.013112935237586498, ...</td>\n",
       "    </tr>\n",
       "    <tr>\n",
       "      <th>2</th>\n",
       "      <td>Heavyweights (1994)</td>\n",
       "      <td>[-0.005445745307952166, -0.047639526426792145,...</td>\n",
       "    </tr>\n",
       "    <tr>\n",
       "      <th>3</th>\n",
       "      <td>Legends of the Fall (1994)</td>\n",
       "      <td>[-0.0030133079271763563, -0.03167612478137016,...</td>\n",
       "    </tr>\n",
       "    <tr>\n",
       "      <th>4</th>\n",
       "      <td>Jackie Brown (1997)</td>\n",
       "      <td>[-0.006625025998800993, -0.038863442838191986,...</td>\n",
       "    </tr>\n",
       "  </tbody>\n",
       "</table>\n",
       "</div>"
      ],
      "text/plain": [
       "                        title  \\\n",
       "0                Kolya (1996)   \n",
       "1    L.A. Confidential (1997)   \n",
       "2         Heavyweights (1994)   \n",
       "3  Legends of the Fall (1994)   \n",
       "4         Jackie Brown (1997)   \n",
       "\n",
       "                                     title_embedding  \n",
       "0  [0.0032892634626477957, -0.022517412900924683,...  \n",
       "1  [0.015241828747093678, -0.013112935237586498, ...  \n",
       "2  [-0.005445745307952166, -0.047639526426792145,...  \n",
       "3  [-0.0030133079271763563, -0.03167612478137016,...  \n",
       "4  [-0.006625025998800993, -0.038863442838191986,...  "
      ]
     },
     "execution_count": 17,
     "metadata": {},
     "output_type": "execute_result"
    }
   ],
   "source": [
    "# create a dataframe with a unique title\n",
    "title_embeddings_df = df[['title']].drop_duplicates()\n",
    "title_embeddings_df.reset_index(inplace=True, drop=True)\n",
    "title_embeddings_df['title_embedding'] = embedding_model(title_embeddings_df['title'].tolist())\n",
    "\n",
    "title_embeddings_df.head()"
   ]
  },
  {
   "cell_type": "code",
   "execution_count": 18,
   "metadata": {},
   "outputs": [],
   "source": [
    "# store embedding df into parquet so that we can reuse it later\n",
    "title_embeddings_df.to_parquet('title_embeddings.parquet')"
   ]
  },
  {
   "cell_type": "code",
   "execution_count": 46,
   "metadata": {},
   "outputs": [],
   "source": [
    "title_embeddings_df = pd.read_parquet('title_embeddings.parquet')"
   ]
  },
  {
   "cell_type": "code",
   "execution_count": 47,
   "metadata": {},
   "outputs": [],
   "source": [
    "# add genres so that we color them in the plot\n",
    "title_embeddings_df = title_embeddings_df.merge(\n",
    "    df[['title', 'genres']].drop_duplicates(),\n",
    "    on='title',\n",
    "    how='left',\n",
    ")"
   ]
  },
  {
   "cell_type": "code",
   "execution_count": 52,
   "metadata": {},
   "outputs": [
    {
     "name": "stderr",
     "output_type": "stream",
     "text": [
      "/home/junkimin/miniconda3/envs/reco/lib/python3.10/site-packages/sklearn/manifold/_t_sne.py:780: FutureWarning:\n",
      "\n",
      "The default initialization in TSNE will change from 'random' to 'pca' in 1.2.\n",
      "\n",
      "/home/junkimin/miniconda3/envs/reco/lib/python3.10/site-packages/sklearn/manifold/_t_sne.py:790: FutureWarning:\n",
      "\n",
      "The default learning rate in TSNE will change from 200.0 to 'auto' in 1.2.\n",
      "\n"
     ]
    },
    {
     "data": {
      "application/vnd.plotly.v1+json": {
       "config": {
        "plotlyServerURL": "https://plot.ly"
       },
       "data": [
        {
         "hovertemplate": "<b>%{hovertext}</b><br><br>color=Comedy<br>0=%{x}<br>1=%{y}<extra></extra>",
         "hovertext": [
          "Kolya (1996)",
          "Romy and Michele's High School Reunion (1997)",
          "To Wong Foo, Thanks for Everything! Julie Newmar (1995)",
          "Naked Gun 33 1/3: The Final Insult (1994)",
          "The Brothers McMullen (1995)",
          "House Arrest (1996)",
          "Bean (1997)",
          "The Birdcage (1996)",
          "Monty Python's Life of Brian (1979)",
          "Liar Liar (1997)",
          "Bio-Dome (1996)",
          "Father of the Bride Part II (1995)",
          "Cool Runnings (1993)",
          "The First Wives Club (1996)",
          "Flirting With Disaster (1996)",
          "Leave It to Beaver (1997)",
          "Tommy Boy (1995)",
          "The Brady Bunch Movie (1995)",
          "Real Genius (1985)",
          "Fish Called Wanda, A (1988)",
          "Clueless (1995)",
          "Mother (1996)",
          "Bottle Rocket (1996)",
          "Kingpin (1996)",
          "Bob Roberts (1992)",
          "Dazed and Confused (1993)",
          "That Thing You Do! (1996)",
          "The Return of the Pink Panther (1974)",
          "It Happened One Night (1934)",
          "Raising Arizona (1987)",
          "Spy Hard (1996)",
          "Multiplicity (1996)",
          "Monty Python and the Holy Grail (1974)",
          "Austin Powers: International Man of Mystery (1997)",
          "Mallrats (1995)",
          "The Great White Hype (1996)",
          "In & Out (1997)",
          "My Fellow Americans (1996)",
          "Houseguest (1994)",
          "Faithful (1996)",
          "Mr. Magoo (1997)",
          "Bringing Up Baby (1938)",
          "Bushwhacked (1995)",
          "Mighty Aphrodite (1995)",
          "Father of the Bride (1950)",
          "Living in Oblivion (1995)",
          "Dumb & Dumber (1994)",
          "Heathers (1989)",
          "Denise Calls Up (1995)",
          "The Full Monty (1997)",
          "The Cable Guy (1996)",
          "Very Brady Sequel, A (1996)",
          "SubUrbia (1997)",
          "Shall We Dance? (1996)",
          "Down Periscope (1996)",
          "Mrs. Doubtfire (1993)",
          "Exit to Eden (1994)",
          "Being There (1979)",
          "Sgt. Bilko (1996)",
          "Major Payne (1994)",
          "Son in Law (1993)",
          "Rocket Man (1997)",
          "The Great Dictator (1940)",
          "Kiss Me, Guido (1997)",
          "Bullets Over Broadway (1994)",
          "The Ref (1994)",
          "Local Hero (1983)",
          "Addams Family Values (1993)",
          "Happy Gilmore (1996)",
          "Jeffrey (1995)",
          "How to Be a Player (1997)",
          "Phat Beach (1996)",
          "Half Baked (1998)",
          "Mixed Nuts (1994)",
          "Harold and Maude (1971)",
          "Cold Comfort Farm (1995)",
          "Waiting for Guffman (1996)",
          "The Pallbearer (1996)",
          "Thin Line Between Love and Hate, A (1996)",
          "Fierce Creatures (1997)",
          "In the Bleak Midwinter (1995)",
          "Ace Ventura: When Nature Calls (1995)",
          "Friday (1995)",
          "For Love or Money (1993)",
          "His Girl Friday (1940)",
          "Clerks (1994)",
          "The Ruling Class (1972)",
          "High School High (1996)",
          "Crooklyn (1994)",
          "Amos & Andrew (1993)",
          "Meet Wally Sparks (1997)",
          "Cops and Robbersons (1994)",
          "Better Off Dead... (1985)",
          "Robin Hood: Men in Tights (1993)",
          "Stuart Saves His Family (1995)",
          "Private Benjamin (1980)",
          "Don't Be a Menace to South Central While Drinking Your Juice in the Hood (1996)",
          "Ace Ventura: Pet Detective (1994)",
          "The Stupids (1996)",
          "Man of the House (1995)",
          "Black Sheep (1996)",
          "My Favorite Year (1982)",
          "Ready to Wear (Pret-A-Porter) (1994)",
          "Eddie (1996)",
          "Live Nude Girls (1995)",
          "Window to Paris (1994)",
          "Theodore Rex (1995)",
          "Metisse (Café au Lait) (1993)",
          "Celtic Pride (1996)",
          "Weekend at Bernie's (1989)",
          "Up in Smoke (1978)",
          "Billy Madison (1995)",
          "The Beverly Hillbillies (1993)",
          "Miami Rhapsody (1995)",
          "Clean Slate (1994)",
          "Critical Care (1997)",
          "The Old Lady Who Walked in the Sea (1991)",
          "Fatal Instinct (1993)",
          "Kids in the Hall: Brain Candy (1996)",
          "Nine Months (1995)",
          "The Air Up There (1994)",
          "Lover's Knot (1996)",
          "My Man Godfrey (1936)",
          "Made in America (1993)",
          "Love and Death on Long Island (1997)",
          "The Women (1939)",
          "Rent-a-Kid (1995)",
          "The Associate (1996)",
          "Vegas Vacation (1997)",
          "Out to Sea (1997)",
          "Farmer & Chase (1995)",
          "Angus (1995)",
          "Airheads (1994)",
          "Girl 6 (1996)",
          "Santa with Muscles (1996)",
          "Boys, Les (1997)",
          "The Pest (1997)",
          "Party Girl (1995)",
          "Life with Mikey (1993)",
          "Maybe, Maybe Not (Bewegte Mann, Der) (1994)",
          "Fear of a Black Hat (1993)",
          "Fathers' Day (1997)",
          "I'm Not Rappaport (1996)",
          "Gone Fishin' (1997)",
          "For Richer or Poorer (1997)",
          "Blue in the Face (1995)",
          "Vermin (1998)",
          "Mr. Wrong (1996)",
          "The Sum of Us (1994)",
          "Bye Bye, Love (1995)",
          "Chasers (1994)",
          "Hear My Song (1991)",
          "Reckless (1995)",
          "Love & Human Remains (1993)",
          "Cabin Boy (1994)",
          "The Road to Wellville (1994)",
          "The Search for One-eye Jimmy (1996)",
          "Senseless (1998)",
          "Stripes (1981)",
          "Falling in Love Again (1980)",
          "Withnail and I (1987)",
          "North (1994)",
          "Dunston Checks In (1996)",
          "Dear God (1996)",
          "Late Bloomers (1996)",
          "Jimmy Hollywood (1994)",
          "The Sexual Life of the Belgians (1994)",
          "Jury Duty (1995)",
          "National Lampoon's Senior Trip (1995)",
          "Steal Big, Steal Little (1995)",
          "Destiny Turns on the Radio (1995)",
          "Bewegte Mann, Der (1994)",
          "Cosi (1996)",
          "Celestial Clockwork (1994)",
          "Ed (1996)",
          "Schizopolis (1996)",
          "Mille bolle blu (1993)",
          "Sprung (1997)",
          "Larger Than Life (1996)",
          "Gilligan's Island: The Movie (1998)",
          "House Party 3 (1994)",
          "Pushing Hands (1992)",
          "Grosse Fatigue (1994)",
          "Love Serenade (1996)",
          "Here Comes Cookie (1935)",
          "Three Lives and Only One Death (1996)",
          "Death in Brunswick (1991)",
          "Children of the Revolution (1996)",
          "Gordy (1995)",
          "The Sixth Man (1997)",
          "Chairman of the Board (1998)",
          "B*A*P*S (1997)",
          "Quartier Mozart (1992)",
          "A Chef in Love (1996)",
          "Open Season (1996)",
          "Fausto (1993)",
          "Guantanamera (1994)",
          "Sudden Manhattan (1996)",
          "Getting Even with Dad (1994)",
          "8 Heads in a Duffel Bag (1997)",
          "It Takes Two (1995)",
          "Paris, France (1993)",
          "Mostro, Il (1994)",
          "Ed's Next Move (1996)",
          "Careful (1992)",
          "Intimate Relations (1996)",
          "Wedding Bell Blues (1996)",
          "You So Crazy (1994)",
          "Getting Away With Murder (1996)"
         ],
         "legendgroup": "Comedy",
         "marker": {
          "color": "#636efa",
          "symbol": "circle"
         },
         "mode": "markers",
         "name": "Comedy",
         "showlegend": true,
         "type": "scattergl",
         "x": [
          -12.89480209350586,
          8.50335693359375,
          5.202246189117432,
          3.5702643394470215,
          -22.496694564819336,
          -7.849904537200928,
          38.20785903930664,
          -2.792914390563965,
          -44.043785095214844,
          26.725278854370117,
          -1.2769620418548584,
          -20.048551559448242,
          -9.626277923583984,
          6.46622896194458,
          3.6648447513580322,
          37.32266616821289,
          -13.245113372802734,
          -20.561506271362305,
          -25.109668731689453,
          -32.341556549072266,
          -0.13750341534614563,
          4.65945291519165,
          13.210260391235352,
          9.039000511169434,
          -17.999723434448242,
          14.18430233001709,
          9.384727478027344,
          -39.3752326965332,
          -49.64884567260742,
          -28.778564453125,
          -4.889200210571289,
          2.1027867794036865,
          -44.1155891418457,
          20.434059143066406,
          2.808156728744507,
          -5.1218461990356445,
          30.080795288085938,
          18.021953582763672,
          31.728315353393555,
          6.873466968536377,
          36.083866119384766,
          -54.89828109741211,
          -4.586514949798584,
          -4.199073791503906,
          -54.35029220581055,
          2.1496143341064453,
          27.761184692382812,
          -25.549535751342773,
          17.323888778686523,
          18.475831985473633,
          -11.89840030670166,
          -20.447195053100586,
          38.075439453125,
          -29.904584884643555,
          -15.99207592010498,
          9.236376762390137,
          21.60338020324707,
          -40.631900787353516,
          -10.790517807006836,
          31.35618019104004,
          6.422121047973633,
          13.501816749572754,
          -51.456912994384766,
          7.6425909996032715,
          34.366546630859375,
          29.16238784790039,
          -24.114948272705078,
          9.497115135192871,
          10.264917373657227,
          49.16545867919922,
          24.4726505279541,
          -11.87601089477539,
          -23.73128890991211,
          -12.544463157653809,
          -50.32002258300781,
          9.966277122497559,
          -14.075078964233398,
          -5.804663181304932,
          13.948206901550293,
          34.2901725769043,
          11.016703605651855,
          -28.049270629882812,
          -1.1008362770080566,
          16.65497589111328,
          -53.56415557861328,
          33.78190612792969,
          -46.377994537353516,
          8.027189254760742,
          34.4632453918457,
          48.608333587646484,
          43.86384582519531,
          -17.498897552490234,
          -11.908910751342773,
          -28.526683807373047,
          7.620591163635254,
          -33.36034393310547,
          -2.0250158309936523,
          -28.049358367919922,
          -8.975448608398438,
          12.717888832092285,
          -7.3660807609558105,
          -36.28590774536133,
          31.535999298095703,
          -0.30559393763542175,
          3.3079445362091064,
          -31.411231994628906,
          -21.541624069213867,
          -26.824357986450195,
          14.401471138000488,
          -27.391450881958008,
          -42.788692474365234,
          2.3998897075653076,
          25.990415573120117,
          7.619719505310059,
          29.77277183532715,
          34.50752258300781,
          -64.62750244140625,
          -13.764497756958008,
          0.4099747836589813,
          7.040794372558594,
          24.826250076293945,
          11.256714820861816,
          -58.20330047607422,
          19.398155212402344,
          -4.58368444442749,
          -55.16471862792969,
          2.45192813873291,
          4.356433868408203,
          21.587244033813477,
          30.369264602661133,
          50.416080474853516,
          9.158209800720215,
          24.549562454223633,
          2.5060322284698486,
          45.238826751708984,
          -11.292082786560059,
          26.278690338134766,
          2.31587553024292,
          -38.82838439941406,
          43.66339111328125,
          -10.385234832763672,
          14.7511568069458,
          -9.953411102294922,
          28.377721786499023,
          43.50408935546875,
          13.76943588256836,
          26.58669090270996,
          -9.374293327331543,
          19.724321365356445,
          3.6587257385253906,
          -6.114592552185059,
          16.38387680053711,
          -0.893324077129364,
          17.199230194091797,
          -9.44647216796875,
          33.62165451049805,
          -0.852875828742981,
          24.923458099365234,
          -32.86248016357422,
          -35.890140533447266,
          -26.192737579345703,
          35.341522216796875,
          -0.2119741290807724,
          7.556282997131348,
          4.639631748199463,
          32.13535690307617,
          8.178314208984375,
          -8.02242660522461,
          -24.64012336730957,
          0.5686012506484985,
          -17.908620834350586,
          43.63515090942383,
          2.014941453933716,
          16.869800567626953,
          -0.4296663701534271,
          -2.66457200050354,
          22.57418441772461,
          35.61839294433594,
          2.323241949081421,
          -1.6560909748077393,
          8.126585960388184,
          -14.298270225524902,
          29.967411041259766,
          10.954876899719238,
          -52.38717269897461,
          -8.444538116455078,
          -10.085423469543457,
          10.377291679382324,
          7.265707015991211,
          15.153115272521973,
          2.4445102214813232,
          36.424007415771484,
          -26.883604049682617,
          12.808629035949707,
          -2.244281053543091,
          44.74281311035156,
          39.08737564086914,
          -11.235296249389648,
          14.110809326171875,
          7.766354084014893,
          5.447964668273926,
          -31.29464340209961,
          42.10853958129883,
          -0.4576813578605652,
          -15.234899520874023,
          9.010899543762207,
          14.00983715057373,
          20.738853454589844,
          -8.841402053833008
         ],
         "xaxis": "x",
         "y": [
          -28.17096519470215,
          -21.848899841308594,
          39.953617095947266,
          2.567340135574341,
          -7.696543216705322,
          -8.2119722366333,
          -34.7293586730957,
          -28.531158447265625,
          9.964961051940918,
          -21.931833267211914,
          -29.848953247070312,
          0.0029555410146713257,
          31.200685501098633,
          6.1734843254089355,
          -8.41734504699707,
          -37.8543586730957,
          -41.08759689331055,
          -10.08232593536377,
          3.457131862640381,
          19.878334045410156,
          13.309205055236816,
          -23.95990562438965,
          -32.20166015625,
          -28.23248291015625,
          -6.302526473999023,
          8.118303298950195,
          -14.857921600341797,
          -7.942661762237549,
          26.325340270996094,
          15.116537094116211,
          -16.79706573486328,
          -22.63400650024414,
          9.926084518432617,
          -21.8618221282959,
          25.052160263061523,
          -34.130680084228516,
          -28.3091983795166,
          22.15778160095215,
          5.5559611320495605,
          -18.03717613220215,
          -38.855892181396484,
          25.102582931518555,
          12.745569229125977,
          30.40365219116211,
          22.959077835083008,
          32.272422790527344,
          -1.9336018562316895,
          13.87922191619873,
          -47.21369552612305,
          -28.146787643432617,
          -24.47161865234375,
          -10.258532524108887,
          -26.345911026000977,
          -10.081092834472656,
          -32.20271301269531,
          7.961328506469727,
          2.559248208999634,
          4.805448055267334,
          -26.98997688293457,
          2.7668559551239014,
          -23.659770965576172,
          -32.13618087768555,
          33.03403091430664,
          -7.9996747970581055,
          12.962396621704102,
          3.912125825881958,
          5.105552673339844,
          9.249746322631836,
          -42.2867431640625,
          7.697145462036133,
          -27.0040340423584,
          -31.925800323486328,
          -4.179855823516846,
          -21.17679786682129,
          2.005772590637207,
          30.510923385620117,
          -24.264225006103516,
          -1.7806771993637085,
          -10.554438591003418,
          -9.346968650817871,
          29.88225555419922,
          -40.82592010498047,
          16.937782287597656,
          -6.8123626708984375,
          29.411542892456055,
          11.284192085266113,
          7.090460777282715,
          -22.029773712158203,
          11.962146759033203,
          14.289085388183594,
          -23.95907211303711,
          -6.4779791831970215,
          7.455198287963867,
          19.634565353393555,
          10.212483406066895,
          1.6520925760269165,
          -0.8242520689964294,
          -40.823333740234375,
          -22.463302612304688,
          4.148444652557373,
          -27.774234771728516,
          -1.5578114986419678,
          10.399645805358887,
          -39.746524810791016,
          0.7550767064094543,
          -16.662033081054688,
          -28.88673210144043,
          -22.917312622070312,
          -15.135085105895996,
          -6.147473335266113,
          0.6521198749542236,
          8.104833602905273,
          33.379920959472656,
          19.040945053100586,
          9.193578720092773,
          -33.841957092285156,
          19.574899673461914,
          0.1751389056444168,
          39.81540298461914,
          16.49617576599121,
          0.09683611243963242,
          -7.855119228363037,
          27.494579315185547,
          21.89937400817871,
          3.5404551029205322,
          26.707420349121094,
          19.67352867126465,
          -21.64565658569336,
          -29.972522735595703,
          -19.266124725341797,
          8.709834098815918,
          22.66228485107422,
          0.6992902755737305,
          -5.214839458465576,
          21.940820693969727,
          -37.74566650390625,
          -34.20042419433594,
          -1.7527397871017456,
          -24.519023895263672,
          15.263763427734375,
          17.816726684570312,
          -25.394695281982422,
          -19.497005462646484,
          -17.635000228881836,
          -15.198441505432129,
          19.470355987548828,
          -34.528953552246094,
          -21.457956314086914,
          -0.9900445938110352,
          6.207381248474121,
          -46.30167007446289,
          40.91984558105469,
          13.542400360107422,
          9.433380126953125,
          -37.8589973449707,
          -4.8451032638549805,
          -15.291267395019531,
          -10.85949993133545,
          -3.0826308727264404,
          -0.484834760427475,
          12.765414237976074,
          5.04544734954834,
          -24.595258712768555,
          -17.996749877929688,
          -29.16067886352539,
          6.226017475128174,
          -5.314279556274414,
          -5.08657693862915,
          -10.357206344604492,
          -7.014826774597168,
          -1.8936642408370972,
          15.13735294342041,
          -24.650239944458008,
          18.464082717895508,
          -39.84340286254883,
          -31.70672607421875,
          24.600996017456055,
          -30.98619270324707,
          -28.7933292388916,
          7.96858549118042,
          34.833553314208984,
          -3.944985866546631,
          25.565143585205078,
          -10.214479446411133,
          24.644100189208984,
          4.642907619476318,
          5.41704797744751,
          -23.327110290527344,
          21.580646514892578,
          -29.829179763793945,
          -44.21095275878906,
          -35.52489471435547,
          -32.206886291503906,
          -8.698728561401367,
          -27.187374114990234,
          9.302153587341309,
          0.41986724734306335,
          -3.7024989128112793,
          -25.12470054626465,
          -48.86281204223633,
          8.932333946228027,
          -16.333646774291992,
          6.477963447570801,
          -39.275238037109375,
          -4.252727031707764,
          -11.453543663024902,
          -1.6556684970855713,
          -5.4842658042907715,
          -1.5330506563186646
         ],
         "yaxis": "y"
        },
        {
         "hovertemplate": "<b>%{hovertext}</b><br><br>color=Crime|Film-Noir|Mystery|Thriller<br>0=%{x}<br>1=%{y}<extra></extra>",
         "hovertext": [
          "L.A. Confidential (1997)",
          "Devil in a Blue Dress (1995)"
         ],
         "legendgroup": "Crime|Film-Noir|Mystery|Thriller",
         "marker": {
          "color": "#EF553B",
          "symbol": "circle"
         },
         "mode": "markers",
         "name": "Crime|Film-Noir|Mystery|Thriller",
         "showlegend": true,
         "type": "scattergl",
         "x": [
          15.596128463745117,
          13.96430492401123
         ],
         "xaxis": "x",
         "y": [
          -36.281253814697266,
          19.487478256225586
         ],
         "yaxis": "y"
        },
        {
         "hovertemplate": "<b>%{hovertext}</b><br><br>color=Children's|Comedy<br>0=%{x}<br>1=%{y}<extra></extra>",
         "hovertext": [
          "Heavyweights (1994)",
          "Angels in the Outfield (1994)",
          "George of the Jungle (1997)",
          "Home Alone (1990)",
          "101 Dalmatians (1996)",
          "Matilda (1996)",
          "D3: The Mighty Ducks (1996)",
          "Harriet the Spy (1996)",
          "Jungle2Jungle (1997)",
          "Mouse Hunt (1997)",
          "The Santa Clause (1994)",
          "The Love Bug (1969)",
          "First Kid (1996)",
          "The Shaggy Dog (1959)",
          "The Big Green (1995)",
          "Home Alone 3 (1997)",
          "Air Bud (1997)",
          "The Flintstones (1994)",
          "Richie Rich (1994)",
          "Little Big League (1994)",
          "The Little Rascals (1994)"
         ],
         "legendgroup": "Children's|Comedy",
         "marker": {
          "color": "#00cc96",
          "symbol": "circle"
         },
         "mode": "markers",
         "name": "Children's|Comedy",
         "showlegend": true,
         "type": "scattergl",
         "x": [
          1.0637719631195068,
          29.801565170288086,
          40.23533630371094,
          50.36960983276367,
          -19.034208297729492,
          4.386492729187012,
          23.552248001098633,
          -4.45571756362915,
          40.26308822631836,
          26.75575828552246,
          44.66345977783203,
          -43.335113525390625,
          10.892595291137695,
          -46.442466735839844,
          -2.6338284015655518,
          50.35287094116211,
          34.296443939208984,
          34.05721664428711,
          43.21022033691406,
          31.750986099243164,
          32.384124755859375
         ],
         "xaxis": "x",
         "y": [
          16.89767837524414,
          21.237632751464844,
          -7.990908622741699,
          -11.636621475219727,
          -26.203710556030273,
          -35.257633209228516,
          -16.788509368896484,
          -16.867231369018555,
          -7.780195713043213,
          -32.3178825378418,
          21.708534240722656,
          15.10227108001709,
          -24.804784774780273,
          -10.41145133972168,
          5.593753337860107,
          -11.656621932983398,
          -39.958030700683594,
          16.638526916503906,
          -14.568024635314941,
          19.617389678955078,
          19.33558464050293
         ],
         "yaxis": "y"
        },
        {
         "hovertemplate": "<b>%{hovertext}</b><br><br>color=Drama|Romance|War|Western<br>0=%{x}<br>1=%{y}<extra></extra>",
         "hovertext": [
          "Legends of the Fall (1994)"
         ],
         "legendgroup": "Drama|Romance|War|Western",
         "marker": {
          "color": "#ab63fa",
          "symbol": "circle"
         },
         "mode": "markers",
         "name": "Drama|Romance|War|Western",
         "showlegend": true,
         "type": "scattergl",
         "x": [
          28.23664665222168
         ],
         "xaxis": "x",
         "y": [
          -6.408073425292969
         ],
         "yaxis": "y"
        },
        {
         "hovertemplate": "<b>%{hovertext}</b><br><br>color=Crime|Drama<br>0=%{x}<br>1=%{y}<extra></extra>",
         "hovertext": [
          "Jackie Brown (1997)",
          "Bonnie and Clyde (1967)",
          "Pulp Fiction (1994)",
          "GoodFellas (1990)",
          "Donnie Brasco (1997)",
          "Once Were Warriors (1994)",
          "Sleepers (1996)",
          "Carlito's Way (1993)",
          "The Newton Boys (1998)",
          "Night Falls on Manhattan (1997)",
          "Jason's Lyric (1994)",
          "Cyclo (1995)",
          "Killer: A Journal of Murder (1995)",
          "New Jersey Drive (1995)",
          "Letter From Death Row, A (1998)",
          "Angel on My Shoulder (1946)",
          "Twilight (1998)",
          "They Made Me a Criminal (1939)",
          "Normal Life (1996)"
         ],
         "legendgroup": "Crime|Drama",
         "marker": {
          "color": "#FFA15A",
          "symbol": "circle"
         },
         "mode": "markers",
         "name": "Crime|Drama",
         "showlegend": true,
         "type": "scattergl",
         "x": [
          19.045015335083008,
          -40.12508010864258,
          28.920326232910156,
          -17.462217330932617,
          17.78506088256836,
          32.57459259033203,
          6.046059608459473,
          35.11093521118164,
          -10.284394264221191,
          8.763094902038574,
          29.508304595947266,
          -3.077120542526245,
          -9.941388130187988,
          -0.8001981377601624,
          -11.85525894165039,
          -40.59694290161133,
          21.807846069335938,
          -55.2191162109375,
          3.5469748973846436
         ],
         "xaxis": "x",
         "y": [
          -36.205379486083984,
          25.163673400878906,
          6.477540016174316,
          11.81041145324707,
          -36.371604919433594,
          -12.465394973754883,
          30.042213439941406,
          -1.859731912612915,
          -36.63782501220703,
          -1.4276435375213623,
          12.11066722869873,
          20.52993392944336,
          2.4328386783599854,
          15.054713249206543,
          4.742617607116699,
          31.73097801208496,
          -9.771230697631836,
          32.02155685424805,
          -29.30671501159668
         ],
         "yaxis": "y"
        },
        {
         "hovertemplate": "<b>%{hovertext}</b><br><br>color=Sci-Fi|War<br>0=%{x}<br>1=%{y}<extra></extra>",
         "hovertext": [
          "Dr. Strangelove or: How I Learned to Stop Worrying and Love the Bomb (1963)"
         ],
         "legendgroup": "Sci-Fi|War",
         "marker": {
          "color": "#19d3f3",
          "symbol": "circle"
         },
         "mode": "markers",
         "name": "Sci-Fi|War",
         "showlegend": true,
         "type": "scattergl",
         "x": [
          -50.51475143432617
         ],
         "xaxis": "x",
         "y": [
          11.299427032470703
         ],
         "yaxis": "y"
        },
        {
         "hovertemplate": "<b>%{hovertext}</b><br><br>color=Action|Thriller<br>0=%{x}<br>1=%{y}<extra></extra>",
         "hovertext": [
          "The Hunt for Red October (1990)",
          "Die Hard (1988)",
          "Broken Arrow (1996)",
          "Executive Decision (1996)",
          "Dante's Peak (1997)",
          "The River Wild (1994)",
          "The Fugitive (1993)",
          "Eraser (1996)",
          "Stag (1997)",
          "Die Hard: With a Vengeance (1995)",
          "Supercop (1992)",
          "Breakdown (1997)",
          "The Long Kiss Goodnight (1996)",
          "Blown Away (1994)",
          "Natural Born Killers (1994)",
          "Nick of Time (1995)",
          "Die xue shuang xiong (Killer, The) (1989)",
          "Air Force One (1997)",
          "Die Hard 2 (1990)",
          "The Crow: City of Angels (1996)",
          "In the Line of Fire (1993)",
          "The Replacement Killers (1998)",
          "The Jackal (1997)",
          "The Glimmer Man (1996)",
          "Hard Rain (1998)",
          "U.S. Marshalls (1998)",
          "Shopping (1994)",
          "The Courtyard (1995)",
          "Mirage (1995)"
         ],
         "legendgroup": "Action|Thriller",
         "marker": {
          "color": "#FF6692",
          "symbol": "circle"
         },
         "mode": "markers",
         "name": "Action|Thriller",
         "showlegend": true,
         "type": "scattergl",
         "x": [
          -18.627424240112305,
          -20.160743713378906,
          -4.120652675628662,
          2.1972501277923584,
          43.176143646240234,
          33.5790901184082,
          13.303777694702148,
          -4.7375993728637695,
          28.58810806274414,
          -19.775381088256836,
          -13.966827392578125,
          33.60884475708008,
          7.249580383300781,
          24.666854858398438,
          -12.508140563964844,
          -7.046205520629883,
          38.88337707519531,
          32.373783111572266,
          -20.062091827392578,
          24.556686401367188,
          -4.984451770782471,
          -11.614584922790527,
          23.274702072143555,
          0.9949425458908081,
          24.226943969726562,
          -9.216129302978516,
          32.17525100708008,
          0.9698075652122498,
          0.7250648736953735
         ],
         "xaxis": "x",
         "y": [
          8.677263259887695,
          5.911574363708496,
          -27.86396026611328,
          -43.69698715209961,
          -29.383544921875,
          -6.4315876960754395,
          10.373769760131836,
          -20.248355865478516,
          -33.8464469909668,
          6.092042922973633,
          -7.488283157348633,
          -28.954708099365234,
          -9.936627388000488,
          -1.5066008567810059,
          1.38324773311615,
          19.570314407348633,
          27.52859878540039,
          -41.738895416259766,
          5.8990373611450195,
          -7.110776424407959,
          -5.548055171966553,
          1.4055633544921875,
          -22.6354923248291,
          -17.415773391723633,
          -14.082867622375488,
          -6.77700138092041,
          9.325434684753418,
          25.74229621887207,
          21.6396484375
         ],
         "yaxis": "y"
        },
        {
         "hovertemplate": "<b>%{hovertext}</b><br><br>color=Adventure|Children's|Romance<br>0=%{x}<br>1=%{y}<extra></extra>",
         "hovertext": [
          "The Jungle Book (1994)"
         ],
         "legendgroup": "Adventure|Children's|Romance",
         "marker": {
          "color": "#B6E880",
          "symbol": "circle"
         },
         "mode": "markers",
         "name": "Adventure|Children's|Romance",
         "showlegend": true,
         "type": "scattergl",
         "x": [
          39.85551834106445
         ],
         "xaxis": "x",
         "y": [
          -6.0177764892578125
         ],
         "yaxis": "y"
        },
        {
         "hovertemplate": "<b>%{hovertext}</b><br><br>color=Comedy|Musical|Romance<br>0=%{x}<br>1=%{y}<extra></extra>",
         "hovertext": [
          "Grease (1978)",
          "Shall We Dance? (1937)",
          "Everyone Says I Love You (1996)",
          "The Gay Divorcee (1934)",
          "Grease 2 (1982)",
          "Top Hat (1935)",
          "Damsel in Distress, A (1937)"
         ],
         "legendgroup": "Comedy|Musical|Romance",
         "marker": {
          "color": "#FF97FF",
          "symbol": "circle"
         },
         "mode": "markers",
         "name": "Comedy|Musical|Romance",
         "showlegend": true,
         "type": "scattergl",
         "x": [
          -38.87065505981445,
          -29.91780662536621,
          12.528668403625488,
          -55.63921356201172,
          -38.71604919433594,
          -50.12110137939453,
          -54.19717025756836
         ],
         "xaxis": "x",
         "y": [
          -1.9622875452041626,
          -10.098260879516602,
          -11.370734214782715,
          28.69782257080078,
          -1.9975416660308838,
          24.923738479614258,
          26.8725643157959
         ],
         "yaxis": "y"
        },
        {
         "hovertemplate": "<b>%{hovertext}</b><br><br>color=Drama<br>0=%{x}<br>1=%{y}<extra></extra>",
         "hovertext": [
          "The Remains of the Day (1993)",
          "The Age of Innocence (1993)",
          "The Man Without a Face (1993)",
          "Restoration (1995)",
          "The Right Stuff (1983)",
          "Dead Poets Society (1989)",
          "To Kill a Mockingbird (1962)",
          "Mr. Holland's Opus (1995)",
          "Jean de Florette (1986)",
          "Dangerous Minds (1995)",
          "Miller's Crossing (1990)",
          "It's a Wonderful Life (1946)",
          "In the Name of the Father (1993)",
          "Amistad (1997)",
          "My Family (1995)",
          "Pump Up the Volume (1990)",
          "Get on the Bus (1996)",
          "Good Will Hunting (1997)",
          "Big Night (1996)",
          "Clockers (1995)",
          "Three Colors: White (1994)",
          "12 Angry Men (1957)",
          "Tie Me Up! Tie Me Down! (1990)",
          "The Apostle (1997)",
          "Unhook the Stars (1996)",
          "Streetcar Named Desire, A (1951)",
          "Rudy (1993)",
          "The Shawshank Redemption (1994)",
          "One Flew Over the Cuckoo's Nest (1975)",
          "The People vs. Larry Flynt (1996)",
          "Ulee's Gold (1997)",
          "Field of Dreams (1989)",
          "Glengarry Glen Ross (1992)",
          "Citizen Kane (1941)",
          "The Unbearable Lightness of Being (1988)",
          "It's My Party (1995)",
          "Miracle on 34th Street (1994)",
          "The Scout (1994)",
          "Trees Lounge (1996)",
          "The Cook the Thief His Wife & Her Lover (1989)",
          "Lost Horizon (1937)",
          "Little Women (1994)",
          "The Crossing Guard (1995)",
          "Once Upon a Time... When We Were Colored (1995)",
          "Three Colors: Blue (1993)",
          "Naked (1993)",
          "The Ice Storm (1997)",
          "Trainspotting (1996)",
          "Powder (1995)",
          "Beautiful Girls (1996)",
          "Priest (1994)",
          "The Spitfire Grill (1996)",
          "Quiz Show (1994)",
          "Kundun (1997)",
          "Red Firecracker, Green Firecracker (1994)",
          "Orlando (1993)",
          "Hamlet (1996)",
          "Rosewood (1997)",
          "Sophie's Choice (1982)",
          "Enchanted April (1991)",
          "Higher Learning (1995)",
          "East of Eden (1955)",
          "The Chamber (1996)",
          "My Left Foot (1989)",
          "Fried Green Tomatoes (1991)",
          "Nell (1994)",
          "The Madness of King George (1994)",
          "Rebel Without a Cause (1955)",
          "Basquiat (1996)",
          "Marvin's Room (1996)",
          "The Flower of My Secret (1995)",
          "Smoke (1995)",
          "Dead Man Walking (1995)",
          "Raise the Red Lantern (1991)",
          "The Rainmaker (1997)",
          "Secrets & Lies (1996)",
          "Thousand Acres, A (1997)",
          "On Golden Pond (1981)",
          "Showgirls (1995)",
          "Searching for Bobby Fischer (1993)",
          "Moll Flanders (1996)",
          "Three Colors: Red (1994)",
          "Bastard Out of Carolina (1996)",
          "Sex, Lies, and Videotape (1989)",
          "Georgia (1995)",
          "Breaking the Waves (1996)",
          "Last Dance (1996)",
          "The Blue Angel (1930)",
          "My Life and Times With Antonin Artaud (En compagnie d'Antonin Artaud) (1993)",
          "Widows' Peak (1994)",
          "Somebody to Love (1994)",
          "Captives (1994)",
          "Hearts and Minds (1996)",
          "Manon of the Spring (Manon des sources) (1986)",
          "The Crucible (1996)",
          "Casino (1995)",
          "Time to Kill, A (1996)",
          "Crows and Sparrows (1949)",
          "Dingo (1992)",
          "Gandhi (1982)",
          "Of Human Bondage (1934)",
          "Poetic Justice (1993)",
          "The Horseman on the Roof (1995)",
          "The Postman (1997)",
          "Total Eclipse (1995)",
          "Robin Hood: Prince of Thieves (1991)",
          "Cat on a Hot Tin Roof (1958)",
          "8 1/2 (1963)",
          "What's Love Got to Do with It (1993)",
          "Beyond Rangoon (1995)",
          "Raging Bull (1980)",
          "Kids (1995)",
          "Short Cuts (1993)",
          "Career Girls (1997)",
          "Boogie Nights (1997)",
          "The Horse Whisperer (1998)",
          "My Life as a Dog (Mitt liv som hund) (1985)",
          "Double vie de Véronique, La (Double Life of Veronique, The) (1991)",
          "The Garden of Finzi-Contini (1970)",
          "Manny & Lo (1996)",
          "The Convent (1995)",
          "Mother Night (1996)",
          "Foxfire (1996)",
          "The Basketball Diaries (1995)",
          "The Seventh Seal (1957)",
          "Washington Square (1997)",
          "Giant (1956)",
          "Telling Lies in America (1997)",
          "Vanya on 42nd Street (1994)",
          "Every Other Weekend (1990)",
          "Ponette (1996)",
          "Soul Food (1997)",
          "Losing Isaiah (1995)",
          "Picnic (1955)",
          "In the Company of Men (1997)",
          "Jude (1996)",
          "Homage (1995)",
          "Walkabout (1971)",
          "All About Eve (1950)",
          "Bread and Chocolate (Pane e cioccolata) (1973)",
          "Belle de jour (1967)",
          "To Live (Huozhe) (1994)",
          "Primary Colors (1998)",
          "187 (1997)",
          "Nadja (1994)",
          "Mr. Smith Goes to Washington (1939)",
          "The Whole Wide World (1996)",
          "Eve's Bayou (1997)",
          "Surviving Picasso (1996)",
          "Fresh (1994)",
          "Now and Then (1995)",
          "The Stars Fell on Henrietta (1995)",
          "Stealing Beauty (1996)",
          "Bronx Tale, A (1993)",
          "Mrs. Parker and the Vicious Circle (1994)",
          "Delta of Venus (1994)",
          "The Return of Martin Guerre (1982)",
          "Cobb (1994)",
          "Female Perversions (1996)",
          "Of Love and Shadows (1994)",
          "Star Maps (1997)",
          "Philadelphia (1993)",
          "Ridicule (1996)",
          "Christmas Carol, A (1938)",
          "The Portrait of a Lady (1996)",
          "Prefontaine (1997)",
          "The Scarlet Letter (1995)",
          "Feast of July (1995)",
          "The Ballad of Narayama (1958)",
          "Shanghai Triad (Yao a yao yao dao waipo qiao) (1995)",
          "Antonia's Line (1995)",
          "Ruby in Paradise (1993)",
          "Hate (Haine, La) (1995)",
          "Nixon (1995)",
          "Four Days in September (1997)",
          "Little Odessa (1994)",
          "Bitter Moon (1992)",
          "White Man's Burden (1995)",
          "The Preacher's Wife (1996)",
          "Passion Fish (1992)",
          "Paris, Texas (1984)",
          "Othello (1995)",
          "The Truman Show (1998)",
          "The Sweet Hereafter (1997)",
          "I Shot Andy Warhol (1996)",
          "The Tin Drum (1979)",
          "Nil By Mouth (1997)",
          "Flirt (1995)",
          "M. Butterfly (1993)",
          "My Own Private Idaho (1991)",
          "Squeeze (1996)",
          "The Boys of St. Vincent (1993)",
          "Ghosts of Mississippi (1996)",
          "Awfully Big Adventure, An (1995)",
          "The Candidate (1972)",
          "Burnt By the Sun (1994)",
          "The Last Time I Saw Paris (1954)",
          "The Browning Version (1994)",
          "Little Buddha (1993)",
          "Sunset Park (1996)",
          "The Funeral (1996)",
          "When a Man Loves a Woman (1994)",
          "Nobody's Fool (1994)",
          "The Substance of Fire (1996)",
          "One Night Stand (1997)",
          "Mina Tannenbaum (1994)",
          "Margaret's Museum (1995)",
          "Three Wishes (1995)",
          "The Grass Harp (1995)",
          "Exotica (1994)",
          "The White Balloon (1995)",
          "Meet John Doe (1941)",
          "Very Natural Thing, A (1974)",
          "Fearless (1993)",
          "Drunks (1995)",
          "Faces (1968)",
          "Fille seule, La (A Single Girl) (1995)",
          "Little Lord Fauntleroy (1936)",
          "Pather Panchali (1955)",
          "Blood & Wine (1997)",
          "Panther (1995)",
          "The Star Maker (1995)",
          "Kaspar Hauser (1993)",
          "Ill Gotten Gains (1997)",
          "Other Voices, Other Rooms (1997)",
          "Princess Caraboo (1994)",
          "Tom & Viv (1994)",
          "Gabbeh (1996)",
          "Jefferson in Paris (1995)",
          "Walk in the Sun, A (1945)",
          "Boy's Life 2 (1997)",
          "Cry, the Beloved Country (1995)",
          "Aiqing wansui (1994)",
          "Lotto Land (1995)",
          "The Last Time I Committed Suicide (1997)",
          "Johns (1996)",
          "The Mighty (1998)",
          "King of the Hill (1993)",
          "8 Seconds (1994)",
          "Strawberry and Chocolate (Fresa y chocolate) (1993)",
          "The Turning (1992)",
          "Collectionneuse, La (1967)",
          "Stonewall (1995)",
          "Anna (1996)",
          "Traveller (1997)",
          "An Unforgettable Summer (1994)",
          "Two Deaths (1995)",
          "Venice/Venice (1992)",
          "Safe Passage (1994)",
          "Before the Rain (Pred dozhdot) (1994)",
          "Man of No Importance, A (1994)",
          "I Don't Want to Talk About It (De eso no se habla) (1993)",
          "Daens (1992)",
          "My Crazy Life (Mi vida loca) (1993)",
          "The Forbidden Christ (1950)",
          "The Designated Mourner (1997)",
          "All Over Me (1997)",
          "The Story of Xinghua (1993)",
          "The Locusts (1997)",
          "Race the Sun (1996)",
          "Frisk (1995)",
          "Nothing to Lose (1994)",
          "The Joy Luck Club (1993)",
          "Contempt (Mépris, Le) (1963)",
          "The Journey of August King (1995)",
          "The Cement Garden (1993)",
          "Hurricane Streets (1998)",
          "Duoluo tianshi (1995)",
          "Dangerous Beauty (1998)",
          "The Run of the Country (1995)",
          "In the Realm of the Senses (Ai no corrida) (1976)",
          "Full Speed (1996)",
          "For Ever Mozart (1996)",
          "Promesse, La (1996)",
          "The World of Apu (1959)",
          "The Man from Down Under (1943)",
          "Two Bits (1995)",
          "Mondo (1996)",
          "Century (1993)",
          "Double Happiness (1994)",
          "The Magic Hour (1998)",
          "Nelly & Monsieur Arnaud (1995)",
          "The Cure (1995)",
          "Infinity (1996)",
          "Boys in Venice (1996)",
          "To Have, or Not (1995)",
          "Boys (1996)",
          "Dangerous Ground (1997)",
          "The Winter Guest (1997)",
          "Touki Bouki (Journey of the Hyena) (1973)",
          "Ciao, Professore! (1993)",
          "Dream With the Fishes (1997)",
          "Aparajito (1956)",
          "Nowhere (1997)",
          "I, Worst of All (Yo, la peor de todas) (1990)",
          "The Secret Agent (1996)",
          "Ladybird Ladybird (1994)",
          "Angela (1995)",
          "Desert Winds (1995)",
          "Calendar Girl (1993)",
          "Being Human (1993)",
          "Broken English (1996)",
          "Germinal (1993)",
          "The Wedding Gift (1994)",
          "Two or Three Things I Know About Her (1966)",
          "Foreign Student (1994)",
          "Cérémonie, La (1995)",
          "Price Above Rubies, A (1998)",
          "Losing Chase (1996)",
          "Simple Twist of Fate, A (1994)",
          "Above the Rim (1994)",
          "Wild Reeds (1994)",
          "All Things Fair (1996)",
          "The Neon Bible (1995)",
          "Blue Chips (1994)",
          "Boys Life (1995)",
          "Enfer, L' (1994)",
          "The Invitation (1986)",
          "The Wooden Man's Bride (1994)",
          "The Beans of Egypt, Maine (1994)",
          "Girl in the Cadillac (1995)",
          "American Buffalo (1996)",
          "Nénette et Boni (1996)",
          "Someone Else's America (1995)",
          "The Day the Sun Turned Cold (1994)",
          "Hollow Reed (1996)",
          "Some Mother's Son (1996)",
          "Wend Kuuni (God's Gift) (1982)",
          "S.F.W. (1994)",
          "Lamerica (1994)",
          "The Quiet Room (1996)",
          "Entertaining Angels: The Dorothy Day Story (1996)",
          "Harlem (1993)",
          "Bitter Sugar (Azucar Amargo) (1996)",
          "The Butcher Boy (1998)",
          "Savage Nights (Nuits fauves, Les) (1992)",
          "Small Faces (1995)",
          "The New Age (1994)",
          "Angel Baby (1995)",
          "Symphonie pastorale, La (1946)",
          "The Saint of Fort Washington (1993)",
          "Etz Hadomim Tafus (Under the Domin Tree) (1994)",
          "The Low Life (1994)",
          "Kika (1993)",
          "Bonheur, Le (1965)",
          "Sweet Nothing (1995)",
          "Death in the Garden (Mort en ce jardin, La) (1956)",
          "Ripe (1996)",
          "Two Friends (1986) ",
          "Niagara, Niagara (1997)",
          "The Glass Shield (1994)",
          "The Scarlet Letter (1926)",
          "Mat' i syn (1997)",
          "Shadows (Cienie) (1988)",
          "The War at Home (1996)",
          "To Cross the Rubicon (1991)",
          "My Favorite Season (1993)",
          "Further Gesture, A (1996)",
          "Brother's Kiss, A (1997)",
          "August (1996)",
          "Hedd Wyn (1992)",
          "Shadow of Angels (Schatten der Engel) (1976)",
          "Brothers in Trouble (1995)",
          "The Next Step (1995)",
          "The Sunchaser (1996)",
          "Scream of Stone (Schrei aus Stein) (1991)",
          "Mamma Roma (1962)",
          "The Eighth Day (1996)",
          "Girls Town (1996)",
          "The Silence of the Palace (1994)"
         ],
         "legendgroup": "Drama",
         "marker": {
          "color": "#FECB52",
          "symbol": "circle"
         },
         "mode": "markers",
         "name": "Drama",
         "showlegend": true,
         "type": "scattergl",
         "x": [
          17.259105682373047,
          20.0864315032959,
          17.785629272460938,
          -1.4356632232666016,
          -25.51163101196289,
          -24.72053337097168,
          -50.17920684814453,
          2.9939894676208496,
          -37.62912368774414,
          -2.6338369846343994,
          -10.179943084716797,
          -48.66133499145508,
          14.717626571655273,
          27.01984405517578,
          7.661638259887695,
          13.107696533203125,
          -3.745452880859375,
          21.485485076904297,
          5.224310398101807,
          -7.797676086425781,
          22.219676971435547,
          -36.865509033203125,
          13.261927604675293,
          27.57750701904297,
          4.772128105163574,
          -51.605525970458984,
          20.798648834228516,
          29.434785842895508,
          -47.05903625488281,
          -0.6172294020652771,
          38.347713470458984,
          10.900118827819824,
          -19.54229164123535,
          -47.453975677490234,
          -42.59404754638672,
          8.035726547241211,
          44.41084289550781,
          29.664255142211914,
          0.7297695279121399,
          -25.08314323425293,
          -49.929019927978516,
          31.515670776367188,
          -10.202555656433105,
          7.639346599578857,
          22.527082443237305,
          3.930598258972168,
          18.153627395629883,
          -1.5131908655166626,
          0.851667046546936,
          2.617877721786499,
          33.44575881958008,
          14.816411972045898,
          31.222599029541016,
          40.036617279052734,
          24.89463996887207,
          20.958538055419922,
          -3.4455409049987793,
          31.999370574951172,
          -36.753257751464844,
          27.362977981567383,
          2.8783254623413086,
          -61.2465934753418,
          -0.6549022197723389,
          -24.558273315429688,
          17.144760131835938,
          36.666568756103516,
          10.974922180175781,
          -44.78614044189453,
          -21.79784393310547,
          48.77024459838867,
          14.560830116271973,
          -0.32400044798851013,
          -9.409775733947754,
          23.42140769958496,
          24.62158966064453,
          -3.1609315872192383,
          38.21617889404297,
          -37.65611267089844,
          1.9958065748214722,
          12.602091789245605,
          3.7409090995788574,
          22.91819953918457,
          -5.751546859741211,
          -25.17272186279297,
          -2.9744296073913574,
          -7.984358310699463,
          6.705482482910156,
          -41.13538360595703,
          -37.759544372558594,
          43.802955627441406,
          15.501343727111816,
          22.005949020385742,
          15.274949073791504,
          -37.94248962402344,
          -4.427558422088623,
          -3.6896698474884033,
          -10.469991683959961,
          -48.307247161865234,
          -20.178897857666016,
          -38.11284637451172,
          -55.23264694213867,
          21.23941421508789,
          30.969940185546875,
          28.895652770996094,
          -5.8586225509643555,
          -28.519283294677734,
          -47.16289520263672,
          -50.02634048461914,
          16.75113868713379,
          9.720584869384766,
          -34.64966583251953,
          2.2037689685821533,
          11.655920028686523,
          3.305938243865967,
          20.186843872070312,
          31.473913192749023,
          -46.102508544921875,
          -36.9677848815918,
          -59.0978889465332,
          5.765568256378174,
          0.09452508389949799,
          5.050582408905029,
          16.096115112304688,
          10.154731750488281,
          -39.616451263427734,
          48.550628662109375,
          -47.00392532348633,
          26.802154541015625,
          35.48652267456055,
          -27.324905395507812,
          -30.5463809967041,
          32.523197174072266,
          -7.378309726715088,
          -52.38088607788086,
          17.063730239868164,
          5.306179046630859,
          -5.53083610534668,
          -48.900630950927734,
          -56.698970794677734,
          -46.651302337646484,
          -57.635162353515625,
          37.55308532714844,
          21.9361515045166,
          35.3782844543457,
          37.44948196411133,
          -51.24121856689453,
          10.27357006072998,
          30.74323844909668,
          -21.8184757232666,
          31.7470703125,
          6.955379962921143,
          8.334885597229004,
          1.0585451126098633,
          -2.5855624675750732,
          21.911373138427734,
          27.625659942626953,
          -38.634979248046875,
          48.41801071166992,
          3.5692150592803955,
          14.540130615234375,
          7.464616298675537,
          22.3995418548584,
          -7.822906970977783,
          -53.07353591918945,
          6.003298759460449,
          37.23268127441406,
          -15.077230453491211,
          -2.08566951751709,
          -53.3812370300293,
          36.34902572631836,
          4.481657981872559,
          26.017017364501953,
          -27.426841735839844,
          16.14729881286621,
          12.854107856750488,
          30.352235794067383,
          -14.10970401763916,
          17.63426399230957,
          7.5106096267700195,
          27.700138092041016,
          -31.556734085083008,
          -4.062355995178223,
          20.84395980834961,
          33.28068161010742,
          -25.73571014404297,
          -40.85136032104492,
          31.64891815185547,
          2.051239013671875,
          13.032569885253906,
          18.145492553710938,
          -7.683459281921387,
          -12.717371940612793,
          -0.6559443473815918,
          -1.429049015045166,
          -47.09266662597656,
          25.813194274902344,
          -54.65822219848633,
          37.88936996459961,
          23.203414916992188,
          3.8749475479125977,
          -5.8385467529296875,
          15.541415214538574,
          22.010299682617188,
          -14.177631378173828,
          19.83941078186035,
          40.25972366333008,
          0.24390816688537598,
          34.63396072387695,
          4.898716926574707,
          38.75429153442383,
          20.065292358398438,
          -49.47032165527344,
          -40.76784133911133,
          12.207547187805176,
          -0.08621985465288162,
          -49.68682098388672,
          -31.192407608032227,
          -57.58284378051758,
          -52.81244659423828,
          -10.494443893432617,
          -2.5867698192596436,
          7.136168479919434,
          45.05928421020508,
          22.642484664916992,
          48.52390670776367,
          14.245950698852539,
          14.783221244812012,
          -4.395298004150391,
          -30.43868637084961,
          -50.355709075927734,
          -11.515593528747559,
          -7.39384651184082,
          37.62675476074219,
          -4.612624645233154,
          -5.095087051391602,
          48.89141082763672,
          22.641014099121094,
          26.04196548461914,
          6.694392204284668,
          -46.31467056274414,
          -16.79256820678711,
          -57.747676849365234,
          4.576944351196289,
          3.9866943359375,
          32.00556182861328,
          10.564781188964844,
          -8.467093467712402,
          -12.921780586242676,
          21.001550674438477,
          25.63750648498535,
          16.868444442749023,
          -40.16159439086914,
          -20.72208595275879,
          -39.3125,
          -44.223609924316406,
          -5.547438621520996,
          34.67850875854492,
          37.96932601928711,
          25.506420135498047,
          2.9025418758392334,
          1.3106979131698608,
          21.763959884643555,
          32.66268539428711,
          -56.50613784790039,
          0.45518776774406433,
          15.59430980682373,
          18.48708152770996,
          37.08855056762695,
          1.2134473323822021,
          -8.959851264953613,
          -46.51156234741211,
          8.371956825256348,
          -27.01225471496582,
          -29.62445068359375,
          -53.172264099121094,
          -46.300254821777344,
          4.703456401824951,
          2.4638290405273438,
          19.79398536682129,
          17.82986068725586,
          3.4483656883239746,
          -31.20661163330078,
          2.964716672897339,
          1.5659160614013672,
          -12.21985149383545,
          6.03824520111084,
          -10.952109336853027,
          1.399841547012329,
          35.971561431884766,
          -47.925697326660156,
          44.42977523803711,
          28.573169708251953,
          -53.00712203979492,
          31.840763092041016,
          -40.45509719848633,
          -3.336998224258423,
          11.621464729309082,
          9.22284984588623,
          0.9212019443511963,
          4.0523481369018555,
          17.572254180908203,
          -5.963397026062012,
          19.038782119750977,
          15.252620697021484,
          -57.88230895996094,
          33.59385299682617,
          -30.097164154052734,
          26.610675811767578,
          -6.472735404968262,
          17.481042861938477,
          27.933629989624023,
          33.58701705932617,
          6.649291515350342,
          -0.8449227809906006,
          27.710233688354492,
          -11.628113746643066,
          -28.13631820678711,
          -28.2390079498291,
          14.15271282196045,
          38.83645248413086,
          1.5636873245239258,
          -6.9728240966796875,
          -30.818706512451172,
          18.01917266845703,
          26.08173370361328,
          9.599023818969727,
          5.3743767738342285,
          -42.46128845214844,
          36.91569900512695,
          38.44158935546875,
          48.702674865722656,
          -17.883024215698242,
          22.29770851135254,
          -14.173172950744629,
          -9.020058631896973,
          -24.641939163208008,
          12.090448379516602,
          30.516342163085938,
          7.579981327056885,
          -58.455055236816406,
          48.05337905883789,
          41.16044998168945,
          30.221351623535156,
          19.16241455078125,
          -56.98536682128906,
          8.576342582702637,
          -58.65114974975586,
          -8.161316871643066,
          -28.494983673095703,
          29.152366638183594,
          25.080446243286133,
          -15.128292083740234,
          26.796600341796875,
          -12.397600173950195,
          15.416998863220215,
          -11.342682838439941,
          10.490609169006348,
          3.975597620010376,
          8.299975395202637,
          0.4731391668319702,
          -2.0204601287841797,
          -39.68736267089844,
          -22.48054313659668,
          4.67762565612793,
          2.518660068511963,
          -15.744872093200684,
          -50.644161224365234,
          6.242044448852539,
          2.625795602798462,
          25.810808181762695
         ],
         "xaxis": "x",
         "y": [
          8.770986557006836,
          8.330729484558105,
          4.466211795806885,
          21.475723266601562,
          2.905514717102051,
          13.922892570495605,
          9.11536693572998,
          17.982912063598633,
          -16.355323791503906,
          14.854903221130371,
          14.081574440002441,
          29.236244201660156,
          -23.245899200439453,
          -38.11307907104492,
          10.858277320861816,
          40.57073974609375,
          -22.811532974243164,
          -27.596294403076172,
          -12.919641494750977,
          18.299392700195312,
          26.439903259277344,
          20.686138153076172,
          16.614850997924805,
          -26.334266662597656,
          -14.511958122253418,
          21.777252197265625,
          13.401280403137207,
          -0.210785910487175,
          10.801305770874023,
          -3.264038562774658,
          -28.86994743347168,
          40.634342193603516,
          -5.585123538970947,
          30.092636108398438,
          -4.307033538818359,
          33.990814208984375,
          21.611854553222656,
          2.7058799266815186,
          -31.282238006591797,
          18.075847625732422,
          27.951601028442383,
          20.26201820373535,
          14.113580703735352,
          14.132866859436035,
          25.94339942932129,
          1.5885034799575806,
          -18.33165740966797,
          -25.454322814941406,
          18.10404396057129,
          -3.8714702129364014,
          2.099050760269165,
          -18.064590454101562,
          13.988320350646973,
          -22.244626998901367,
          26.03657341003418,
          14.108001708984375,
          -9.185587882995605,
          -35.87551498413086,
          -4.906799793243408,
          -9.029817581176758,
          16.438983917236328,
          20.909635543823242,
          -32.367088317871094,
          -0.9671374559402466,
          35.413307189941406,
          5.34849739074707,
          -28.479942321777344,
          23.40237045288086,
          -34.32173538208008,
          -5.390470027923584,
          30.039445877075195,
          18.850629806518555,
          9.207517623901367,
          21.5986270904541,
          -14.497562408447266,
          -16.518638610839844,
          -19.834508895874023,
          0.3311271369457245,
          -2.100531578063965,
          11.360367774963379,
          -35.39788055419922,
          26.662857055664062,
          -26.04034423828125,
          16.92455291748047,
          24.384864807128906,
          -32.42696762084961,
          -12.909222602844238,
          32.13700866699219,
          -22.841678619384766,
          -29.436965942382812,
          -6.2584309577941895,
          1.440995216369629,
          -13.082812309265137,
          -16.646202087402344,
          -10.362324714660645,
          17.821683883666992,
          0.8340879678726196,
          11.640022277832031,
          -17.877241134643555,
          -5.115076541900635,
          30.50005531311035,
          10.369487762451172,
          -9.394082069396973,
          -31.39204978942871,
          23.03175163269043,
          19.624834060668945,
          19.568113327026367,
          13.552918434143066,
          -7.234222412109375,
          19.998239517211914,
          3.2893295288085938,
          19.2813777923584,
          14.073845863342285,
          -3.61409854888916,
          -29.92453384399414,
          -8.558358192443848,
          -11.738897323608398,
          -20.396848678588867,
          5.323338985443115,
          -27.02720069885254,
          26.769580841064453,
          -12.692204475402832,
          -18.564605712890625,
          38.528934478759766,
          19.754613876342773,
          -26.3770751953125,
          16.13173484802246,
          -21.465831756591797,
          13.62065601348877,
          -6.219026565551758,
          -25.862028121948242,
          -32.166969299316406,
          -46.69580078125,
          17.53453826904297,
          -27.992578506469727,
          -19.547597885131836,
          15.282491683959961,
          -0.1806967407464981,
          23.645408630371094,
          -17.785749435424805,
          9.307951927185059,
          27.7611083984375,
          27.156641006469727,
          -32.98528289794922,
          5.293765068054199,
          28.828187942504883,
          -13.611225128173828,
          -18.223793029785156,
          -34.302825927734375,
          8.091361045837402,
          13.953336715698242,
          1.4259767532348633,
          -8.049880027770996,
          1.8551768064498901,
          31.901447296142578,
          11.408991813659668,
          -7.604702472686768,
          5.618194580078125,
          -6.063543796539307,
          -4.6543684005737305,
          3.1278085708618164,
          13.956460952758789,
          -21.159547805786133,
          25.78205680847168,
          -36.903289794921875,
          -31.560115814208984,
          32.57966613769531,
          27.662899017333984,
          21.28131866455078,
          28.633331298828125,
          -40.60035705566406,
          17.983713150024414,
          -18.77077865600586,
          21.92857551574707,
          -21.980701446533203,
          18.104358673095703,
          -13.889082908630371,
          23.752092361450195,
          6.432856559753418,
          -16.087312698364258,
          -15.406041145324707,
          -8.291411399841309,
          -8.825599670410156,
          -22.750564575195312,
          30.842872619628906,
          8.908174514770508,
          -24.582494735717773,
          11.006577491760254,
          22.654884338378906,
          -21.785423278808594,
          -17.11779022216797,
          -37.987571716308594,
          -17.44112777709961,
          5.034026145935059,
          6.597894191741943,
          21.291189193725586,
          18.122093200683594,
          13.195316314697266,
          19.740285873413086,
          -16.40897560119629,
          -1.6654607057571411,
          -5.840943813323975,
          -1.3380662202835083,
          -18.04431915283203,
          -29.27291488647461,
          3.6241822242736816,
          24.909635543823242,
          -17.125024795532227,
          20.85683250427246,
          -0.17679952085018158,
          26.46653175354004,
          32.50407409667969,
          3.7958149909973145,
          9.806408882141113,
          14.832473754882812,
          14.445409774780273,
          -20.557579040527344,
          27.10424041748047,
          16.238176345825195,
          -10.481420516967773,
          23.08153533935547,
          3.274123191833496,
          11.614185333251953,
          -26.51211166381836,
          -6.398591041564941,
          26.465574264526367,
          35.15219497680664,
          -37.2684440612793,
          -17.011512756347656,
          22.693302154541016,
          -40.09069061279297,
          31.122888565063477,
          28.633811950683594,
          18.040550231933594,
          -0.11175871640443802,
          6.915431976318359,
          -16.581363677978516,
          33.39848709106445,
          -48.90459060668945,
          -18.414464950561523,
          -2.1025924682617188,
          8.382871627807617,
          23.00437355041504,
          -39.638851165771484,
          -28.320966720581055,
          -18.695938110351562,
          5.425899982452393,
          -36.309730529785156,
          3.938246965408325,
          -13.61521053314209,
          3.2473926544189453,
          -23.931272506713867,
          -18.96841812133789,
          -24.147043228149414,
          20.82769203186035,
          -1.0084420442581177,
          -22.053001403808594,
          27.512075424194336,
          -34.33780288696289,
          -14.240301132202148,
          11.505642890930176,
          -0.4825289249420166,
          22.720476150512695,
          7.7467827796936035,
          -46.965965270996094,
          30.592872619628906,
          -17.514150619506836,
          28.425495147705078,
          -8.501199722290039,
          30.324050903320312,
          -1.5098323822021484,
          -24.77840232849121,
          -32.334014892578125,
          -22.05206298828125,
          15.279605865478516,
          26.104419708251953,
          9.323984146118164,
          -25.448749542236328,
          12.572474479675293,
          0.8748873472213745,
          34.232357025146484,
          -24.337581634521484,
          22.12248992919922,
          -22.02775001525879,
          -36.925907135009766,
          12.97819995880127,
          -37.592350006103516,
          -9.451988220214844,
          -13.360032081604004,
          -2.018537998199463,
          4.604363918304443,
          -16.98907470703125,
          15.460015296936035,
          -24.58070945739746,
          -24.82587242126465,
          -16.870391845703125,
          23.871030807495117,
          22.810510635375977,
          21.697853088378906,
          -3.176983594894409,
          9.692756652832031,
          -22.565101623535156,
          11.230335235595703,
          -0.5399507880210876,
          24.56805992126465,
          6.774740695953369,
          -20.579843521118164,
          17.737947463989258,
          -46.39004898071289,
          -2.302572011947632,
          15.398825645446777,
          -6.437107563018799,
          -16.364093780517578,
          31.00684928894043,
          13.42659854888916,
          -39.84497833251953,
          -20.669662475585938,
          4.149196147918701,
          0.7186117172241211,
          -35.382896423339844,
          -0.675221860408783,
          -28.248674392700195,
          -24.922819137573242,
          22.64931297302246,
          21.53270149230957,
          -35.69209289550781,
          -24.070308685302734,
          -6.725467205047607,
          18.811748504638672,
          1.1852091550827026,
          -5.576249122619629,
          -12.856632232666016,
          15.776784896850586,
          -14.925312995910645,
          -39.54412841796875,
          -22.50914192199707,
          19.781455993652344,
          8.056803703308105,
          23.567882537841797,
          7.260847568511963,
          -25.912418365478516,
          3.864063262939453,
          -2.755685567855835,
          14.985376358032227,
          8.798778533935547,
          26.456850051879883,
          6.4418721199035645,
          -18.225854873657227,
          1.9650076627731323,
          -36.727542877197266,
          5.2287917137146,
          32.605499267578125,
          -28.54804801940918,
          38.02433395385742,
          -12.572547912597656,
          14.423301696777344,
          2.7254021167755127,
          -10.723691940307617,
          -9.014853477478027,
          -46.87803649902344,
          -40.468299865722656,
          32.25072479248047,
          -7.677600383758545,
          13.90043830871582,
          -14.088815689086914,
          16.309053421020508,
          6.357888221740723,
          -48.22004318237305,
          -4.786396503448486,
          -3.4704134464263916
         ],
         "yaxis": "y"
        },
        {
         "hovertemplate": "<b>%{hovertext}</b><br><br>color=Action|Adventure|Comedy|Sci-Fi<br>0=%{x}<br>1=%{y}<extra></extra>",
         "hovertext": [
          "Men in Black (1997)"
         ],
         "legendgroup": "Action|Adventure|Comedy|Sci-Fi",
         "marker": {
          "color": "#636efa",
          "symbol": "circle"
         },
         "mode": "markers",
         "name": "Action|Adventure|Comedy|Sci-Fi",
         "showlegend": true,
         "type": "scattergl",
         "x": [
          16.787771224975586
         ],
         "xaxis": "x",
         "y": [
          -29.497573852539062
         ],
         "yaxis": "y"
        },
        {
         "hovertemplate": "<b>%{hovertext}</b><br><br>color=Action|Adventure|Sci-Fi<br>0=%{x}<br>1=%{y}<extra></extra>",
         "hovertext": [
          "Star Trek: First Contact (1996)",
          "Star Trek III: The Search for Spock (1984)",
          "Star Trek: The Wrath of Khan (1982)",
          "Jurassic Park (1993)",
          "Star Trek VI: The Undiscovered Country (1991)",
          "Stargate (1994)",
          "Star Trek: The Motion Picture (1979)",
          "Star Trek IV: The Voyage Home (1986)",
          "Star Trek: Generations (1994)",
          "Star Trek V: The Final Frontier (1989)",
          "Judge Dredd (1995)",
          "Time Tracers (1995)"
         ],
         "legendgroup": "Action|Adventure|Sci-Fi",
         "marker": {
          "color": "#EF553B",
          "symbol": "circle"
         },
         "mode": "markers",
         "name": "Action|Adventure|Sci-Fi",
         "showlegend": true,
         "type": "scattergl",
         "x": [
          -31.79587173461914,
          -32.091400146484375,
          -33.09878158569336,
          43.40369415283203,
          -32.739418029785156,
          26.121883392333984,
          -33.56260299682617,
          -32.41971969604492,
          -31.339487075805664,
          -32.900943756103516,
          -11.400216102600098,
          -7.6631364822387695
         ],
         "xaxis": "x",
         "y": [
          11.999971389770508,
          10.573905944824219,
          10.08717155456543,
          -9.299593925476074,
          11.870020866394043,
          5.923519134521484,
          10.88644027709961,
          11.123014450073242,
          11.636813163757324,
          11.020894050598145,
          11.441240310668945,
          19.044387817382812
         ],
         "yaxis": "y"
        },
        {
         "hovertemplate": "<b>%{hovertext}</b><br><br>color=Action|Adventure|Comedy|Crime<br>0=%{x}<br>1=%{y}<extra></extra>",
         "hovertext": [
          "Batman Forever (1995)",
          "Batman Returns (1992)"
         ],
         "legendgroup": "Action|Adventure|Comedy|Crime",
         "marker": {
          "color": "#00cc96",
          "symbol": "circle"
         },
         "mode": "markers",
         "name": "Action|Adventure|Comedy|Crime",
         "showlegend": true,
         "type": "scattergl",
         "x": [
          -20.2922420501709,
          -20.583789825439453
         ],
         "xaxis": "x",
         "y": [
          14.449102401733398,
          14.291271209716797
         ],
         "yaxis": "y"
        },
        {
         "hovertemplate": "<b>%{hovertext}</b><br><br>color=Comedy|Romance<br>0=%{x}<br>1=%{y}<extra></extra>",
         "hovertext": [
          "Only You (1994)",
          "Sabrina (1995)",
          "Sabrina (1954)",
          "Sleepless in Seattle (1993)",
          "Speechless (1994)",
          "French Twist (Gazon maudit) (1995)",
          "The Truth About Cats & Dogs (1996)",
          "The Quiet Man (1952)",
          "Annie Hall (1977)",
          "Ninotchka (1939)",
          "When Harry Met Sally... (1989)",
          "The Mirror Has Two Faces (1996)",
          "My Best Friend's Wedding (1997)",
          "Groundhog Day (1993)",
          "The Philadelphia Story (1940)",
          "Grumpier Old Men (1995)",
          "The MatchMaker (1997)",
          "When the Cats Away (Chacun cherche son chat) (1996)",
          "Strictly Ballroom (1992)",
          "While You Were Sleeping (1995)",
          "French Kiss (1995)",
          "Smile Like Yours, A (1997)",
          "Dave (1993)",
          "Fools Rush In (1997)",
          "Picture Perfect (1997)",
          "Muriel's Wedding (1994)",
          "The Hudsucker Proxy (1994)",
          "Tin Cup (1996)",
          "Four Weddings and a Funeral (1994)",
          "Pretty Woman (1990)",
          "Michael (1996)",
          "I.Q. (1994)",
          "Booty Call (1997)",
          "Roman Holiday (1953)",
          "The Wedding Singer (1998)",
          "Benny & Joon (1993)",
          "The Englishman Who Went Up a Hill, But Came Down a Mountain (1995)",
          "Forget Paris (1995)",
          "If Lucy Fell (1996)",
          "She's the One (1996)",
          "Much Ado About Nothing (1993)",
          "Mrs. Winterbourne (1996)",
          "Addicted to Love (1997)",
          "Threesome (1994)",
          "The Perez Family (1995)",
          "Boomerang (1992)",
          "The Beautician and the Beast (1997)",
          "Barcelona (1994)",
          "Two Much (1996)",
          "Pyromaniac's Love Story, A (1995)",
          "Milk Money (1994)",
          "Two if by Sea (1996)",
          "Even Cowgirls Get the Blues (1993)",
          "That Old Feeling (1997)",
          "Pie in the Sky (1995)",
          "Trial and Error (1997)",
          "Roseanna's Grave (For Roseanna) (1997)",
          "Vampire in Brooklyn (1995)",
          "Mr. Wonderful (1993)",
          "Hotel de Love (1996)",
          "Love in the Afternoon (1957)",
          "The Object of My Affection (1998)",
          "Vermont Is For Lovers (1992)",
          "Naked in New York (1994)",
          "Nina Takes a Lover (1994)",
          "Rendezvous in Paris (Rendez-vous de Paris, Les) (1995)",
          "Little City (1998)",
          "The Favor (1994)"
         ],
         "legendgroup": "Comedy|Romance",
         "marker": {
          "color": "#ab63fa",
          "symbol": "circle"
         },
         "mode": "markers",
         "name": "Comedy|Romance",
         "showlegend": true,
         "type": "scattergl",
         "x": [
          20.796188354492188,
          -1.3753219842910767,
          -1.4510467052459717,
          6.883645057678223,
          24.775339126586914,
          -32.91843795776367,
          -19.163959503173828,
          -49.76536178588867,
          -43.78592300415039,
          -55.52489471435547,
          -26.088773727416992,
          -1.7998477220535278,
          19.063798904418945,
          29.5941219329834,
          -49.27557373046875,
          -24.62224006652832,
          25.418651580810547,
          -20.343669891357422,
          -31.092565536499023,
          6.7977399826049805,
          3.5992431640625,
          34.08298873901367,
          20.437610626220703,
          28.914226531982422,
          21.020801544189453,
          15.173670768737793,
          32.4959831237793,
          9.77849292755127,
          15.659578323364258,
          4.436030387878418,
          3.498382806777954,
          31.633840560913086,
          19.97103500366211,
          -52.458045959472656,
          14.414810180664062,
          41.21474838256836,
          -15.094948768615723,
          -31.3162784576416,
          20.344873428344727,
          11.628226280212402,
          -2.1058754920959473,
          6.373572826385498,
          14.842229843139648,
          6.6251115798950195,
          7.754104137420654,
          -20.14177894592285,
          27.541824340820312,
          35.337928771972656,
          -2.7892730236053467,
          15.674115180969238,
          45.23147964477539,
          -1.1947320699691772,
          34.026939392089844,
          35.242191314697266,
          9.282134056091309,
          29.768207550048828,
          -5.854924201965332,
          -22.98903465270996,
          6.245858669281006,
          12.251644134521484,
          -51.437076568603516,
          13.891879081726074,
          12.092082023620605,
          4.045425891876221,
          11.142727851867676,
          -30.83181381225586,
          30.565359115600586,
          17.490062713623047
         ],
         "xaxis": "x",
         "y": [
          -5.391361713409424,
          34.87799072265625,
          34.96088790893555,
          29.761154174804688,
          -1.7740159034729004,
          -21.234161376953125,
          -25.07016944885254,
          18.39217758178711,
          3.4901318550109863,
          26.811342239379883,
          15.114726066589355,
          -14.114152908325195,
          -25.96333122253418,
          32.78173065185547,
          30.642105102539062,
          -10.35335922241211,
          -28.158740997314453,
          -24.2258243560791,
          -8.833176612854004,
          28.103593826293945,
          5.367298126220703,
          -19.3758602142334,
          12.48413372039795,
          -22.016042709350586,
          -26.194839477539062,
          -0.4927237629890442,
          4.587728023529053,
          -42.63282012939453,
          -0.12616001069545746,
          -1.2085591554641724,
          -24.143159866333008,
          12.970396995544434,
          -29.919984817504883,
          19.197084426879883,
          -1.3460229635238647,
          -34.54936599731445,
          -19.546546936035156,
          -17.79669761657715,
          -14.478599548339844,
          -13.447206497192383,
          -6.514444828033447,
          -38.008358001708984,
          -7.707281589508057,
          -5.766243934631348,
          11.306848526000977,
          -16.407468795776367,
          -10.124662399291992,
          11.231734275817871,
          -13.307772636413574,
          -8.923370361328125,
          -14.378852844238281,
          -12.679174423217773,
          -2.8060057163238525,
          -21.78537940979004,
          16.573997497558594,
          -23.22667694091797,
          2.038560152053833,
          28.414796829223633,
          -0.4251013696193695,
          -9.27655029296875,
          18.220029830932617,
          -6.669488430023193,
          -7.068124771118164,
          1.523743987083435,
          -6.024151802062988,
          -18.610626220703125,
          18.687564849853516,
          -1.221470832824707
         ],
         "yaxis": "y"
        },
        {
         "hovertemplate": "<b>%{hovertext}</b><br><br>color=Mystery|Thriller<br>0=%{x}<br>1=%{y}<extra></extra>",
         "hovertext": [
          "Just Cause (1995)",
          "Rear Window (1954)",
          "Murder at 1600 (1997)",
          "Vertigo (1958)",
          "The Game (1997)",
          "Absolute Power (1997)",
          "Dial M for Murder (1954)",
          "The Third Man (1949)",
          "Basic Instinct (1992)",
          "Gaslight (1944)",
          "Heaven's Prisoners (1996)",
          "True Crime (1995)",
          "The Underneath (1995)"
         ],
         "legendgroup": "Mystery|Thriller",
         "marker": {
          "color": "#FFA15A",
          "symbol": "circle"
         },
         "mode": "markers",
         "name": "Mystery|Thriller",
         "showlegend": true,
         "type": "scattergl",
         "x": [
          -4.69630765914917,
          -46.58295440673828,
          -8.833043098449707,
          -45.88655471801758,
          24.893573760986328,
          21.538820266723633,
          -44.54656219482422,
          -48.22825241088867,
          -13.884227752685547,
          -46.99587631225586,
          -7.382201194763184,
          -5.983312129974365,
          5.082686901092529
         ],
         "xaxis": "x",
         "y": [
          7.944340229034424,
          22.544513702392578,
          -0.406505286693573,
          17.16827392578125,
          -27.0589542388916,
          -20.865747451782227,
          34.139652252197266,
          25.298721313476562,
          0.06382834166288376,
          33.28889083862305,
          -8.424827575683594,
          8.731282234191895,
          17.942888259887695
         ],
         "yaxis": "y"
        },
        {
         "hovertemplate": "<b>%{hovertext}</b><br><br>color=Documentary<br>0=%{x}<br>1=%{y}<extra></extra>",
         "hovertext": [
          "The Endless Summer 2 (1994)",
          "Crumb (1994)",
          "Hoop Dreams (1994)",
          "Wonderland (1997)",
          "The Celluloid Closet (1995)",
          "The Line King: Al Hirschfeld (1996)",
          "Fast, Cheap & Out of Control (1997)",
          "The Thin Blue Line (1988)",
          "Microcosmos: Le peuple de l'herbe (1996)",
          "When We Were Kings (1996)",
          "The Haunted World of Edward D. Wood Jr. (1995)",
          "Man of the Year (1995)",
          "Paradise Lost: The Child Murders at Robin Hood Hills (1996)",
          "Thirty-Two Short Films About Glenn Gould (1993)",
          "Anne Frank Remembered (1995)",
          "Year of the Horse (1997)",
          "Unzipped (1995)",
          "The War Room (1993)",
          "Paris Is Burning (1990)",
          "Perfect Candidate, A (1996)",
          "Maya Lin: A Strong Clear Vision (1994)",
          "Heidi Fleiss: Hollywood Madam (1995) ",
          "Great Day in Harlem, A (1994)",
          "Catwalk (1995)",
          "Rhyme & Reason (1997)",
          "Madonna: Truth or Dare (1991)",
          "Ayn Rand: A Sense of Life (1997)",
          "Paris Was a Woman (1995)",
          "The Wonderful, Horrible Life of Leni Riefenstahl (1993)",
          "Brother Minister: The Assassination of Malcolm X (1994)",
          "Carmen Miranda: Bananas Is My Business (1994)",
          "The Eye of Vichy (1993)",
          "Across the Sea of Time (1995)",
          "The Last Klezmer: Leopold Kozlowski, His Life and Music (1995)",
          "The Leopard Son (1996)",
          "The Show (1995)",
          "Fire on the Mountain (1996)",
          "American Dream (1990)",
          "Grateful Dead (1995)",
          "Nico Icon (1995)",
          "The Gate of Heavenly Peace (1995)",
          "Jupiter's Wife (1994)",
          "Marlene Dietrich: Shadow and Light (1996) ",
          "Everest (1998)",
          "Dadetown (1995)"
         ],
         "legendgroup": "Documentary",
         "marker": {
          "color": "#19d3f3",
          "symbol": "circle"
         },
         "mode": "markers",
         "name": "Documentary",
         "showlegend": true,
         "type": "scattergl",
         "x": [
          11.45874309539795,
          36.55641555786133,
          10.536341667175293,
          37.963592529296875,
          2.0810940265655518,
          8.34218978881836,
          28.06365203857422,
          -26.31344223022461,
          -32.73759460449219,
          9.876398086547852,
          -16.018198013305664,
          12.75406265258789,
          -13.345874786376953,
          12.892017364501953,
          2.490783452987671,
          31.24852752685547,
          5.086066722869873,
          27.248964309692383,
          -32.72650909423828,
          5.415931224822998,
          24.572912216186523,
          0.5356098413467407,
          22.59461212158203,
          5.046379566192627,
          43.11345291137695,
          -30.859054565429688,
          22.408300399780273,
          -31.677427291870117,
          -14.774292945861816,
          -4.229353904724121,
          -51.004886627197266,
          18.904987335205078,
          8.130447387695312,
          -27.942312240600586,
          5.847986221313477,
          4.319857597351074,
          -14.504502296447754,
          11.093703269958496,
          3.2382001876831055,
          -5.7273712158203125,
          19.634567260742188,
          7.279609203338623,
          -14.283077239990234,
          43.079307556152344,
          13.801125526428223
         ],
         "xaxis": "x",
         "y": [
          -17.429336547851562,
          8.059158325195312,
          39.10592269897461,
          -24.51765251159668,
          28.607486724853516,
          -29.916982650756836,
          -44.22510528564453,
          -0.006597994826734066,
          -22.728553771972656,
          -28.621641159057617,
          27.650066375732422,
          4.088007926940918,
          26.68443489074707,
          14.226222038269043,
          -36.16775894165039,
          -9.160564422607422,
          19.061290740966797,
          1.4747446775436401,
          -17.42107391357422,
          -21.448415756225586,
          8.372444152832031,
          -2.2416253089904785,
          15.836878776550293,
          15.268136024475098,
          -19.240537643432617,
          -4.386398792266846,
          -42.925086975097656,
          -17.595335006713867,
          40.10382080078125,
          38.645164489746094,
          -0.5302022695541382,
          5.414262294769287,
          18.510093688964844,
          -33.12329864501953,
          -24.95838165283203,
          15.732529640197754,
          -18.297481536865234,
          40.13226318359375,
          21.704444885253906,
          20.562999725341797,
          18.92576789855957,
          7.922985553741455,
          39.52503204345703,
          -28.412752151489258,
          -25.499486923217773
         ],
         "yaxis": "y"
        },
        {
         "hovertemplate": "<b>%{hovertext}</b><br><br>color=Action|Adventure|Thriller<br>0=%{x}<br>1=%{y}<extra></extra>",
         "hovertext": [
          "Twister (1996)",
          "Con Air (1997)",
          "The Rock (1996)",
          "GoldenEye (1995)",
          "Chain Reaction (1996)",
          "Clear and Present Danger (1994)",
          "Maximum Risk (1996)",
          "Daylight (1996)",
          "Surviving the Game (1994)",
          "Anaconda (1997)",
          "Firestorm (1998)"
         ],
         "legendgroup": "Action|Adventure|Thriller",
         "marker": {
          "color": "#FF6692",
          "symbol": "circle"
         },
         "mode": "markers",
         "name": "Action|Adventure|Thriller",
         "showlegend": true,
         "type": "scattergl",
         "x": [
          -6.130484104156494,
          32.466243743896484,
          0.1447211354970932,
          -7.524470806121826,
          -0.2604227066040039,
          23.752464294433594,
          -5.75958776473999,
          2.2447469234466553,
          20.29888916015625,
          40.561927795410156,
          17.27130699157715
         ],
         "xaxis": "x",
         "y": [
          -19.06330680847168,
          -41.394126892089844,
          -28.286251068115234,
          14.755823135375977,
          -22.865341186523438,
          8.481792449951172,
          -14.450130462646484,
          -16.124202728271484,
          1.3132681846618652,
          -28.009479522705078,
          -17.976640701293945
         ],
         "yaxis": "y"
        },
        {
         "hovertemplate": "<b>%{hovertext}</b><br><br>color=Animation|Children's|Comedy<br>0=%{x}<br>1=%{y}<extra></extra>",
         "hovertext": [
          "Toy Story (1995)",
          "Aladdin and the King of Thieves (1996)"
         ],
         "legendgroup": "Animation|Children's|Comedy",
         "marker": {
          "color": "#B6E880",
          "symbol": "circle"
         },
         "mode": "markers",
         "name": "Animation|Children's|Comedy",
         "showlegend": true,
         "type": "scattergl",
         "x": [
          0.4162702262401581,
          8.820626258850098
         ],
         "xaxis": "x",
         "y": [
          6.108064651489258,
          -31.36280059814453
         ],
         "yaxis": "y"
        },
        {
         "hovertemplate": "<b>%{hovertext}</b><br><br>color=Animation|Children's|Comedy|Musical<br>0=%{x}<br>1=%{y}<extra></extra>",
         "hovertext": [
          "Aladdin (1992)"
         ],
         "legendgroup": "Animation|Children's|Comedy|Musical",
         "marker": {
          "color": "#FF97FF",
          "symbol": "circle"
         },
         "mode": "markers",
         "name": "Animation|Children's|Comedy|Musical",
         "showlegend": true,
         "type": "scattergl",
         "x": [
          8.850628852844238
         ],
         "xaxis": "x",
         "y": [
          -31.464412689208984
         ],
         "yaxis": "y"
        },
        {
         "hovertemplate": "<b>%{hovertext}</b><br><br>color=Adventure|Children's<br>0=%{x}<br>1=%{y}<extra></extra>",
         "hovertext": [
          "Casper (1995)",
          "Fly Away Home (1996)",
          "Homeward Bound: The Incredible Journey (1993)",
          "The Adventures of Pinocchio (1996)",
          "Andre (1994)",
          "Homeward Bound II: Lost in San Francisco (1996)",
          "The Second Jungle Book: Mowgli & Baloo (1997)",
          "Swiss Family Robinson (1960)",
          "Alaska (1996)",
          "Black Beauty (1994)",
          "Gold Diggers: The Secret of Bear Mountain (1995)",
          "Flipper (1996)",
          "Tom and Huck (1995)",
          "Wild America (1997)",
          "Far From Home: The Adventures of Yellow Dog (1995)",
          "The Secret Adventures of Tom Thumb (1993)",
          "Lassie (1994)",
          "The Amazing Panda Adventure (1995)"
         ],
         "legendgroup": "Adventure|Children's",
         "marker": {
          "color": "#FECB52",
          "symbol": "circle"
         },
         "mode": "markers",
         "name": "Adventure|Children's",
         "showlegend": true,
         "type": "scattergl",
         "x": [
          -3.426445245742798,
          -4.592115879058838,
          0.3594563603401184,
          5.879300594329834,
          47.78801345825195,
          0.3416266143321991,
          39.5531120300293,
          -56.724830627441406,
          -5.947559356689453,
          25.246875762939453,
          -16.4984188079834,
          0.1285230666399002,
          14.67455005645752,
          34.61025619506836,
          -45.421966552734375,
          14.981366157531738,
          31.207199096679688,
          -1.1046268939971924
         ],
         "xaxis": "x",
         "y": [
          18.21356773376465,
          -24.92774200439453,
          2.368218183517456,
          -32.070465087890625,
          8.26320743560791,
          2.2523505687713623,
          -6.588500499725342,
          14.220118522644043,
          -29.141019821166992,
          15.1342134475708,
          -17.311128616333008,
          -26.390560150146484,
          35.064849853515625,
          -7.752254009246826,
          -11.167905807495117,
          32.779029846191406,
          0.32502418756484985,
          4.981836795806885
         ],
         "yaxis": "y"
        },
        {
         "hovertemplate": "<b>%{hovertext}</b><br><br>color=Action|Horror<br>0=%{x}<br>1=%{y}<extra></extra>",
         "hovertext": [
          "Jaws (1975)",
          "Jaws 2 (1978)",
          "Jaws 3-D (1983)",
          "Blood Beach (1981)"
         ],
         "legendgroup": "Action|Horror",
         "marker": {
          "color": "#636efa",
          "symbol": "circle"
         },
         "mode": "markers",
         "name": "Action|Horror",
         "showlegend": true,
         "type": "scattergl",
         "x": [
          -39.56073760986328,
          -39.428470611572266,
          -39.05849838256836,
          -33.625938415527344
         ],
         "xaxis": "x",
         "y": [
          11.894590377807617,
          11.90721321105957,
          11.996275901794434,
          -3.5826895236968994
         ],
         "yaxis": "y"
        },
        {
         "hovertemplate": "<b>%{hovertext}</b><br><br>color=Drama|Romance<br>0=%{x}<br>1=%{y}<extra></extra>",
         "hovertext": [
          "Chasing Amy (1997)",
          "Beautiful Thing (1996)",
          "Angels and Insects (1995)",
          "Jerry Maguire (1996)",
          "Sense and Sensibility (1995)",
          "One Fine Day (1996)",
          "Blue Sky (1994)",
          "Postino, Il (1994)",
          "Before Sunrise (1995)",
          "It Could Happen to You (1994)",
          "Up Close and Personal (1996)",
          "Afterglow (1997)",
          "Circle of Friends (1995)",
          "Somewhere in Time (1980)",
          "The Graduate (1967)",
          "Like Water For Chocolate (Como agua para chocolate) (1992)",
          "Home for the Holidays (1995)",
          "Shine (1996)",
          "Bed of Roses (1996)",
          "The Bridges of Madison County (1995)",
          "Mrs. Brown (Her Majesty, Mrs. Brown) (1997)",
          "Great Expectations (1998)",
          "Jane Eyre (1996)",
          "Shadowlands (1993)",
          "William Shakespeare's Romeo and Juliet (1996)",
          "Breakfast at Tiffany's (1961)",
          "Phenomenon (1996)",
          "Room with a View, A (1986)",
          "She's So Lovely (1997)",
          "Emma (1996)",
          "How to Make an American Quilt (1995)",
          "Love! Valour! Compassion! (1997)",
          "The Pillow Book (1995)",
          "Some Kind of Wonderful (1987)",
          "The Piano (1993)",
          "Leaving Las Vegas (1995)",
          "Walk in the Clouds, A (1995)",
          "Mad Love (1995)",
          "Farewell My Concubine (1993)",
          "Oscar & Lucinda (1997)",
          "Carrington (1995)",
          "Mr. Jones (1993)",
          "To Gillian on Her 37th Birthday (1996)",
          "The Innocent (1994)",
          "The House of the Spirits (1993)",
          "Anna Karenina (1997)",
          "Inventing the Abbotts (1997)",
          "Immortal Beloved (1994)",
          "Feeling Minnesota (1996)",
          "Penny Serenade (1941)",
          "Go Fish (1994)",
          "The Ghost and Mrs. Muir (1947)",
          "Love Affair (1994)",
          "'Til There Was You (1997)",
          "Carried Away (1996)",
          "Heavy (1995)",
          "Queen Margot (Reine Margot, La) (1994)",
          "Moonlight and Valentino (1995)",
          "When Night Is Falling (1995)",
          "Picture Bride (1995)",
          "Frankie Starlight (1995)",
          "Country Life (1994)",
          "Bliss (1997)",
          "Rough Magic (1995)",
          "Sliding Doors (1998)"
         ],
         "legendgroup": "Drama|Romance",
         "marker": {
          "color": "#EF553B",
          "symbol": "circle"
         },
         "mode": "markers",
         "name": "Drama|Romance",
         "showlegend": true,
         "type": "scattergl",
         "x": [
          -4.711248874664307,
          7.681138038635254,
          10.604454040527344,
          11.915706634521484,
          3.6811940670013428,
          6.367880344390869,
          27.756092071533203,
          42.14337158203125,
          9.257881164550781,
          21.008953094482422,
          8.9816255569458,
          33.701622009277344,
          4.308771133422852,
          -35.240726470947266,
          -46.829811096191406,
          -46.152626037597656,
          9.471480369567871,
          2.0025856494903564,
          5.700981616973877,
          -7.650010585784912,
          8.370967864990234,
          19.325464248657227,
          5.965122699737549,
          22.93275260925293,
          -2.8598618507385254,
          -57.65312194824219,
          0.3981918692588806,
          28.197093963623047,
          12.08718490600586,
          3.578721761703491,
          19.888748168945312,
          32.45567321777344,
          8.273245811462402,
          6.252020359039307,
          21.048290252685547,
          -3.689095973968506,
          9.146329879760742,
          2.5208003520965576,
          5.096667766571045,
          30.111780166625977,
          49.93650817871094,
          48.0505485534668,
          13.423186302185059,
          20.847938537597656,
          19.0496826171875,
          24.338777542114258,
          21.893836975097656,
          20.90094566345215,
          -5.018098831176758,
          -43.171321868896484,
          27.974035263061523,
          -46.58327865600586,
          14.257471084594727,
          33.27477264404297,
          -4.636813163757324,
          0.8876872658729553,
          20.72224235534668,
          12.441461563110352,
          9.378039360046387,
          11.125017166137695,
          6.151943206787109,
          32.075923919677734,
          33.389888763427734,
          3.3158414363861084,
          17.871492385864258
         ],
         "xaxis": "x",
         "y": [
          -46.4261360168457,
          -14.879066467285156,
          23.29436492919922,
          -38.06111526489258,
          11.752861022949219,
          -15.75409984588623,
          13.128252983093262,
          6.533710479736328,
          19.468599319458008,
          -3.903249502182007,
          -11.704971313476562,
          -23.297998428344727,
          25.813783645629883,
          0.5586021542549133,
          5.536996841430664,
          -18.711408615112305,
          11.660470008850098,
          -17.164005279541016,
          -10.046342849731445,
          28.099796295166016,
          -38.55645751953125,
          -10.624372482299805,
          -37.15842819213867,
          5.496872425079346,
          -9.159762382507324,
          19.577505111694336,
          -22.12122344970703,
          29.097900390625,
          -13.631074905395508,
          -39.13728713989258,
          22.01825523376465,
          -13.848578453063965,
          28.027442932128906,
          -0.4489012062549591,
          15.766046524047852,
          16.691835403442383,
          16.50348663330078,
          7.982242107391357,
          38.07693099975586,
          -14.771615982055664,
          7.23917818069458,
          2.640868902206421,
          -41.94092559814453,
          7.673897743225098,
          7.974583625793457,
          -41.067195892333984,
          -32.69826889038086,
          6.309386730194092,
          -30.65140724182129,
          31.75542449951172,
          -17.046852111816406,
          35.855064392089844,
          -5.935991287231445,
          -20.779184341430664,
          -24.431503295898438,
          17.08147430419922,
          35.43910598754883,
          -3.105435848236084,
          -0.03448031097650528,
          17.88846778869629,
          3.529759407043457,
          -3.0010223388671875,
          -24.613035202026367,
          33.97991943359375,
          41.53126907348633
         ],
         "yaxis": "y"
        },
        {
         "hovertemplate": "<b>%{hovertext}</b><br><br>color=Drama|Thriller<br>0=%{x}<br>1=%{y}<extra></extra>",
         "hovertext": [
          "The Silence of the Lambs (1991)",
          "The Trigger Effect (1996)",
          "Taxi Driver (1976)",
          "The Firm (1993)",
          "Diabolique (1996)",
          "Primal Fear (1996)",
          "Volcano (1997)",
          "Apt Pupil (1998)",
          "Crash (1996)",
          "Ransom (1996)",
          "Mary Reilly (1996)",
          "The Last Supper (1995)",
          "The Juror (1996)",
          "Dolores Claiborne (1994)",
          "City Hall (1996)",
          "Eye for an Eye (1996)",
          "Extreme Measures (1996)",
          "Some Folks Call It a Sling Blade (1993)",
          "Disclosure (1994)",
          "Sling Blade (1996)",
          "Death and the Maiden (1994)",
          "Kalifornia (1993)",
          "Poison Ivy II (1995)",
          "Murder in the First (1995)",
          "Loaded (1994)",
          "The Babysitter (1995)",
          "I Can't Sleep (J'ai pas sommeil) (1994)",
          "Color of Night (1994)",
          "Caught (1996)",
          "The Bloody Child (1996)",
          "The Spanish Prisoner (1997)"
         ],
         "legendgroup": "Drama|Thriller",
         "marker": {
          "color": "#00cc96",
          "symbol": "circle"
         },
         "mode": "markers",
         "name": "Drama|Thriller",
         "showlegend": true,
         "type": "scattergl",
         "x": [
          26.308687210083008,
          0.04905904829502106,
          -44.04985046386719,
          23.25553321838379,
          -10.913124084472656,
          -8.134384155273438,
          42.35102462768555,
          19.612415313720703,
          -2.342752456665039,
          -6.255396842956543,
          7.107289791107178,
          -1.6840567588806152,
          -7.854539394378662,
          38.26490783691406,
          -0.9798206686973572,
          -1.4624085426330566,
          -4.960260391235352,
          -21.386606216430664,
          35.833866119384766,
          -21.469968795776367,
          -7.045582294464111,
          19.074975967407227,
          -3.6987197399139404,
          -9.285432815551758,
          31.952392578125,
          6.15966796875,
          29.93158531188965,
          9.9912748336792,
          -2.115614175796509,
          -9.741629600524902,
          26.613872528076172
         ],
         "xaxis": "x",
         "y": [
          -4.3525543212890625,
          -22.521610260009766,
          5.685032844543457,
          12.331680297851562,
          -13.717048645019531,
          -14.11591911315918,
          -29.02934455871582,
          -11.935029029846191,
          -23.42154884338379,
          -14.970122337341309,
          -35.22932052612305,
          27.793392181396484,
          -5.394111633300781,
          10.372663497924805,
          -33.02311325073242,
          -15.065052032470703,
          -13.411160469055176,
          -14.74146556854248,
          7.644449710845947,
          -14.678289413452148,
          4.170697212219238,
          13.892291069030762,
          31.188772201538086,
          2.8843753337860107,
          8.641111373901367,
          24.921316146850586,
          25.723161697387695,
          -0.5264412760734558,
          -24.030990600585938,
          -10.964468002319336,
          -38.006343841552734
         ],
         "yaxis": "y"
        },
        {
         "hovertemplate": "<b>%{hovertext}</b><br><br>color=Comedy|Crime<br>0=%{x}<br>1=%{y}<extra></extra>",
         "hovertext": [
          "The Sting (1973)",
          "Grosse Pointe Blank (1997)",
          "Striptease (1996)",
          "Some Like It Hot (1959)",
          "Twin Town (1997)",
          "Carpool (1996)"
         ],
         "legendgroup": "Comedy|Crime",
         "marker": {
          "color": "#ab63fa",
          "symbol": "circle"
         },
         "mode": "markers",
         "name": "Comedy|Crime",
         "showlegend": true,
         "type": "scattergl",
         "x": [
          -41.78897476196289,
          21.623435974121094,
          5.287308216094971,
          -47.15006637573242,
          23.87688636779785,
          -3.835397243499756
         ],
         "xaxis": "x",
         "y": [
          6.6424174308776855,
          -37.22899627685547,
          -6.691648960113525,
          19.75042152404785,
          -31.40388298034668,
          -23.264375686645508
         ],
         "yaxis": "y"
        },
        {
         "hovertemplate": "<b>%{hovertext}</b><br><br>color=Crime<br>0=%{x}<br>1=%{y}<extra></extra>",
         "hovertext": [
          "Curdled (1996)",
          "Gridlock'd (1997)",
          "2 Days in the Valley (1996)",
          "Deceiver (1997)",
          "Original Gangstas (1996)",
          "The Young Poisoner's Handbook (1995)",
          "Freeway (1996)",
          "Keys to Tulsa (1997)",
          "Switchblade Sisters (1975)",
          "The Innocent Sleep (1995)",
          "Kansas City (1996)",
          "Gang Related (1997)",
          "The Big Bang Theory (1994)",
          "Clean Slate (Coup de Torchon) (1981)",
          "Mad Dog Time (1996)"
         ],
         "legendgroup": "Crime",
         "marker": {
          "color": "#FFA15A",
          "symbol": "circle"
         },
         "mode": "markers",
         "name": "Crime",
         "showlegend": true,
         "type": "scattergl",
         "x": [
          -7.859070777893066,
          22.017507553100586,
          0.034425750374794006,
          26.752531051635742,
          17.884098052978516,
          -1.8489384651184082,
          15.854988098144531,
          31.34147834777832,
          -22.97718048095703,
          7.491395473480225,
          -1.4459245204925537,
          18.076494216918945,
          31.45208168029785,
          -36.776241302490234,
          -13.301597595214844
         ],
         "xaxis": "x",
         "y": [
          -19.176273345947266,
          -37.65336608886719,
          -12.649304389953613,
          -23.492219924926758,
          -39.31581115722656,
          31.298925399780273,
          -19.118446350097656,
          -33.86453628540039,
          -13.871872901916504,
          27.71417999267578,
          -33.33515548706055,
          -39.17478942871094,
          15.101652145385742,
          -9.674898147583008,
          -11.39111614227295
         ],
         "yaxis": "y"
        },
        {
         "hovertemplate": "<b>%{hovertext}</b><br><br>color=Comedy|Horror<br>0=%{x}<br>1=%{y}<extra></extra>",
         "hovertext": [
          "Tales from the Hood (1995)",
          "Young Frankenstein (1974)",
          "Dracula: Dead and Loving It (1995)",
          "Cemetery Man (Dellamorte Dellamore) (1994)",
          "Braindead (1992)",
          "The Frighteners (1996)",
          "April Fool's Day (1986)",
          "The Machine (1994)",
          "The Howling (1981)",
          "Bad Taste (1987)"
         ],
         "legendgroup": "Comedy|Horror",
         "marker": {
          "color": "#19d3f3",
          "symbol": "circle"
         },
         "mode": "markers",
         "name": "Comedy|Horror",
         "showlegend": true,
         "type": "scattergl",
         "x": [
          -1.9062846899032593,
          -29.35538673400879,
          -24.307748794555664,
          -5.985072612762451,
          -10.80878734588623,
          -8.062302589416504,
          -29.335203170776367,
          27.98378562927246,
          -37.00141143798828,
          -11.470287322998047
         ],
         "xaxis": "x",
         "y": [
          -0.19908972084522247,
          29.45893669128418,
          28.787961959838867,
          5.037063121795654,
          8.48428726196289,
          -12.51341724395752,
          4.121240139007568,
          5.139097690582275,
          3.6109459400177,
          -16.418899536132812
         ],
         "yaxis": "y"
        },
        {
         "hovertemplate": "<b>%{hovertext}</b><br><br>color=Crime|Drama|Mystery<br>0=%{x}<br>1=%{y}<extra></extra>",
         "hovertext": [
          "Cop Land (1997)",
          "MURDER and murder (1996)"
         ],
         "legendgroup": "Crime|Drama|Mystery",
         "marker": {
          "color": "#FF6692",
          "symbol": "circle"
         },
         "mode": "markers",
         "name": "Crime|Drama|Mystery",
         "showlegend": true,
         "type": "scattergl",
         "x": [
          -13.06932258605957,
          -8.98389720916748
         ],
         "xaxis": "x",
         "y": [
          -7.922142028808594,
          -1.0066494941711426
         ],
         "yaxis": "y"
        },
        {
         "hovertemplate": "<b>%{hovertext}</b><br><br>color=Action|Adventure|Comedy|Horror<br>0=%{x}<br>1=%{y}<extra></extra>",
         "hovertext": [
          "Evil Dead II (1987)"
         ],
         "legendgroup": "Action|Adventure|Comedy|Horror",
         "marker": {
          "color": "#B6E880",
          "symbol": "circle"
         },
         "mode": "markers",
         "name": "Action|Adventure|Comedy|Horror",
         "showlegend": true,
         "type": "scattergl",
         "x": [
          -24.8355712890625
         ],
         "xaxis": "x",
         "y": [
          22.90615463256836
         ],
         "yaxis": "y"
        },
        {
         "hovertemplate": "<b>%{hovertext}</b><br><br>color=Action|Romance|War<br>0=%{x}<br>1=%{y}<extra></extra>",
         "hovertext": [
          "The Last of the Mohicans (1992)"
         ],
         "legendgroup": "Action|Romance|War",
         "marker": {
          "color": "#FF97FF",
          "symbol": "circle"
         },
         "mode": "markers",
         "name": "Action|Romance|War",
         "showlegend": true,
         "type": "scattergl",
         "x": [
          29.47795295715332
         ],
         "xaxis": "x",
         "y": [
          -6.113600254058838
         ],
         "yaxis": "y"
        },
        {
         "hovertemplate": "<b>%{hovertext}</b><br><br>color=Action|Comedy|Drama<br>0=%{x}<br>1=%{y}<extra></extra>",
         "hovertext": [
          "Get Shorty (1995)",
          "Faster Pussycat! Kill! Kill! (1965)"
         ],
         "legendgroup": "Action|Comedy|Drama",
         "marker": {
          "color": "#FECB52",
          "symbol": "circle"
         },
         "mode": "markers",
         "name": "Action|Comedy|Drama",
         "showlegend": true,
         "type": "scattergl",
         "x": [
          11.396672248840332,
          -46.98048782348633
         ],
         "xaxis": "x",
         "y": [
          14.12390422821045,
          -6.892547607421875
         ],
         "yaxis": "y"
        },
        {
         "hovertemplate": "<b>%{hovertext}</b><br><br>color=Crime|Drama|Thriller<br>0=%{x}<br>1=%{y}<extra></extra>",
         "hovertext": [
          "Kiss the Girls (1997)",
          "Fargo (1996)",
          "Copycat (1995)",
          "Once Upon a Time in America (1984)",
          "Kiss of Death (1995)",
          "Desperate Measures (1998)",
          "Amateur (1994)",
          "Guilty as Sin (1993)"
         ],
         "legendgroup": "Crime|Drama|Thriller",
         "marker": {
          "color": "#636efa",
          "symbol": "circle"
         },
         "mode": "markers",
         "name": "Crime|Drama|Thriller",
         "showlegend": true,
         "type": "scattergl",
         "x": [
          7.554143905639648,
          -5.198166847229004,
          -3.6173410415649414,
          -42.27619171142578,
          -7.547057151794434,
          -4.907591342926025,
          31.107662200927734,
          20.78672981262207
         ],
         "xaxis": "x",
         "y": [
          -8.491996765136719,
          -29.449472427368164,
          20.614261627197266,
          23.490949630737305,
          6.24915075302124,
          -13.221959114074707,
          4.21068000793457,
          9.032561302185059
         ],
         "yaxis": "y"
        },
        {
         "hovertemplate": "<b>%{hovertext}</b><br><br>color=Animation|Children's|Musical<br>0=%{x}<br>1=%{y}<extra></extra>",
         "hovertext": [
          "Fantasia (1940)",
          "Dumbo (1941)",
          "The Lion King (1994)",
          "The Hunchback of Notre Dame (1996)",
          "Beauty and the Beast (1991)",
          "Snow White and the Seven Dwarfs (1937)",
          "Cinderella (1950)",
          "All Dogs Go to Heaven 2 (1996)",
          "James and the Giant Peach (1996)",
          "The Three Caballeros (1945)",
          "Alice in Wonderland (1951)",
          "Anastasia (1997)",
          "Cats Don't Dance (1997)"
         ],
         "legendgroup": "Animation|Children's|Musical",
         "marker": {
          "color": "#EF553B",
          "symbol": "circle"
         },
         "mode": "markers",
         "name": "Animation|Children's|Musical",
         "showlegend": true,
         "type": "scattergl",
         "x": [
          -51.28755187988281,
          -52.13272476196289,
          39.80620574951172,
          -0.43057575821876526,
          27.484771728515625,
          -52.9444580078125,
          -56.24900817871094,
          -18.859220504760742,
          5.708630561828613,
          -43.29224395751953,
          -56.975830078125,
          24.630306243896484,
          -50.23848342895508
         ],
         "xaxis": "x",
         "y": [
          31.04958152770996,
          31.5279541015625,
          -5.504807949066162,
          -19.443435668945312,
          -9.776604652404785,
          27.592315673828125,
          22.03207015991211,
          -25.440813064575195,
          -33.17156219482422,
          27.205041885375977,
          21.066408157348633,
          -40.814613342285156,
          -7.652151584625244
         ],
         "yaxis": "y"
        },
        {
         "hovertemplate": "<b>%{hovertext}</b><br><br>color=Action|Adventure|Romance|Sci-Fi|War<br>0=%{x}<br>1=%{y}<extra></extra>",
         "hovertext": [
          "Return of the Jedi (1983)",
          "Star Wars (1977)"
         ],
         "legendgroup": "Action|Adventure|Romance|Sci-Fi|War",
         "marker": {
          "color": "#00cc96",
          "symbol": "circle"
         },
         "mode": "markers",
         "name": "Action|Adventure|Romance|Sci-Fi|War",
         "showlegend": true,
         "type": "scattergl",
         "x": [
          -35.748409271240234,
          -35.80281066894531
         ],
         "xaxis": "x",
         "y": [
          9.96106243133545,
          10.575923919677734
         ],
         "yaxis": "y"
        },
        {
         "hovertemplate": "<b>%{hovertext}</b><br><br>color=Action|Adventure<br>0=%{x}<br>1=%{y}<extra></extra>",
         "hovertext": [
          "Conan the Barbarian (1981)",
          "Raiders of the Lost Ark (1981)",
          "Waterworld (1995)",
          "Fled (1996)",
          "Indiana Jones and the Last Crusade (1989)",
          "Highlander (1986)",
          "Kull the Conqueror (1997)",
          "The Quest (1996)",
          "The Adventures of Robin Hood (1938)",
          "The Ghost and the Darkness (1996)",
          "Mortal Kombat (1995)",
          "Mortal Kombat: Annihilation (1997)",
          "Good Man in Africa, A (1994)"
         ],
         "legendgroup": "Action|Adventure",
         "marker": {
          "color": "#ab63fa",
          "symbol": "circle"
         },
         "mode": "markers",
         "name": "Action|Adventure",
         "showlegend": true,
         "type": "scattergl",
         "x": [
          -35.61315155029297,
          -35.45522689819336,
          -1.2407883405685425,
          -3.2713866233825684,
          -35.31974411010742,
          -28.247486114501953,
          41.17471694946289,
          0.7393955588340759,
          -51.46238327026367,
          -0.43274688720703125,
          -14.26978588104248,
          -14.281224250793457,
          15.887238502502441
         ],
         "xaxis": "x",
         "y": [
          6.817115306854248,
          7.7306718826293945,
          9.943603515625,
          -25.490123748779297,
          8.016404151916504,
          7.83925724029541,
          -23.208189010620117,
          -20.139225006103516,
          26.16238021850586,
          -17.55405044555664,
          10.072702407836914,
          10.0812349319458,
          3.2654144763946533
         ],
         "yaxis": "y"
        },
        {
         "hovertemplate": "<b>%{hovertext}</b><br><br>color=Musical<br>0=%{x}<br>1=%{y}<extra></extra>",
         "hovertext": [
          "The Sound of Music (1965)",
          "Meet Me in St. Louis (1944)",
          "Gigi (1958)",
          "Madame Butterfly (1995)",
          "The Inspector General (1949)"
         ],
         "legendgroup": "Musical",
         "marker": {
          "color": "#FFA15A",
          "symbol": "circle"
         },
         "mode": "markers",
         "name": "Musical",
         "showlegend": true,
         "type": "scattergl",
         "x": [
          -56.798370361328125,
          -49.18437194824219,
          -47.61777114868164,
          12.780292510986328,
          -51.13280487060547
         ],
         "xaxis": "x",
         "y": [
          15.840387344360352,
          30.659767150878906,
          16.513362884521484,
          22.723241806030273,
          35.792579650878906
         ],
         "yaxis": "y"
        },
        {
         "hovertemplate": "<b>%{hovertext}</b><br><br>color=Children's|Drama|Fantasy|Sci-Fi<br>0=%{x}<br>1=%{y}<extra></extra>",
         "hovertext": [
          "E.T. the Extra-Terrestrial (1982)"
         ],
         "legendgroup": "Children's|Drama|Fantasy|Sci-Fi",
         "marker": {
          "color": "#19d3f3",
          "symbol": "circle"
         },
         "mode": "markers",
         "name": "Children's|Drama|Fantasy|Sci-Fi",
         "showlegend": true,
         "type": "scattergl",
         "x": [
          -32.49142837524414
         ],
         "xaxis": "x",
         "y": [
          6.202174663543701
         ],
         "yaxis": "y"
        },
        {
         "hovertemplate": "<b>%{hovertext}</b><br><br>color=Action|Drama|War<br>0=%{x}<br>1=%{y}<extra></extra>",
         "hovertext": [
          "Boot, Das (1981)",
          "Full Metal Jacket (1987)",
          "Braveheart (1995)",
          "Glory (1989)",
          "G.I. Jane (1997)",
          "Heaven & Earth (1993)"
         ],
         "legendgroup": "Action|Drama|War",
         "marker": {
          "color": "#FF6692",
          "symbol": "circle"
         },
         "mode": "markers",
         "name": "Action|Drama|War",
         "showlegend": true,
         "type": "scattergl",
         "x": [
          -34.11771011352539,
          -31.87627601623535,
          -19.25102996826172,
          -20.71904182434082,
          20.918212890625,
          19.33395004272461
         ],
         "xaxis": "x",
         "y": [
          -2.965453624725342,
          -0.2600397765636444,
          18.308242797851562,
          11.018383026123047,
          -35.510440826416016,
          18.36068344116211
         ],
         "yaxis": "y"
        },
        {
         "hovertemplate": "<b>%{hovertext}</b><br><br>color=Horror|Thriller<br>0=%{x}<br>1=%{y}<extra></extra>",
         "hovertext": [
          "Scream (1996)",
          "Thinner (1996)",
          "The Believers (1987)",
          "Loch Ness (1995)",
          "Scream 2 (1997)",
          "Relative Fear (1994)",
          "Halloween: The Curse of Michael Myers (1995)",
          "In the Mouth of Madness (1995)",
          "Village of the Damned (1995)",
          "Nightwatch (1997)"
         ],
         "legendgroup": "Horror|Thriller",
         "marker": {
          "color": "#B6E880",
          "symbol": "circle"
         },
         "mode": "markers",
         "name": "Horror|Thriller",
         "showlegend": true,
         "type": "scattergl",
         "x": [
          -14.756657600402832,
          -4.627408504486084,
          -26.526601791381836,
          -15.010049819946289,
          -14.884496688842773,
          -11.597434997558594,
          -15.98717975616455,
          -13.063224792480469,
          -12.592595100402832,
          9.916939735412598
         ],
         "xaxis": "x",
         "y": [
          16.946191787719727,
          -19.655838012695312,
          5.336750030517578,
          20.664731979370117,
          17.16314697265625,
          18.870283126831055,
          23.317123413085938,
          22.792835235595703,
          22.2203311920166,
          -2.1421873569488525
         ],
         "yaxis": "y"
        },
        {
         "hovertemplate": "<b>%{hovertext}</b><br><br>color=Horror<br>0=%{x}<br>1=%{y}<extra></extra>",
         "hovertext": [
          "Nightmare on Elm Street, A (1984)",
          "The Shining (1980)",
          "Tales From the Crypt Presents: Demon Knight (1995)",
          "The Birds (1963)",
          "The Addiction (1995)",
          "American Werewolf in London, An (1981)",
          "The Omen (1976)",
          "Amityville: A New Generation (1993)",
          "The Prophecy (1995)",
          "Amityville II: The Possession (1982)",
          "Carrie (1976)",
          "Amityville: Dollhouse (1996)",
          "Children of the Corn: The Gathering (1996)",
          "Cat People (1982)",
          "Bride of Frankenstein (1935)",
          "The Relic (1997)",
          "The Amityville Horror (1979)",
          "Tales from the Crypt Presents: Bordello of Blood (1996)",
          "Wes Craven's New Nightmare (1994)",
          "Candyman: Farewell to the Flesh (1995)",
          "Candyman (1992)",
          "Castle Freak (1995)",
          "The Body Snatcher (1945)",
          "The Fog (1980)",
          "Nosferatu (Nosferatu, eine Symphonie des Grauens) (1922)",
          "Stephen King's The Langoliers (1995)",
          "Lord of Illusions (1995)",
          "Wishmaster (1997)",
          "The Prophecy II (1998)",
          "The Fear (1995)",
          "Amityville 1992: It's About Time (1992)",
          "Nosferatu a Venezia (1986)",
          "Phantoms (1998)",
          "Body Parts (1991)",
          "Audrey Rose (1977)",
          "Cronos (1992)",
          "Bad Moon (1996)",
          "The Amityville Curse (1990)",
          "Amityville 3-D (1983)",
          "Burnt Offerings (1976)",
          "Blood For Dracula (Andy Warhol's Dracula) (1974)",
          "Night Flier (1997)",
          "Spirits of the Dead (Tre passi nel delirio) (1968)"
         ],
         "legendgroup": "Horror",
         "marker": {
          "color": "#FF97FF",
          "symbol": "circle"
         },
         "mode": "markers",
         "name": "Horror",
         "showlegend": true,
         "type": "scattergl",
         "x": [
          -21.39675521850586,
          -35.6552619934082,
          -20.086902618408203,
          -48.77714538574219,
          0.755845308303833,
          -36.91014862060547,
          -45.238372802734375,
          -21.26893424987793,
          9.92719841003418,
          -22.342174530029297,
          -44.46302795410156,
          -20.000370025634766,
          -8.435124397277832,
          -49.15904235839844,
          -29.848114013671875,
          28.431312561035156,
          -21.803955078125,
          -20.224321365356445,
          -21.070465087890625,
          -16.975830078125,
          -17.09641456604004,
          -13.337525367736816,
          -34.56494140625,
          -35.39628601074219,
          -27.482301712036133,
          -9.888113021850586,
          2.5138638019561768,
          33.804656982421875,
          9.959053993225098,
          -11.76547622680664,
          -21.595190048217773,
          -27.416221618652344,
          -1.4460712671279907,
          17.799617767333984,
          32.330936431884766,
          -8.613434791564941,
          -14.074191093444824,
          -21.592269897460938,
          -22.027923583984375,
          -44.94710159301758,
          -25.441679000854492,
          10.034112930297852,
          -27.111427307128906
         ],
         "xaxis": "x",
         "y": [
          25.046274185180664,
          2.5782063007354736,
          21.052762985229492,
          11.548602104187012,
          15.171981811523438,
          4.183709621429443,
          2.2046873569488525,
          36.374183654785156,
          5.193846225738525,
          36.07442855834961,
          4.6890869140625,
          36.05523681640625,
          -10.883720397949219,
          -5.358432292938232,
          29.379749298095703,
          -26.971227645874023,
          35.372039794921875,
          21.22987174987793,
          25.10472297668457,
          24.49396514892578,
          24.580589294433594,
          20.204204559326172,
          26.76764678955078,
          2.3073675632476807,
          26.790006637573242,
          26.056581497192383,
          32.6652946472168,
          -17.24104118347168,
          5.158113956451416,
          19.21778678894043,
          36.81561279296875,
          26.65785789489746,
          -19.427867889404297,
          -23.507680892944336,
          -36.75178146362305,
          20.965665817260742,
          -13.57518482208252,
          35.318355560302734,
          35.90483474731445,
          1.6818519830703735,
          30.07811737060547,
          -1.8932725191116333,
          24.63083267211914
         ],
         "yaxis": "y"
        },
        {
         "hovertemplate": "<b>%{hovertext}</b><br><br>color=Action|Adventure|Drama<br>0=%{x}<br>1=%{y}<extra></extra>",
         "hovertext": [
          "Ben-Hur (1959)"
         ],
         "legendgroup": "Action|Adventure|Drama",
         "marker": {
          "color": "#FECB52",
          "symbol": "circle"
         },
         "mode": "markers",
         "name": "Action|Adventure|Drama",
         "showlegend": true,
         "type": "scattergl",
         "x": [
          -42.293270111083984
         ],
         "xaxis": "x",
         "y": [
          20.10645294189453
         ],
         "yaxis": "y"
        },
        {
         "hovertemplate": "<b>%{hovertext}</b><br><br>color=Adventure|Sci-Fi<br>0=%{x}<br>1=%{y}<extra></extra>",
         "hovertext": [
          "The City of Lost Children (1995)",
          "Barbarella (1968)"
         ],
         "legendgroup": "Adventure|Sci-Fi",
         "marker": {
          "color": "#636efa",
          "symbol": "circle"
         },
         "mode": "markers",
         "name": "Adventure|Sci-Fi",
         "showlegend": true,
         "type": "scattergl",
         "x": [
          -12.696054458618164,
          -48.04092025756836
         ],
         "xaxis": "x",
         "y": [
          25.90570831298828,
          14.241232872009277
         ],
         "yaxis": "y"
        },
        {
         "hovertemplate": "<b>%{hovertext}</b><br><br>color=Action|Comedy|Western<br>0=%{x}<br>1=%{y}<extra></extra>",
         "hovertext": [
          "Young Guns (1988)",
          "Maverick (1994)",
          "Butch Cassidy and the Sundance Kid (1969)",
          "Young Guns II (1990)"
         ],
         "legendgroup": "Action|Comedy|Western",
         "marker": {
          "color": "#EF553B",
          "symbol": "circle"
         },
         "mode": "markers",
         "name": "Action|Comedy|Western",
         "showlegend": true,
         "type": "scattergl",
         "x": [
          -23.056743621826172,
          33.08724594116211,
          -40.62251663208008,
          -22.940114974975586
         ],
         "xaxis": "x",
         "y": [
          1.3155441284179688,
          -0.6584881544113159,
          24.37117576599121,
          1.273970603942871
         ],
         "yaxis": "y"
        },
        {
         "hovertemplate": "<b>%{hovertext}</b><br><br>color=Comedy|Drama|Romance<br>0=%{x}<br>1=%{y}<extra></extra>",
         "hovertext": [
          "Wings of Desire (1987)",
          "Twelfth Night (1996)",
          "Corrina, Corrina (1994)",
          "The American President (1995)",
          "What Happened Was... (1994)",
          "Manhattan (1979)",
          "Don Juan DeMarco (1995)",
          "Something to Talk About (1995)",
          "Cinema Paradiso (1988)",
          "I Like It Like That (1994)",
          "Brassed Off (1996)"
         ],
         "legendgroup": "Comedy|Drama|Romance",
         "marker": {
          "color": "#00cc96",
          "symbol": "circle"
         },
         "mode": "markers",
         "name": "Comedy|Drama|Romance",
         "showlegend": true,
         "type": "scattergl",
         "x": [
          29.028358459472656,
          -2.0668599605560303,
          38.525657653808594,
          16.781391143798828,
          21.402626037597656,
          -42.63762283325195,
          -1.923123836517334,
          7.237678050994873,
          -41.77676010131836,
          18.927684783935547,
          -7.336309909820557
         ],
         "xaxis": "x",
         "y": [
          -13.08857250213623,
          -9.684371948242188,
          9.768688201904297,
          22.05207633972168,
          -3.5654311180114746,
          3.763314723968506,
          12.041441917419434,
          -3.98178768157959,
          -3.6561598777770996,
          -5.038969993591309,
          -24.77712059020996
         ],
         "yaxis": "y"
        },
        {
         "hovertemplate": "<b>%{hovertext}</b><br><br>color=Children's|Drama<br>0=%{x}<br>1=%{y}<extra></extra>",
         "hovertext": [
          "Old Yeller (1957)",
          "Shiloh (1997)",
          "The Parent Trap (1961)",
          "So Dear to My Heart (1949)",
          "Little Princess, A (1995)",
          "The Secret Garden (1993)",
          "The Little Princess (1939)",
          "Fluke (1995)",
          "Kim (1950)"
         ],
         "legendgroup": "Children's|Drama",
         "marker": {
          "color": "#ab63fa",
          "symbol": "circle"
         },
         "mode": "markers",
         "name": "Children's|Drama",
         "showlegend": true,
         "type": "scattergl",
         "x": [
          -62.88998794555664,
          36.49153518676758,
          -56.53535461425781,
          -43.403587341308594,
          13.317648887634277,
          15.137027740478516,
          -56.62223815917969,
          0.7651370167732239,
          -58.876243591308594
         ],
         "xaxis": "x",
         "y": [
          19.35220718383789,
          -27.911752700805664,
          13.869693756103516,
          32.75496292114258,
          25.774375915527344,
          30.468551635742188,
          26.731042861938477,
          10.654906272888184,
          23.14849090576172
         ],
         "yaxis": "y"
        },
        {
         "hovertemplate": "<b>%{hovertext}</b><br><br>color=Drama|War<br>0=%{x}<br>1=%{y}<extra></extra>",
         "hovertext": [
          "Seven Years in Tibet (1997)",
          "Courage Under Fire (1996)",
          "Richard III (1995)",
          "Schindler's List (1993)",
          "The Bridge on the River Kwai (1957)",
          "Michael Collins (1996)",
          "Henry V (1989)",
          "Apocalypse Now (1979)",
          "Paths of Glory (1957)",
          "Ran (1985)",
          "Patton (1970)",
          "Platoon (1986)",
          "The Killing Fields (1984)",
          "The Deer Hunter (1978)",
          "Welcome To Sarajevo (1997)",
          "Paradise Road (1997)",
          "Bent (1997)",
          "The Walking Dead (1995)",
          "Nothing Personal (1995)"
         ],
         "legendgroup": "Drama|War",
         "marker": {
          "color": "#FFA15A",
          "symbol": "circle"
         },
         "mode": "markers",
         "name": "Drama|War",
         "showlegend": true,
         "type": "scattergl",
         "x": [
          39.545372009277344,
          -4.981744289398193,
          -20.14307403564453,
          16.842023849487305,
          -40.800994873046875,
          2.8332014083862305,
          -21.08357048034668,
          -39.28678894042969,
          -41.42736053466797,
          -9.091864585876465,
          -53.12619400024414,
          -30.232681274414062,
          -34.25954055786133,
          -40.090728759765625,
          35.60642623901367,
          35.348899841308594,
          38.253379821777344,
          -9.828824996948242,
          5.804825782775879
         ],
         "xaxis": "x",
         "y": [
          -21.446704864501953,
          -5.836108684539795,
          17.768230438232422,
          15.473015785217285,
          18.631946563720703,
          -23.09967803955078,
          17.02175521850586,
          7.83821439743042,
          20.22962760925293,
          29.990020751953125,
          1.2379212379455566,
          2.3801047801971436,
          -5.040050029754639,
          8.513394355773926,
          -24.838809967041016,
          -25.77042007446289,
          -34.10344314575195,
          10.247200965881348,
          11.259316444396973
         ],
         "yaxis": "y"
        },
        {
         "hovertemplate": "<b>%{hovertext}</b><br><br>color=Children's|Comedy|Mystery<br>0=%{x}<br>1=%{y}<extra></extra>",
         "hovertext": [
          "That Darn Cat! (1965)",
          "That Darn Cat! (1997)"
         ],
         "legendgroup": "Children's|Comedy|Mystery",
         "marker": {
          "color": "#19d3f3",
          "symbol": "circle"
         },
         "mode": "markers",
         "name": "Children's|Comedy|Mystery",
         "showlegend": true,
         "type": "scattergl",
         "x": [
          -49.88204574584961,
          -49.990394592285156
         ],
         "xaxis": "x",
         "y": [
          -6.359710693359375,
          -6.70005989074707
         ],
         "yaxis": "y"
        },
        {
         "hovertemplate": "<b>%{hovertext}</b><br><br>color=Comedy|Thriller<br>0=%{x}<br>1=%{y}<extra></extra>",
         "hovertext": [
          "North by Northwest (1959)",
          "Another Stakeout (1993)",
          "Head Above Water (1996)",
          "Tainted (1998)"
         ],
         "legendgroup": "Comedy|Thriller",
         "marker": {
          "color": "#FF6692",
          "symbol": "circle"
         },
         "mode": "markers",
         "name": "Comedy|Thriller",
         "showlegend": true,
         "type": "scattergl",
         "x": [
          -46.27561950683594,
          14.721537590026855,
          -8.047853469848633,
          -10.761042594909668
         ],
         "xaxis": "x",
         "y": [
          21.847753524780273,
          12.535181999206543,
          -32.21609115600586,
          -16.52998161315918
         ],
         "yaxis": "y"
        },
        {
         "hovertemplate": "<b>%{hovertext}</b><br><br>color=Action|Drama|Thriller<br>0=%{x}<br>1=%{y}<extra></extra>",
         "hovertext": [
          "Outbreak (1995)",
          "Apollo 13 (1995)",
          "Smilla's Sense of Snow (1997)",
          "Fire Down Below (1997)",
          "Mercury Rising (1998)",
          "Hostile Intentions (1994)",
          "Tough and Deadly (1995)",
          "Condition Red (1995)"
         ],
         "legendgroup": "Action|Drama|Thriller",
         "marker": {
          "color": "#B6E880",
          "symbol": "circle"
         },
         "mode": "markers",
         "name": "Action|Drama|Thriller",
         "showlegend": true,
         "type": "scattergl",
         "x": [
          -5.0571770668029785,
          -32.806549072265625,
          35.90071105957031,
          -16.611591339111328,
          22.667306900024414,
          23.087278366088867,
          -6.41969108581543,
          23.58551025390625
         ],
         "xaxis": "x",
         "y": [
          22.632633209228516,
          15.58671760559082,
          -14.525713920593262,
          -32.0863037109375,
          -12.831071853637695,
          8.830093383789062,
          10.528687477111816,
          27.602121353149414
         ],
         "yaxis": "y"
        },
        {
         "hovertemplate": "<b>%{hovertext}</b><br><br>color=Action|Adventure|Crime|Drama<br>0=%{x}<br>1=%{y}<extra></extra>",
         "hovertext": [
          "Batman (1989)"
         ],
         "legendgroup": "Action|Adventure|Crime|Drama",
         "marker": {
          "color": "#FF97FF",
          "symbol": "circle"
         },
         "mode": "markers",
         "name": "Action|Adventure|Crime|Drama",
         "showlegend": true,
         "type": "scattergl",
         "x": [
          -20.98605728149414
         ],
         "xaxis": "x",
         "y": [
          14.221477508544922
         ],
         "yaxis": "y"
        },
        {
         "hovertemplate": "<b>%{hovertext}</b><br><br>color=Animation|Children's<br>0=%{x}<br>1=%{y}<extra></extra>",
         "hovertext": [
          "The Sword in the Stone (1963)",
          "Pinocchio (1940)",
          "Oliver & Company (1988)",
          "The Aristocats (1970)",
          "Winnie the Pooh and the Blustery Day (1968)",
          "Balto (1995)",
          "The Fox and the Hound (1981)",
          "The Swan Princess (1994)",
          "Gumby: The Movie (1995)",
          "Land Before Time III: The Time of the Great Giving (1995) (V)"
         ],
         "legendgroup": "Animation|Children's",
         "marker": {
          "color": "#FECB52",
          "symbol": "circle"
         },
         "mode": "markers",
         "name": "Animation|Children's",
         "showlegend": true,
         "type": "scattergl",
         "x": [
          -48.6468620300293,
          -51.7470817565918,
          24.696786880493164,
          -49.70222854614258,
          -59.738250732421875,
          -21.463232040405273,
          -37.62238311767578,
          14.228570938110352,
          0.33632707595825195,
          0.8834784626960754
         ],
         "xaxis": "x",
         "y": [
          9.455960273742676,
          31.762680053710938,
          12.762736320495605,
          -4.871574878692627,
          15.834115982055664,
          -28.83086395263672,
          3.3179261684417725,
          26.04437255859375,
          6.532666206359863,
          4.115982532501221
         ],
         "yaxis": "y"
        },
        {
         "hovertemplate": "<b>%{hovertext}</b><br><br>color=Drama|Musical<br>0=%{x}<br>1=%{y}<extra></extra>",
         "hovertext": [
          "Backbeat (1993)",
          "Evita (1996)",
          "Misérables, Les (1995)",
          "Selena (1997)",
          "The Doors (1991)",
          "Farinelli: il castrato (1994)",
          "The Umbrellas of Cherbourg (1964)"
         ],
         "legendgroup": "Drama|Musical",
         "marker": {
          "color": "#636efa",
          "symbol": "circle"
         },
         "mode": "markers",
         "name": "Drama|Musical",
         "showlegend": true,
         "type": "scattergl",
         "x": [
          39.52002716064453,
          2.6471197605133057,
          -29.995939254760742,
          26.399978637695312,
          17.717348098754883,
          42.86631774902344,
          -58.010833740234375
         ],
         "xaxis": "x",
         "y": [
          15.868471145629883,
          -39.046165466308594,
          -19.862695693969727,
          -40.02888488769531,
          41.46236038208008,
          6.993106842041016,
          10.526274681091309
         ],
         "yaxis": "y"
        },
        {
         "hovertemplate": "<b>%{hovertext}</b><br><br>color=Action|Adventure|Romance|War<br>0=%{x}<br>1=%{y}<extra></extra>",
         "hovertext": [
          "The African Queen (1951)"
         ],
         "legendgroup": "Action|Adventure|Romance|War",
         "marker": {
          "color": "#EF553B",
          "symbol": "circle"
         },
         "mode": "markers",
         "name": "Action|Adventure|Romance|War",
         "showlegend": true,
         "type": "scattergl",
         "x": [
          -57.287017822265625
         ],
         "xaxis": "x",
         "y": [
          22.132705688476562
         ],
         "yaxis": "y"
        },
        {
         "hovertemplate": "<b>%{hovertext}</b><br><br>color=Comedy|Drama<br>0=%{x}<br>1=%{y}<extra></extra>",
         "hovertext": [
          "The Adventures of Priscilla, Queen of the Desert (1994)",
          "Swimming with Sharks (1995)",
          "Roommates (1995)",
          "Wag the Dog (1997)",
          "What's Eating Gilbert Grape (1993)",
          "Kicking and Screaming (1995)",
          "Kicked in the Head (1997)",
          "Family Thing, A (1996)",
          "Down by Law (1986)",
          "To Die For (1995)",
          "Ed Wood (1994)",
          "Tin Men (1987)",
          "Swingers (1996)",
          "The Evening Star (1996)",
          "With Honors (1994)",
          "Jack (1996)",
          "Welcome to the Dollhouse (1995)",
          "Cool Hand Luke (1967)",
          "Sirens (1994)",
          "Unstrung Heroes (1995)",
          "As Good As It Gets (1997)",
          "Private Parts (1997)",
          "Boys on the Side (1995)",
          "Big Bully (1996)",
          "Ma vie en rose (My Life in Pink) (1997)",
          "The Inkwell (1994)",
          "The Paper (1994)",
          "The Doom Generation (1995)",
          "Rosencrantz and Guildenstern Are Dead (1990)",
          "Deconstructing Harry (1997)",
          "The Apartment (1960)",
          "Eat Drink Man Woman (1994)",
          "Spanking the Monkey (1994)",
          "The Van (1996)",
          "Reality Bites (1994)",
          "Night on Earth (1991)",
          "Month by the Lake, A (1995)",
          "Talking About Sex (1994)",
          "The Pompatus of Love (1996)",
          "I'll Do Anything (1994)",
          "Citizen Ruth (1996)",
          "The Big Squeeze (1996)",
          "Caro Diario (Dear Diary) (1994)",
          "Indian Summer (1996)",
          "Love Is All There Is (1996)",
          "Beat the Devil (1954)",
          "Trust (1990)",
          "Yankee Zulu (1994)",
          "Midnight Dancers (Sibak) (1994)",
          "Twisted (1996)",
          "Babyfever (1994)",
          "Stefano Quantestorie (1993)",
          "Grace of My Heart (1996)",
          "Salut cousin! (1996)",
          "The Lay of the Land (1997)",
          "Waiting to Exhale (1995)",
          "Last Summer in the Hamptons (1995)",
          "Vie est belle, La (Life is Rosey) (1987)",
          "Bhaji on the Beach (1993)",
          "The Reluctant Debutante (1958)",
          "Á köldum klaka (Cold Fever) (1994)",
          "The Slingshot (1993)",
          "The Wife (1995)",
          "Sleepover (1995)",
          "Nobody Loves Me (Keiner liebt mich) (1994)"
         ],
         "legendgroup": "Comedy|Drama",
         "marker": {
          "color": "#00cc96",
          "symbol": "circle"
         },
         "mode": "markers",
         "name": "Comedy|Drama",
         "showlegend": true,
         "type": "scattergl",
         "x": [
          14.614757537841797,
          -1.3743362426757812,
          2.974748373031616,
          24.258974075317383,
          15.104903221130371,
          -13.078109741210938,
          29.648839950561523,
          9.331050872802734,
          -17.379514694213867,
          -7.711427211761475,
          -0.35260793566703796,
          -37.9344596862793,
          5.769482612609863,
          4.538501262664795,
          33.95854949951172,
          0.5393635630607605,
          -19.281171798706055,
          -39.11138916015625,
          17.217426300048828,
          5.061624050140381,
          21.247529983520508,
          17.916210174560547,
          -11.756900787353516,
          -8.667248725891113,
          -37.64494705200195,
          27.616594314575195,
          28.977590560913086,
          -11.482589721679688,
          -36.59674072265625,
          27.911575317382812,
          -53.31845474243164,
          14.780227661132812,
          43.59748840332031,
          -2.814349889755249,
          16.0637264251709,
          10.10224723815918,
          7.527666091918945,
          7.394930362701416,
          11.848852157592773,
          19.97099494934082,
          6.740413188934326,
          -7.687909126281738,
          39.2996940612793,
          10.516160011291504,
          12.68648910522461,
          -43.85752487182617,
          -18.460214614868164,
          36.056644439697266,
          -9.00345516204834,
          -6.200655460357666,
          7.146941661834717,
          45.269893646240234,
          8.07740306854248,
          -29.193002700805664,
          38.65098571777344,
          0.13296455144882202,
          11.300445556640625,
          -37.40666961669922,
          -12.188104629516602,
          -54.319156646728516,
          26.89530372619629,
          -20.61358642578125,
          7.1173787117004395,
          4.929539680480957,
          43.921470642089844
         ],
         "xaxis": "x",
         "y": [
          27.16428565979004,
          9.630439758300781,
          26.331819534301758,
          -21.820714950561523,
          6.62958288192749,
          16.66862678527832,
          -25.31429100036621,
          -15.589300155639648,
          -31.95334815979004,
          7.3062896728515625,
          -40.91976547241211,
          29.774328231811523,
          -6.423266410827637,
          -13.900618553161621,
          7.134120941162109,
          -25.58217430114746,
          36.03009796142578,
          24.90095329284668,
          26.776029586791992,
          20.086597442626953,
          -26.417512893676758,
          -23.56203269958496,
          -38.91368865966797,
          -26.979007720947266,
          -19.61375617980957,
          6.978227615356445,
          6.085990905761719,
          21.552753448486328,
          -13.706962585449219,
          -23.963939666748047,
          13.179065704345703,
          5.5014777183532715,
          -4.118392467498779,
          -21.750932693481445,
          6.321054935455322,
          -0.08637430518865585,
          16.613988876342773,
          -4.805100440979004,
          -9.366315841674805,
          -4.278520584106445,
          -19.779333114624023,
          -16.937639236450195,
          8.594759941101074,
          -19.862533569335938,
          -10.822836875915527,
          21.12108039855957,
          10.860063552856445,
          3.508635997772217,
          38.82868576049805,
          -19.038494110107422,
          24.452421188354492,
          9.446017265319824,
          -17.51340675354004,
          -23.078588485717773,
          -20.04039764404297,
          19.832990646362305,
          -18.80908966064453,
          -19.720571517944336,
          -32.176292419433594,
          22.045804977416992,
          22.363933563232422,
          -15.44896411895752,
          7.4554266929626465,
          26.981033325195312,
          16.327829360961914
         ],
         "yaxis": "y"
        },
        {
         "hovertemplate": "<b>%{hovertext}</b><br><br>color=Comedy|Drama|Musical<br>0=%{x}<br>1=%{y}<extra></extra>",
         "hovertext": [
          "This Is Spinal Tap (1984)"
         ],
         "legendgroup": "Comedy|Drama|Musical",
         "marker": {
          "color": "#ab63fa",
          "symbol": "circle"
         },
         "mode": "markers",
         "name": "Comedy|Drama|Musical",
         "showlegend": true,
         "type": "scattergl",
         "x": [
          -30.339290618896484
         ],
         "xaxis": "x",
         "y": [
          -0.8680121302604675
         ],
         "yaxis": "y"
        },
        {
         "hovertemplate": "<b>%{hovertext}</b><br><br>color=Action|Mystery|Romance|Thriller<br>0=%{x}<br>1=%{y}<extra></extra>",
         "hovertext": [
          "Conspiracy Theory (1997)"
         ],
         "legendgroup": "Action|Mystery|Romance|Thriller",
         "marker": {
          "color": "#FFA15A",
          "symbol": "circle"
         },
         "mode": "markers",
         "name": "Action|Mystery|Romance|Thriller",
         "showlegend": true,
         "type": "scattergl",
         "x": [
          24.790035247802734
         ],
         "xaxis": "x",
         "y": [
          -20.496126174926758
         ],
         "yaxis": "y"
        },
        {
         "hovertemplate": "<b>%{hovertext}</b><br><br>color=Adventure|Children's|Drama|Musical<br>0=%{x}<br>1=%{y}<extra></extra>",
         "hovertext": [
          "The Wizard of Oz (1939)"
         ],
         "legendgroup": "Adventure|Children's|Drama|Musical",
         "marker": {
          "color": "#19d3f3",
          "symbol": "circle"
         },
         "mode": "markers",
         "name": "Adventure|Children's|Drama|Musical",
         "showlegend": true,
         "type": "scattergl",
         "x": [
          -51.59771728515625
         ],
         "xaxis": "x",
         "y": [
          27.769655227661133
         ],
         "yaxis": "y"
        },
        {
         "hovertemplate": "<b>%{hovertext}</b><br><br>color=Action|Sci-Fi|Thriller<br>0=%{x}<br>1=%{y}<extra></extra>",
         "hovertext": [
          "Terminator 2: Judgment Day (1991)",
          "The Terminator (1984)",
          "Face/Off (1997)",
          "The Lawnmower Man (1992)",
          "Johnny Mnemonic (1995)",
          "Solo (1996)",
          "The Arrival (1996)",
          "Lost in Space (1998)",
          "Nemesis 2: Nebula (1995)"
         ],
         "legendgroup": "Action|Sci-Fi|Thriller",
         "marker": {
          "color": "#FF6692",
          "symbol": "circle"
         },
         "mode": "markers",
         "name": "Action|Sci-Fi|Thriller",
         "showlegend": true,
         "type": "scattergl",
         "x": [
          -30.5361385345459,
          -30.740442276000977,
          26.721424102783203,
          -6.4773454666137695,
          -9.954034805297852,
          3.3703103065490723,
          -1.6519564390182495,
          -34.2531852722168,
          -7.172497272491455
         ],
         "xaxis": "x",
         "y": [
          7.465455055236816,
          7.1400017738342285,
          -30.33517837524414,
          45.178382873535156,
          24.11771583557129,
          -26.387659072875977,
          -22.043058395385742,
          15.108412742614746,
          23.54054069519043
         ],
         "yaxis": "y"
        },
        {
         "hovertemplate": "<b>%{hovertext}</b><br><br>color=Adventure|Children's|Comedy<br>0=%{x}<br>1=%{y}<extra></extra>",
         "hovertext": [
          "Willy Wonka and the Chocolate Factory (1971)",
          "Herbie Rides Again (1974)",
          "Jingle All the Way (1996)"
         ],
         "legendgroup": "Adventure|Children's|Comedy",
         "marker": {
          "color": "#B6E880",
          "symbol": "circle"
         },
         "mode": "markers",
         "name": "Adventure|Children's|Comedy",
         "showlegend": true,
         "type": "scattergl",
         "x": [
          -48.46098327636719,
          -43.717044830322266,
          10.558615684509277
         ],
         "xaxis": "x",
         "y": [
          1.4370111227035522,
          6.327590465545654,
          -41.9749755859375
         ],
         "yaxis": "y"
        },
        {
         "hovertemplate": "<b>%{hovertext}</b><br><br>color=Crime|Horror|Mystery|Thriller<br>0=%{x}<br>1=%{y}<extra></extra>",
         "hovertext": [
          "The Devil's Advocate (1997)"
         ],
         "legendgroup": "Crime|Horror|Mystery|Thriller",
         "marker": {
          "color": "#FF97FF",
          "symbol": "circle"
         },
         "mode": "markers",
         "name": "Crime|Horror|Mystery|Thriller",
         "showlegend": true,
         "type": "scattergl",
         "x": [
          24.89476203918457
         ],
         "xaxis": "x",
         "y": [
          -23.706172943115234
         ],
         "yaxis": "y"
        },
        {
         "hovertemplate": "<b>%{hovertext}</b><br><br>color=Action|Adventure|Comedy|Musical|Thriller<br>0=%{x}<br>1=%{y}<extra></extra>",
         "hovertext": [
          "Muppet Treasure Island (1996)"
         ],
         "legendgroup": "Action|Adventure|Comedy|Musical|Thriller",
         "marker": {
          "color": "#FECB52",
          "symbol": "circle"
         },
         "mode": "markers",
         "name": "Action|Adventure|Comedy|Musical|Thriller",
         "showlegend": true,
         "type": "scattergl",
         "x": [
          7.063028812408447
         ],
         "xaxis": "x",
         "y": [
          -31.97039222717285
         ],
         "yaxis": "y"
        },
        {
         "hovertemplate": "<b>%{hovertext}</b><br><br>color=Children's|Drama|Fantasy<br>0=%{x}<br>1=%{y}<extra></extra>",
         "hovertext": [
          "Bogus (1996)",
          "FairyTale: A True Story (1997)"
         ],
         "legendgroup": "Children's|Drama|Fantasy",
         "marker": {
          "color": "#636efa",
          "symbol": "circle"
         },
         "mode": "markers",
         "name": "Children's|Drama|Fantasy",
         "showlegend": true,
         "type": "scattergl",
         "x": [
          -8.932745933532715,
          38.41327667236328
         ],
         "xaxis": "x",
         "y": [
          -22.89588737487793,
          -16.045122146606445
         ],
         "yaxis": "y"
        },
        {
         "hovertemplate": "<b>%{hovertext}</b><br><br>color=Musical|Romance<br>0=%{x}<br>1=%{y}<extra></extra>",
         "hovertext": [
          "My Fair Lady (1964)",
          "Singin' in the Rain (1952)",
          "Dirty Dancing (1987)",
          "American in Paris, An (1951)"
         ],
         "legendgroup": "Musical|Romance",
         "marker": {
          "color": "#EF553B",
          "symbol": "circle"
         },
         "mode": "markers",
         "name": "Musical|Romance",
         "showlegend": true,
         "type": "scattergl",
         "x": [
          -57.11302185058594,
          -50.00690460205078,
          -31.174726486206055,
          -54.736473083496094
         ],
         "xaxis": "x",
         "y": [
          16.491039276123047,
          20.433664321899414,
          -8.716754913330078,
          18.454025268554688
         ],
         "yaxis": "y"
        },
        {
         "hovertemplate": "<b>%{hovertext}</b><br><br>color=Action|Adventure|Comedy|Romance<br>0=%{x}<br>1=%{y}<extra></extra>",
         "hovertext": [
          "True Lies (1994)",
          "The Princess Bride (1987)"
         ],
         "legendgroup": "Action|Adventure|Comedy|Romance",
         "marker": {
          "color": "#00cc96",
          "symbol": "circle"
         },
         "mode": "markers",
         "name": "Action|Adventure|Comedy|Romance",
         "showlegend": true,
         "type": "scattergl",
         "x": [
          12.236455917358398,
          -28.165159225463867
         ],
         "xaxis": "x",
         "y": [
          7.311574459075928,
          14.768967628479004
         ],
         "yaxis": "y"
        },
        {
         "hovertemplate": "<b>%{hovertext}</b><br><br>color=Sci-Fi|Thriller<br>0=%{x}<br>1=%{y}<extra></extra>",
         "hovertext": [
          "Mimic (1997)",
          "Lawnmower Man 2: Beyond Cyberspace (1996)",
          "The Island of Dr. Moreau (1996)",
          "The Net (1995)",
          "Unforgettable (1996)",
          "Virtuosity (1995)",
          "Robocop 3 (1993)"
         ],
         "legendgroup": "Sci-Fi|Thriller",
         "marker": {
          "color": "#ab63fa",
          "symbol": "circle"
         },
         "mode": "markers",
         "name": "Sci-Fi|Thriller",
         "showlegend": true,
         "type": "scattergl",
         "x": [
          28.033218383789062,
          -6.478928565979004,
          2.4755699634552,
          -6.503546237945557,
          9.820514678955078,
          -0.7190676331520081,
          -24.23819351196289
         ],
         "xaxis": "x",
         "y": [
          -29.237293243408203,
          45.18043899536133,
          -33.225128173828125,
          17.34197235107422,
          -18.59502410888672,
          23.0268497467041,
          8.46371078491211
         ],
         "yaxis": "y"
        },
        {
         "hovertemplate": "<b>%{hovertext}</b><br><br>color=Action|Drama|Thriller|War<br>0=%{x}<br>1=%{y}<extra></extra>",
         "hovertext": [
          "The Devil's Own (1997)"
         ],
         "legendgroup": "Action|Drama|Thriller|War",
         "marker": {
          "color": "#FFA15A",
          "symbol": "circle"
         },
         "mode": "markers",
         "name": "Action|Drama|Thriller|War",
         "showlegend": true,
         "type": "scattergl",
         "x": [
          24.811161041259766
         ],
         "xaxis": "x",
         "y": [
          -23.707744598388672
         ],
         "yaxis": "y"
        },
        {
         "hovertemplate": "<b>%{hovertext}</b><br><br>color=Drama|Mystery|Sci-Fi|Thriller<br>0=%{x}<br>1=%{y}<extra></extra>",
         "hovertext": [
          "2001: A Space Odyssey (1968)"
         ],
         "legendgroup": "Drama|Mystery|Sci-Fi|Thriller",
         "marker": {
          "color": "#19d3f3",
          "symbol": "circle"
         },
         "mode": "markers",
         "name": "Drama|Mystery|Sci-Fi|Thriller",
         "showlegend": true,
         "type": "scattergl",
         "x": [
          -33.89890670776367
         ],
         "xaxis": "x",
         "y": [
          14.499821662902832
         ],
         "yaxis": "y"
        },
        {
         "hovertemplate": "<b>%{hovertext}</b><br><br>color=Children's|Comedy|Musical<br>0=%{x}<br>1=%{y}<extra></extra>",
         "hovertext": [
          "Mary Poppins (1964)",
          "The Nightmare Before Christmas (1993)"
         ],
         "legendgroup": "Children's|Comedy|Musical",
         "marker": {
          "color": "#FF6692",
          "symbol": "circle"
         },
         "mode": "markers",
         "name": "Children's|Comedy|Musical",
         "showlegend": true,
         "type": "scattergl",
         "x": [
          -58.02517318725586,
          -19.826457977294922
         ],
         "xaxis": "x",
         "y": [
          16.06867790222168,
          25.4576416015625
         ],
         "yaxis": "y"
        },
        {
         "hovertemplate": "<b>%{hovertext}</b><br><br>color=Action|Adventure|Mystery<br>0=%{x}<br>1=%{y}<extra></extra>",
         "hovertext": [
          "Mission: Impossible (1996)"
         ],
         "legendgroup": "Action|Adventure|Mystery",
         "marker": {
          "color": "#B6E880",
          "symbol": "circle"
         },
         "mode": "markers",
         "name": "Action|Adventure|Mystery",
         "showlegend": true,
         "type": "scattergl",
         "x": [
          -2.69118595123291
         ],
         "xaxis": "x",
         "y": [
          -18.025409698486328
         ],
         "yaxis": "y"
        },
        {
         "hovertemplate": "<b>%{hovertext}</b><br><br>color=Thriller<br>0=%{x}<br>1=%{y}<extra></extra>",
         "hovertext": [
          "Red Rock West (1992)",
          "Assassins (1995)",
          "Cape Fear (1991)",
          "The Fan (1996)",
          "Four Rooms (1995)",
          "Nikita (La Femme Nikita) (1990)",
          "Shadow Conspiracy (1997)",
          "Foreign Correspondent (1940)",
          "Killing Zoe (1994)",
          "Blink (1994)",
          "Malice (1993)",
          "Mute Witness (1994)",
          "The 39 Steps (1935)",
          "The Rich Man's Wife (1996)",
          "Shallow Grave (1994)",
          "Fear (1996)",
          "Jade (1995)",
          "Hideaway (1995)",
          "Safe (1995)",
          "The Assignment (1997)",
          "Sliver (1993)",
          "Turbulence (1997)",
          "The Tie That Binds (1995)",
          "Love and a .45 (1994)",
          "The Innocents (1961)",
          "Killer (Bulletproof Heart) (1994)",
          "Switchback (1997)",
          "Trial by Jury (1994)",
          "Stranger in the House (1997)",
          "Dream Man (1995)",
          "Baton Rouge (1988)",
          "Legal Deceit (1997)",
          "Office Killer (1997)",
          "Hush (1998)",
          "Butterfly Kiss (1995)",
          "Underworld (1997)"
         ],
         "legendgroup": "Thriller",
         "marker": {
          "color": "#FF97FF",
          "symbol": "circle"
         },
         "mode": "markers",
         "name": "Thriller",
         "showlegend": true,
         "type": "scattergl",
         "x": [
          0.20429015159606934,
          -6.35026741027832,
          -58.3604621887207,
          -2.1758618354797363,
          2.5936694145202637,
          -14.012190818786621,
          24.702959060668945,
          -50.6468620300293,
          -9.478178977966309,
          26.551193237304688,
          21.727069854736328,
          24.434967041015625,
          -47.93698501586914,
          7.188817977905273,
          -6.3578667640686035,
          -7.7187180519104,
          5.560475826263428,
          -4.08555793762207,
          -2.499267578125,
          25.215497970581055,
          18.071945190429688,
          33.202449798583984,
          13.101171493530273,
          15.888937950134277,
          -55.21358871459961,
          -11.488127708435059,
          34.24663162231445,
          -7.92152738571167,
          36.80453109741211,
          13.596328735351562,
          -31.812040328979492,
          26.730133056640625,
          23.56472396850586,
          21.568864822387695,
          11.922566413879395,
          38.433349609375
         ],
         "xaxis": "x",
         "y": [
          -28.48988151550293,
          13.715018272399902,
          0.28806769847869873,
          -20.377582550048828,
          26.514892578125,
          5.534730434417725,
          -20.040342330932617,
          34.14387893676758,
          1.317918062210083,
          8.204651832580566,
          9.913392066955566,
          -3.2078921794891357,
          23.3624210357666,
          6.732597351074219,
          3.400813341140747,
          -13.784309387207031,
          22.802276611328125,
          14.527528762817383,
          14.80909252166748,
          -28.606061935424805,
          12.768791198730469,
          -28.95465850830078,
          16.554269790649414,
          -4.728386402130127,
          12.708351135253906,
          2.7247939109802246,
          -27.18880844116211,
          -5.149723529815674,
          -11.223260879516602,
          3.7257144451141357,
          -13.908050537109375,
          -23.179914474487305,
          -28.786415100097656,
          -11.087661743164062,
          22.761425018310547,
          -25.852497100830078
         ],
         "yaxis": "y"
        },
        {
         "hovertemplate": "<b>%{hovertext}</b><br><br>color=Action|Crime|Thriller<br>0=%{x}<br>1=%{y}<extra></extra>",
         "hovertext": [
          "Heat (1995)",
          "Hackers (1995)"
         ],
         "legendgroup": "Action|Crime|Thriller",
         "marker": {
          "color": "#FECB52",
          "symbol": "circle"
         },
         "mode": "markers",
         "name": "Action|Crime|Thriller",
         "showlegend": true,
         "type": "scattergl",
         "x": [
          -0.7062946557998657,
          -7.359118938446045
         ],
         "xaxis": "x",
         "y": [
          18.900901794433594,
          16.988290786743164
         ],
         "yaxis": "y"
        },
        {
         "hovertemplate": "<b>%{hovertext}</b><br><br>color=Drama|Horror<br>0=%{x}<br>1=%{y}<extra></extra>",
         "hovertext": [
          "Interview with the Vampire (1994)",
          "Mary Shelley's Frankenstein (1994)",
          "Wolf (1994)",
          "The Craft (1996)",
          "Beyond Bedlam (1993)"
         ],
         "legendgroup": "Drama|Horror",
         "marker": {
          "color": "#636efa",
          "symbol": "circle"
         },
         "mode": "markers",
         "name": "Drama|Horror",
         "showlegend": true,
         "type": "scattergl",
         "x": [
          -23.174470901489258,
          -29.226585388183594,
          34.334354400634766,
          -4.7969970703125,
          -1.9394451379776
         ],
         "xaxis": "x",
         "y": [
          28.44203758239746,
          29.51982879638672,
          4.292951583862305,
          -10.857015609741211,
          -5.825303554534912
         ],
         "yaxis": "y"
        },
        {
         "hovertemplate": "<b>%{hovertext}</b><br><br>color=Action|Western<br>0=%{x}<br>1=%{y}<extra></extra>",
         "hovertext": [
          "The Good, The Bad and The Ugly (1966)"
         ],
         "legendgroup": "Action|Western",
         "marker": {
          "color": "#EF553B",
          "symbol": "circle"
         },
         "mode": "markers",
         "name": "Action|Western",
         "showlegend": true,
         "type": "scattergl",
         "x": [
          -42.010101318359375
         ],
         "xaxis": "x",
         "y": [
          25.024852752685547
         ],
         "yaxis": "y"
        },
        {
         "hovertemplate": "<b>%{hovertext}</b><br><br>color=Children's|Comedy|Fantasy<br>0=%{x}<br>1=%{y}<extra></extra>",
         "hovertext": [
          "Kazaam (1996)",
          "Flubber (1997)"
         ],
         "legendgroup": "Children's|Comedy|Fantasy",
         "marker": {
          "color": "#00cc96",
          "symbol": "circle"
         },
         "mode": "markers",
         "name": "Children's|Comedy|Fantasy",
         "showlegend": true,
         "type": "scattergl",
         "x": [
          10.767230033874512,
          35.695430755615234
         ],
         "xaxis": "x",
         "y": [
          -32.071834564208984,
          -39.268253326416016
         ],
         "yaxis": "y"
        },
        {
         "hovertemplate": "<b>%{hovertext}</b><br><br>color=Action|Adventure|Sci-Fi|Thriller<br>0=%{x}<br>1=%{y}<extra></extra>",
         "hovertext": [
          "The Abyss (1989)",
          "The Lost World: Jurassic Park (1997)",
          "Escape from L.A. (1996)",
          "Escape from New York (1981)",
          "Spawn (1997)"
         ],
         "legendgroup": "Action|Adventure|Sci-Fi|Thriller",
         "marker": {
          "color": "#ab63fa",
          "symbol": "circle"
         },
         "mode": "markers",
         "name": "Action|Adventure|Sci-Fi|Thriller",
         "showlegend": true,
         "type": "scattergl",
         "x": [
          -34.163856506347656,
          43.36613082885742,
          14.875425338745117,
          -39.06156921386719,
          34.6015739440918
         ],
         "xaxis": "x",
         "y": [
          5.295690059661865,
          -9.325700759887695,
          -36.1074333190918,
          1.1997137069702148,
          -31.219236373901367
         ],
         "yaxis": "y"
        },
        {
         "hovertemplate": "<b>%{hovertext}</b><br><br>color=Animation|Sci-Fi<br>0=%{x}<br>1=%{y}<extra></extra>",
         "hovertext": [
          "Ghost in the Shell (Kokaku kidotai) (1995)"
         ],
         "legendgroup": "Animation|Sci-Fi",
         "marker": {
          "color": "#FFA15A",
          "symbol": "circle"
         },
         "mode": "markers",
         "name": "Animation|Sci-Fi",
         "showlegend": true,
         "type": "scattergl",
         "x": [
          -14.23940658569336
         ],
         "xaxis": "x",
         "y": [
          12.76701831817627
         ],
         "yaxis": "y"
        },
        {
         "hovertemplate": "<b>%{hovertext}</b><br><br>color=Drama|Sci-Fi<br>0=%{x}<br>1=%{y}<extra></extra>",
         "hovertext": [
          "Contact (1997)",
          "Twelve Monkeys (1995)",
          "The Day the Earth Stood Still (1951)",
          "Until the End of the World (Bis ans Ende der Welt) (1991)"
         ],
         "legendgroup": "Drama|Sci-Fi",
         "marker": {
          "color": "#19d3f3",
          "symbol": "circle"
         },
         "mode": "markers",
         "name": "Drama|Sci-Fi",
         "showlegend": true,
         "type": "scattergl",
         "x": [
          32.03185272216797,
          -10.08361530303955,
          -45.59675216674805,
          -16.771583557128906
         ],
         "xaxis": "x",
         "y": [
          -30.05129051208496,
          24.29355239868164,
          14.658344268798828,
          15.351092338562012
         ],
         "yaxis": "y"
        },
        {
         "hovertemplate": "<b>%{hovertext}</b><br><br>color=Action<br>0=%{x}<br>1=%{y}<extra></extra>",
         "hovertext": [
          "Jackie Chan's First Strike (1996)",
          "Money Train (1995)",
          "Terminal Velocity (1994)",
          "Under Siege (1992)",
          "The Substitute (1996)",
          "Striking Distance (1993)",
          "Bad Boys (1995)",
          "Drop Zone (1994)",
          "Steel (1997)",
          "Sudden Death (1995)",
          "Under Siege 2: Dark Territory (1995)",
          "The Shadow (1994)",
          "Judgment Night (1993)",
          "Best of the Best 3: No Turning Back (1995)",
          "In the Line of Duty 2 (1987)",
          "Bird of Prey (1996)",
          "The Specialist (1994)",
          "Bulletproof (1996)",
          "Street Fighter (1994)",
          "American Strays (1996)",
          "The Stranger (1994)",
          "Metro (1997)",
          "Fair Game (1995)",
          "Double Team (1997)",
          "The Getaway (1994)",
          "Bloodsport 2 (1995)",
          "Police Story 4: Project S (Chao ji ji hua) (1993)",
          "Bad Company (1995)",
          "The Deadly Cure (1996)",
          "Coldblooded (1995)",
          "The Hunted (1995)",
          "The Shooter (1995)"
         ],
         "legendgroup": "Action",
         "marker": {
          "color": "#FF6692",
          "symbol": "circle"
         },
         "mode": "markers",
         "name": "Action",
         "showlegend": true,
         "type": "scattergl",
         "x": [
          37.18257141113281,
          45.785789489746094,
          27.566747665405273,
          -17.78250503540039,
          3.698610544204712,
          15.049734115600586,
          -4.601559638977051,
          25.782732009887695,
          29.68387222290039,
          -8.449396133422852,
          -17.90537452697754,
          23.643388748168945,
          11.152551651000977,
          -16.94350242614746,
          -20.12327003479004,
          -3.217604875564575,
          30.0380859375,
          -8.41845703125,
          37.1566162109375,
          -19.123491287231445,
          36.57664489746094,
          30.01369285583496,
          -4.561059951782227,
          23.38711929321289,
          19.864578247070312,
          -15.271530151367188,
          37.83409118652344,
          -4.467592716217041,
          -10.057519912719727,
          -1.6718857288360596,
          -5.094923496246338,
          -6.275683403015137
         ],
         "xaxis": "x",
         "y": [
          21.301015853881836,
          -14.353035926818848,
          10.054795265197754,
          3.3630599975585938,
          -20.91655921936035,
          13.363814353942871,
          10.511116027832031,
          10.685802459716797,
          -33.607215881347656,
          5.971772193908691,
          3.454843044281006,
          5.340224742889404,
          0.3754960596561432,
          -0.933621346950531,
          2.7999117374420166,
          -27.937517166137695,
          3.7494966983795166,
          -25.72896385192871,
          19.762189865112305,
          -24.481739044189453,
          -10.816919326782227,
          -32.877872467041016,
          7.827927589416504,
          -31.199037551879883,
          2.8865702152252197,
          8.265639305114746,
          26.307992935180664,
          10.52963924407959,
          -13.44427490234375,
          19.335554122924805,
          13.598331451416016,
          13.657425880432129
         ],
         "yaxis": "y"
        },
        {
         "hovertemplate": "<b>%{hovertext}</b><br><br>color=Action|Adventure|Children's|Fantasy|Sci-Fi<br>0=%{x}<br>1=%{y}<extra></extra>",
         "hovertext": [
          "Jumanji (1995)"
         ],
         "legendgroup": "Action|Adventure|Children's|Fantasy|Sci-Fi",
         "marker": {
          "color": "#B6E880",
          "symbol": "circle"
         },
         "mode": "markers",
         "name": "Action|Adventure|Children's|Fantasy|Sci-Fi",
         "showlegend": true,
         "type": "scattergl",
         "x": [
          40.946773529052734
         ],
         "xaxis": "x",
         "y": [
          -6.776717662811279
         ],
         "yaxis": "y"
        },
        {
         "hovertemplate": "<b>%{hovertext}</b><br><br>color=Film-Noir|Thriller<br>0=%{x}<br>1=%{y}<extra></extra>",
         "hovertext": [
          "Cape Fear (1962)",
          "The Manchurian Candidate (1962)",
          "Murder, My Sweet (1944)",
          "Suture (1993)"
         ],
         "legendgroup": "Film-Noir|Thriller",
         "marker": {
          "color": "#FF97FF",
          "symbol": "circle"
         },
         "mode": "markers",
         "name": "Film-Noir|Thriller",
         "showlegend": true,
         "type": "scattergl",
         "x": [
          -58.342777252197266,
          -47.60860061645508,
          -44.65843963623047,
          16.859254837036133
         ],
         "xaxis": "x",
         "y": [
          0.3248896896839142,
          6.975982666015625,
          33.793766021728516,
          11.954362869262695
         ],
         "yaxis": "y"
        },
        {
         "hovertemplate": "<b>%{hovertext}</b><br><br>color=Action|Adventure|Drama|Romance|Sci-Fi|War<br>0=%{x}<br>1=%{y}<extra></extra>",
         "hovertext": [
          "The Empire Strikes Back (1980)"
         ],
         "legendgroup": "Action|Adventure|Drama|Romance|Sci-Fi|War",
         "marker": {
          "color": "#FECB52",
          "symbol": "circle"
         },
         "mode": "markers",
         "name": "Action|Adventure|Drama|Romance|Sci-Fi|War",
         "showlegend": true,
         "type": "scattergl",
         "x": [
          -35.78688430786133
         ],
         "xaxis": "x",
         "y": [
          9.695999145507812
         ],
         "yaxis": "y"
        },
        {
         "hovertemplate": "<b>%{hovertext}</b><br><br>color=Comedy|War<br>0=%{x}<br>1=%{y}<extra></extra>",
         "hovertext": [
          "Canadian Bacon (1994)",
          "Duck Soup (1933)",
          "M*A*S*H (1970)",
          "McHale's Navy (1997)",
          "Mediterraneo (1991)",
          "Bananas (1971)",
          "In the Army Now (1994)"
         ],
         "legendgroup": "Comedy|War",
         "marker": {
          "color": "#636efa",
          "symbol": "circle"
         },
         "mode": "markers",
         "name": "Comedy|War",
         "showlegend": true,
         "type": "scattergl",
         "x": [
          -8.086170196533203,
          -51.40958786010742,
          -51.302955627441406,
          31.094472885131836,
          -18.222909927368164,
          -49.38889694213867,
          27.35492515563965
         ],
         "xaxis": "x",
         "y": [
          -40.1411247253418,
          25.067781448364258,
          2.3304860591888428,
          -20.03354835510254,
          -38.61860275268555,
          1.1801137924194336,
          0.1369277387857437
         ],
         "yaxis": "y"
        },
        {
         "hovertemplate": "<b>%{hovertext}</b><br><br>color=Comedy|Musical<br>0=%{x}<br>1=%{y}<extra></extra>",
         "hovertext": [
          "Joe's Apartment (1996)",
          "The Band Wagon (1953)",
          "The Great Race (1965)",
          "Funny Face (1957)",
          "Victor/Victoria (1982)",
          "Spice World (1997)"
         ],
         "legendgroup": "Comedy|Musical",
         "marker": {
          "color": "#EF553B",
          "symbol": "circle"
         },
         "mode": "markers",
         "name": "Comedy|Musical",
         "showlegend": true,
         "type": "scattergl",
         "x": [
          -17.608154296875,
          -49.51142120361328,
          -53.00908279418945,
          -49.702945709228516,
          -36.797088623046875,
          33.09740447998047
         ],
         "xaxis": "x",
         "y": [
          -21.035890579223633,
          20.685787200927734,
          10.034207344055176,
          14.987007141113281,
          -3.696601152420044,
          -31.93873405456543
         ],
         "yaxis": "y"
        },
        {
         "hovertemplate": "<b>%{hovertext}</b><br><br>color=Drama|Romance|War<br>0=%{x}<br>1=%{y}<extra></extra>",
         "hovertext": [
          "Casablanca (1942)",
          "Gone with the Wind (1939)",
          "The English Patient (1996)",
          "Rob Roy (1995)",
          "Colonel Chabert, Le (1994)"
         ],
         "legendgroup": "Drama|Romance|War",
         "marker": {
          "color": "#00cc96",
          "symbol": "circle"
         },
         "mode": "markers",
         "name": "Drama|Romance|War",
         "showlegend": true,
         "type": "scattergl",
         "x": [
          -45.885284423828125,
          -51.17243957519531,
          -6.09415340423584,
          -18.602005004882812,
          -27.83708953857422
         ],
         "xaxis": "x",
         "y": [
          29.30398941040039,
          27.865253448486328,
          -22.337186813354492,
          -5.943943977355957,
          -20.609758377075195
         ],
         "yaxis": "y"
        },
        {
         "hovertemplate": "<b>%{hovertext}</b><br><br>color=Action|Romance|Thriller<br>0=%{x}<br>1=%{y}<extra></extra>",
         "hovertext": [
          "The Saint (1997)",
          "Speed (1994)",
          "The Crow (1994)",
          "Desperado (1995)",
          "Tomorrow Never Dies (1997)",
          "Speed 2: Cruise Control (1997)"
         ],
         "legendgroup": "Action|Romance|Thriller",
         "marker": {
          "color": "#ab63fa",
          "symbol": "circle"
         },
         "mode": "markers",
         "name": "Action|Romance|Thriller",
         "showlegend": true,
         "type": "scattergl",
         "x": [
          27.752727508544922,
          27.539060592651367,
          24.83342742919922,
          -2.4468162059783936,
          18.03350830078125,
          27.72901725769043
         ],
         "xaxis": "x",
         "y": [
          -26.474735260009766,
          9.454961776733398,
          -6.751583576202393,
          12.586322784423828,
          -32.03135299682617,
          -44.898887634277344
         ],
         "yaxis": "y"
        },
        {
         "hovertemplate": "<b>%{hovertext}</b><br><br>color=Animation|Comedy|Thriller<br>0=%{x}<br>1=%{y}<extra></extra>",
         "hovertext": [
          "Close Shave, A (1995)"
         ],
         "legendgroup": "Animation|Comedy|Thriller",
         "marker": {
          "color": "#FFA15A",
          "symbol": "circle"
         },
         "mode": "markers",
         "name": "Animation|Comedy|Thriller",
         "showlegend": true,
         "type": "scattergl",
         "x": [
          9.915570259094238
         ],
         "xaxis": "x",
         "y": [
          14.161747932434082
         ],
         "yaxis": "y"
        },
        {
         "hovertemplate": "<b>%{hovertext}</b><br><br>color=Action|Comedy|Sci-Fi|War<br>0=%{x}<br>1=%{y}<extra></extra>",
         "hovertext": [
          "Mars Attacks! (1996)"
         ],
         "legendgroup": "Action|Comedy|Sci-Fi|War",
         "marker": {
          "color": "#19d3f3",
          "symbol": "circle"
         },
         "mode": "markers",
         "name": "Action|Comedy|Sci-Fi|War",
         "showlegend": true,
         "type": "scattergl",
         "x": [
          11.951784133911133
         ],
         "xaxis": "x",
         "y": [
          -34.23676681518555
         ],
         "yaxis": "y"
        },
        {
         "hovertemplate": "<b>%{hovertext}</b><br><br>color=Action|Crime|Drama<br>0=%{x}<br>1=%{y}<extra></extra>",
         "hovertext": [
          "The Godfather (1972)",
          "The Godfather: Part II (1974)",
          "Menace II Society (1993)",
          "Dead Presidents (1995)",
          "Lashou shentan (1992)"
         ],
         "legendgroup": "Action|Crime|Drama",
         "marker": {
          "color": "#FF6692",
          "symbol": "circle"
         },
         "mode": "markers",
         "name": "Action|Crime|Drama",
         "showlegend": true,
         "type": "scattergl",
         "x": [
          -49.505836486816406,
          -49.46586608886719,
          22.316328048706055,
          -8.364174842834473,
          -26.513301849365234
         ],
         "xaxis": "x",
         "y": [
          5.809779644012451,
          5.694972515106201,
          10.174954414367676,
          9.854570388793945,
          -23.026979446411133
         ],
         "yaxis": "y"
        },
        {
         "hovertemplate": "<b>%{hovertext}</b><br><br>color=Comedy|Romance|War<br>0=%{x}<br>1=%{y}<extra></extra>",
         "hovertext": [
          "Forrest Gump (1994)"
         ],
         "legendgroup": "Comedy|Romance|War",
         "marker": {
          "color": "#B6E880",
          "symbol": "circle"
         },
         "mode": "markers",
         "name": "Comedy|Romance|War",
         "showlegend": true,
         "type": "scattergl",
         "x": [
          30.183382034301758
         ],
         "xaxis": "x",
         "y": [
          0.19824209809303284
         ],
         "yaxis": "y"
        },
        {
         "hovertemplate": "<b>%{hovertext}</b><br><br>color=Comedy|Drama|War<br>0=%{x}<br>1=%{y}<extra></extra>",
         "hovertext": [
          "Renaissance Man (1994)",
          "To Be or Not to Be (1942)"
         ],
         "legendgroup": "Comedy|Drama|War",
         "marker": {
          "color": "#FF97FF",
          "symbol": "circle"
         },
         "mode": "markers",
         "name": "Comedy|Drama|War",
         "showlegend": true,
         "type": "scattergl",
         "x": [
          14.754361152648926,
          -45.62321853637695
         ],
         "xaxis": "x",
         "y": [
          3.603858470916748,
          31.13637351989746
         ],
         "yaxis": "y"
        },
        {
         "hovertemplate": "<b>%{hovertext}</b><br><br>color=Adventure|Animation|Children's|Musical<br>0=%{x}<br>1=%{y}<extra></extra>",
         "hovertext": [
          "Pete's Dragon (1977)"
         ],
         "legendgroup": "Adventure|Animation|Children's|Musical",
         "marker": {
          "color": "#FECB52",
          "symbol": "circle"
         },
         "mode": "markers",
         "name": "Adventure|Animation|Children's|Musical",
         "showlegend": true,
         "type": "scattergl",
         "x": [
          -37.72696304321289
         ],
         "xaxis": "x",
         "y": [
          14.323637008666992
         ],
         "yaxis": "y"
        },
        {
         "hovertemplate": "<b>%{hovertext}</b><br><br>color=Drama|Musical|War<br>0=%{x}<br>1=%{y}<extra></extra>",
         "hovertext": [
          "Pink Floyd - The Wall (1982)"
         ],
         "legendgroup": "Drama|Musical|War",
         "marker": {
          "color": "#636efa",
          "symbol": "circle"
         },
         "mode": "markers",
         "name": "Drama|Musical|War",
         "showlegend": true,
         "type": "scattergl",
         "x": [
          -34.0723876953125
         ],
         "xaxis": "x",
         "y": [
          -0.8572232723236084
         ],
         "yaxis": "y"
        },
        {
         "hovertemplate": "<b>%{hovertext}</b><br><br>color=Comedy|Sci-Fi<br>0=%{x}<br>1=%{y}<extra></extra>",
         "hovertext": [
          "Mystery Science Theater 3000: The Movie (1996)",
          "Delicatessen (1991)",
          "Back to the Future (1985)",
          "Coneheads (1993)",
          "Sleeper (1973)",
          "Junior (1994)",
          "The Visitors (1993)"
         ],
         "legendgroup": "Comedy|Sci-Fi",
         "marker": {
          "color": "#EF553B",
          "symbol": "circle"
         },
         "mode": "markers",
         "name": "Comedy|Sci-Fi",
         "showlegend": true,
         "type": "scattergl",
         "x": [
          -14.116830825805664,
          -18.259511947631836,
          -30.439603805541992,
          24.245399475097656,
          5.874288558959961,
          32.62910079956055,
          18.04196548461914
         ],
         "xaxis": "x",
         "y": [
          -23.15677833557129,
          -38.62446975708008,
          5.591645240783691,
          1.2080825567245483,
          30.308515548706055,
          7.575342655181885,
          6.51346492767334
         ],
         "yaxis": "y"
        },
        {
         "hovertemplate": "<b>%{hovertext}</b><br><br>color=Children's|Comedy|Drama<br>0=%{x}<br>1=%{y}<extra></extra>",
         "hovertext": [
          "Pollyanna (1960)",
          "Babe (1995)"
         ],
         "legendgroup": "Children's|Comedy|Drama",
         "marker": {
          "color": "#00cc96",
          "symbol": "circle"
         },
         "mode": "markers",
         "name": "Children's|Comedy|Drama",
         "showlegend": true,
         "type": "scattergl",
         "x": [
          -58.44414138793945,
          6.72209358215332
         ],
         "xaxis": "x",
         "y": [
          15.934694290161133,
          23.038740158081055
         ],
         "yaxis": "y"
        },
        {
         "hovertemplate": "<b>%{hovertext}</b><br><br>color=Action|Drama<br>0=%{x}<br>1=%{y}<extra></extra>",
         "hovertext": [
          "Mad City (1997)",
          "Perfect World, A (1993)",
          "Palookaville (1996)",
          "The Program (1993)",
          "Marked for Death (1990)",
          "Romper Stomper (1992)",
          "Target (1995)",
          "Johnny 100 Pesos (1993)",
          "Men With Guns (1997)",
          "Tokyo Fist (1995)",
          "Men of Means (1998)"
         ],
         "legendgroup": "Action|Drama",
         "marker": {
          "color": "#ab63fa",
          "symbol": "circle"
         },
         "mode": "markers",
         "name": "Action|Drama",
         "showlegend": true,
         "type": "scattergl",
         "x": [
          30.128684997558594,
          46.638519287109375,
          -11.053522109985352,
          22.33551597595215,
          -11.279959678649902,
          -16.365373611450195,
          2.390620470046997,
          31.760643005371094,
          16.73200225830078,
          -15.485628128051758,
          15.8273344039917
         ],
         "xaxis": "x",
         "y": [
          -32.4151496887207,
          -20.111204147338867,
          -31.284332275390625,
          12.719971656799316,
          6.25312614440918,
          -9.583008766174316,
          14.36766242980957,
          31.02776527404785,
          -28.800493240356445,
          7.468729496002197,
          -27.607393264770508
         ],
         "yaxis": "y"
        },
        {
         "hovertemplate": "<b>%{hovertext}</b><br><br>color=Action|Crime|Mystery<br>0=%{x}<br>1=%{y}<extra></extra>",
         "hovertext": [
          "U Turn (1997)"
         ],
         "legendgroup": "Action|Crime|Mystery",
         "marker": {
          "color": "#FFA15A",
          "symbol": "circle"
         },
         "mode": "markers",
         "name": "Action|Crime|Mystery",
         "showlegend": true,
         "type": "scattergl",
         "x": [
          32.982025146484375
         ],
         "xaxis": "x",
         "y": [
          -27.030738830566406
         ],
         "yaxis": "y"
        },
        {
         "hovertemplate": "<b>%{hovertext}</b><br><br>color=Film-Noir|Sci-Fi<br>0=%{x}<br>1=%{y}<extra></extra>",
         "hovertext": [
          "Blade Runner (1982)"
         ],
         "legendgroup": "Film-Noir|Sci-Fi",
         "marker": {
          "color": "#19d3f3",
          "symbol": "circle"
         },
         "mode": "markers",
         "name": "Film-Noir|Sci-Fi",
         "showlegend": true,
         "type": "scattergl",
         "x": [
          -32.365013122558594
         ],
         "xaxis": "x",
         "y": [
          6.945835590362549
         ],
         "yaxis": "y"
        },
        {
         "hovertemplate": "<b>%{hovertext}</b><br><br>color=Adventure|Children's|Fantasy|Sci-Fi<br>0=%{x}<br>1=%{y}<extra></extra>",
         "hovertext": [
          "20,000 Leagues Under the Sea (1954)",
          "Star Kid (1997)"
         ],
         "legendgroup": "Adventure|Children's|Fantasy|Sci-Fi",
         "marker": {
          "color": "#FF6692",
          "symbol": "circle"
         },
         "mode": "markers",
         "name": "Adventure|Children's|Fantasy|Sci-Fi",
         "showlegend": true,
         "type": "scattergl",
         "x": [
          -63.429542541503906,
          11.1657075881958
         ],
         "xaxis": "x",
         "y": [
          20.572511672973633,
          -24.966283798217773
         ],
         "yaxis": "y"
        },
        {
         "hovertemplate": "<b>%{hovertext}</b><br><br>color=Action|Adventure|Crime<br>0=%{x}<br>1=%{y}<extra></extra>",
         "hovertext": [
          "Cliffhanger (1993)",
          "Rumble in the Bronx (1995)",
          "Batman & Robin (1997)"
         ],
         "legendgroup": "Action|Adventure|Crime",
         "marker": {
          "color": "#B6E880",
          "symbol": "circle"
         },
         "mode": "markers",
         "name": "Action|Adventure|Crime",
         "showlegend": true,
         "type": "scattergl",
         "x": [
          14.070869445800781,
          -2.6312146186828613,
          20.78394889831543
         ],
         "xaxis": "x",
         "y": [
          10.97004222869873,
          1.9145910739898682,
          -32.46488571166992
         ],
         "yaxis": "y"
        },
        {
         "hovertemplate": "<b>%{hovertext}</b><br><br>color=Romance<br>0=%{x}<br>1=%{y}<extra></extra>",
         "hovertext": [
          "Love Jones (1997)",
          "Touch (1997)",
          "Kissed (1996)",
          "Jack and Sarah (1995)",
          "Swept from the Sea (1997)",
          "Kama Sutra: A Tale of Love (1996)",
          "Modern Affair, A (1995)",
          "City of Angels (1998)",
          "Walking and Talking (1996)",
          "Affair to Remember, An (1957)",
          "Persuasion (1995)",
          "Mrs. Dalloway (1997)",
          "The Tango Lesson (1997)",
          "Hugo Pool (1997)",
          "1-900 (1994)",
          "Fall (1997)",
          "Love and Other Catastrophes (1996)",
          "Shooting Fish (1997)",
          "The Promise (1994)",
          "Liebelei (1933)",
          "Commandments (1997)",
          "The Crude Oasis (1995)",
          "The Leading Man (1996)",
          "Temptress Moon (Feng Yue) (1996)"
         ],
         "legendgroup": "Romance",
         "marker": {
          "color": "#FF97FF",
          "symbol": "circle"
         },
         "mode": "markers",
         "name": "Romance",
         "showlegend": true,
         "type": "scattergl",
         "x": [
          48.08219909667969,
          31.798099517822266,
          7.636946678161621,
          11.783330917358398,
          30.186145782470703,
          10.449137687683105,
          13.1973237991333,
          23.864215850830078,
          6.8004150390625,
          -54.41496276855469,
          3.419215440750122,
          7.802465438842773,
          25.11164665222168,
          41.075096130371094,
          33.65370559692383,
          35.562896728515625,
          14.16185188293457,
          28.18695068359375,
          18.65593719482422,
          -56.82927703857422,
          26.052583694458008,
          2.183685064315796,
          7.468518257141113,
          -14.727251052856445
         ],
         "xaxis": "x",
         "y": [
          2.536851644515991,
          -29.961959838867188,
          -9.183359146118164,
          33.981285095214844,
          -19.269044876098633,
          -8.164243698120117,
          -5.096956253051758,
          -7.867344379425049,
          -3.689856767654419,
          19.924697875976562,
          11.7675142288208,
          -38.28801727294922,
          -29.77932357788086,
          -29.912521362304688,
          8.598844528198242,
          -30.58820915222168,
          -9.633191108703613,
          -17.593050003051758,
          -0.7474679946899414,
          29.236709594726562,
          -25.46603012084961,
          22.61739730834961,
          -27.337703704833984,
          -13.133671760559082
         ],
         "yaxis": "y"
        },
        {
         "hovertemplate": "<b>%{hovertext}</b><br><br>color=Crime|Thriller<br>0=%{x}<br>1=%{y}<extra></extra>",
         "hovertext": [
          "Seven (Se7en) (1995)",
          "The Usual Suspects (1995)",
          "Reservoir Dogs (1992)",
          "Purple Noon (1960)",
          "Romeo Is Bleeding (1993)",
          "Red Corner (1997)",
          "Incognito (1997)",
          "Playing God (1997)",
          "Albino Alligator (1996)",
          "Hard Eight (1996)",
          "City of Industry (1997)"
         ],
         "legendgroup": "Crime|Thriller",
         "marker": {
          "color": "#FECB52",
          "symbol": "circle"
         },
         "mode": "markers",
         "name": "Crime|Thriller",
         "showlegend": true,
         "type": "scattergl",
         "x": [
          -39.01319122314453,
          -7.497057914733887,
          -15.693467140197754,
          -50.81523132324219,
          -2.281376600265503,
          24.236881256103516,
          28.88994026184082,
          25.503040313720703,
          -8.555744171142578,
          6.548374652862549,
          -0.7108005285263062
         ],
         "xaxis": "x",
         "y": [
          19.605995178222656,
          12.455360412597656,
          1.841561198234558,
          19.064722061157227,
          -8.35197639465332,
          28.245859146118164,
          -29.23019790649414,
          -25.789508819580078,
          -29.270008087158203,
          -48.515419006347656,
          -34.54035949707031
         ],
         "yaxis": "y"
        },
        {
         "hovertemplate": "<b>%{hovertext}</b><br><br>color=Adventure|War<br>0=%{x}<br>1=%{y}<extra></extra>",
         "hovertext": [
          "The Great Escape (1963)",
          "Lawrence of Arabia (1962)",
          "For Whom the Bell Tolls (1943)"
         ],
         "legendgroup": "Adventure|War",
         "marker": {
          "color": "#636efa",
          "symbol": "circle"
         },
         "mode": "markers",
         "name": "Adventure|War",
         "showlegend": true,
         "type": "scattergl",
         "x": [
          -52.553794860839844,
          -49.9219856262207,
          -47.295257568359375
         ],
         "xaxis": "x",
         "y": [
          9.220739364624023,
          8.96193790435791,
          27.537151336669922
         ],
         "yaxis": "y"
        },
        {
         "hovertemplate": "<b>%{hovertext}</b><br><br>color=Animation|Comedy<br>0=%{x}<br>1=%{y}<extra></extra>",
         "hovertext": [
          "Grand Day Out, A (1992)",
          "The Wrong Trousers (1993)",
          "Beavis and Butt-head Do America (1996)"
         ],
         "legendgroup": "Animation|Comedy",
         "marker": {
          "color": "#EF553B",
          "symbol": "circle"
         },
         "mode": "markers",
         "name": "Animation|Comedy",
         "showlegend": true,
         "type": "scattergl",
         "x": [
          1.7865495681762695,
          -10.134529113769531,
          17.606603622436523
         ],
         "xaxis": "x",
         "y": [
          -12.138479232788086,
          -21.192668914794922,
          -14.037460327148438
         ],
         "yaxis": "y"
        },
        {
         "hovertemplate": "<b>%{hovertext}</b><br><br>color=Film-Noir|Mystery<br>0=%{x}<br>1=%{y}<extra></extra>",
         "hovertext": [
          "The Maltese Falcon (1941)",
          "The Big Sleep (1946)"
         ],
         "legendgroup": "Film-Noir|Mystery",
         "marker": {
          "color": "#00cc96",
          "symbol": "circle"
         },
         "mode": "markers",
         "name": "Film-Noir|Mystery",
         "showlegend": true,
         "type": "scattergl",
         "x": [
          -45.96070861816406,
          -43.58219909667969
         ],
         "xaxis": "x",
         "y": [
          29.26675033569336,
          29.544513702392578
         ],
         "yaxis": "y"
        },
        {
         "hovertemplate": "<b>%{hovertext}</b><br><br>color=Action|Horror|Sci-Fi<br>0=%{x}<br>1=%{y}<extra></extra>",
         "hovertext": [
          "Alien: Resurrection (1997)",
          "Hellraiser: Bloodline (1996)",
          "Deep Rising (1998)"
         ],
         "legendgroup": "Action|Horror|Sci-Fi",
         "marker": {
          "color": "#ab63fa",
          "symbol": "circle"
         },
         "mode": "markers",
         "name": "Action|Horror|Sci-Fi",
         "showlegend": true,
         "type": "scattergl",
         "x": [
          23.979494094848633,
          -9.951215744018555,
          23.24292755126953
         ],
         "xaxis": "x",
         "y": [
          -33.80791091918945,
          -11.078839302062988,
          -13.314712524414062
         ],
         "yaxis": "y"
        },
        {
         "hovertemplate": "<b>%{hovertext}</b><br><br>color=Drama|Mystery<br>0=%{x}<br>1=%{y}<extra></extra>",
         "hovertext": [
          "Amadeus (1984)",
          "The Hour of the Pig (1993)",
          "Six Degrees of Separation (1993)",
          "Before and After (1996)",
          "Lone Star (1996)"
         ],
         "legendgroup": "Drama|Mystery",
         "marker": {
          "color": "#FFA15A",
          "symbol": "circle"
         },
         "mode": "markers",
         "name": "Drama|Mystery",
         "showlegend": true,
         "type": "scattergl",
         "x": [
          -41.56124496459961,
          29.651931762695312,
          15.133302688598633,
          3.290402889251709,
          3.4998929500579834
         ],
         "xaxis": "x",
         "y": [
          -3.40842604637146,
          32.738590240478516,
          13.702773094177246,
          -29.881662368774414,
          -26.60820198059082
         ],
         "yaxis": "y"
        },
        {
         "hovertemplate": "<b>%{hovertext}</b><br><br>color=Action|Horror|Sci-Fi|Thriller<br>0=%{x}<br>1=%{y}<extra></extra>",
         "hovertext": [
          "Alien (1979)",
          "Alien 3 (1992)"
         ],
         "legendgroup": "Action|Horror|Sci-Fi|Thriller",
         "marker": {
          "color": "#19d3f3",
          "symbol": "circle"
         },
         "mode": "markers",
         "name": "Action|Horror|Sci-Fi|Thriller",
         "showlegend": true,
         "type": "scattergl",
         "x": [
          -39.04603576660156,
          -25.221208572387695
         ],
         "xaxis": "x",
         "y": [
          6.998326778411865,
          8.576565742492676
         ],
         "yaxis": "y"
        },
        {
         "hovertemplate": "<b>%{hovertext}</b><br><br>color=Action|Thriller|War<br>0=%{x}<br>1=%{y}<extra></extra>",
         "hovertext": [
          "The Peacemaker (1997)"
         ],
         "legendgroup": "Action|Thriller|War",
         "marker": {
          "color": "#FF6692",
          "symbol": "circle"
         },
         "mode": "markers",
         "name": "Action|Thriller|War",
         "showlegend": true,
         "type": "scattergl",
         "x": [
          23.21056365966797
         ],
         "xaxis": "x",
         "y": [
          -24.762155532836914
         ],
         "yaxis": "y"
        },
        {
         "hovertemplate": "<b>%{hovertext}</b><br><br>color=Action|Adventure|Sci-Fi|War<br>0=%{x}<br>1=%{y}<extra></extra>",
         "hovertext": [
          "Starship Troopers (1997)"
         ],
         "legendgroup": "Action|Adventure|Sci-Fi|War",
         "marker": {
          "color": "#B6E880",
          "symbol": "circle"
         },
         "mode": "markers",
         "name": "Action|Adventure|Sci-Fi|War",
         "showlegend": true,
         "type": "scattergl",
         "x": [
          24.03607177734375
         ],
         "xaxis": "x",
         "y": [
          -34.71547317504883
         ],
         "yaxis": "y"
        },
        {
         "hovertemplate": "<b>%{hovertext}</b><br><br>color=Adventure|Children's|Fantasy<br>0=%{x}<br>1=%{y}<extra></extra>",
         "hovertext": [
          "The Indian in the Cupboard (1995)",
          "Escape to Witch Mountain (1975)"
         ],
         "legendgroup": "Adventure|Children's|Fantasy",
         "marker": {
          "color": "#FF97FF",
          "symbol": "circle"
         },
         "mode": "markers",
         "name": "Adventure|Children's|Fantasy",
         "showlegend": true,
         "type": "scattergl",
         "x": [
          2.1677310466766357,
          -40.45703125
         ],
         "xaxis": "x",
         "y": [
          28.90474510192871,
          0.9261713027954102
         ],
         "yaxis": "y"
        },
        {
         "hovertemplate": "<b>%{hovertext}</b><br><br>color=Sci-Fi<br>0=%{x}<br>1=%{y}<extra></extra>",
         "hovertext": [
          "Brazil (1985)",
          "Clockwork Orange, A (1971)",
          "Species (1995)",
          "Screamers (1995)",
          "Forbidden Planet (1956)",
          "Tetsuo II: Body Hammer (1992)",
          "Alphaville (1965)"
         ],
         "legendgroup": "Sci-Fi",
         "marker": {
          "color": "#FECB52",
          "symbol": "circle"
         },
         "mode": "markers",
         "name": "Sci-Fi",
         "showlegend": true,
         "type": "scattergl",
         "x": [
          -5.071178913116455,
          -47.661048889160156,
          -1.3847061395645142,
          -14.04806137084961,
          -46.18722152709961,
          -16.419147491455078,
          -56.45806121826172
         ],
         "xaxis": "x",
         "y": [
          26.6572322845459,
          0.8323489427566528,
          22.635730743408203,
          17.03812026977539,
          14.905588150024414,
          7.004506587982178,
          9.448927879333496
         ],
         "yaxis": "y"
        },
        {
         "hovertemplate": "<b>%{hovertext}</b><br><br>color=Drama|Fantasy|Thriller<br>0=%{x}<br>1=%{y}<extra></extra>",
         "hovertext": [
          "Heavenly Creatures (1994)"
         ],
         "legendgroup": "Drama|Fantasy|Thriller",
         "marker": {
          "color": "#636efa",
          "symbol": "circle"
         },
         "mode": "markers",
         "name": "Drama|Fantasy|Thriller",
         "showlegend": true,
         "type": "scattergl",
         "x": [
          18.88577651977539
         ],
         "xaxis": "x",
         "y": [
          18.041763305664062
         ],
         "yaxis": "y"
        },
        {
         "hovertemplate": "<b>%{hovertext}</b><br><br>color=Adventure|Animation|Sci-Fi|Thriller<br>0=%{x}<br>1=%{y}<extra></extra>",
         "hovertext": [
          "Akira (1988)"
         ],
         "legendgroup": "Adventure|Animation|Sci-Fi|Thriller",
         "marker": {
          "color": "#EF553B",
          "symbol": "circle"
         },
         "mode": "markers",
         "name": "Adventure|Animation|Sci-Fi|Thriller",
         "showlegend": true,
         "type": "scattergl",
         "x": [
          -32.67802810668945
         ],
         "xaxis": "x",
         "y": [
          4.355483055114746
         ],
         "yaxis": "y"
        },
        {
         "hovertemplate": "<b>%{hovertext}</b><br><br>color=Comedy|Romance|Thriller<br>0=%{x}<br>1=%{y}<extra></extra>",
         "hovertext": [
          "Ghost (1990)",
          "So I Married an Axe Murderer (1993)",
          "To Catch a Thief (1955)"
         ],
         "legendgroup": "Comedy|Romance|Thriller",
         "marker": {
          "color": "#00cc96",
          "symbol": "circle"
         },
         "mode": "markers",
         "name": "Comedy|Romance|Thriller",
         "showlegend": true,
         "type": "scattergl",
         "x": [
          -18.513444900512695,
          -8.062936782836914,
          -47.21353530883789
         ],
         "xaxis": "x",
         "y": [
          10.481529235839844,
          2.0413248538970947,
          22.850255966186523
         ],
         "yaxis": "y"
        },
        {
         "hovertemplate": "<b>%{hovertext}</b><br><br>color=Action|Sci-Fi<br>0=%{x}<br>1=%{y}<extra></extra>",
         "hovertext": [
          "The Fifth Element (1997)",
          "Demolition Man (1993)",
          "Timecop (1994)",
          "No Escape (1994)",
          "Barb Wire (1996)",
          "Highlander III: The Sorcerer (1994)"
         ],
         "legendgroup": "Action|Sci-Fi",
         "marker": {
          "color": "#ab63fa",
          "symbol": "circle"
         },
         "mode": "markers",
         "name": "Action|Sci-Fi",
         "showlegend": true,
         "type": "scattergl",
         "x": [
          16.204322814941406,
          -22.625572204589844,
          -7.793872356414795,
          21.337467193603516,
          -10.846160888671875,
          -27.96864891052246
         ],
         "xaxis": "x",
         "y": [
          -31.249937057495117,
          8.06319808959961,
          19.826839447021484,
          1.979849934577942,
          -24.688730239868164,
          8.133584022521973
         ],
         "yaxis": "y"
        },
        {
         "hovertemplate": "<b>%{hovertext}</b><br><br>color=Crime|Film-Noir|Thriller<br>0=%{x}<br>1=%{y}<extra></extra>",
         "hovertext": [
          "Mulholland Falls (1996)",
          "Touch of Evil (1958)",
          "M (1931)",
          "He Walked by Night (1948)"
         ],
         "legendgroup": "Crime|Film-Noir|Thriller",
         "marker": {
          "color": "#FFA15A",
          "symbol": "circle"
         },
         "mode": "markers",
         "name": "Crime|Film-Noir|Thriller",
         "showlegend": true,
         "type": "scattergl",
         "x": [
          3.824544906616211,
          -44.69184494018555,
          -43.792991638183594,
          -50.16450119018555
         ],
         "xaxis": "x",
         "y": [
          -18.66281509399414,
          17.907756805419922,
          35.74869155883789,
          23.09576988220215
         ],
         "yaxis": "y"
        },
        {
         "hovertemplate": "<b>%{hovertext}</b><br><br>color=Action|Comedy|Musical<br>0=%{x}<br>1=%{y}<extra></extra>",
         "hovertext": [
          "The Blues Brothers (1980)",
          "Blues Brothers 2000 (1998)"
         ],
         "legendgroup": "Action|Comedy|Musical",
         "marker": {
          "color": "#19d3f3",
          "symbol": "circle"
         },
         "mode": "markers",
         "name": "Action|Comedy|Musical",
         "showlegend": true,
         "type": "scattergl",
         "x": [
          -27.902246475219727,
          -27.752138137817383
         ],
         "xaxis": "x",
         "y": [
          -2.294823169708252,
          -2.3945231437683105
         ],
         "yaxis": "y"
        },
        {
         "hovertemplate": "<b>%{hovertext}</b><br><br>color=Action|Sci-Fi|Thriller|War<br>0=%{x}<br>1=%{y}<extra></extra>",
         "hovertext": [
          "Aliens (1986)"
         ],
         "legendgroup": "Action|Sci-Fi|Thriller|War",
         "marker": {
          "color": "#FF6692",
          "symbol": "circle"
         },
         "mode": "markers",
         "name": "Action|Sci-Fi|Thriller|War",
         "showlegend": true,
         "type": "scattergl",
         "x": [
          -31.983469009399414
         ],
         "xaxis": "x",
         "y": [
          5.580833435058594
         ],
         "yaxis": "y"
        },
        {
         "hovertemplate": "<b>%{hovertext}</b><br><br>color=Action|Comedy<br>0=%{x}<br>1=%{y}<extra></extra>",
         "hovertext": [
          "Low Down Dirty Shame, A (1994)",
          "I Love Trouble (1994)",
          "Beverly Hills Ninja (1997)",
          "Money Talks (1997)",
          "The Cowboy Way (1994)",
          "Last Action Hero (1993)",
          "The Jerky Boys (1994)",
          "Beverly Hills Cop III (1994)"
         ],
         "legendgroup": "Action|Comedy",
         "marker": {
          "color": "#B6E880",
          "symbol": "circle"
         },
         "mode": "markers",
         "name": "Action|Comedy",
         "showlegend": true,
         "type": "scattergl",
         "x": [
          30.10849952697754,
          17.258575439453125,
          19.8138370513916,
          44.55855178833008,
          34.026004791259766,
          -23.80066680908203,
          -10.029681205749512,
          -23.96596908569336
         ],
         "xaxis": "x",
         "y": [
          -2.7688918113708496,
          -5.153787612915039,
          -32.88795471191406,
          -15.238566398620605,
          -2.4218099117279053,
          5.510497093200684,
          -39.14534378051758,
          8.741851806640625
         ],
         "yaxis": "y"
        },
        {
         "hovertemplate": "<b>%{hovertext}</b><br><br>color=Adventure|Children's|Drama<br>0=%{x}<br>1=%{y}<extra></extra>",
         "hovertext": [
          "Free Willy (1993)",
          "Free Willy 3: The Rescue (1997)",
          "Free Willy 2: The Adventure Home (1995)",
          "Buddy (1997)"
         ],
         "legendgroup": "Adventure|Children's|Drama",
         "marker": {
          "color": "#FF97FF",
          "symbol": "circle"
         },
         "mode": "markers",
         "name": "Adventure|Children's|Drama",
         "showlegend": true,
         "type": "scattergl",
         "x": [
          26.22644805908203,
          26.240625381469727,
          26.104366302490234,
          30.760229110717773
         ],
         "xaxis": "x",
         "y": [
          39.4042854309082,
          39.43280792236328,
          39.41636657714844,
          -30.24887466430664
         ],
         "yaxis": "y"
        },
        {
         "hovertemplate": "<b>%{hovertext}</b><br><br>color=Action|Drama|Romance|War<br>0=%{x}<br>1=%{y}<extra></extra>",
         "hovertext": [
          "The Crying Game (1992)"
         ],
         "legendgroup": "Action|Drama|Romance|War",
         "marker": {
          "color": "#FECB52",
          "symbol": "circle"
         },
         "mode": "markers",
         "name": "Action|Drama|Romance|War",
         "showlegend": true,
         "type": "scattergl",
         "x": [
          -14.334490776062012
         ],
         "xaxis": "x",
         "y": [
          -2.0909266471862793
         ],
         "yaxis": "y"
        },
        {
         "hovertemplate": "<b>%{hovertext}</b><br><br>color=Adventure|Drama|Western<br>0=%{x}<br>1=%{y}<extra></extra>",
         "hovertext": [
          "Dances with Wolves (1990)"
         ],
         "legendgroup": "Adventure|Drama|Western",
         "marker": {
          "color": "#636efa",
          "symbol": "circle"
         },
         "mode": "markers",
         "name": "Adventure|Drama|Western",
         "showlegend": true,
         "type": "scattergl",
         "x": [
          30.072162628173828
         ],
         "xaxis": "x",
         "y": [
          -6.077342987060547
         ],
         "yaxis": "y"
        },
        {
         "hovertemplate": "<b>%{hovertext}</b><br><br>color=Action|Comedy|Crime|Horror|Thriller<br>0=%{x}<br>1=%{y}<extra></extra>",
         "hovertext": [
          "From Dusk Till Dawn (1996)"
         ],
         "legendgroup": "Action|Comedy|Crime|Horror|Thriller",
         "marker": {
          "color": "#EF553B",
          "symbol": "circle"
         },
         "mode": "markers",
         "name": "Action|Comedy|Crime|Horror|Thriller",
         "showlegend": true,
         "type": "scattergl",
         "x": [
          2.0224056243896484
         ],
         "xaxis": "x",
         "y": [
          -15.88388442993164
         ],
         "yaxis": "y"
        },
        {
         "hovertemplate": "<b>%{hovertext}</b><br><br>color=Action|Comedy|War<br>0=%{x}<br>1=%{y}<extra></extra>",
         "hovertext": [
          "Hot Shots! Part Deux (1993)"
         ],
         "legendgroup": "Action|Comedy|War",
         "marker": {
          "color": "#00cc96",
          "symbol": "circle"
         },
         "mode": "markers",
         "name": "Action|Comedy|War",
         "showlegend": true,
         "type": "scattergl",
         "x": [
          -21.22466468811035
         ],
         "xaxis": "x",
         "y": [
          -0.9747501611709595
         ],
         "yaxis": "y"
        },
        {
         "hovertemplate": "<b>%{hovertext}</b><br><br>color=Horror|Romance<br>0=%{x}<br>1=%{y}<extra></extra>",
         "hovertext": [
          "Bram Stoker's Dracula (1992)"
         ],
         "legendgroup": "Horror|Romance",
         "marker": {
          "color": "#ab63fa",
          "symbol": "circle"
         },
         "mode": "markers",
         "name": "Horror|Romance",
         "showlegend": true,
         "type": "scattergl",
         "x": [
          -24.429821014404297
         ],
         "xaxis": "x",
         "y": [
          28.8541316986084
         ],
         "yaxis": "y"
        },
        {
         "hovertemplate": "<b>%{hovertext}</b><br><br>color=Action|Comedy|Musical|Sci-Fi<br>0=%{x}<br>1=%{y}<extra></extra>",
         "hovertext": [
          "Tank Girl (1995)"
         ],
         "legendgroup": "Action|Comedy|Musical|Sci-Fi",
         "marker": {
          "color": "#FFA15A",
          "symbol": "circle"
         },
         "mode": "markers",
         "name": "Action|Comedy|Musical|Sci-Fi",
         "showlegend": true,
         "type": "scattergl",
         "x": [
          -13.64963150024414
         ],
         "xaxis": "x",
         "y": [
          12.837234497070312
         ],
         "yaxis": "y"
        },
        {
         "hovertemplate": "<b>%{hovertext}</b><br><br>color=Action|Mystery|Thriller<br>0=%{x}<br>1=%{y}<extra></extra>",
         "hovertext": [
          "Fallen (1998)",
          "Power 98 (1995)"
         ],
         "legendgroup": "Action|Mystery|Thriller",
         "marker": {
          "color": "#19d3f3",
          "symbol": "circle"
         },
         "mode": "markers",
         "name": "Action|Mystery|Thriller",
         "showlegend": true,
         "type": "scattergl",
         "x": [
          20.806459426879883,
          21.508554458618164
         ],
         "xaxis": "x",
         "y": [
          -14.155360221862793,
          -20.57029914855957
         ],
         "yaxis": "y"
        },
        {
         "hovertemplate": "<b>%{hovertext}</b><br><br>color=Horror|Romance|Thriller<br>0=%{x}<br>1=%{y}<extra></extra>",
         "hovertext": [
          "Psycho (1960)"
         ],
         "legendgroup": "Horror|Romance|Thriller",
         "marker": {
          "color": "#FF6692",
          "symbol": "circle"
         },
         "mode": "markers",
         "name": "Horror|Romance|Thriller",
         "showlegend": true,
         "type": "scattergl",
         "x": [
          -52.939857482910156
         ],
         "xaxis": "x",
         "y": [
          13.026314735412598
         ],
         "yaxis": "y"
        },
        {
         "hovertemplate": "<b>%{hovertext}</b><br><br>color=Action|Romance<br>0=%{x}<br>1=%{y}<extra></extra>",
         "hovertext": [
          "Days of Thunder (1990)",
          "Top Gun (1986)"
         ],
         "legendgroup": "Action|Romance",
         "marker": {
          "color": "#B6E880",
          "symbol": "circle"
         },
         "mode": "markers",
         "name": "Action|Romance",
         "showlegend": true,
         "type": "scattergl",
         "x": [
          -3.1555793285369873,
          -31.01055908203125
         ],
         "xaxis": "x",
         "y": [
          -3.3762519359588623,
          3.5233685970306396
         ],
         "yaxis": "y"
        },
        {
         "hovertemplate": "<b>%{hovertext}</b><br><br>color=Action|Adventure|Comedy|Horror|Sci-Fi<br>0=%{x}<br>1=%{y}<extra></extra>",
         "hovertext": [
          "Army of Darkness (1993)"
         ],
         "legendgroup": "Action|Adventure|Comedy|Horror|Sci-Fi",
         "marker": {
          "color": "#FF97FF",
          "symbol": "circle"
         },
         "mode": "markers",
         "name": "Action|Adventure|Comedy|Horror|Sci-Fi",
         "showlegend": true,
         "type": "scattergl",
         "x": [
          -24.583053588867188
         ],
         "xaxis": "x",
         "y": [
          22.671661376953125
         ],
         "yaxis": "y"
        },
        {
         "hovertemplate": "<b>%{hovertext}</b><br><br>color=Action|Adventure|Drama|Romance<br>0=%{x}<br>1=%{y}<extra></extra>",
         "hovertext": [
          "First Knight (1995)"
         ],
         "legendgroup": "Action|Adventure|Drama|Romance",
         "marker": {
          "color": "#FECB52",
          "symbol": "circle"
         },
         "mode": "markers",
         "name": "Action|Adventure|Drama|Romance",
         "showlegend": true,
         "type": "scattergl",
         "x": [
          -19.156816482543945
         ],
         "xaxis": "x",
         "y": [
          18.625686645507812
         ],
         "yaxis": "y"
        },
        {
         "hovertemplate": "<b>%{hovertext}</b><br><br>color=Western<br>0=%{x}<br>1=%{y}<extra></extra>",
         "hovertext": [
          "Dead Man (1995)",
          "High Noon (1952)",
          "The Wild Bunch (1969)",
          "Unforgiven (1992)",
          "Tombstone (1993)",
          "Wild Bill (1995)",
          "Wyatt Earp (1994)",
          "Davy Crockett, King of the Wild Frontier (1955)",
          "Once Upon a Time in the West (1969)",
          "Bad Girls (1994)",
          "The Outlaw (1943)",
          "Angel and the Badman (1947)",
          "Terror in a Texas Town (1958)"
         ],
         "legendgroup": "Western",
         "marker": {
          "color": "#636efa",
          "symbol": "circle"
         },
         "mode": "markers",
         "name": "Western",
         "showlegend": true,
         "type": "scattergl",
         "x": [
          -9.254307746887207,
          -50.74253463745117,
          -40.97625732421875,
          -15.626648902893066,
          14.794772148132324,
          -3.337519407272339,
          33.539154052734375,
          -39.99485397338867,
          -41.98772430419922,
          2.4073596000671387,
          -45.573875427246094,
          -40.26572799682617,
          -44.03665542602539
         ],
         "xaxis": "x",
         "y": [
          8.696236610412598,
          19.038429260253906,
          24.115955352783203,
          3.084329128265381,
          9.70657730102539,
          12.242269515991211,
          -1.1433042287826538,
          22.844018936157227,
          23.80479621887207,
          -3.2354166507720947,
          26.367332458496094,
          30.627668380737305,
          18.215654373168945
         ],
         "yaxis": "y"
        },
        {
         "hovertemplate": "<b>%{hovertext}</b><br><br>color=Crime|Film-Noir|Mystery<br>0=%{x}<br>1=%{y}<extra></extra>",
         "hovertext": [
          "Laura (1944)"
         ],
         "legendgroup": "Crime|Film-Noir|Mystery",
         "marker": {
          "color": "#EF553B",
          "symbol": "circle"
         },
         "mode": "markers",
         "name": "Crime|Film-Noir|Mystery",
         "showlegend": true,
         "type": "scattergl",
         "x": [
          -49.04277038574219
         ],
         "xaxis": "x",
         "y": [
          34.70945358276367
         ],
         "yaxis": "y"
        },
        {
         "hovertemplate": "<b>%{hovertext}</b><br><br>color=Adventure|Children's|Musical<br>0=%{x}<br>1=%{y}<extra></extra>",
         "hovertext": [
          "Bedknobs and Broomsticks (1971)"
         ],
         "legendgroup": "Adventure|Children's|Musical",
         "marker": {
          "color": "#00cc96",
          "symbol": "circle"
         },
         "mode": "markers",
         "name": "Adventure|Children's|Musical",
         "showlegend": true,
         "type": "scattergl",
         "x": [
          -49.19877624511719
         ],
         "xaxis": "x",
         "y": [
          2.0616157054901123
         ],
         "yaxis": "y"
        },
        {
         "hovertemplate": "<b>%{hovertext}</b><br><br>color=Crime|Drama|Romance|Thriller<br>0=%{x}<br>1=%{y}<extra></extra>",
         "hovertext": [
          "The Professional (1994)",
          "Bound (1996)"
         ],
         "legendgroup": "Crime|Drama|Romance|Thriller",
         "marker": {
          "color": "#ab63fa",
          "symbol": "circle"
         },
         "mode": "markers",
         "name": "Crime|Drama|Romance|Thriller",
         "showlegend": true,
         "type": "scattergl",
         "x": [
          30.3906307220459,
          -1.7511504888534546
         ],
         "xaxis": "x",
         "y": [
          3.9183571338653564,
          -23.95863151550293
         ],
         "yaxis": "y"
        },
        {
         "hovertemplate": "<b>%{hovertext}</b><br><br>color=Crime|Drama|Film-Noir<br>0=%{x}<br>1=%{y}<extra></extra>",
         "hovertext": [
          "The Grifters (1990)",
          "Hoodlum (1997)"
         ],
         "legendgroup": "Crime|Drama|Film-Noir",
         "marker": {
          "color": "#FFA15A",
          "symbol": "circle"
         },
         "mode": "markers",
         "name": "Crime|Drama|Film-Noir",
         "showlegend": true,
         "type": "scattergl",
         "x": [
          -17.573862075805664,
          19.602312088012695
         ],
         "xaxis": "x",
         "y": [
          11.710304260253906,
          -39.61891555786133
         ],
         "yaxis": "y"
        },
        {
         "hovertemplate": "<b>%{hovertext}</b><br><br>color=Action|Sci-Fi|War<br>0=%{x}<br>1=%{y}<extra></extra>",
         "hovertext": [
          "Independence Day (ID4) (1996)"
         ],
         "legendgroup": "Action|Sci-Fi|War",
         "marker": {
          "color": "#19d3f3",
          "symbol": "circle"
         },
         "mode": "markers",
         "name": "Action|Sci-Fi|War",
         "showlegend": true,
         "type": "scattergl",
         "x": [
          11.532570838928223
         ],
         "xaxis": "x",
         "y": [
          -21.70864486694336
         ],
         "yaxis": "y"
        },
        {
         "hovertemplate": "<b>%{hovertext}</b><br><br>color=Action|Adventure|Comedy<br>0=%{x}<br>1=%{y}<extra></extra>",
         "hovertext": [
          "The Three Musketeers (1993)"
         ],
         "legendgroup": "Action|Adventure|Comedy",
         "marker": {
          "color": "#FF6692",
          "symbol": "circle"
         },
         "mode": "markers",
         "name": "Action|Adventure|Comedy",
         "showlegend": true,
         "type": "scattergl",
         "x": [
          -23.135746002197266
         ],
         "xaxis": "x",
         "y": [
          11.67059326171875
         ],
         "yaxis": "y"
        },
        {
         "hovertemplate": "<b>%{hovertext}</b><br><br>color=Action|Drama|Mystery<br>0=%{x}<br>1=%{y}<extra></extra>",
         "hovertext": [
          "Rising Sun (1993)"
         ],
         "legendgroup": "Action|Drama|Mystery",
         "marker": {
          "color": "#B6E880",
          "symbol": "circle"
         },
         "mode": "markers",
         "name": "Action|Drama|Mystery",
         "showlegend": true,
         "type": "scattergl",
         "x": [
          23.86696434020996
         ],
         "xaxis": "x",
         "y": [
          20.60236358642578
         ],
         "yaxis": "y"
        },
        {
         "hovertemplate": "<b>%{hovertext}</b><br><br>color=Crime|Drama|Romance<br>0=%{x}<br>1=%{y}<extra></extra>",
         "hovertext": [
          "Thieves (Voleurs, Les) (1996)",
          "Things to Do in Denver when You're Dead (1995)"
         ],
         "legendgroup": "Crime|Drama|Romance",
         "marker": {
          "color": "#FF97FF",
          "symbol": "circle"
         },
         "mode": "markers",
         "name": "Crime|Drama|Romance",
         "showlegend": true,
         "type": "scattergl",
         "x": [
          -23.465105056762695,
          -8.218208312988281
         ],
         "xaxis": "x",
         "y": [
          -21.87861442565918,
          8.430511474609375
         ],
         "yaxis": "y"
        },
        {
         "hovertemplate": "<b>%{hovertext}</b><br><br>color=Adventure|Comedy|Drama<br>0=%{x}<br>1=%{y}<extra></extra>",
         "hovertext": [
          "Stand by Me (1986)"
         ],
         "legendgroup": "Adventure|Comedy|Drama",
         "marker": {
          "color": "#FECB52",
          "symbol": "circle"
         },
         "mode": "markers",
         "name": "Adventure|Comedy|Drama",
         "showlegend": true,
         "type": "scattergl",
         "x": [
          -29.235143661499023
         ],
         "xaxis": "x",
         "y": [
          1.7134621143341064
         ],
         "yaxis": "y"
        },
        {
         "hovertemplate": "<b>%{hovertext}</b><br><br>color=War<br>0=%{x}<br>1=%{y}<extra></extra>",
         "hovertext": [
          "Stalingrad (1993)",
          "Underground (1995)",
          "Prisoner of the Mountains (Kavkazsky Plennik) (1996)",
          "Land and Freedom (Tierra y libertad) (1995)",
          "Pharaoh's Army (1995)"
         ],
         "legendgroup": "War",
         "marker": {
          "color": "#636efa",
          "symbol": "circle"
         },
         "mode": "markers",
         "name": "War",
         "showlegend": true,
         "type": "scattergl",
         "x": [
          16.694501876831055,
          5.042123317718506,
          -13.308730125427246,
          39.76727294921875,
          18.965763092041016
         ],
         "xaxis": "x",
         "y": [
          15.528923988342285,
          17.84165382385254,
          -28.026735305786133,
          -19.01756477355957,
          30.889127731323242
         ],
         "yaxis": "y"
        },
        {
         "hovertemplate": "<b>%{hovertext}</b><br><br>color=Action|Crime|Sci-Fi<br>0=%{x}<br>1=%{y}<extra></extra>",
         "hovertext": [
          "Strange Days (1995)"
         ],
         "legendgroup": "Action|Crime|Sci-Fi",
         "marker": {
          "color": "#EF553B",
          "symbol": "circle"
         },
         "mode": "markers",
         "name": "Action|Crime|Sci-Fi",
         "showlegend": true,
         "type": "scattergl",
         "x": [
          -1.7075579166412354
         ],
         "xaxis": "x",
         "y": [
          16.601648330688477
         ],
         "yaxis": "y"
        },
        {
         "hovertemplate": "<b>%{hovertext}</b><br><br>color=Adventure|Animation|Children's|Comedy|Fantasy<br>0=%{x}<br>1=%{y}<extra></extra>",
         "hovertext": [
          "Space Jam (1996)"
         ],
         "legendgroup": "Adventure|Animation|Children's|Comedy|Fantasy",
         "marker": {
          "color": "#00cc96",
          "symbol": "circle"
         },
         "mode": "markers",
         "name": "Adventure|Animation|Children's|Comedy|Fantasy",
         "showlegend": true,
         "type": "scattergl",
         "x": [
          11.672290802001953
         ],
         "xaxis": "x",
         "y": [
          -32.52598571777344
         ],
         "yaxis": "y"
        },
        {
         "hovertemplate": "<b>%{hovertext}</b><br><br>color=Adventure|Romance<br>0=%{x}<br>1=%{y}<extra></extra>",
         "hovertext": [
          "Excess Baggage (1997)",
          "The Big Blue (1988)",
          "Golden Earrings (1947)",
          "Wings of Courage (1995)"
         ],
         "legendgroup": "Adventure|Romance",
         "marker": {
          "color": "#ab63fa",
          "symbol": "circle"
         },
         "mode": "markers",
         "name": "Adventure|Romance",
         "showlegend": true,
         "type": "scattergl",
         "x": [
          29.61111831665039,
          -25.933874130249023,
          -40.5272331237793,
          29.398719787597656
         ],
         "xaxis": "x",
         "y": [
          -40.76472473144531,
          -0.5075621604919434,
          28.673873901367188,
          -12.988432884216309
         ],
         "yaxis": "y"
        },
        {
         "hovertemplate": "<b>%{hovertext}</b><br><br>color=Comedy|Mystery|Thriller<br>0=%{x}<br>1=%{y}<extra></extra>",
         "hovertext": [
          "Arsenic and Old Lace (1944)"
         ],
         "legendgroup": "Comedy|Mystery|Thriller",
         "marker": {
          "color": "#FFA15A",
          "symbol": "circle"
         },
         "mode": "markers",
         "name": "Comedy|Mystery|Thriller",
         "showlegend": true,
         "type": "scattergl",
         "x": [
          -46.358158111572266
         ],
         "xaxis": "x",
         "y": [
          33.58689498901367
         ],
         "yaxis": "y"
        },
        {
         "hovertemplate": "<b>%{hovertext}</b><br><br>color=Film-Noir|Mystery|Thriller<br>0=%{x}<br>1=%{y}<extra></extra>",
         "hovertext": [
          "Chinatown (1974)",
          "Palmetto (1998)"
         ],
         "legendgroup": "Film-Noir|Mystery|Thriller",
         "marker": {
          "color": "#19d3f3",
          "symbol": "circle"
         },
         "mode": "markers",
         "name": "Film-Noir|Mystery|Thriller",
         "showlegend": true,
         "type": "scattergl",
         "x": [
          36.07783126831055,
          51.21352767944336
         ],
         "xaxis": "x",
         "y": [
          24.220022201538086,
          -17.515016555786133
         ],
         "yaxis": "y"
        },
        {
         "hovertemplate": "<b>%{hovertext}</b><br><br>color=Mystery<br>0=%{x}<br>1=%{y}<extra></extra>",
         "hovertext": [
          "Lost Highway (1997)",
          "The Thin Man (1934)",
          "The Daytrippers (1996)",
          "The Woman in Question (1950)"
         ],
         "legendgroup": "Mystery",
         "marker": {
          "color": "#FF6692",
          "symbol": "circle"
         },
         "mode": "markers",
         "name": "Mystery",
         "showlegend": true,
         "type": "scattergl",
         "x": [
          35.23923873901367,
          -48.53216552734375,
          1.6369153261184692,
          -56.79746627807617
         ],
         "xaxis": "x",
         "y": [
          -26.196304321289062,
          25.299415588378906,
          -12.93857192993164,
          24.050804138183594
         ],
         "yaxis": "y"
        },
        {
         "hovertemplate": "<b>%{hovertext}</b><br><br>color=Action|Crime|Romance<br>0=%{x}<br>1=%{y}<extra></extra>",
         "hovertext": [
          "True Romance (1993)",
          "Truth or Consequences, N.M. (1997)"
         ],
         "legendgroup": "Action|Crime|Romance",
         "marker": {
          "color": "#B6E880",
          "symbol": "circle"
         },
         "mode": "markers",
         "name": "Action|Crime|Romance",
         "showlegend": true,
         "type": "scattergl",
         "x": [
          12.957905769348145,
          26.916675567626953
         ],
         "xaxis": "x",
         "y": [
          8.279073715209961,
          -20.464006423950195
         ],
         "yaxis": "y"
        },
        {
         "hovertemplate": "<b>%{hovertext}</b><br><br>color=Adventure<br>0=%{x}<br>1=%{y}<extra></extra>",
         "hovertext": [
          "The Secret of Roan Inish (1994)",
          "The Phantom (1996)",
          "The Man Who Would Be King (1975)",
          "The Mark of Zorro (1940)",
          "The Treasure of the Sierra Madre (1948)"
         ],
         "legendgroup": "Adventure",
         "marker": {
          "color": "#FF97FF",
          "symbol": "circle"
         },
         "mode": "markers",
         "name": "Adventure",
         "showlegend": true,
         "type": "scattergl",
         "x": [
          -19.69533348083496,
          -1.3474688529968262,
          -45.78179168701172,
          -43.95159912109375,
          -44.771305084228516
         ],
         "xaxis": "x",
         "y": [
          -4.52979850769043,
          -19.56743049621582,
          7.7216081619262695,
          27.467790603637695,
          28.616092681884766
         ],
         "yaxis": "y"
        },
        {
         "hovertemplate": "<b>%{hovertext}</b><br><br>color=Documentary|War<br>0=%{x}<br>1=%{y}<extra></extra>",
         "hovertext": [
          "Koyaanisqatsi (1983)"
         ],
         "legendgroup": "Documentary|War",
         "marker": {
          "color": "#FECB52",
          "symbol": "circle"
         },
         "mode": "markers",
         "name": "Documentary|War",
         "showlegend": true,
         "type": "scattergl",
         "x": [
          -42.22763442993164
         ],
         "xaxis": "x",
         "y": [
          -5.206659317016602
         ],
         "yaxis": "y"
        },
        {
         "hovertemplate": "<b>%{hovertext}</b><br><br>color=Action|Adventure|Comedy|War<br>0=%{x}<br>1=%{y}<extra></extra>",
         "hovertext": [
          "Operation Dumbo Drop (1995)"
         ],
         "legendgroup": "Action|Adventure|Comedy|War",
         "marker": {
          "color": "#636efa",
          "symbol": "circle"
         },
         "mode": "markers",
         "name": "Action|Adventure|Comedy|War",
         "showlegend": true,
         "type": "scattergl",
         "x": [
          -6.211300373077393
         ],
         "xaxis": "x",
         "y": [
          35.26923370361328
         ],
         "yaxis": "y"
        },
        {
         "hovertemplate": "<b>%{hovertext}</b><br><br>color=Action|Adventure|Fantasy<br>0=%{x}<br>1=%{y}<extra></extra>",
         "hovertext": [
          "Dragonheart (1996)"
         ],
         "legendgroup": "Action|Adventure|Fantasy",
         "marker": {
          "color": "#EF553B",
          "symbol": "circle"
         },
         "mode": "markers",
         "name": "Action|Adventure|Fantasy",
         "showlegend": true,
         "type": "scattergl",
         "x": [
          16.655838012695312
         ],
         "xaxis": "x",
         "y": [
          -16.927661895751953
         ],
         "yaxis": "y"
        },
        {
         "hovertemplate": "<b>%{hovertext}</b><br><br>color=Comedy|Crime|Fantasy<br>0=%{x}<br>1=%{y}<extra></extra>",
         "hovertext": [
          "The Mask (1994)"
         ],
         "legendgroup": "Comedy|Crime|Fantasy",
         "marker": {
          "color": "#00cc96",
          "symbol": "circle"
         },
         "mode": "markers",
         "name": "Comedy|Crime|Fantasy",
         "showlegend": true,
         "type": "scattergl",
         "x": [
          25.267086029052734
         ],
         "xaxis": "x",
         "y": [
          3.887042760848999
         ],
         "yaxis": "y"
        },
        {
         "hovertemplate": "<b>%{hovertext}</b><br><br>color=Crime|Drama|Sci-Fi<br>0=%{x}<br>1=%{y}<extra></extra>",
         "hovertext": [
          "Sneakers (1992)"
         ],
         "legendgroup": "Crime|Drama|Sci-Fi",
         "marker": {
          "color": "#ab63fa",
          "symbol": "circle"
         },
         "mode": "markers",
         "name": "Crime|Drama|Sci-Fi",
         "showlegend": true,
         "type": "scattergl",
         "x": [
          -16.49087905883789
         ],
         "xaxis": "x",
         "y": [
          -9.454087257385254
         ],
         "yaxis": "y"
        },
        {
         "hovertemplate": "<b>%{hovertext}</b><br><br>color=Horror|Sci-Fi<br>0=%{x}<br>1=%{y}<extra></extra>",
         "hovertext": [
          "Night of the Living Dead (1968)",
          "Robert A. Heinlein's The Puppet Masters (1994)",
          "The Blob (1958)"
         ],
         "legendgroup": "Horror|Sci-Fi",
         "marker": {
          "color": "#FFA15A",
          "symbol": "circle"
         },
         "mode": "markers",
         "name": "Horror|Sci-Fi",
         "showlegend": true,
         "type": "scattergl",
         "x": [
          -25.65143585205078,
          42.52478790283203,
          -45.25439453125
         ],
         "xaxis": "x",
         "y": [
          23.719526290893555,
          10.069845199584961,
          16.975387573242188
         ],
         "yaxis": "y"
        },
        {
         "hovertemplate": "<b>%{hovertext}</b><br><br>color=Comedy|Mystery|Romance|Thriller<br>0=%{x}<br>1=%{y}<extra></extra>",
         "hovertext": [
          "Charade (1963)"
         ],
         "legendgroup": "Comedy|Mystery|Romance|Thriller",
         "marker": {
          "color": "#19d3f3",
          "symbol": "circle"
         },
         "mode": "markers",
         "name": "Comedy|Mystery|Romance|Thriller",
         "showlegend": true,
         "type": "scattergl",
         "x": [
          -50.592140197753906
         ],
         "xaxis": "x",
         "y": [
          12.609888076782227
         ],
         "yaxis": "y"
        },
        {
         "hovertemplate": "<b>%{hovertext}</b><br><br>color=Horror|Mystery|Thriller<br>0=%{x}<br>1=%{y}<extra></extra>",
         "hovertext": [
          "I Know What You Did Last Summer (1997)"
         ],
         "legendgroup": "Horror|Mystery|Thriller",
         "marker": {
          "color": "#FF6692",
          "symbol": "circle"
         },
         "mode": "markers",
         "name": "Horror|Mystery|Thriller",
         "showlegend": true,
         "type": "scattergl",
         "x": [
          12.771929740905762
         ],
         "xaxis": "x",
         "y": [
          -19.684680938720703
         ],
         "yaxis": "y"
        },
        {
         "hovertemplate": "<b>%{hovertext}</b><br><br>color=Documentary|Drama<br>0=%{x}<br>1=%{y}<extra></extra>",
         "hovertext": [
          "Looking for Richard (1996)",
          "Tigrero: A Film That Was Never Made (1994)",
          "JLG/JLG - autoportrait de décembre (1994)"
         ],
         "legendgroup": "Documentary|Drama",
         "marker": {
          "color": "#B6E880",
          "symbol": "circle"
         },
         "mode": "markers",
         "name": "Documentary|Drama",
         "showlegend": true,
         "type": "scattergl",
         "x": [
          2.0571272373199463,
          40.15388488769531,
          35.043113708496094
         ],
         "xaxis": "x",
         "y": [
          -19.694883346557617,
          0.24874995648860931,
          36.04802322387695
         ],
         "yaxis": "y"
        },
        {
         "hovertemplate": "<b>%{hovertext}</b><br><br>color=Horror|Sci-Fi|Thriller<br>0=%{x}<br>1=%{y}<extra></extra>",
         "hovertext": [
          "Body Snatchers (1993)"
         ],
         "legendgroup": "Horror|Sci-Fi|Thriller",
         "marker": {
          "color": "#FF97FF",
          "symbol": "circle"
         },
         "mode": "markers",
         "name": "Horror|Sci-Fi|Thriller",
         "showlegend": true,
         "type": "scattergl",
         "x": [
          -34.42892837524414
         ],
         "xaxis": "x",
         "y": [
          26.74635887145996
         ],
         "yaxis": "y"
        },
        {
         "hovertemplate": "<b>%{hovertext}</b><br><br>color=Adventure|Thriller<br>0=%{x}<br>1=%{y}<extra></extra>",
         "hovertext": [
          "The Edge (1997)"
         ],
         "legendgroup": "Adventure|Thriller",
         "marker": {
          "color": "#FECB52",
          "symbol": "circle"
         },
         "mode": "markers",
         "name": "Adventure|Thriller",
         "showlegend": true,
         "type": "scattergl",
         "x": [
          30.735031127929688
         ],
         "xaxis": "x",
         "y": [
          -27.03239631652832
         ],
         "yaxis": "y"
        },
        {
         "hovertemplate": "<b>%{hovertext}</b><br><br>color=Adventure|Sci-Fi|Thriller<br>0=%{x}<br>1=%{y}<extra></extra>",
         "hovertext": [
          "Sphere (1998)"
         ],
         "legendgroup": "Adventure|Sci-Fi|Thriller",
         "marker": {
          "color": "#636efa",
          "symbol": "circle"
         },
         "mode": "markers",
         "name": "Adventure|Sci-Fi|Thriller",
         "showlegend": true,
         "type": "scattergl",
         "x": [
          22.104259490966797
         ],
         "xaxis": "x",
         "y": [
          -11.967529296875
         ],
         "yaxis": "y"
        },
        {
         "hovertemplate": "<b>%{hovertext}</b><br><br>color=Film-Noir<br>0=%{x}<br>1=%{y}<extra></extra>",
         "hovertext": [
          "Sunset Blvd. (1950)",
          "T-Men (1947)",
          "Raw Deal (1948)"
         ],
         "legendgroup": "Film-Noir",
         "marker": {
          "color": "#EF553B",
          "symbol": "circle"
         },
         "mode": "markers",
         "name": "Film-Noir",
         "showlegend": true,
         "type": "scattergl",
         "x": [
          -51.03373336791992,
          -38.58726501464844,
          -44.54216003417969
         ],
         "xaxis": "x",
         "y": [
          21.61525535583496,
          29.819049835205078,
          25.396780014038086
         ],
         "yaxis": "y"
        },
        {
         "hovertemplate": "<b>%{hovertext}</b><br><br>color=Animation<br>0=%{x}<br>1=%{y}<extra></extra>",
         "hovertext": [
          "Wallace & Gromit: The Best of Aardman Animation (1996)",
          "Faust (1994)"
         ],
         "legendgroup": "Animation",
         "marker": {
          "color": "#00cc96",
          "symbol": "circle"
         },
         "mode": "markers",
         "name": "Animation",
         "showlegend": true,
         "type": "scattergl",
         "x": [
          -15.08281421661377,
          43.8250846862793
         ],
         "xaxis": "x",
         "y": [
          -25.183683395385742,
          9.345274925231934
         ],
         "yaxis": "y"
        },
        {
         "hovertemplate": "<b>%{hovertext}</b><br><br>color=Action|Drama|Western<br>0=%{x}<br>1=%{y}<extra></extra>",
         "hovertext": [
          "The Magnificent Seven (1954)",
          "Last Man Standing (1996)"
         ],
         "legendgroup": "Action|Drama|Western",
         "marker": {
          "color": "#ab63fa",
          "symbol": "circle"
         },
         "mode": "markers",
         "name": "Action|Drama|Western",
         "showlegend": true,
         "type": "scattergl",
         "x": [
          -40.40066146850586,
          7.436838150024414
         ],
         "xaxis": "x",
         "y": [
          19.966758728027344,
          -27.200727462768555
         ],
         "yaxis": "y"
        },
        {
         "hovertemplate": "<b>%{hovertext}</b><br><br>color=Comedy|Fantasy|Romance|Sci-Fi<br>0=%{x}<br>1=%{y}<extra></extra>",
         "hovertext": [
          "The Nutty Professor (1996)"
         ],
         "legendgroup": "Comedy|Fantasy|Romance|Sci-Fi",
         "marker": {
          "color": "#FFA15A",
          "symbol": "circle"
         },
         "mode": "markers",
         "name": "Comedy|Fantasy|Romance|Sci-Fi",
         "showlegend": true,
         "type": "scattergl",
         "x": [
          -12.19959831237793
         ],
         "xaxis": "x",
         "y": [
          -21.442480087280273
         ],
         "yaxis": "y"
        },
        {
         "hovertemplate": "<b>%{hovertext}</b><br><br>color=Action|Animation|Children's|Sci-Fi|Thriller|War<br>0=%{x}<br>1=%{y}<extra></extra>",
         "hovertext": [
          "The Transformers: The Movie (1986)"
         ],
         "legendgroup": "Action|Animation|Children's|Sci-Fi|Thriller|War",
         "marker": {
          "color": "#19d3f3",
          "symbol": "circle"
         },
         "mode": "markers",
         "name": "Action|Animation|Children's|Sci-Fi|Thriller|War",
         "showlegend": true,
         "type": "scattergl",
         "x": [
          -31.03350067138672
         ],
         "xaxis": "x",
         "y": [
          5.236532688140869
         ],
         "yaxis": "y"
        },
        {
         "hovertemplate": "<b>%{hovertext}</b><br><br>color=Comedy|Crime|Horror<br>0=%{x}<br>1=%{y}<extra></extra>",
         "hovertext": [
          "Serial Mom (1994)"
         ],
         "legendgroup": "Comedy|Crime|Horror",
         "marker": {
          "color": "#FF6692",
          "symbol": "circle"
         },
         "mode": "markers",
         "name": "Comedy|Crime|Horror",
         "showlegend": true,
         "type": "scattergl",
         "x": [
          35.750083923339844
         ],
         "xaxis": "x",
         "y": [
          1.0379809141159058
         ],
         "yaxis": "y"
        },
        {
         "hovertemplate": "<b>%{hovertext}</b><br><br>color=Comedy|Crime|Drama|Mystery<br>0=%{x}<br>1=%{y}<extra></extra>",
         "hovertext": [
          "Midnight in the Garden of Good and Evil (1997)"
         ],
         "legendgroup": "Comedy|Crime|Drama|Mystery",
         "marker": {
          "color": "#B6E880",
          "symbol": "circle"
         },
         "mode": "markers",
         "name": "Comedy|Crime|Drama|Mystery",
         "showlegend": true,
         "type": "scattergl",
         "x": [
          10.207069396972656
         ],
         "xaxis": "x",
         "y": [
          -3.4684455394744873
         ],
         "yaxis": "y"
        },
        {
         "hovertemplate": "<b>%{hovertext}</b><br><br>color=Action|Drama|Romance<br>0=%{x}<br>1=%{y}<extra></extra>",
         "hovertext": [
          "Cyrano de Bergerac (1990)",
          "Titanic (1997)",
          "The Man in the Iron Mask (1998)"
         ],
         "legendgroup": "Action|Drama|Romance",
         "marker": {
          "color": "#FF97FF",
          "symbol": "circle"
         },
         "mode": "markers",
         "name": "Action|Drama|Romance",
         "showlegend": true,
         "type": "scattergl",
         "x": [
          -37.01030349731445,
          28.985660552978516,
          24.95357894897461
         ],
         "xaxis": "x",
         "y": [
          -15.286410331726074,
          -36.734230041503906,
          3.643650770187378
         ],
         "yaxis": "y"
        },
        {
         "hovertemplate": "<b>%{hovertext}</b><br><br>color=Romance|Thriller<br>0=%{x}<br>1=%{y}<extra></extra>",
         "hovertext": [
          "Life Less Ordinary, A (1997)",
          "Rebecca (1940)",
          "B. Monkey (1998)"
         ],
         "legendgroup": "Romance|Thriller",
         "marker": {
          "color": "#FECB52",
          "symbol": "circle"
         },
         "mode": "markers",
         "name": "Romance|Thriller",
         "showlegend": true,
         "type": "scattergl",
         "x": [
          35.474727630615234,
          -49.31670379638672,
          43.59403610229492
         ],
         "xaxis": "x",
         "y": [
          -19.400596618652344,
          34.459964752197266,
          -4.160290241241455
         ],
         "yaxis": "y"
        },
        {
         "hovertemplate": "<b>%{hovertext}</b><br><br>color=Action|Drama|Mystery|Romance|Thriller<br>0=%{x}<br>1=%{y}<extra></extra>",
         "hovertext": [
          "Diva (1981)"
         ],
         "legendgroup": "Action|Drama|Mystery|Romance|Thriller",
         "marker": {
          "color": "#636efa",
          "symbol": "circle"
         },
         "mode": "markers",
         "name": "Action|Drama|Mystery|Romance|Thriller",
         "showlegend": true,
         "type": "scattergl",
         "x": [
          -31.598785400390625
         ],
         "xaxis": "x",
         "y": [
          -3.568619966506958
         ],
         "yaxis": "y"
        },
        {
         "hovertemplate": "<b>%{hovertext}</b><br><br>color=Animation|Children's|Musical|Romance<br>0=%{x}<br>1=%{y}<extra></extra>",
         "hovertext": [
          "Pocahontas (1995)"
         ],
         "legendgroup": "Animation|Children's|Musical|Romance",
         "marker": {
          "color": "#EF553B",
          "symbol": "circle"
         },
         "mode": "markers",
         "name": "Animation|Children's|Musical|Romance",
         "showlegend": true,
         "type": "scattergl",
         "x": [
          11.487421035766602
         ],
         "xaxis": "x",
         "y": [
          26.830204010009766
         ],
         "yaxis": "y"
        },
        {
         "hovertemplate": "<b>%{hovertext}</b><br><br>color=Comedy|Drama|Thriller<br>0=%{x}<br>1=%{y}<extra></extra>",
         "hovertext": [
          "The House of Yes (1997)"
         ],
         "legendgroup": "Comedy|Drama|Thriller",
         "marker": {
          "color": "#00cc96",
          "symbol": "circle"
         },
         "mode": "markers",
         "name": "Comedy|Drama|Thriller",
         "showlegend": true,
         "type": "scattergl",
         "x": [
          37.64432144165039
         ],
         "xaxis": "x",
         "y": [
          -11.753958702087402
         ],
         "yaxis": "y"
        },
        {
         "hovertemplate": "<b>%{hovertext}</b><br><br>color=Drama|Mystery|Romance<br>0=%{x}<br>1=%{y}<extra></extra>",
         "hovertext": [
          "Chungking Express (1994)",
          "Flesh and Bone (1993)"
         ],
         "legendgroup": "Drama|Mystery|Romance",
         "marker": {
          "color": "#ab63fa",
          "symbol": "circle"
         },
         "mode": "markers",
         "name": "Drama|Mystery|Romance",
         "showlegend": true,
         "type": "scattergl",
         "x": [
          36.08511734008789,
          16.24981117248535
         ],
         "xaxis": "x",
         "y": [
          24.20372200012207,
          9.954161643981934
         ],
         "yaxis": "y"
        },
        {
         "hovertemplate": "<b>%{hovertext}</b><br><br>color=Comedy|Western<br>0=%{x}<br>1=%{y}<extra></extra>",
         "hovertext": [
          "City Slickers II: The Legend of Curly's Gold (1994)",
          "Lightning Jack (1994)"
         ],
         "legendgroup": "Comedy|Western",
         "marker": {
          "color": "#FFA15A",
          "symbol": "circle"
         },
         "mode": "markers",
         "name": "Comedy|Western",
         "showlegend": true,
         "type": "scattergl",
         "x": [
          12.326773643493652,
          43.4302978515625
         ],
         "xaxis": "x",
         "y": [
          -16.702829360961914,
          -0.5810296535491943
         ],
         "yaxis": "y"
        },
        {
         "hovertemplate": "<b>%{hovertext}</b><br><br>color=Drama|Mystery|Thriller<br>0=%{x}<br>1=%{y}<extra></extra>",
         "hovertext": [
          "The Client (1994)"
         ],
         "legendgroup": "Drama|Mystery|Thriller",
         "marker": {
          "color": "#19d3f3",
          "symbol": "circle"
         },
         "mode": "markers",
         "name": "Drama|Mystery|Thriller",
         "showlegend": true,
         "type": "scattergl",
         "x": [
          30.751033782958984
         ],
         "xaxis": "x",
         "y": [
          5.593416690826416
         ],
         "yaxis": "y"
        },
        {
         "hovertemplate": "<b>%{hovertext}</b><br><br>color=Action|Adventure|Animation|Horror|Sci-Fi<br>0=%{x}<br>1=%{y}<extra></extra>",
         "hovertext": [
          "Heavy Metal (1981)"
         ],
         "legendgroup": "Action|Adventure|Animation|Horror|Sci-Fi",
         "marker": {
          "color": "#FF6692",
          "symbol": "circle"
         },
         "mode": "markers",
         "name": "Action|Adventure|Animation|Horror|Sci-Fi",
         "showlegend": true,
         "type": "scattergl",
         "x": [
          -31.99854278564453
         ],
         "xaxis": "x",
         "y": [
          -0.6210174560546875
         ],
         "yaxis": "y"
        },
        {
         "hovertemplate": "<b>%{hovertext}</b><br><br>color=unknown<br>0=%{x}<br>1=%{y}<extra></extra>",
         "hovertext": [
          "unknown",
          "Good Morning (1971)"
         ],
         "legendgroup": "unknown",
         "marker": {
          "color": "#B6E880",
          "symbol": "circle"
         },
         "mode": "markers",
         "name": "unknown",
         "showlegend": true,
         "type": "scattergl",
         "x": [
          40.42316436767578,
          -49.794219970703125
         ],
         "xaxis": "x",
         "y": [
          -12.603561401367188,
          1.0066773891448975
         ],
         "yaxis": "y"
        },
        {
         "hovertemplate": "<b>%{hovertext}</b><br><br>color=Drama|Romance|Thriller<br>0=%{x}<br>1=%{y}<extra></extra>",
         "hovertext": [
          "The Wings of the Dove (1997)",
          "Witness (1985)"
         ],
         "legendgroup": "Drama|Romance|Thriller",
         "marker": {
          "color": "#FF97FF",
          "symbol": "circle"
         },
         "mode": "markers",
         "name": "Drama|Romance|Thriller",
         "showlegend": true,
         "type": "scattergl",
         "x": [
          29.294605255126953,
          -27.010231018066406
         ],
         "xaxis": "x",
         "y": [
          -13.381877899169922,
          4.716918468475342
         ],
         "yaxis": "y"
        },
        {
         "hovertemplate": "<b>%{hovertext}</b><br><br>color=Action|Mystery|Sci-Fi|Thriller<br>0=%{x}<br>1=%{y}<extra></extra>",
         "hovertext": [
          "Event Horizon (1997)"
         ],
         "legendgroup": "Action|Mystery|Sci-Fi|Thriller",
         "marker": {
          "color": "#FECB52",
          "symbol": "circle"
         },
         "mode": "markers",
         "name": "Action|Mystery|Sci-Fi|Thriller",
         "showlegend": true,
         "type": "scattergl",
         "x": [
          30.791976928710938
         ],
         "xaxis": "x",
         "y": [
          -26.802780151367188
         ],
         "yaxis": "y"
        },
        {
         "hovertemplate": "<b>%{hovertext}</b><br><br>color=Children's<br>0=%{x}<br>1=%{y}<extra></extra>",
         "hovertext": [
          "Zeus and Roxanne (1997)",
          "The Baby-Sitters Club (1995)",
          "Daniel Defoe's Robinson Crusoe (1996)"
         ],
         "legendgroup": "Children's",
         "marker": {
          "color": "#636efa",
          "symbol": "circle"
         },
         "mode": "markers",
         "name": "Children's",
         "showlegend": true,
         "type": "scattergl",
         "x": [
          40.770076751708984,
          5.952498912811279,
          3.0616567134857178
         ],
         "xaxis": "x",
         "y": [
          -26.01788330078125,
          25.21445083618164,
          -34.04301452636719
         ],
         "yaxis": "y"
        },
        {
         "hovertemplate": "<b>%{hovertext}</b><br><br>color=Action|Adventure|Mystery|Sci-Fi<br>0=%{x}<br>1=%{y}<extra></extra>",
         "hovertext": [
          "Congo (1995)"
         ],
         "legendgroup": "Action|Adventure|Mystery|Sci-Fi",
         "marker": {
          "color": "#EF553B",
          "symbol": "circle"
         },
         "mode": "markers",
         "name": "Action|Adventure|Mystery|Sci-Fi",
         "showlegend": true,
         "type": "scattergl",
         "x": [
          -4.371132850646973
         ],
         "xaxis": "x",
         "y": [
          26.143949508666992
         ],
         "yaxis": "y"
        },
        {
         "hovertemplate": "<b>%{hovertext}</b><br><br>color=Adventure|Children's|Comedy|Fantasy|Romance|Sci-Fi<br>0=%{x}<br>1=%{y}<extra></extra>",
         "hovertext": [
          "Kid in King Arthur's Court, A (1995)"
         ],
         "legendgroup": "Adventure|Children's|Comedy|Fantasy|Romance|Sci-Fi",
         "marker": {
          "color": "#00cc96",
          "symbol": "circle"
         },
         "mode": "markers",
         "name": "Adventure|Children's|Comedy|Fantasy|Romance|Sci-Fi",
         "showlegend": true,
         "type": "scattergl",
         "x": [
          -17.736553192138672
         ],
         "xaxis": "x",
         "y": [
          19.63819122314453
         ],
         "yaxis": "y"
        },
        {
         "hovertemplate": "<b>%{hovertext}</b><br><br>color=Drama|Thriller|War<br>0=%{x}<br>1=%{y}<extra></extra>",
         "hovertext": [
          "Crimson Tide (1995)"
         ],
         "legendgroup": "Drama|Thriller|War",
         "marker": {
          "color": "#ab63fa",
          "symbol": "circle"
         },
         "mode": "markers",
         "name": "Drama|Thriller|War",
         "showlegend": true,
         "type": "scattergl",
         "x": [
          -3.2724030017852783
         ],
         "xaxis": "x",
         "y": [
          24.69426727294922
         ],
         "yaxis": "y"
        },
        {
         "hovertemplate": "<b>%{hovertext}</b><br><br>color=Film-Noir|Romance|Thriller<br>0=%{x}<br>1=%{y}<extra></extra>",
         "hovertext": [
          "Notorious (1946)"
         ],
         "legendgroup": "Film-Noir|Romance|Thriller",
         "marker": {
          "color": "#FFA15A",
          "symbol": "circle"
         },
         "mode": "markers",
         "name": "Film-Noir|Romance|Thriller",
         "showlegend": true,
         "type": "scattergl",
         "x": [
          -45.39582061767578
         ],
         "xaxis": "x",
         "y": [
          26.99143409729004
         ],
         "yaxis": "y"
        },
        {
         "hovertemplate": "<b>%{hovertext}</b><br><br>color=Adventure|Comedy<br>0=%{x}<br>1=%{y}<extra></extra>",
         "hovertext": [
          "Around the World in 80 Days (1956)"
         ],
         "legendgroup": "Adventure|Comedy",
         "marker": {
          "color": "#19d3f3",
          "symbol": "circle"
         },
         "mode": "markers",
         "name": "Adventure|Comedy",
         "showlegend": true,
         "type": "scattergl",
         "x": [
          -48.14109802246094
         ],
         "xaxis": "x",
         "y": [
          21.955524444580078
         ],
         "yaxis": "y"
        },
        {
         "hovertemplate": "<b>%{hovertext}</b><br><br>color=Action|Children's<br>0=%{x}<br>1=%{y}<extra></extra>",
         "hovertext": [
          "3 Ninjas: High Noon At Mega Mountain (1998)",
          "Mighty Morphin Power Rangers: The Movie (1995)",
          "The Next Karate Kid (1994)"
         ],
         "legendgroup": "Action|Children's",
         "marker": {
          "color": "#FF6692",
          "symbol": "circle"
         },
         "mode": "markers",
         "name": "Action|Children's",
         "showlegend": true,
         "type": "scattergl",
         "x": [
          19.12541961669922,
          21.313352584838867,
          39.12263488769531
         ],
         "xaxis": "x",
         "y": [
          -33.537635803222656,
          -18.02499008178711,
          19.76067352294922
         ],
         "yaxis": "y"
        },
        {
         "hovertemplate": "<b>%{hovertext}</b><br><br>color=Action|Adventure|Crime|Thriller<br>0=%{x}<br>1=%{y}<extra></extra>",
         "hovertext": [
          "Hard Target (1993)"
         ],
         "legendgroup": "Action|Adventure|Crime|Thriller",
         "marker": {
          "color": "#B6E880",
          "symbol": "circle"
         },
         "mode": "markers",
         "name": "Action|Adventure|Crime|Thriller",
         "showlegend": true,
         "type": "scattergl",
         "x": [
          2.5062572956085205
         ],
         "xaxis": "x",
         "y": [
          14.091597557067871
         ],
         "yaxis": "y"
        },
        {
         "hovertemplate": "<b>%{hovertext}</b><br><br>color=Children's|Fantasy<br>0=%{x}<br>1=%{y}<extra></extra>",
         "hovertext": [
          "The NeverEnding Story III (1994)",
          "Simple Wish, A (1997)"
         ],
         "legendgroup": "Children's|Fantasy",
         "marker": {
          "color": "#FF97FF",
          "symbol": "circle"
         },
         "mode": "markers",
         "name": "Children's|Fantasy",
         "showlegend": true,
         "type": "scattergl",
         "x": [
          -26.58098602294922,
          34.36090850830078
         ],
         "xaxis": "x",
         "y": [
          9.145601272583008,
          -17.384658813476562
         ],
         "yaxis": "y"
        },
        {
         "hovertemplate": "<b>%{hovertext}</b><br><br>color=Adventure|Animation|Children's|Comedy|Musical<br>0=%{x}<br>1=%{y}<extra></extra>",
         "hovertext": [
          "Hercules (1997)"
         ],
         "legendgroup": "Adventure|Animation|Children's|Comedy|Musical",
         "marker": {
          "color": "#FECB52",
          "symbol": "circle"
         },
         "mode": "markers",
         "name": "Adventure|Animation|Children's|Comedy|Musical",
         "showlegend": true,
         "type": "scattergl",
         "x": [
          40.02324676513672
         ],
         "xaxis": "x",
         "y": [
          -26.573400497436523
         ],
         "yaxis": "y"
        },
        {
         "hovertemplate": "<b>%{hovertext}</b><br><br>color=Action|Adventure|Western<br>0=%{x}<br>1=%{y}<extra></extra>",
         "hovertext": [
          "The Quick and the Dead (1995)"
         ],
         "legendgroup": "Action|Adventure|Western",
         "marker": {
          "color": "#636efa",
          "symbol": "circle"
         },
         "mode": "markers",
         "name": "Action|Adventure|Western",
         "showlegend": true,
         "type": "scattergl",
         "x": [
          -9.250149726867676
         ],
         "xaxis": "x",
         "y": [
          7.505716800689697
         ],
         "yaxis": "y"
        },
        {
         "hovertemplate": "<b>%{hovertext}</b><br><br>color=Drama|Sci-Fi|Thriller<br>0=%{x}<br>1=%{y}<extra></extra>",
         "hovertext": [
          "Gattaca (1997)"
         ],
         "legendgroup": "Drama|Sci-Fi|Thriller",
         "marker": {
          "color": "#EF553B",
          "symbol": "circle"
         },
         "mode": "markers",
         "name": "Drama|Sci-Fi|Thriller",
         "showlegend": true,
         "type": "scattergl",
         "x": [
          23.732206344604492
         ],
         "xaxis": "x",
         "y": [
          -35.15589904785156
         ],
         "yaxis": "y"
        },
        {
         "hovertemplate": "<b>%{hovertext}</b><br><br>color=Comedy|Mystery|Romance<br>0=%{x}<br>1=%{y}<extra></extra>",
         "hovertext": [
          "Radioland Murders (1994)"
         ],
         "legendgroup": "Comedy|Mystery|Romance",
         "marker": {
          "color": "#00cc96",
          "symbol": "circle"
         },
         "mode": "markers",
         "name": "Comedy|Mystery|Romance",
         "showlegend": true,
         "type": "scattergl",
         "x": [
          -10.909123420715332
         ],
         "xaxis": "x",
         "y": [
          -1.8714663982391357
         ],
         "yaxis": "y"
        },
        {
         "hovertemplate": "<b>%{hovertext}</b><br><br>color=Comedy|Mystery<br>0=%{x}<br>1=%{y}<extra></extra>",
         "hovertext": [
          "Manhattan Murder Mystery (1993)",
          "The Man Who Knew Too Little (1997)",
          "Lady of Burlesque (1943)"
         ],
         "legendgroup": "Comedy|Mystery",
         "marker": {
          "color": "#ab63fa",
          "symbol": "circle"
         },
         "mode": "markers",
         "name": "Comedy|Mystery",
         "showlegend": true,
         "type": "scattergl",
         "x": [
          -11.092352867126465,
          30.30612564086914,
          -54.55861282348633
         ],
         "xaxis": "x",
         "y": [
          -2.6104865074157715,
          -22.43052101135254,
          27.815614700317383
         ],
         "yaxis": "y"
        },
        {
         "hovertemplate": "<b>%{hovertext}</b><br><br>color=Comedy|Fantasy<br>0=%{x}<br>1=%{y}<extra></extra>",
         "hovertext": [
          "Drop Dead Fred (1991)"
         ],
         "legendgroup": "Comedy|Fantasy",
         "marker": {
          "color": "#FFA15A",
          "symbol": "circle"
         },
         "mode": "markers",
         "name": "Comedy|Fantasy",
         "showlegend": true,
         "type": "scattergl",
         "x": [
          -11.461915016174316
         ],
         "xaxis": "x",
         "y": [
          7.5054931640625
         ],
         "yaxis": "y"
        },
        {
         "hovertemplate": "<b>%{hovertext}</b><br><br>color=Mystery|Romance|Thriller<br>0=%{x}<br>1=%{y}<extra></extra>",
         "hovertext": [
          "Boxing Helena (1993)",
          "Spellbound (1945)"
         ],
         "legendgroup": "Mystery|Romance|Thriller",
         "marker": {
          "color": "#19d3f3",
          "symbol": "circle"
         },
         "mode": "markers",
         "name": "Mystery|Romance|Thriller",
         "showlegend": true,
         "type": "scattergl",
         "x": [
          22.6392765045166,
          -47.51716613769531
         ],
         "xaxis": "x",
         "y": [
          17.205150604248047,
          32.525062561035156
         ],
         "yaxis": "y"
        },
        {
         "hovertemplate": "<b>%{hovertext}</b><br><br>color=Film-Noir|Sci-Fi|Thriller<br>0=%{x}<br>1=%{y}<extra></extra>",
         "hovertext": [
          "Dark City (1998)"
         ],
         "legendgroup": "Film-Noir|Sci-Fi|Thriller",
         "marker": {
          "color": "#FF6692",
          "symbol": "circle"
         },
         "mode": "markers",
         "name": "Film-Noir|Sci-Fi|Thriller",
         "showlegend": true,
         "type": "scattergl",
         "x": [
          23.019229888916016
         ],
         "xaxis": "x",
         "y": [
          -8.854878425598145
         ],
         "yaxis": "y"
        },
        {
         "hovertemplate": "<b>%{hovertext}</b><br><br>color=Adventure|Drama<br>0=%{x}<br>1=%{y}<extra></extra>",
         "hovertext": [
          "White Squall (1996)",
          "The Old Man and the Sea (1958)",
          "The War (1994)"
         ],
         "legendgroup": "Adventure|Drama",
         "marker": {
          "color": "#B6E880",
          "symbol": "circle"
         },
         "mode": "markers",
         "name": "Adventure|Drama",
         "showlegend": true,
         "type": "scattergl",
         "x": [
          -5.453103065490723,
          -63.34279251098633,
          27.367576599121094
         ],
         "xaxis": "x",
         "y": [
          -33.95528793334961,
          19.991605758666992,
          0.7593791484832764
         ],
         "yaxis": "y"
        },
        {
         "hovertemplate": "<b>%{hovertext}</b><br><br>color=Action|Adventure|Children's|Sci-Fi<br>0=%{x}<br>1=%{y}<extra></extra>",
         "hovertext": [
          "Super Mario Bros. (1993)"
         ],
         "legendgroup": "Action|Adventure|Children's|Sci-Fi",
         "marker": {
          "color": "#FF97FF",
          "symbol": "circle"
         },
         "mode": "markers",
         "name": "Action|Adventure|Children's|Sci-Fi",
         "showlegend": true,
         "type": "scattergl",
         "x": [
          -10.538952827453613
         ],
         "xaxis": "x",
         "y": [
          32.60725784301758
         ],
         "yaxis": "y"
        },
        {
         "hovertemplate": "<b>%{hovertext}</b><br><br>color=Children's|Comedy|Western<br>0=%{x}<br>1=%{y}<extra></extra>",
         "hovertext": [
          "The Apple Dumpling Gang (1975)"
         ],
         "legendgroup": "Children's|Comedy|Western",
         "marker": {
          "color": "#FECB52",
          "symbol": "circle"
         },
         "mode": "markers",
         "name": "Children's|Comedy|Western",
         "showlegend": true,
         "type": "scattergl",
         "x": [
          -51.31797790527344
         ],
         "xaxis": "x",
         "y": [
          -4.203536033630371
         ],
         "yaxis": "y"
        },
        {
         "hovertemplate": "<b>%{hovertext}</b><br><br>color=Comedy|Crime|Mystery|Thriller<br>0=%{x}<br>1=%{y}<extra></extra>",
         "hovertext": [
          "The Big Lebowski (1998)"
         ],
         "legendgroup": "Comedy|Crime|Mystery|Thriller",
         "marker": {
          "color": "#636efa",
          "symbol": "circle"
         },
         "mode": "markers",
         "name": "Comedy|Crime|Mystery|Thriller",
         "showlegend": true,
         "type": "scattergl",
         "x": [
          -23.75914192199707
         ],
         "xaxis": "x",
         "y": [
          -4.156377792358398
         ],
         "yaxis": "y"
        },
        {
         "hovertemplate": "<b>%{hovertext}</b><br><br>color=Action|Adventure|Romance<br>0=%{x}<br>1=%{y}<extra></extra>",
         "hovertext": [
          "Cutthroat Island (1995)"
         ],
         "legendgroup": "Action|Adventure|Romance",
         "marker": {
          "color": "#EF553B",
          "symbol": "circle"
         },
         "mode": "markers",
         "name": "Action|Adventure|Romance",
         "showlegend": true,
         "type": "scattergl",
         "x": [
          -1.6658157110214233
         ],
         "xaxis": "x",
         "y": [
          8.56183910369873
         ],
         "yaxis": "y"
        },
        {
         "hovertemplate": "<b>%{hovertext}</b><br><br>color=Action|Crime<br>0=%{x}<br>1=%{y}<extra></extra>",
         "hovertext": [
          "Set It Off (1996)",
          "New York Cop (1996)",
          "King of New York (1990)"
         ],
         "legendgroup": "Action|Crime",
         "marker": {
          "color": "#00cc96",
          "symbol": "circle"
         },
         "mode": "markers",
         "name": "Action|Crime",
         "showlegend": true,
         "type": "scattergl",
         "x": [
          -6.791524410247803,
          -13.324234008789062,
          -12.34271240234375
         ],
         "xaxis": "x",
         "y": [
          -24.549510955810547,
          -7.522209167480469,
          -6.154219150543213
         ],
         "yaxis": "y"
        },
        {
         "hovertemplate": "<b>%{hovertext}</b><br><br>color=Romance|War<br>0=%{x}<br>1=%{y}<extra></extra>",
         "hovertext": [
          "In Love and War (1996)",
          "Farewell to Arms, A (1932)",
          "For the Moment (1994)"
         ],
         "legendgroup": "Romance|War",
         "marker": {
          "color": "#ab63fa",
          "symbol": "circle"
         },
         "mode": "markers",
         "name": "Romance|War",
         "showlegend": true,
         "type": "scattergl",
         "x": [
          13.421188354492188,
          -48.127384185791016,
          20.223772048950195
         ],
         "xaxis": "x",
         "y": [
          -9.717198371887207,
          27.51495933532715,
          -2.3380684852600098
         ],
         "yaxis": "y"
        },
        {
         "hovertemplate": "<b>%{hovertext}</b><br><br>color=Comedy|Crime|Drama<br>0=%{x}<br>1=%{y}<extra></extra>",
         "hovertext": [
          "C'est arrivé près de chez vous (1992)",
          "Hana-bi (1997)"
         ],
         "legendgroup": "Comedy|Crime|Drama",
         "marker": {
          "color": "#FFA15A",
          "symbol": "circle"
         },
         "mode": "markers",
         "name": "Comedy|Crime|Drama",
         "showlegend": true,
         "type": "scattergl",
         "x": [
          -25.98064422607422,
          37.0285758972168
         ],
         "xaxis": "x",
         "y": [
          -24.79423713684082,
          -23.527568817138672
         ],
         "yaxis": "y"
        },
        {
         "hovertemplate": "<b>%{hovertext}</b><br><br>color=Drama|Western<br>0=%{x}<br>1=%{y}<extra></extra>",
         "hovertext": [
          "Geronimo: An American Legend (1993)"
         ],
         "legendgroup": "Drama|Western",
         "marker": {
          "color": "#19d3f3",
          "symbol": "circle"
         },
         "mode": "markers",
         "name": "Drama|Western",
         "showlegend": true,
         "type": "scattergl",
         "x": [
          36.12894058227539
         ],
         "xaxis": "x",
         "y": [
          -3.3913817405700684
         ],
         "yaxis": "y"
        },
        {
         "hovertemplate": "<b>%{hovertext}</b><br><br>color=Animation|Children's|Comedy|Romance<br>0=%{x}<br>1=%{y}<extra></extra>",
         "hovertext": [
          "Goofy Movie, A (1995)"
         ],
         "legendgroup": "Animation|Children's|Comedy|Romance",
         "marker": {
          "color": "#FF6692",
          "symbol": "circle"
         },
         "mode": "markers",
         "name": "Animation|Children's|Comedy|Romance",
         "showlegend": true,
         "type": "scattergl",
         "x": [
          0.39824795722961426
         ],
         "xaxis": "x",
         "y": [
          6.458292007446289
         ],
         "yaxis": "y"
        },
        {
         "hovertemplate": "<b>%{hovertext}</b><br><br>color=Action|Adventure|Children's<br>0=%{x}<br>1=%{y}<extra></extra>",
         "hovertext": [
          "Turbo: A Power Rangers Movie (1997)"
         ],
         "legendgroup": "Action|Adventure|Children's",
         "marker": {
          "color": "#B6E880",
          "symbol": "circle"
         },
         "mode": "markers",
         "name": "Action|Adventure|Children's",
         "showlegend": true,
         "type": "scattergl",
         "x": [
          21.29886817932129
         ],
         "xaxis": "x",
         "y": [
          -18.136367797851562
         ],
         "yaxis": "y"
        },
        {
         "hovertemplate": "<b>%{hovertext}</b><br><br>color=Action|Adventure|Animation|Children's|Fantasy<br>0=%{x}<br>1=%{y}<extra></extra>",
         "hovertext": [
          "The Pagemaster (1994)"
         ],
         "legendgroup": "Action|Adventure|Animation|Children's|Fantasy",
         "marker": {
          "color": "#FF97FF",
          "symbol": "circle"
         },
         "mode": "markers",
         "name": "Action|Adventure|Animation|Children's|Fantasy",
         "showlegend": true,
         "type": "scattergl",
         "x": [
          26.44568634033203
         ],
         "xaxis": "x",
         "y": [
          3.664599895477295
         ],
         "yaxis": "y"
        },
        {
         "hovertemplate": "<b>%{hovertext}</b><br><br>color=Crime|Drama|Mystery|Thriller<br>0=%{x}<br>1=%{y}<extra></extra>",
         "hovertext": [
          "Wild Things (1998)"
         ],
         "legendgroup": "Crime|Drama|Mystery|Thriller",
         "marker": {
          "color": "#FECB52",
          "symbol": "circle"
         },
         "mode": "markers",
         "name": "Crime|Drama|Mystery|Thriller",
         "showlegend": true,
         "type": "scattergl",
         "x": [
          34.12293243408203
         ],
         "xaxis": "x",
         "y": [
          -7.817327976226807
         ],
         "yaxis": "y"
        },
        {
         "hovertemplate": "<b>%{hovertext}</b><br><br>color=Crime|Film-Noir<br>0=%{x}<br>1=%{y}<extra></extra>",
         "hovertext": [
          "Crossfire (1947)"
         ],
         "legendgroup": "Crime|Film-Noir",
         "marker": {
          "color": "#636efa",
          "symbol": "circle"
         },
         "mode": "markers",
         "name": "Crime|Film-Noir",
         "showlegend": true,
         "type": "scattergl",
         "x": [
          -39.92784881591797
         ],
         "xaxis": "x",
         "y": [
          27.448591232299805
         ],
         "yaxis": "y"
        },
        {
         "hovertemplate": "<b>%{hovertext}</b><br><br>color=Action|Comedy|Crime|Drama<br>0=%{x}<br>1=%{y}<extra></extra>",
         "hovertext": [
          "Best Men (1997)"
         ],
         "legendgroup": "Action|Comedy|Crime|Drama",
         "marker": {
          "color": "#EF553B",
          "symbol": "circle"
         },
         "mode": "markers",
         "name": "Action|Comedy|Crime|Drama",
         "showlegend": true,
         "type": "scattergl",
         "x": [
          16.672452926635742
         ],
         "xaxis": "x",
         "y": [
          -27.829626083374023
         ],
         "yaxis": "y"
        },
        {
         "hovertemplate": "<b>%{hovertext}</b><br><br>color=Mystery|Sci-Fi<br>0=%{x}<br>1=%{y}<extra></extra>",
         "hovertext": [
          "Stalker (1979)"
         ],
         "legendgroup": "Mystery|Sci-Fi",
         "marker": {
          "color": "#00cc96",
          "symbol": "circle"
         },
         "mode": "markers",
         "name": "Mystery|Sci-Fi",
         "showlegend": true,
         "type": "scattergl",
         "x": [
          -40.43349075317383
         ],
         "xaxis": "x",
         "y": [
          6.378934860229492
         ],
         "yaxis": "y"
        },
        {
         "hovertemplate": "<b>%{hovertext}</b><br><br>color=Fantasy<br>0=%{x}<br>1=%{y}<extra></extra>",
         "hovertext": [
          "Hungarian Fairy Tale, A (1987)"
         ],
         "legendgroup": "Fantasy",
         "marker": {
          "color": "#ab63fa",
          "symbol": "circle"
         },
         "mode": "markers",
         "name": "Fantasy",
         "showlegend": true,
         "type": "scattergl",
         "x": [
          38.485145568847656
         ],
         "xaxis": "x",
         "y": [
          -15.983316421508789
         ],
         "yaxis": "y"
        },
        {
         "hovertemplate": "<b>%{hovertext}</b><br><br>color=Action|Adventure|Children's|Fantasy<br>0=%{x}<br>1=%{y}<extra></extra>",
         "hovertext": [
          "Warriors of Virtue (1997)"
         ],
         "legendgroup": "Action|Adventure|Children's|Fantasy",
         "marker": {
          "color": "#FFA15A",
          "symbol": "circle"
         },
         "mode": "markers",
         "name": "Action|Adventure|Children's|Fantasy",
         "showlegend": true,
         "type": "scattergl",
         "x": [
          32.512855529785156
         ],
         "xaxis": "x",
         "y": [
          -12.92248249053955
         ],
         "yaxis": "y"
        },
        {
         "hovertemplate": "<b>%{hovertext}</b><br><br>color=Comedy|Documentary<br>0=%{x}<br>1=%{y}<extra></extra>",
         "hovertext": [
          "The Big One (1997)"
         ],
         "legendgroup": "Comedy|Documentary",
         "marker": {
          "color": "#19d3f3",
          "symbol": "circle"
         },
         "mode": "markers",
         "name": "Comedy|Documentary",
         "showlegend": true,
         "type": "scattergl",
         "x": [
          21.015880584716797
         ],
         "xaxis": "x",
         "y": [
          -24.016983032226562
         ],
         "yaxis": "y"
        }
       ],
       "layout": {
        "legend": {
         "title": {
          "text": "color"
         },
         "tracegroupgap": 0
        },
        "template": {
         "data": {
          "bar": [
           {
            "error_x": {
             "color": "#2a3f5f"
            },
            "error_y": {
             "color": "#2a3f5f"
            },
            "marker": {
             "line": {
              "color": "#E5ECF6",
              "width": 0.5
             },
             "pattern": {
              "fillmode": "overlay",
              "size": 10,
              "solidity": 0.2
             }
            },
            "type": "bar"
           }
          ],
          "barpolar": [
           {
            "marker": {
             "line": {
              "color": "#E5ECF6",
              "width": 0.5
             },
             "pattern": {
              "fillmode": "overlay",
              "size": 10,
              "solidity": 0.2
             }
            },
            "type": "barpolar"
           }
          ],
          "carpet": [
           {
            "aaxis": {
             "endlinecolor": "#2a3f5f",
             "gridcolor": "white",
             "linecolor": "white",
             "minorgridcolor": "white",
             "startlinecolor": "#2a3f5f"
            },
            "baxis": {
             "endlinecolor": "#2a3f5f",
             "gridcolor": "white",
             "linecolor": "white",
             "minorgridcolor": "white",
             "startlinecolor": "#2a3f5f"
            },
            "type": "carpet"
           }
          ],
          "choropleth": [
           {
            "colorbar": {
             "outlinewidth": 0,
             "ticks": ""
            },
            "type": "choropleth"
           }
          ],
          "contour": [
           {
            "colorbar": {
             "outlinewidth": 0,
             "ticks": ""
            },
            "colorscale": [
             [
              0,
              "#0d0887"
             ],
             [
              0.1111111111111111,
              "#46039f"
             ],
             [
              0.2222222222222222,
              "#7201a8"
             ],
             [
              0.3333333333333333,
              "#9c179e"
             ],
             [
              0.4444444444444444,
              "#bd3786"
             ],
             [
              0.5555555555555556,
              "#d8576b"
             ],
             [
              0.6666666666666666,
              "#ed7953"
             ],
             [
              0.7777777777777778,
              "#fb9f3a"
             ],
             [
              0.8888888888888888,
              "#fdca26"
             ],
             [
              1,
              "#f0f921"
             ]
            ],
            "type": "contour"
           }
          ],
          "contourcarpet": [
           {
            "colorbar": {
             "outlinewidth": 0,
             "ticks": ""
            },
            "type": "contourcarpet"
           }
          ],
          "heatmap": [
           {
            "colorbar": {
             "outlinewidth": 0,
             "ticks": ""
            },
            "colorscale": [
             [
              0,
              "#0d0887"
             ],
             [
              0.1111111111111111,
              "#46039f"
             ],
             [
              0.2222222222222222,
              "#7201a8"
             ],
             [
              0.3333333333333333,
              "#9c179e"
             ],
             [
              0.4444444444444444,
              "#bd3786"
             ],
             [
              0.5555555555555556,
              "#d8576b"
             ],
             [
              0.6666666666666666,
              "#ed7953"
             ],
             [
              0.7777777777777778,
              "#fb9f3a"
             ],
             [
              0.8888888888888888,
              "#fdca26"
             ],
             [
              1,
              "#f0f921"
             ]
            ],
            "type": "heatmap"
           }
          ],
          "heatmapgl": [
           {
            "colorbar": {
             "outlinewidth": 0,
             "ticks": ""
            },
            "colorscale": [
             [
              0,
              "#0d0887"
             ],
             [
              0.1111111111111111,
              "#46039f"
             ],
             [
              0.2222222222222222,
              "#7201a8"
             ],
             [
              0.3333333333333333,
              "#9c179e"
             ],
             [
              0.4444444444444444,
              "#bd3786"
             ],
             [
              0.5555555555555556,
              "#d8576b"
             ],
             [
              0.6666666666666666,
              "#ed7953"
             ],
             [
              0.7777777777777778,
              "#fb9f3a"
             ],
             [
              0.8888888888888888,
              "#fdca26"
             ],
             [
              1,
              "#f0f921"
             ]
            ],
            "type": "heatmapgl"
           }
          ],
          "histogram": [
           {
            "marker": {
             "pattern": {
              "fillmode": "overlay",
              "size": 10,
              "solidity": 0.2
             }
            },
            "type": "histogram"
           }
          ],
          "histogram2d": [
           {
            "colorbar": {
             "outlinewidth": 0,
             "ticks": ""
            },
            "colorscale": [
             [
              0,
              "#0d0887"
             ],
             [
              0.1111111111111111,
              "#46039f"
             ],
             [
              0.2222222222222222,
              "#7201a8"
             ],
             [
              0.3333333333333333,
              "#9c179e"
             ],
             [
              0.4444444444444444,
              "#bd3786"
             ],
             [
              0.5555555555555556,
              "#d8576b"
             ],
             [
              0.6666666666666666,
              "#ed7953"
             ],
             [
              0.7777777777777778,
              "#fb9f3a"
             ],
             [
              0.8888888888888888,
              "#fdca26"
             ],
             [
              1,
              "#f0f921"
             ]
            ],
            "type": "histogram2d"
           }
          ],
          "histogram2dcontour": [
           {
            "colorbar": {
             "outlinewidth": 0,
             "ticks": ""
            },
            "colorscale": [
             [
              0,
              "#0d0887"
             ],
             [
              0.1111111111111111,
              "#46039f"
             ],
             [
              0.2222222222222222,
              "#7201a8"
             ],
             [
              0.3333333333333333,
              "#9c179e"
             ],
             [
              0.4444444444444444,
              "#bd3786"
             ],
             [
              0.5555555555555556,
              "#d8576b"
             ],
             [
              0.6666666666666666,
              "#ed7953"
             ],
             [
              0.7777777777777778,
              "#fb9f3a"
             ],
             [
              0.8888888888888888,
              "#fdca26"
             ],
             [
              1,
              "#f0f921"
             ]
            ],
            "type": "histogram2dcontour"
           }
          ],
          "mesh3d": [
           {
            "colorbar": {
             "outlinewidth": 0,
             "ticks": ""
            },
            "type": "mesh3d"
           }
          ],
          "parcoords": [
           {
            "line": {
             "colorbar": {
              "outlinewidth": 0,
              "ticks": ""
             }
            },
            "type": "parcoords"
           }
          ],
          "pie": [
           {
            "automargin": true,
            "type": "pie"
           }
          ],
          "scatter": [
           {
            "fillpattern": {
             "fillmode": "overlay",
             "size": 10,
             "solidity": 0.2
            },
            "type": "scatter"
           }
          ],
          "scatter3d": [
           {
            "line": {
             "colorbar": {
              "outlinewidth": 0,
              "ticks": ""
             }
            },
            "marker": {
             "colorbar": {
              "outlinewidth": 0,
              "ticks": ""
             }
            },
            "type": "scatter3d"
           }
          ],
          "scattercarpet": [
           {
            "marker": {
             "colorbar": {
              "outlinewidth": 0,
              "ticks": ""
             }
            },
            "type": "scattercarpet"
           }
          ],
          "scattergeo": [
           {
            "marker": {
             "colorbar": {
              "outlinewidth": 0,
              "ticks": ""
             }
            },
            "type": "scattergeo"
           }
          ],
          "scattergl": [
           {
            "marker": {
             "colorbar": {
              "outlinewidth": 0,
              "ticks": ""
             }
            },
            "type": "scattergl"
           }
          ],
          "scattermapbox": [
           {
            "marker": {
             "colorbar": {
              "outlinewidth": 0,
              "ticks": ""
             }
            },
            "type": "scattermapbox"
           }
          ],
          "scatterpolar": [
           {
            "marker": {
             "colorbar": {
              "outlinewidth": 0,
              "ticks": ""
             }
            },
            "type": "scatterpolar"
           }
          ],
          "scatterpolargl": [
           {
            "marker": {
             "colorbar": {
              "outlinewidth": 0,
              "ticks": ""
             }
            },
            "type": "scatterpolargl"
           }
          ],
          "scatterternary": [
           {
            "marker": {
             "colorbar": {
              "outlinewidth": 0,
              "ticks": ""
             }
            },
            "type": "scatterternary"
           }
          ],
          "surface": [
           {
            "colorbar": {
             "outlinewidth": 0,
             "ticks": ""
            },
            "colorscale": [
             [
              0,
              "#0d0887"
             ],
             [
              0.1111111111111111,
              "#46039f"
             ],
             [
              0.2222222222222222,
              "#7201a8"
             ],
             [
              0.3333333333333333,
              "#9c179e"
             ],
             [
              0.4444444444444444,
              "#bd3786"
             ],
             [
              0.5555555555555556,
              "#d8576b"
             ],
             [
              0.6666666666666666,
              "#ed7953"
             ],
             [
              0.7777777777777778,
              "#fb9f3a"
             ],
             [
              0.8888888888888888,
              "#fdca26"
             ],
             [
              1,
              "#f0f921"
             ]
            ],
            "type": "surface"
           }
          ],
          "table": [
           {
            "cells": {
             "fill": {
              "color": "#EBF0F8"
             },
             "line": {
              "color": "white"
             }
            },
            "header": {
             "fill": {
              "color": "#C8D4E3"
             },
             "line": {
              "color": "white"
             }
            },
            "type": "table"
           }
          ]
         },
         "layout": {
          "annotationdefaults": {
           "arrowcolor": "#2a3f5f",
           "arrowhead": 0,
           "arrowwidth": 1
          },
          "autotypenumbers": "strict",
          "coloraxis": {
           "colorbar": {
            "outlinewidth": 0,
            "ticks": ""
           }
          },
          "colorscale": {
           "diverging": [
            [
             0,
             "#8e0152"
            ],
            [
             0.1,
             "#c51b7d"
            ],
            [
             0.2,
             "#de77ae"
            ],
            [
             0.3,
             "#f1b6da"
            ],
            [
             0.4,
             "#fde0ef"
            ],
            [
             0.5,
             "#f7f7f7"
            ],
            [
             0.6,
             "#e6f5d0"
            ],
            [
             0.7,
             "#b8e186"
            ],
            [
             0.8,
             "#7fbc41"
            ],
            [
             0.9,
             "#4d9221"
            ],
            [
             1,
             "#276419"
            ]
           ],
           "sequential": [
            [
             0,
             "#0d0887"
            ],
            [
             0.1111111111111111,
             "#46039f"
            ],
            [
             0.2222222222222222,
             "#7201a8"
            ],
            [
             0.3333333333333333,
             "#9c179e"
            ],
            [
             0.4444444444444444,
             "#bd3786"
            ],
            [
             0.5555555555555556,
             "#d8576b"
            ],
            [
             0.6666666666666666,
             "#ed7953"
            ],
            [
             0.7777777777777778,
             "#fb9f3a"
            ],
            [
             0.8888888888888888,
             "#fdca26"
            ],
            [
             1,
             "#f0f921"
            ]
           ],
           "sequentialminus": [
            [
             0,
             "#0d0887"
            ],
            [
             0.1111111111111111,
             "#46039f"
            ],
            [
             0.2222222222222222,
             "#7201a8"
            ],
            [
             0.3333333333333333,
             "#9c179e"
            ],
            [
             0.4444444444444444,
             "#bd3786"
            ],
            [
             0.5555555555555556,
             "#d8576b"
            ],
            [
             0.6666666666666666,
             "#ed7953"
            ],
            [
             0.7777777777777778,
             "#fb9f3a"
            ],
            [
             0.8888888888888888,
             "#fdca26"
            ],
            [
             1,
             "#f0f921"
            ]
           ]
          },
          "colorway": [
           "#636efa",
           "#EF553B",
           "#00cc96",
           "#ab63fa",
           "#FFA15A",
           "#19d3f3",
           "#FF6692",
           "#B6E880",
           "#FF97FF",
           "#FECB52"
          ],
          "font": {
           "color": "#2a3f5f"
          },
          "geo": {
           "bgcolor": "white",
           "lakecolor": "white",
           "landcolor": "#E5ECF6",
           "showlakes": true,
           "showland": true,
           "subunitcolor": "white"
          },
          "hoverlabel": {
           "align": "left"
          },
          "hovermode": "closest",
          "mapbox": {
           "style": "light"
          },
          "paper_bgcolor": "white",
          "plot_bgcolor": "#E5ECF6",
          "polar": {
           "angularaxis": {
            "gridcolor": "white",
            "linecolor": "white",
            "ticks": ""
           },
           "bgcolor": "#E5ECF6",
           "radialaxis": {
            "gridcolor": "white",
            "linecolor": "white",
            "ticks": ""
           }
          },
          "scene": {
           "xaxis": {
            "backgroundcolor": "#E5ECF6",
            "gridcolor": "white",
            "gridwidth": 2,
            "linecolor": "white",
            "showbackground": true,
            "ticks": "",
            "zerolinecolor": "white"
           },
           "yaxis": {
            "backgroundcolor": "#E5ECF6",
            "gridcolor": "white",
            "gridwidth": 2,
            "linecolor": "white",
            "showbackground": true,
            "ticks": "",
            "zerolinecolor": "white"
           },
           "zaxis": {
            "backgroundcolor": "#E5ECF6",
            "gridcolor": "white",
            "gridwidth": 2,
            "linecolor": "white",
            "showbackground": true,
            "ticks": "",
            "zerolinecolor": "white"
           }
          },
          "shapedefaults": {
           "line": {
            "color": "#2a3f5f"
           }
          },
          "ternary": {
           "aaxis": {
            "gridcolor": "white",
            "linecolor": "white",
            "ticks": ""
           },
           "baxis": {
            "gridcolor": "white",
            "linecolor": "white",
            "ticks": ""
           },
           "bgcolor": "#E5ECF6",
           "caxis": {
            "gridcolor": "white",
            "linecolor": "white",
            "ticks": ""
           }
          },
          "title": {
           "x": 0.05
          },
          "xaxis": {
           "automargin": true,
           "gridcolor": "white",
           "linecolor": "white",
           "ticks": "",
           "title": {
            "standoff": 15
           },
           "zerolinecolor": "white",
           "zerolinewidth": 2
          },
          "yaxis": {
           "automargin": true,
           "gridcolor": "white",
           "linecolor": "white",
           "ticks": "",
           "title": {
            "standoff": 15
           },
           "zerolinecolor": "white",
           "zerolinewidth": 2
          }
         }
        },
        "title": {
         "text": "Movie Title Embeddings"
        },
        "xaxis": {
         "anchor": "y",
         "domain": [
          0,
          1
         ],
         "title": {
          "text": "0"
         }
        },
        "yaxis": {
         "anchor": "x",
         "domain": [
          0,
          1
         ],
         "title": {
          "text": "1"
         }
        }
       }
      },
      "text/html": [
       "<div>                            <div id=\"cf47f935-4426-4790-867d-9b5ffb1da07f\" class=\"plotly-graph-div\" style=\"height:525px; width:100%;\"></div>            <script type=\"text/javascript\">                require([\"plotly\"], function(Plotly) {                    window.PLOTLYENV=window.PLOTLYENV || {};                                    if (document.getElementById(\"cf47f935-4426-4790-867d-9b5ffb1da07f\")) {                    Plotly.newPlot(                        \"cf47f935-4426-4790-867d-9b5ffb1da07f\",                        [{\"hovertemplate\":\"\\u003cb\\u003e%{hovertext}\\u003c\\u002fb\\u003e\\u003cbr\\u003e\\u003cbr\\u003ecolor=Comedy\\u003cbr\\u003e0=%{x}\\u003cbr\\u003e1=%{y}\\u003cextra\\u003e\\u003c\\u002fextra\\u003e\",\"hovertext\":[\"Kolya (1996)\",\"Romy and Michele's High School Reunion (1997)\",\"To Wong Foo, Thanks for Everything! Julie Newmar (1995)\",\"Naked Gun 33 1\\u002f3: The Final Insult (1994)\",\"The Brothers McMullen (1995)\",\"House Arrest (1996)\",\"Bean (1997)\",\"The Birdcage (1996)\",\"Monty Python's Life of Brian (1979)\",\"Liar Liar (1997)\",\"Bio-Dome (1996)\",\"Father of the Bride Part II (1995)\",\"Cool Runnings (1993)\",\"The First Wives Club (1996)\",\"Flirting With Disaster (1996)\",\"Leave It to Beaver (1997)\",\"Tommy Boy (1995)\",\"The Brady Bunch Movie (1995)\",\"Real Genius (1985)\",\"Fish Called Wanda, A (1988)\",\"Clueless (1995)\",\"Mother (1996)\",\"Bottle Rocket (1996)\",\"Kingpin (1996)\",\"Bob Roberts (1992)\",\"Dazed and Confused (1993)\",\"That Thing You Do! (1996)\",\"The Return of the Pink Panther (1974)\",\"It Happened One Night (1934)\",\"Raising Arizona (1987)\",\"Spy Hard (1996)\",\"Multiplicity (1996)\",\"Monty Python and the Holy Grail (1974)\",\"Austin Powers: International Man of Mystery (1997)\",\"Mallrats (1995)\",\"The Great White Hype (1996)\",\"In & Out (1997)\",\"My Fellow Americans (1996)\",\"Houseguest (1994)\",\"Faithful (1996)\",\"Mr. Magoo (1997)\",\"Bringing Up Baby (1938)\",\"Bushwhacked (1995)\",\"Mighty Aphrodite (1995)\",\"Father of the Bride (1950)\",\"Living in Oblivion (1995)\",\"Dumb & Dumber (1994)\",\"Heathers (1989)\",\"Denise Calls Up (1995)\",\"The Full Monty (1997)\",\"The Cable Guy (1996)\",\"Very Brady Sequel, A (1996)\",\"SubUrbia (1997)\",\"Shall We Dance? (1996)\",\"Down Periscope (1996)\",\"Mrs. Doubtfire (1993)\",\"Exit to Eden (1994)\",\"Being There (1979)\",\"Sgt. Bilko (1996)\",\"Major Payne (1994)\",\"Son in Law (1993)\",\"Rocket Man (1997)\",\"The Great Dictator (1940)\",\"Kiss Me, Guido (1997)\",\"Bullets Over Broadway (1994)\",\"The Ref (1994)\",\"Local Hero (1983)\",\"Addams Family Values (1993)\",\"Happy Gilmore (1996)\",\"Jeffrey (1995)\",\"How to Be a Player (1997)\",\"Phat Beach (1996)\",\"Half Baked (1998)\",\"Mixed Nuts (1994)\",\"Harold and Maude (1971)\",\"Cold Comfort Farm (1995)\",\"Waiting for Guffman (1996)\",\"The Pallbearer (1996)\",\"Thin Line Between Love and Hate, A (1996)\",\"Fierce Creatures (1997)\",\"In the Bleak Midwinter (1995)\",\"Ace Ventura: When Nature Calls (1995)\",\"Friday (1995)\",\"For Love or Money (1993)\",\"His Girl Friday (1940)\",\"Clerks (1994)\",\"The Ruling Class (1972)\",\"High School High (1996)\",\"Crooklyn (1994)\",\"Amos & Andrew (1993)\",\"Meet Wally Sparks (1997)\",\"Cops and Robbersons (1994)\",\"Better Off Dead... (1985)\",\"Robin Hood: Men in Tights (1993)\",\"Stuart Saves His Family (1995)\",\"Private Benjamin (1980)\",\"Don't Be a Menace to South Central While Drinking Your Juice in the Hood (1996)\",\"Ace Ventura: Pet Detective (1994)\",\"The Stupids (1996)\",\"Man of the House (1995)\",\"Black Sheep (1996)\",\"My Favorite Year (1982)\",\"Ready to Wear (Pret-A-Porter) (1994)\",\"Eddie (1996)\",\"Live Nude Girls (1995)\",\"Window to Paris (1994)\",\"Theodore Rex (1995)\",\"Metisse (Caf\\u00e9 au Lait) (1993)\",\"Celtic Pride (1996)\",\"Weekend at Bernie's (1989)\",\"Up in Smoke (1978)\",\"Billy Madison (1995)\",\"The Beverly Hillbillies (1993)\",\"Miami Rhapsody (1995)\",\"Clean Slate (1994)\",\"Critical Care (1997)\",\"The Old Lady Who Walked in the Sea (1991)\",\"Fatal Instinct (1993)\",\"Kids in the Hall: Brain Candy (1996)\",\"Nine Months (1995)\",\"The Air Up There (1994)\",\"Lover's Knot (1996)\",\"My Man Godfrey (1936)\",\"Made in America (1993)\",\"Love and Death on Long Island (1997)\",\"The Women (1939)\",\"Rent-a-Kid (1995)\",\"The Associate (1996)\",\"Vegas Vacation (1997)\",\"Out to Sea (1997)\",\"Farmer & Chase (1995)\",\"Angus (1995)\",\"Airheads (1994)\",\"Girl 6 (1996)\",\"Santa with Muscles (1996)\",\"Boys, Les (1997)\",\"The Pest (1997)\",\"Party Girl (1995)\",\"Life with Mikey (1993)\",\"Maybe, Maybe Not (Bewegte Mann, Der) (1994)\",\"Fear of a Black Hat (1993)\",\"Fathers' Day (1997)\",\"I'm Not Rappaport (1996)\",\"Gone Fishin' (1997)\",\"For Richer or Poorer (1997)\",\"Blue in the Face (1995)\",\"Vermin (1998)\",\"Mr. Wrong (1996)\",\"The Sum of Us (1994)\",\"Bye Bye, Love (1995)\",\"Chasers (1994)\",\"Hear My Song (1991)\",\"Reckless (1995)\",\"Love & Human Remains (1993)\",\"Cabin Boy (1994)\",\"The Road to Wellville (1994)\",\"The Search for One-eye Jimmy (1996)\",\"Senseless (1998)\",\"Stripes (1981)\",\"Falling in Love Again (1980)\",\"Withnail and I (1987)\",\"North (1994)\",\"Dunston Checks In (1996)\",\"Dear God (1996)\",\"Late Bloomers (1996)\",\"Jimmy Hollywood (1994)\",\"The Sexual Life of the Belgians (1994)\",\"Jury Duty (1995)\",\"National Lampoon's Senior Trip (1995)\",\"Steal Big, Steal Little (1995)\",\"Destiny Turns on the Radio (1995)\",\"Bewegte Mann, Der (1994)\",\"Cosi (1996)\",\"Celestial Clockwork (1994)\",\"Ed (1996)\",\"Schizopolis (1996)\",\"Mille bolle blu (1993)\",\"Sprung (1997)\",\"Larger Than Life (1996)\",\"Gilligan's Island: The Movie (1998)\",\"House Party 3 (1994)\",\"Pushing Hands (1992)\",\"Grosse Fatigue (1994)\",\"Love Serenade (1996)\",\"Here Comes Cookie (1935)\",\"Three Lives and Only One Death (1996)\",\"Death in Brunswick (1991)\",\"Children of the Revolution (1996)\",\"Gordy (1995)\",\"The Sixth Man (1997)\",\"Chairman of the Board (1998)\",\"B*A*P*S (1997)\",\"Quartier Mozart (1992)\",\"A Chef in Love (1996)\",\"Open Season (1996)\",\"Fausto (1993)\",\"Guantanamera (1994)\",\"Sudden Manhattan (1996)\",\"Getting Even with Dad (1994)\",\"8 Heads in a Duffel Bag (1997)\",\"It Takes Two (1995)\",\"Paris, France (1993)\",\"Mostro, Il (1994)\",\"Ed's Next Move (1996)\",\"Careful (1992)\",\"Intimate Relations (1996)\",\"Wedding Bell Blues (1996)\",\"You So Crazy (1994)\",\"Getting Away With Murder (1996)\"],\"legendgroup\":\"Comedy\",\"marker\":{\"color\":\"#636efa\",\"symbol\":\"circle\"},\"mode\":\"markers\",\"name\":\"Comedy\",\"showlegend\":true,\"x\":[-12.89480209350586,8.50335693359375,5.202246189117432,3.5702643394470215,-22.496694564819336,-7.849904537200928,38.20785903930664,-2.792914390563965,-44.043785095214844,26.725278854370117,-1.2769620418548584,-20.048551559448242,-9.626277923583984,6.46622896194458,3.6648447513580322,37.32266616821289,-13.245113372802734,-20.561506271362305,-25.109668731689453,-32.341556549072266,-0.13750341534614563,4.65945291519165,13.210260391235352,9.039000511169434,-17.999723434448242,14.18430233001709,9.384727478027344,-39.3752326965332,-49.64884567260742,-28.778564453125,-4.889200210571289,2.1027867794036865,-44.1155891418457,20.434059143066406,2.808156728744507,-5.1218461990356445,30.080795288085938,18.021953582763672,31.728315353393555,6.873466968536377,36.083866119384766,-54.89828109741211,-4.586514949798584,-4.199073791503906,-54.35029220581055,2.1496143341064453,27.761184692382812,-25.549535751342773,17.323888778686523,18.475831985473633,-11.89840030670166,-20.447195053100586,38.075439453125,-29.904584884643555,-15.99207592010498,9.236376762390137,21.60338020324707,-40.631900787353516,-10.790517807006836,31.35618019104004,6.422121047973633,13.501816749572754,-51.456912994384766,7.6425909996032715,34.366546630859375,29.16238784790039,-24.114948272705078,9.497115135192871,10.264917373657227,49.16545867919922,24.4726505279541,-11.87601089477539,-23.73128890991211,-12.544463157653809,-50.32002258300781,9.966277122497559,-14.075078964233398,-5.804663181304932,13.948206901550293,34.2901725769043,11.016703605651855,-28.049270629882812,-1.1008362770080566,16.65497589111328,-53.56415557861328,33.78190612792969,-46.377994537353516,8.027189254760742,34.4632453918457,48.608333587646484,43.86384582519531,-17.498897552490234,-11.908910751342773,-28.526683807373047,7.620591163635254,-33.36034393310547,-2.0250158309936523,-28.049358367919922,-8.975448608398438,12.717888832092285,-7.3660807609558105,-36.28590774536133,31.535999298095703,-0.30559393763542175,3.3079445362091064,-31.411231994628906,-21.541624069213867,-26.824357986450195,14.401471138000488,-27.391450881958008,-42.788692474365234,2.3998897075653076,25.990415573120117,7.619719505310059,29.77277183532715,34.50752258300781,-64.62750244140625,-13.764497756958008,0.4099747836589813,7.040794372558594,24.826250076293945,11.256714820861816,-58.20330047607422,19.398155212402344,-4.58368444442749,-55.16471862792969,2.45192813873291,4.356433868408203,21.587244033813477,30.369264602661133,50.416080474853516,9.158209800720215,24.549562454223633,2.5060322284698486,45.238826751708984,-11.292082786560059,26.278690338134766,2.31587553024292,-38.82838439941406,43.66339111328125,-10.385234832763672,14.7511568069458,-9.953411102294922,28.377721786499023,43.50408935546875,13.76943588256836,26.58669090270996,-9.374293327331543,19.724321365356445,3.6587257385253906,-6.114592552185059,16.38387680053711,-0.893324077129364,17.199230194091797,-9.44647216796875,33.62165451049805,-0.852875828742981,24.923458099365234,-32.86248016357422,-35.890140533447266,-26.192737579345703,35.341522216796875,-0.2119741290807724,7.556282997131348,4.639631748199463,32.13535690307617,8.178314208984375,-8.02242660522461,-24.64012336730957,0.5686012506484985,-17.908620834350586,43.63515090942383,2.014941453933716,16.869800567626953,-0.4296663701534271,-2.66457200050354,22.57418441772461,35.61839294433594,2.323241949081421,-1.6560909748077393,8.126585960388184,-14.298270225524902,29.967411041259766,10.954876899719238,-52.38717269897461,-8.444538116455078,-10.085423469543457,10.377291679382324,7.265707015991211,15.153115272521973,2.4445102214813232,36.424007415771484,-26.883604049682617,12.808629035949707,-2.244281053543091,44.74281311035156,39.08737564086914,-11.235296249389648,14.110809326171875,7.766354084014893,5.447964668273926,-31.29464340209961,42.10853958129883,-0.4576813578605652,-15.234899520874023,9.010899543762207,14.00983715057373,20.738853454589844,-8.841402053833008],\"xaxis\":\"x\",\"y\":[-28.17096519470215,-21.848899841308594,39.953617095947266,2.567340135574341,-7.696543216705322,-8.2119722366333,-34.7293586730957,-28.531158447265625,9.964961051940918,-21.931833267211914,-29.848953247070312,0.0029555410146713257,31.200685501098633,6.1734843254089355,-8.41734504699707,-37.8543586730957,-41.08759689331055,-10.08232593536377,3.457131862640381,19.878334045410156,13.309205055236816,-23.95990562438965,-32.20166015625,-28.23248291015625,-6.302526473999023,8.118303298950195,-14.857921600341797,-7.942661762237549,26.325340270996094,15.116537094116211,-16.79706573486328,-22.63400650024414,9.926084518432617,-21.8618221282959,25.052160263061523,-34.130680084228516,-28.3091983795166,22.15778160095215,5.5559611320495605,-18.03717613220215,-38.855892181396484,25.102582931518555,12.745569229125977,30.40365219116211,22.959077835083008,32.272422790527344,-1.9336018562316895,13.87922191619873,-47.21369552612305,-28.146787643432617,-24.47161865234375,-10.258532524108887,-26.345911026000977,-10.081092834472656,-32.20271301269531,7.961328506469727,2.559248208999634,4.805448055267334,-26.98997688293457,2.7668559551239014,-23.659770965576172,-32.13618087768555,33.03403091430664,-7.9996747970581055,12.962396621704102,3.912125825881958,5.105552673339844,9.249746322631836,-42.2867431640625,7.697145462036133,-27.0040340423584,-31.925800323486328,-4.179855823516846,-21.17679786682129,2.005772590637207,30.510923385620117,-24.264225006103516,-1.7806771993637085,-10.554438591003418,-9.346968650817871,29.88225555419922,-40.82592010498047,16.937782287597656,-6.8123626708984375,29.411542892456055,11.284192085266113,7.090460777282715,-22.029773712158203,11.962146759033203,14.289085388183594,-23.95907211303711,-6.4779791831970215,7.455198287963867,19.634565353393555,10.212483406066895,1.6520925760269165,-0.8242520689964294,-40.823333740234375,-22.463302612304688,4.148444652557373,-27.774234771728516,-1.5578114986419678,10.399645805358887,-39.746524810791016,0.7550767064094543,-16.662033081054688,-28.88673210144043,-22.917312622070312,-15.135085105895996,-6.147473335266113,0.6521198749542236,8.104833602905273,33.379920959472656,19.040945053100586,9.193578720092773,-33.841957092285156,19.574899673461914,0.1751389056444168,39.81540298461914,16.49617576599121,0.09683611243963242,-7.855119228363037,27.494579315185547,21.89937400817871,3.5404551029205322,26.707420349121094,19.67352867126465,-21.64565658569336,-29.972522735595703,-19.266124725341797,8.709834098815918,22.66228485107422,0.6992902755737305,-5.214839458465576,21.940820693969727,-37.74566650390625,-34.20042419433594,-1.7527397871017456,-24.519023895263672,15.263763427734375,17.816726684570312,-25.394695281982422,-19.497005462646484,-17.635000228881836,-15.198441505432129,19.470355987548828,-34.528953552246094,-21.457956314086914,-0.9900445938110352,6.207381248474121,-46.30167007446289,40.91984558105469,13.542400360107422,9.433380126953125,-37.8589973449707,-4.8451032638549805,-15.291267395019531,-10.85949993133545,-3.0826308727264404,-0.484834760427475,12.765414237976074,5.04544734954834,-24.595258712768555,-17.996749877929688,-29.16067886352539,6.226017475128174,-5.314279556274414,-5.08657693862915,-10.357206344604492,-7.014826774597168,-1.8936642408370972,15.13735294342041,-24.650239944458008,18.464082717895508,-39.84340286254883,-31.70672607421875,24.600996017456055,-30.98619270324707,-28.7933292388916,7.96858549118042,34.833553314208984,-3.944985866546631,25.565143585205078,-10.214479446411133,24.644100189208984,4.642907619476318,5.41704797744751,-23.327110290527344,21.580646514892578,-29.829179763793945,-44.21095275878906,-35.52489471435547,-32.206886291503906,-8.698728561401367,-27.187374114990234,9.302153587341309,0.41986724734306335,-3.7024989128112793,-25.12470054626465,-48.86281204223633,8.932333946228027,-16.333646774291992,6.477963447570801,-39.275238037109375,-4.252727031707764,-11.453543663024902,-1.6556684970855713,-5.4842658042907715,-1.5330506563186646],\"yaxis\":\"y\",\"type\":\"scattergl\"},{\"hovertemplate\":\"\\u003cb\\u003e%{hovertext}\\u003c\\u002fb\\u003e\\u003cbr\\u003e\\u003cbr\\u003ecolor=Crime|Film-Noir|Mystery|Thriller\\u003cbr\\u003e0=%{x}\\u003cbr\\u003e1=%{y}\\u003cextra\\u003e\\u003c\\u002fextra\\u003e\",\"hovertext\":[\"L.A. Confidential (1997)\",\"Devil in a Blue Dress (1995)\"],\"legendgroup\":\"Crime|Film-Noir|Mystery|Thriller\",\"marker\":{\"color\":\"#EF553B\",\"symbol\":\"circle\"},\"mode\":\"markers\",\"name\":\"Crime|Film-Noir|Mystery|Thriller\",\"showlegend\":true,\"x\":[15.596128463745117,13.96430492401123],\"xaxis\":\"x\",\"y\":[-36.281253814697266,19.487478256225586],\"yaxis\":\"y\",\"type\":\"scattergl\"},{\"hovertemplate\":\"\\u003cb\\u003e%{hovertext}\\u003c\\u002fb\\u003e\\u003cbr\\u003e\\u003cbr\\u003ecolor=Children's|Comedy\\u003cbr\\u003e0=%{x}\\u003cbr\\u003e1=%{y}\\u003cextra\\u003e\\u003c\\u002fextra\\u003e\",\"hovertext\":[\"Heavyweights (1994)\",\"Angels in the Outfield (1994)\",\"George of the Jungle (1997)\",\"Home Alone (1990)\",\"101 Dalmatians (1996)\",\"Matilda (1996)\",\"D3: The Mighty Ducks (1996)\",\"Harriet the Spy (1996)\",\"Jungle2Jungle (1997)\",\"Mouse Hunt (1997)\",\"The Santa Clause (1994)\",\"The Love Bug (1969)\",\"First Kid (1996)\",\"The Shaggy Dog (1959)\",\"The Big Green (1995)\",\"Home Alone 3 (1997)\",\"Air Bud (1997)\",\"The Flintstones (1994)\",\"Richie Rich (1994)\",\"Little Big League (1994)\",\"The Little Rascals (1994)\"],\"legendgroup\":\"Children's|Comedy\",\"marker\":{\"color\":\"#00cc96\",\"symbol\":\"circle\"},\"mode\":\"markers\",\"name\":\"Children's|Comedy\",\"showlegend\":true,\"x\":[1.0637719631195068,29.801565170288086,40.23533630371094,50.36960983276367,-19.034208297729492,4.386492729187012,23.552248001098633,-4.45571756362915,40.26308822631836,26.75575828552246,44.66345977783203,-43.335113525390625,10.892595291137695,-46.442466735839844,-2.6338284015655518,50.35287094116211,34.296443939208984,34.05721664428711,43.21022033691406,31.750986099243164,32.384124755859375],\"xaxis\":\"x\",\"y\":[16.89767837524414,21.237632751464844,-7.990908622741699,-11.636621475219727,-26.203710556030273,-35.257633209228516,-16.788509368896484,-16.867231369018555,-7.780195713043213,-32.3178825378418,21.708534240722656,15.10227108001709,-24.804784774780273,-10.41145133972168,5.593753337860107,-11.656621932983398,-39.958030700683594,16.638526916503906,-14.568024635314941,19.617389678955078,19.33558464050293],\"yaxis\":\"y\",\"type\":\"scattergl\"},{\"hovertemplate\":\"\\u003cb\\u003e%{hovertext}\\u003c\\u002fb\\u003e\\u003cbr\\u003e\\u003cbr\\u003ecolor=Drama|Romance|War|Western\\u003cbr\\u003e0=%{x}\\u003cbr\\u003e1=%{y}\\u003cextra\\u003e\\u003c\\u002fextra\\u003e\",\"hovertext\":[\"Legends of the Fall (1994)\"],\"legendgroup\":\"Drama|Romance|War|Western\",\"marker\":{\"color\":\"#ab63fa\",\"symbol\":\"circle\"},\"mode\":\"markers\",\"name\":\"Drama|Romance|War|Western\",\"showlegend\":true,\"x\":[28.23664665222168],\"xaxis\":\"x\",\"y\":[-6.408073425292969],\"yaxis\":\"y\",\"type\":\"scattergl\"},{\"hovertemplate\":\"\\u003cb\\u003e%{hovertext}\\u003c\\u002fb\\u003e\\u003cbr\\u003e\\u003cbr\\u003ecolor=Crime|Drama\\u003cbr\\u003e0=%{x}\\u003cbr\\u003e1=%{y}\\u003cextra\\u003e\\u003c\\u002fextra\\u003e\",\"hovertext\":[\"Jackie Brown (1997)\",\"Bonnie and Clyde (1967)\",\"Pulp Fiction (1994)\",\"GoodFellas (1990)\",\"Donnie Brasco (1997)\",\"Once Were Warriors (1994)\",\"Sleepers (1996)\",\"Carlito's Way (1993)\",\"The Newton Boys (1998)\",\"Night Falls on Manhattan (1997)\",\"Jason's Lyric (1994)\",\"Cyclo (1995)\",\"Killer: A Journal of Murder (1995)\",\"New Jersey Drive (1995)\",\"Letter From Death Row, A (1998)\",\"Angel on My Shoulder (1946)\",\"Twilight (1998)\",\"They Made Me a Criminal (1939)\",\"Normal Life (1996)\"],\"legendgroup\":\"Crime|Drama\",\"marker\":{\"color\":\"#FFA15A\",\"symbol\":\"circle\"},\"mode\":\"markers\",\"name\":\"Crime|Drama\",\"showlegend\":true,\"x\":[19.045015335083008,-40.12508010864258,28.920326232910156,-17.462217330932617,17.78506088256836,32.57459259033203,6.046059608459473,35.11093521118164,-10.284394264221191,8.763094902038574,29.508304595947266,-3.077120542526245,-9.941388130187988,-0.8001981377601624,-11.85525894165039,-40.59694290161133,21.807846069335938,-55.2191162109375,3.5469748973846436],\"xaxis\":\"x\",\"y\":[-36.205379486083984,25.163673400878906,6.477540016174316,11.81041145324707,-36.371604919433594,-12.465394973754883,30.042213439941406,-1.859731912612915,-36.63782501220703,-1.4276435375213623,12.11066722869873,20.52993392944336,2.4328386783599854,15.054713249206543,4.742617607116699,31.73097801208496,-9.771230697631836,32.02155685424805,-29.30671501159668],\"yaxis\":\"y\",\"type\":\"scattergl\"},{\"hovertemplate\":\"\\u003cb\\u003e%{hovertext}\\u003c\\u002fb\\u003e\\u003cbr\\u003e\\u003cbr\\u003ecolor=Sci-Fi|War\\u003cbr\\u003e0=%{x}\\u003cbr\\u003e1=%{y}\\u003cextra\\u003e\\u003c\\u002fextra\\u003e\",\"hovertext\":[\"Dr. Strangelove or: How I Learned to Stop Worrying and Love the Bomb (1963)\"],\"legendgroup\":\"Sci-Fi|War\",\"marker\":{\"color\":\"#19d3f3\",\"symbol\":\"circle\"},\"mode\":\"markers\",\"name\":\"Sci-Fi|War\",\"showlegend\":true,\"x\":[-50.51475143432617],\"xaxis\":\"x\",\"y\":[11.299427032470703],\"yaxis\":\"y\",\"type\":\"scattergl\"},{\"hovertemplate\":\"\\u003cb\\u003e%{hovertext}\\u003c\\u002fb\\u003e\\u003cbr\\u003e\\u003cbr\\u003ecolor=Action|Thriller\\u003cbr\\u003e0=%{x}\\u003cbr\\u003e1=%{y}\\u003cextra\\u003e\\u003c\\u002fextra\\u003e\",\"hovertext\":[\"The Hunt for Red October (1990)\",\"Die Hard (1988)\",\"Broken Arrow (1996)\",\"Executive Decision (1996)\",\"Dante's Peak (1997)\",\"The River Wild (1994)\",\"The Fugitive (1993)\",\"Eraser (1996)\",\"Stag (1997)\",\"Die Hard: With a Vengeance (1995)\",\"Supercop (1992)\",\"Breakdown (1997)\",\"The Long Kiss Goodnight (1996)\",\"Blown Away (1994)\",\"Natural Born Killers (1994)\",\"Nick of Time (1995)\",\"Die xue shuang xiong (Killer, The) (1989)\",\"Air Force One (1997)\",\"Die Hard 2 (1990)\",\"The Crow: City of Angels (1996)\",\"In the Line of Fire (1993)\",\"The Replacement Killers (1998)\",\"The Jackal (1997)\",\"The Glimmer Man (1996)\",\"Hard Rain (1998)\",\"U.S. Marshalls (1998)\",\"Shopping (1994)\",\"The Courtyard (1995)\",\"Mirage (1995)\"],\"legendgroup\":\"Action|Thriller\",\"marker\":{\"color\":\"#FF6692\",\"symbol\":\"circle\"},\"mode\":\"markers\",\"name\":\"Action|Thriller\",\"showlegend\":true,\"x\":[-18.627424240112305,-20.160743713378906,-4.120652675628662,2.1972501277923584,43.176143646240234,33.5790901184082,13.303777694702148,-4.7375993728637695,28.58810806274414,-19.775381088256836,-13.966827392578125,33.60884475708008,7.249580383300781,24.666854858398438,-12.508140563964844,-7.046205520629883,38.88337707519531,32.373783111572266,-20.062091827392578,24.556686401367188,-4.984451770782471,-11.614584922790527,23.274702072143555,0.9949425458908081,24.226943969726562,-9.216129302978516,32.17525100708008,0.9698075652122498,0.7250648736953735],\"xaxis\":\"x\",\"y\":[8.677263259887695,5.911574363708496,-27.86396026611328,-43.69698715209961,-29.383544921875,-6.4315876960754395,10.373769760131836,-20.248355865478516,-33.8464469909668,6.092042922973633,-7.488283157348633,-28.954708099365234,-9.936627388000488,-1.5066008567810059,1.38324773311615,19.570314407348633,27.52859878540039,-41.738895416259766,5.8990373611450195,-7.110776424407959,-5.548055171966553,1.4055633544921875,-22.6354923248291,-17.415773391723633,-14.082867622375488,-6.77700138092041,9.325434684753418,25.74229621887207,21.6396484375],\"yaxis\":\"y\",\"type\":\"scattergl\"},{\"hovertemplate\":\"\\u003cb\\u003e%{hovertext}\\u003c\\u002fb\\u003e\\u003cbr\\u003e\\u003cbr\\u003ecolor=Adventure|Children's|Romance\\u003cbr\\u003e0=%{x}\\u003cbr\\u003e1=%{y}\\u003cextra\\u003e\\u003c\\u002fextra\\u003e\",\"hovertext\":[\"The Jungle Book (1994)\"],\"legendgroup\":\"Adventure|Children's|Romance\",\"marker\":{\"color\":\"#B6E880\",\"symbol\":\"circle\"},\"mode\":\"markers\",\"name\":\"Adventure|Children's|Romance\",\"showlegend\":true,\"x\":[39.85551834106445],\"xaxis\":\"x\",\"y\":[-6.0177764892578125],\"yaxis\":\"y\",\"type\":\"scattergl\"},{\"hovertemplate\":\"\\u003cb\\u003e%{hovertext}\\u003c\\u002fb\\u003e\\u003cbr\\u003e\\u003cbr\\u003ecolor=Comedy|Musical|Romance\\u003cbr\\u003e0=%{x}\\u003cbr\\u003e1=%{y}\\u003cextra\\u003e\\u003c\\u002fextra\\u003e\",\"hovertext\":[\"Grease (1978)\",\"Shall We Dance? (1937)\",\"Everyone Says I Love You (1996)\",\"The Gay Divorcee (1934)\",\"Grease 2 (1982)\",\"Top Hat (1935)\",\"Damsel in Distress, A (1937)\"],\"legendgroup\":\"Comedy|Musical|Romance\",\"marker\":{\"color\":\"#FF97FF\",\"symbol\":\"circle\"},\"mode\":\"markers\",\"name\":\"Comedy|Musical|Romance\",\"showlegend\":true,\"x\":[-38.87065505981445,-29.91780662536621,12.528668403625488,-55.63921356201172,-38.71604919433594,-50.12110137939453,-54.19717025756836],\"xaxis\":\"x\",\"y\":[-1.9622875452041626,-10.098260879516602,-11.370734214782715,28.69782257080078,-1.9975416660308838,24.923738479614258,26.8725643157959],\"yaxis\":\"y\",\"type\":\"scattergl\"},{\"hovertemplate\":\"\\u003cb\\u003e%{hovertext}\\u003c\\u002fb\\u003e\\u003cbr\\u003e\\u003cbr\\u003ecolor=Drama\\u003cbr\\u003e0=%{x}\\u003cbr\\u003e1=%{y}\\u003cextra\\u003e\\u003c\\u002fextra\\u003e\",\"hovertext\":[\"The Remains of the Day (1993)\",\"The Age of Innocence (1993)\",\"The Man Without a Face (1993)\",\"Restoration (1995)\",\"The Right Stuff (1983)\",\"Dead Poets Society (1989)\",\"To Kill a Mockingbird (1962)\",\"Mr. Holland's Opus (1995)\",\"Jean de Florette (1986)\",\"Dangerous Minds (1995)\",\"Miller's Crossing (1990)\",\"It's a Wonderful Life (1946)\",\"In the Name of the Father (1993)\",\"Amistad (1997)\",\"My Family (1995)\",\"Pump Up the Volume (1990)\",\"Get on the Bus (1996)\",\"Good Will Hunting (1997)\",\"Big Night (1996)\",\"Clockers (1995)\",\"Three Colors: White (1994)\",\"12 Angry Men (1957)\",\"Tie Me Up! Tie Me Down! (1990)\",\"The Apostle (1997)\",\"Unhook the Stars (1996)\",\"Streetcar Named Desire, A (1951)\",\"Rudy (1993)\",\"The Shawshank Redemption (1994)\",\"One Flew Over the Cuckoo's Nest (1975)\",\"The People vs. Larry Flynt (1996)\",\"Ulee's Gold (1997)\",\"Field of Dreams (1989)\",\"Glengarry Glen Ross (1992)\",\"Citizen Kane (1941)\",\"The Unbearable Lightness of Being (1988)\",\"It's My Party (1995)\",\"Miracle on 34th Street (1994)\",\"The Scout (1994)\",\"Trees Lounge (1996)\",\"The Cook the Thief His Wife & Her Lover (1989)\",\"Lost Horizon (1937)\",\"Little Women (1994)\",\"The Crossing Guard (1995)\",\"Once Upon a Time... When We Were Colored (1995)\",\"Three Colors: Blue (1993)\",\"Naked (1993)\",\"The Ice Storm (1997)\",\"Trainspotting (1996)\",\"Powder (1995)\",\"Beautiful Girls (1996)\",\"Priest (1994)\",\"The Spitfire Grill (1996)\",\"Quiz Show (1994)\",\"Kundun (1997)\",\"Red Firecracker, Green Firecracker (1994)\",\"Orlando (1993)\",\"Hamlet (1996)\",\"Rosewood (1997)\",\"Sophie's Choice (1982)\",\"Enchanted April (1991)\",\"Higher Learning (1995)\",\"East of Eden (1955)\",\"The Chamber (1996)\",\"My Left Foot (1989)\",\"Fried Green Tomatoes (1991)\",\"Nell (1994)\",\"The Madness of King George (1994)\",\"Rebel Without a Cause (1955)\",\"Basquiat (1996)\",\"Marvin's Room (1996)\",\"The Flower of My Secret (1995)\",\"Smoke (1995)\",\"Dead Man Walking (1995)\",\"Raise the Red Lantern (1991)\",\"The Rainmaker (1997)\",\"Secrets & Lies (1996)\",\"Thousand Acres, A (1997)\",\"On Golden Pond (1981)\",\"Showgirls (1995)\",\"Searching for Bobby Fischer (1993)\",\"Moll Flanders (1996)\",\"Three Colors: Red (1994)\",\"Bastard Out of Carolina (1996)\",\"Sex, Lies, and Videotape (1989)\",\"Georgia (1995)\",\"Breaking the Waves (1996)\",\"Last Dance (1996)\",\"The Blue Angel (1930)\",\"My Life and Times With Antonin Artaud (En compagnie d'Antonin Artaud) (1993)\",\"Widows' Peak (1994)\",\"Somebody to Love (1994)\",\"Captives (1994)\",\"Hearts and Minds (1996)\",\"Manon of the Spring (Manon des sources) (1986)\",\"The Crucible (1996)\",\"Casino (1995)\",\"Time to Kill, A (1996)\",\"Crows and Sparrows (1949)\",\"Dingo (1992)\",\"Gandhi (1982)\",\"Of Human Bondage (1934)\",\"Poetic Justice (1993)\",\"The Horseman on the Roof (1995)\",\"The Postman (1997)\",\"Total Eclipse (1995)\",\"Robin Hood: Prince of Thieves (1991)\",\"Cat on a Hot Tin Roof (1958)\",\"8 1\\u002f2 (1963)\",\"What's Love Got to Do with It (1993)\",\"Beyond Rangoon (1995)\",\"Raging Bull (1980)\",\"Kids (1995)\",\"Short Cuts (1993)\",\"Career Girls (1997)\",\"Boogie Nights (1997)\",\"The Horse Whisperer (1998)\",\"My Life as a Dog (Mitt liv som hund) (1985)\",\"Double vie de V\\u00e9ronique, La (Double Life of Veronique, The) (1991)\",\"The Garden of Finzi-Contini (1970)\",\"Manny & Lo (1996)\",\"The Convent (1995)\",\"Mother Night (1996)\",\"Foxfire (1996)\",\"The Basketball Diaries (1995)\",\"The Seventh Seal (1957)\",\"Washington Square (1997)\",\"Giant (1956)\",\"Telling Lies in America (1997)\",\"Vanya on 42nd Street (1994)\",\"Every Other Weekend (1990)\",\"Ponette (1996)\",\"Soul Food (1997)\",\"Losing Isaiah (1995)\",\"Picnic (1955)\",\"In the Company of Men (1997)\",\"Jude (1996)\",\"Homage (1995)\",\"Walkabout (1971)\",\"All About Eve (1950)\",\"Bread and Chocolate (Pane e cioccolata) (1973)\",\"Belle de jour (1967)\",\"To Live (Huozhe) (1994)\",\"Primary Colors (1998)\",\"187 (1997)\",\"Nadja (1994)\",\"Mr. Smith Goes to Washington (1939)\",\"The Whole Wide World (1996)\",\"Eve's Bayou (1997)\",\"Surviving Picasso (1996)\",\"Fresh (1994)\",\"Now and Then (1995)\",\"The Stars Fell on Henrietta (1995)\",\"Stealing Beauty (1996)\",\"Bronx Tale, A (1993)\",\"Mrs. Parker and the Vicious Circle (1994)\",\"Delta of Venus (1994)\",\"The Return of Martin Guerre (1982)\",\"Cobb (1994)\",\"Female Perversions (1996)\",\"Of Love and Shadows (1994)\",\"Star Maps (1997)\",\"Philadelphia (1993)\",\"Ridicule (1996)\",\"Christmas Carol, A (1938)\",\"The Portrait of a Lady (1996)\",\"Prefontaine (1997)\",\"The Scarlet Letter (1995)\",\"Feast of July (1995)\",\"The Ballad of Narayama (1958)\",\"Shanghai Triad (Yao a yao yao dao waipo qiao) (1995)\",\"Antonia's Line (1995)\",\"Ruby in Paradise (1993)\",\"Hate (Haine, La) (1995)\",\"Nixon (1995)\",\"Four Days in September (1997)\",\"Little Odessa (1994)\",\"Bitter Moon (1992)\",\"White Man's Burden (1995)\",\"The Preacher's Wife (1996)\",\"Passion Fish (1992)\",\"Paris, Texas (1984)\",\"Othello (1995)\",\"The Truman Show (1998)\",\"The Sweet Hereafter (1997)\",\"I Shot Andy Warhol (1996)\",\"The Tin Drum (1979)\",\"Nil By Mouth (1997)\",\"Flirt (1995)\",\"M. Butterfly (1993)\",\"My Own Private Idaho (1991)\",\"Squeeze (1996)\",\"The Boys of St. Vincent (1993)\",\"Ghosts of Mississippi (1996)\",\"Awfully Big Adventure, An (1995)\",\"The Candidate (1972)\",\"Burnt By the Sun (1994)\",\"The Last Time I Saw Paris (1954)\",\"The Browning Version (1994)\",\"Little Buddha (1993)\",\"Sunset Park (1996)\",\"The Funeral (1996)\",\"When a Man Loves a Woman (1994)\",\"Nobody's Fool (1994)\",\"The Substance of Fire (1996)\",\"One Night Stand (1997)\",\"Mina Tannenbaum (1994)\",\"Margaret's Museum (1995)\",\"Three Wishes (1995)\",\"The Grass Harp (1995)\",\"Exotica (1994)\",\"The White Balloon (1995)\",\"Meet John Doe (1941)\",\"Very Natural Thing, A (1974)\",\"Fearless (1993)\",\"Drunks (1995)\",\"Faces (1968)\",\"Fille seule, La (A Single Girl) (1995)\",\"Little Lord Fauntleroy (1936)\",\"Pather Panchali (1955)\",\"Blood & Wine (1997)\",\"Panther (1995)\",\"The Star Maker (1995)\",\"Kaspar Hauser (1993)\",\"Ill Gotten Gains (1997)\",\"Other Voices, Other Rooms (1997)\",\"Princess Caraboo (1994)\",\"Tom & Viv (1994)\",\"Gabbeh (1996)\",\"Jefferson in Paris (1995)\",\"Walk in the Sun, A (1945)\",\"Boy's Life 2 (1997)\",\"Cry, the Beloved Country (1995)\",\"Aiqing wansui (1994)\",\"Lotto Land (1995)\",\"The Last Time I Committed Suicide (1997)\",\"Johns (1996)\",\"The Mighty (1998)\",\"King of the Hill (1993)\",\"8 Seconds (1994)\",\"Strawberry and Chocolate (Fresa y chocolate) (1993)\",\"The Turning (1992)\",\"Collectionneuse, La (1967)\",\"Stonewall (1995)\",\"Anna (1996)\",\"Traveller (1997)\",\"An Unforgettable Summer (1994)\",\"Two Deaths (1995)\",\"Venice\\u002fVenice (1992)\",\"Safe Passage (1994)\",\"Before the Rain (Pred dozhdot) (1994)\",\"Man of No Importance, A (1994)\",\"I Don't Want to Talk About It (De eso no se habla) (1993)\",\"Daens (1992)\",\"My Crazy Life (Mi vida loca) (1993)\",\"The Forbidden Christ (1950)\",\"The Designated Mourner (1997)\",\"All Over Me (1997)\",\"The Story of Xinghua (1993)\",\"The Locusts (1997)\",\"Race the Sun (1996)\",\"Frisk (1995)\",\"Nothing to Lose (1994)\",\"The Joy Luck Club (1993)\",\"Contempt (M\\u00e9pris, Le) (1963)\",\"The Journey of August King (1995)\",\"The Cement Garden (1993)\",\"Hurricane Streets (1998)\",\"Duoluo tianshi (1995)\",\"Dangerous Beauty (1998)\",\"The Run of the Country (1995)\",\"In the Realm of the Senses (Ai no corrida) (1976)\",\"Full Speed (1996)\",\"For Ever Mozart (1996)\",\"Promesse, La (1996)\",\"The World of Apu (1959)\",\"The Man from Down Under (1943)\",\"Two Bits (1995)\",\"Mondo (1996)\",\"Century (1993)\",\"Double Happiness (1994)\",\"The Magic Hour (1998)\",\"Nelly & Monsieur Arnaud (1995)\",\"The Cure (1995)\",\"Infinity (1996)\",\"Boys in Venice (1996)\",\"To Have, or Not (1995)\",\"Boys (1996)\",\"Dangerous Ground (1997)\",\"The Winter Guest (1997)\",\"Touki Bouki (Journey of the Hyena) (1973)\",\"Ciao, Professore! (1993)\",\"Dream With the Fishes (1997)\",\"Aparajito (1956)\",\"Nowhere (1997)\",\"I, Worst of All (Yo, la peor de todas) (1990)\",\"The Secret Agent (1996)\",\"Ladybird Ladybird (1994)\",\"Angela (1995)\",\"Desert Winds (1995)\",\"Calendar Girl (1993)\",\"Being Human (1993)\",\"Broken English (1996)\",\"Germinal (1993)\",\"The Wedding Gift (1994)\",\"Two or Three Things I Know About Her (1966)\",\"Foreign Student (1994)\",\"C\\u00e9r\\u00e9monie, La (1995)\",\"Price Above Rubies, A (1998)\",\"Losing Chase (1996)\",\"Simple Twist of Fate, A (1994)\",\"Above the Rim (1994)\",\"Wild Reeds (1994)\",\"All Things Fair (1996)\",\"The Neon Bible (1995)\",\"Blue Chips (1994)\",\"Boys Life (1995)\",\"Enfer, L' (1994)\",\"The Invitation (1986)\",\"The Wooden Man's Bride (1994)\",\"The Beans of Egypt, Maine (1994)\",\"Girl in the Cadillac (1995)\",\"American Buffalo (1996)\",\"N\\u00e9nette et Boni (1996)\",\"Someone Else's America (1995)\",\"The Day the Sun Turned Cold (1994)\",\"Hollow Reed (1996)\",\"Some Mother's Son (1996)\",\"Wend Kuuni (God's Gift) (1982)\",\"S.F.W. (1994)\",\"Lamerica (1994)\",\"The Quiet Room (1996)\",\"Entertaining Angels: The Dorothy Day Story (1996)\",\"Harlem (1993)\",\"Bitter Sugar (Azucar Amargo) (1996)\",\"The Butcher Boy (1998)\",\"Savage Nights (Nuits fauves, Les) (1992)\",\"Small Faces (1995)\",\"The New Age (1994)\",\"Angel Baby (1995)\",\"Symphonie pastorale, La (1946)\",\"The Saint of Fort Washington (1993)\",\"Etz Hadomim Tafus (Under the Domin Tree) (1994)\",\"The Low Life (1994)\",\"Kika (1993)\",\"Bonheur, Le (1965)\",\"Sweet Nothing (1995)\",\"Death in the Garden (Mort en ce jardin, La) (1956)\",\"Ripe (1996)\",\"Two Friends (1986) \",\"Niagara, Niagara (1997)\",\"The Glass Shield (1994)\",\"The Scarlet Letter (1926)\",\"Mat' i syn (1997)\",\"Shadows (Cienie) (1988)\",\"The War at Home (1996)\",\"To Cross the Rubicon (1991)\",\"My Favorite Season (1993)\",\"Further Gesture, A (1996)\",\"Brother's Kiss, A (1997)\",\"August (1996)\",\"Hedd Wyn (1992)\",\"Shadow of Angels (Schatten der Engel) (1976)\",\"Brothers in Trouble (1995)\",\"The Next Step (1995)\",\"The Sunchaser (1996)\",\"Scream of Stone (Schrei aus Stein) (1991)\",\"Mamma Roma (1962)\",\"The Eighth Day (1996)\",\"Girls Town (1996)\",\"The Silence of the Palace (1994)\"],\"legendgroup\":\"Drama\",\"marker\":{\"color\":\"#FECB52\",\"symbol\":\"circle\"},\"mode\":\"markers\",\"name\":\"Drama\",\"showlegend\":true,\"x\":[17.259105682373047,20.0864315032959,17.785629272460938,-1.4356632232666016,-25.51163101196289,-24.72053337097168,-50.17920684814453,2.9939894676208496,-37.62912368774414,-2.6338369846343994,-10.179943084716797,-48.66133499145508,14.717626571655273,27.01984405517578,7.661638259887695,13.107696533203125,-3.745452880859375,21.485485076904297,5.224310398101807,-7.797676086425781,22.219676971435547,-36.865509033203125,13.261927604675293,27.57750701904297,4.772128105163574,-51.605525970458984,20.798648834228516,29.434785842895508,-47.05903625488281,-0.6172294020652771,38.347713470458984,10.900118827819824,-19.54229164123535,-47.453975677490234,-42.59404754638672,8.035726547241211,44.41084289550781,29.664255142211914,0.7297695279121399,-25.08314323425293,-49.929019927978516,31.515670776367188,-10.202555656433105,7.639346599578857,22.527082443237305,3.930598258972168,18.153627395629883,-1.5131908655166626,0.851667046546936,2.617877721786499,33.44575881958008,14.816411972045898,31.222599029541016,40.036617279052734,24.89463996887207,20.958538055419922,-3.4455409049987793,31.999370574951172,-36.753257751464844,27.362977981567383,2.8783254623413086,-61.2465934753418,-0.6549022197723389,-24.558273315429688,17.144760131835938,36.666568756103516,10.974922180175781,-44.78614044189453,-21.79784393310547,48.77024459838867,14.560830116271973,-0.32400044798851013,-9.409775733947754,23.42140769958496,24.62158966064453,-3.1609315872192383,38.21617889404297,-37.65611267089844,1.9958065748214722,12.602091789245605,3.7409090995788574,22.91819953918457,-5.751546859741211,-25.17272186279297,-2.9744296073913574,-7.984358310699463,6.705482482910156,-41.13538360595703,-37.759544372558594,43.802955627441406,15.501343727111816,22.005949020385742,15.274949073791504,-37.94248962402344,-4.427558422088623,-3.6896698474884033,-10.469991683959961,-48.307247161865234,-20.178897857666016,-38.11284637451172,-55.23264694213867,21.23941421508789,30.969940185546875,28.895652770996094,-5.8586225509643555,-28.519283294677734,-47.16289520263672,-50.02634048461914,16.75113868713379,9.720584869384766,-34.64966583251953,2.2037689685821533,11.655920028686523,3.305938243865967,20.186843872070312,31.473913192749023,-46.102508544921875,-36.9677848815918,-59.0978889465332,5.765568256378174,0.09452508389949799,5.050582408905029,16.096115112304688,10.154731750488281,-39.616451263427734,48.550628662109375,-47.00392532348633,26.802154541015625,35.48652267456055,-27.324905395507812,-30.5463809967041,32.523197174072266,-7.378309726715088,-52.38088607788086,17.063730239868164,5.306179046630859,-5.53083610534668,-48.900630950927734,-56.698970794677734,-46.651302337646484,-57.635162353515625,37.55308532714844,21.9361515045166,35.3782844543457,37.44948196411133,-51.24121856689453,10.27357006072998,30.74323844909668,-21.8184757232666,31.7470703125,6.955379962921143,8.334885597229004,1.0585451126098633,-2.5855624675750732,21.911373138427734,27.625659942626953,-38.634979248046875,48.41801071166992,3.5692150592803955,14.540130615234375,7.464616298675537,22.3995418548584,-7.822906970977783,-53.07353591918945,6.003298759460449,37.23268127441406,-15.077230453491211,-2.08566951751709,-53.3812370300293,36.34902572631836,4.481657981872559,26.017017364501953,-27.426841735839844,16.14729881286621,12.854107856750488,30.352235794067383,-14.10970401763916,17.63426399230957,7.5106096267700195,27.700138092041016,-31.556734085083008,-4.062355995178223,20.84395980834961,33.28068161010742,-25.73571014404297,-40.85136032104492,31.64891815185547,2.051239013671875,13.032569885253906,18.145492553710938,-7.683459281921387,-12.717371940612793,-0.6559443473815918,-1.429049015045166,-47.09266662597656,25.813194274902344,-54.65822219848633,37.88936996459961,23.203414916992188,3.8749475479125977,-5.8385467529296875,15.541415214538574,22.010299682617188,-14.177631378173828,19.83941078186035,40.25972366333008,0.24390816688537598,34.63396072387695,4.898716926574707,38.75429153442383,20.065292358398438,-49.47032165527344,-40.76784133911133,12.207547187805176,-0.08621985465288162,-49.68682098388672,-31.192407608032227,-57.58284378051758,-52.81244659423828,-10.494443893432617,-2.5867698192596436,7.136168479919434,45.05928421020508,22.642484664916992,48.52390670776367,14.245950698852539,14.783221244812012,-4.395298004150391,-30.43868637084961,-50.355709075927734,-11.515593528747559,-7.39384651184082,37.62675476074219,-4.612624645233154,-5.095087051391602,48.89141082763672,22.641014099121094,26.04196548461914,6.694392204284668,-46.31467056274414,-16.79256820678711,-57.747676849365234,4.576944351196289,3.9866943359375,32.00556182861328,10.564781188964844,-8.467093467712402,-12.921780586242676,21.001550674438477,25.63750648498535,16.868444442749023,-40.16159439086914,-20.72208595275879,-39.3125,-44.223609924316406,-5.547438621520996,34.67850875854492,37.96932601928711,25.506420135498047,2.9025418758392334,1.3106979131698608,21.763959884643555,32.66268539428711,-56.50613784790039,0.45518776774406433,15.59430980682373,18.48708152770996,37.08855056762695,1.2134473323822021,-8.959851264953613,-46.51156234741211,8.371956825256348,-27.01225471496582,-29.62445068359375,-53.172264099121094,-46.300254821777344,4.703456401824951,2.4638290405273438,19.79398536682129,17.82986068725586,3.4483656883239746,-31.20661163330078,2.964716672897339,1.5659160614013672,-12.21985149383545,6.03824520111084,-10.952109336853027,1.399841547012329,35.971561431884766,-47.925697326660156,44.42977523803711,28.573169708251953,-53.00712203979492,31.840763092041016,-40.45509719848633,-3.336998224258423,11.621464729309082,9.22284984588623,0.9212019443511963,4.0523481369018555,17.572254180908203,-5.963397026062012,19.038782119750977,15.252620697021484,-57.88230895996094,33.59385299682617,-30.097164154052734,26.610675811767578,-6.472735404968262,17.481042861938477,27.933629989624023,33.58701705932617,6.649291515350342,-0.8449227809906006,27.710233688354492,-11.628113746643066,-28.13631820678711,-28.2390079498291,14.15271282196045,38.83645248413086,1.5636873245239258,-6.9728240966796875,-30.818706512451172,18.01917266845703,26.08173370361328,9.599023818969727,5.3743767738342285,-42.46128845214844,36.91569900512695,38.44158935546875,48.702674865722656,-17.883024215698242,22.29770851135254,-14.173172950744629,-9.020058631896973,-24.641939163208008,12.090448379516602,30.516342163085938,7.579981327056885,-58.455055236816406,48.05337905883789,41.16044998168945,30.221351623535156,19.16241455078125,-56.98536682128906,8.576342582702637,-58.65114974975586,-8.161316871643066,-28.494983673095703,29.152366638183594,25.080446243286133,-15.128292083740234,26.796600341796875,-12.397600173950195,15.416998863220215,-11.342682838439941,10.490609169006348,3.975597620010376,8.299975395202637,0.4731391668319702,-2.0204601287841797,-39.68736267089844,-22.48054313659668,4.67762565612793,2.518660068511963,-15.744872093200684,-50.644161224365234,6.242044448852539,2.625795602798462,25.810808181762695],\"xaxis\":\"x\",\"y\":[8.770986557006836,8.330729484558105,4.466211795806885,21.475723266601562,2.905514717102051,13.922892570495605,9.11536693572998,17.982912063598633,-16.355323791503906,14.854903221130371,14.081574440002441,29.236244201660156,-23.245899200439453,-38.11307907104492,10.858277320861816,40.57073974609375,-22.811532974243164,-27.596294403076172,-12.919641494750977,18.299392700195312,26.439903259277344,20.686138153076172,16.614850997924805,-26.334266662597656,-14.511958122253418,21.777252197265625,13.401280403137207,-0.210785910487175,10.801305770874023,-3.264038562774658,-28.86994743347168,40.634342193603516,-5.585123538970947,30.092636108398438,-4.307033538818359,33.990814208984375,21.611854553222656,2.7058799266815186,-31.282238006591797,18.075847625732422,27.951601028442383,20.26201820373535,14.113580703735352,14.132866859436035,25.94339942932129,1.5885034799575806,-18.33165740966797,-25.454322814941406,18.10404396057129,-3.8714702129364014,2.099050760269165,-18.064590454101562,13.988320350646973,-22.244626998901367,26.03657341003418,14.108001708984375,-9.185587882995605,-35.87551498413086,-4.906799793243408,-9.029817581176758,16.438983917236328,20.909635543823242,-32.367088317871094,-0.9671374559402466,35.413307189941406,5.34849739074707,-28.479942321777344,23.40237045288086,-34.32173538208008,-5.390470027923584,30.039445877075195,18.850629806518555,9.207517623901367,21.5986270904541,-14.497562408447266,-16.518638610839844,-19.834508895874023,0.3311271369457245,-2.100531578063965,11.360367774963379,-35.39788055419922,26.662857055664062,-26.04034423828125,16.92455291748047,24.384864807128906,-32.42696762084961,-12.909222602844238,32.13700866699219,-22.841678619384766,-29.436965942382812,-6.2584309577941895,1.440995216369629,-13.082812309265137,-16.646202087402344,-10.362324714660645,17.821683883666992,0.8340879678726196,11.640022277832031,-17.877241134643555,-5.115076541900635,30.50005531311035,10.369487762451172,-9.394082069396973,-31.39204978942871,23.03175163269043,19.624834060668945,19.568113327026367,13.552918434143066,-7.234222412109375,19.998239517211914,3.2893295288085938,19.2813777923584,14.073845863342285,-3.61409854888916,-29.92453384399414,-8.558358192443848,-11.738897323608398,-20.396848678588867,5.323338985443115,-27.02720069885254,26.769580841064453,-12.692204475402832,-18.564605712890625,38.528934478759766,19.754613876342773,-26.3770751953125,16.13173484802246,-21.465831756591797,13.62065601348877,-6.219026565551758,-25.862028121948242,-32.166969299316406,-46.69580078125,17.53453826904297,-27.992578506469727,-19.547597885131836,15.282491683959961,-0.1806967407464981,23.645408630371094,-17.785749435424805,9.307951927185059,27.7611083984375,27.156641006469727,-32.98528289794922,5.293765068054199,28.828187942504883,-13.611225128173828,-18.223793029785156,-34.302825927734375,8.091361045837402,13.953336715698242,1.4259767532348633,-8.049880027770996,1.8551768064498901,31.901447296142578,11.408991813659668,-7.604702472686768,5.618194580078125,-6.063543796539307,-4.6543684005737305,3.1278085708618164,13.956460952758789,-21.159547805786133,25.78205680847168,-36.903289794921875,-31.560115814208984,32.57966613769531,27.662899017333984,21.28131866455078,28.633331298828125,-40.60035705566406,17.983713150024414,-18.77077865600586,21.92857551574707,-21.980701446533203,18.104358673095703,-13.889082908630371,23.752092361450195,6.432856559753418,-16.087312698364258,-15.406041145324707,-8.291411399841309,-8.825599670410156,-22.750564575195312,30.842872619628906,8.908174514770508,-24.582494735717773,11.006577491760254,22.654884338378906,-21.785423278808594,-17.11779022216797,-37.987571716308594,-17.44112777709961,5.034026145935059,6.597894191741943,21.291189193725586,18.122093200683594,13.195316314697266,19.740285873413086,-16.40897560119629,-1.6654607057571411,-5.840943813323975,-1.3380662202835083,-18.04431915283203,-29.27291488647461,3.6241822242736816,24.909635543823242,-17.125024795532227,20.85683250427246,-0.17679952085018158,26.46653175354004,32.50407409667969,3.7958149909973145,9.806408882141113,14.832473754882812,14.445409774780273,-20.557579040527344,27.10424041748047,16.238176345825195,-10.481420516967773,23.08153533935547,3.274123191833496,11.614185333251953,-26.51211166381836,-6.398591041564941,26.465574264526367,35.15219497680664,-37.2684440612793,-17.011512756347656,22.693302154541016,-40.09069061279297,31.122888565063477,28.633811950683594,18.040550231933594,-0.11175871640443802,6.915431976318359,-16.581363677978516,33.39848709106445,-48.90459060668945,-18.414464950561523,-2.1025924682617188,8.382871627807617,23.00437355041504,-39.638851165771484,-28.320966720581055,-18.695938110351562,5.425899982452393,-36.309730529785156,3.938246965408325,-13.61521053314209,3.2473926544189453,-23.931272506713867,-18.96841812133789,-24.147043228149414,20.82769203186035,-1.0084420442581177,-22.053001403808594,27.512075424194336,-34.33780288696289,-14.240301132202148,11.505642890930176,-0.4825289249420166,22.720476150512695,7.7467827796936035,-46.965965270996094,30.592872619628906,-17.514150619506836,28.425495147705078,-8.501199722290039,30.324050903320312,-1.5098323822021484,-24.77840232849121,-32.334014892578125,-22.05206298828125,15.279605865478516,26.104419708251953,9.323984146118164,-25.448749542236328,12.572474479675293,0.8748873472213745,34.232357025146484,-24.337581634521484,22.12248992919922,-22.02775001525879,-36.925907135009766,12.97819995880127,-37.592350006103516,-9.451988220214844,-13.360032081604004,-2.018537998199463,4.604363918304443,-16.98907470703125,15.460015296936035,-24.58070945739746,-24.82587242126465,-16.870391845703125,23.871030807495117,22.810510635375977,21.697853088378906,-3.176983594894409,9.692756652832031,-22.565101623535156,11.230335235595703,-0.5399507880210876,24.56805992126465,6.774740695953369,-20.579843521118164,17.737947463989258,-46.39004898071289,-2.302572011947632,15.398825645446777,-6.437107563018799,-16.364093780517578,31.00684928894043,13.42659854888916,-39.84497833251953,-20.669662475585938,4.149196147918701,0.7186117172241211,-35.382896423339844,-0.675221860408783,-28.248674392700195,-24.922819137573242,22.64931297302246,21.53270149230957,-35.69209289550781,-24.070308685302734,-6.725467205047607,18.811748504638672,1.1852091550827026,-5.576249122619629,-12.856632232666016,15.776784896850586,-14.925312995910645,-39.54412841796875,-22.50914192199707,19.781455993652344,8.056803703308105,23.567882537841797,7.260847568511963,-25.912418365478516,3.864063262939453,-2.755685567855835,14.985376358032227,8.798778533935547,26.456850051879883,6.4418721199035645,-18.225854873657227,1.9650076627731323,-36.727542877197266,5.2287917137146,32.605499267578125,-28.54804801940918,38.02433395385742,-12.572547912597656,14.423301696777344,2.7254021167755127,-10.723691940307617,-9.014853477478027,-46.87803649902344,-40.468299865722656,32.25072479248047,-7.677600383758545,13.90043830871582,-14.088815689086914,16.309053421020508,6.357888221740723,-48.22004318237305,-4.786396503448486,-3.4704134464263916],\"yaxis\":\"y\",\"type\":\"scattergl\"},{\"hovertemplate\":\"\\u003cb\\u003e%{hovertext}\\u003c\\u002fb\\u003e\\u003cbr\\u003e\\u003cbr\\u003ecolor=Action|Adventure|Comedy|Sci-Fi\\u003cbr\\u003e0=%{x}\\u003cbr\\u003e1=%{y}\\u003cextra\\u003e\\u003c\\u002fextra\\u003e\",\"hovertext\":[\"Men in Black (1997)\"],\"legendgroup\":\"Action|Adventure|Comedy|Sci-Fi\",\"marker\":{\"color\":\"#636efa\",\"symbol\":\"circle\"},\"mode\":\"markers\",\"name\":\"Action|Adventure|Comedy|Sci-Fi\",\"showlegend\":true,\"x\":[16.787771224975586],\"xaxis\":\"x\",\"y\":[-29.497573852539062],\"yaxis\":\"y\",\"type\":\"scattergl\"},{\"hovertemplate\":\"\\u003cb\\u003e%{hovertext}\\u003c\\u002fb\\u003e\\u003cbr\\u003e\\u003cbr\\u003ecolor=Action|Adventure|Sci-Fi\\u003cbr\\u003e0=%{x}\\u003cbr\\u003e1=%{y}\\u003cextra\\u003e\\u003c\\u002fextra\\u003e\",\"hovertext\":[\"Star Trek: First Contact (1996)\",\"Star Trek III: The Search for Spock (1984)\",\"Star Trek: The Wrath of Khan (1982)\",\"Jurassic Park (1993)\",\"Star Trek VI: The Undiscovered Country (1991)\",\"Stargate (1994)\",\"Star Trek: The Motion Picture (1979)\",\"Star Trek IV: The Voyage Home (1986)\",\"Star Trek: Generations (1994)\",\"Star Trek V: The Final Frontier (1989)\",\"Judge Dredd (1995)\",\"Time Tracers (1995)\"],\"legendgroup\":\"Action|Adventure|Sci-Fi\",\"marker\":{\"color\":\"#EF553B\",\"symbol\":\"circle\"},\"mode\":\"markers\",\"name\":\"Action|Adventure|Sci-Fi\",\"showlegend\":true,\"x\":[-31.79587173461914,-32.091400146484375,-33.09878158569336,43.40369415283203,-32.739418029785156,26.121883392333984,-33.56260299682617,-32.41971969604492,-31.339487075805664,-32.900943756103516,-11.400216102600098,-7.6631364822387695],\"xaxis\":\"x\",\"y\":[11.999971389770508,10.573905944824219,10.08717155456543,-9.299593925476074,11.870020866394043,5.923519134521484,10.88644027709961,11.123014450073242,11.636813163757324,11.020894050598145,11.441240310668945,19.044387817382812],\"yaxis\":\"y\",\"type\":\"scattergl\"},{\"hovertemplate\":\"\\u003cb\\u003e%{hovertext}\\u003c\\u002fb\\u003e\\u003cbr\\u003e\\u003cbr\\u003ecolor=Action|Adventure|Comedy|Crime\\u003cbr\\u003e0=%{x}\\u003cbr\\u003e1=%{y}\\u003cextra\\u003e\\u003c\\u002fextra\\u003e\",\"hovertext\":[\"Batman Forever (1995)\",\"Batman Returns (1992)\"],\"legendgroup\":\"Action|Adventure|Comedy|Crime\",\"marker\":{\"color\":\"#00cc96\",\"symbol\":\"circle\"},\"mode\":\"markers\",\"name\":\"Action|Adventure|Comedy|Crime\",\"showlegend\":true,\"x\":[-20.2922420501709,-20.583789825439453],\"xaxis\":\"x\",\"y\":[14.449102401733398,14.291271209716797],\"yaxis\":\"y\",\"type\":\"scattergl\"},{\"hovertemplate\":\"\\u003cb\\u003e%{hovertext}\\u003c\\u002fb\\u003e\\u003cbr\\u003e\\u003cbr\\u003ecolor=Comedy|Romance\\u003cbr\\u003e0=%{x}\\u003cbr\\u003e1=%{y}\\u003cextra\\u003e\\u003c\\u002fextra\\u003e\",\"hovertext\":[\"Only You (1994)\",\"Sabrina (1995)\",\"Sabrina (1954)\",\"Sleepless in Seattle (1993)\",\"Speechless (1994)\",\"French Twist (Gazon maudit) (1995)\",\"The Truth About Cats & Dogs (1996)\",\"The Quiet Man (1952)\",\"Annie Hall (1977)\",\"Ninotchka (1939)\",\"When Harry Met Sally... (1989)\",\"The Mirror Has Two Faces (1996)\",\"My Best Friend's Wedding (1997)\",\"Groundhog Day (1993)\",\"The Philadelphia Story (1940)\",\"Grumpier Old Men (1995)\",\"The MatchMaker (1997)\",\"When the Cats Away (Chacun cherche son chat) (1996)\",\"Strictly Ballroom (1992)\",\"While You Were Sleeping (1995)\",\"French Kiss (1995)\",\"Smile Like Yours, A (1997)\",\"Dave (1993)\",\"Fools Rush In (1997)\",\"Picture Perfect (1997)\",\"Muriel's Wedding (1994)\",\"The Hudsucker Proxy (1994)\",\"Tin Cup (1996)\",\"Four Weddings and a Funeral (1994)\",\"Pretty Woman (1990)\",\"Michael (1996)\",\"I.Q. (1994)\",\"Booty Call (1997)\",\"Roman Holiday (1953)\",\"The Wedding Singer (1998)\",\"Benny & Joon (1993)\",\"The Englishman Who Went Up a Hill, But Came Down a Mountain (1995)\",\"Forget Paris (1995)\",\"If Lucy Fell (1996)\",\"She's the One (1996)\",\"Much Ado About Nothing (1993)\",\"Mrs. Winterbourne (1996)\",\"Addicted to Love (1997)\",\"Threesome (1994)\",\"The Perez Family (1995)\",\"Boomerang (1992)\",\"The Beautician and the Beast (1997)\",\"Barcelona (1994)\",\"Two Much (1996)\",\"Pyromaniac's Love Story, A (1995)\",\"Milk Money (1994)\",\"Two if by Sea (1996)\",\"Even Cowgirls Get the Blues (1993)\",\"That Old Feeling (1997)\",\"Pie in the Sky (1995)\",\"Trial and Error (1997)\",\"Roseanna's Grave (For Roseanna) (1997)\",\"Vampire in Brooklyn (1995)\",\"Mr. Wonderful (1993)\",\"Hotel de Love (1996)\",\"Love in the Afternoon (1957)\",\"The Object of My Affection (1998)\",\"Vermont Is For Lovers (1992)\",\"Naked in New York (1994)\",\"Nina Takes a Lover (1994)\",\"Rendezvous in Paris (Rendez-vous de Paris, Les) (1995)\",\"Little City (1998)\",\"The Favor (1994)\"],\"legendgroup\":\"Comedy|Romance\",\"marker\":{\"color\":\"#ab63fa\",\"symbol\":\"circle\"},\"mode\":\"markers\",\"name\":\"Comedy|Romance\",\"showlegend\":true,\"x\":[20.796188354492188,-1.3753219842910767,-1.4510467052459717,6.883645057678223,24.775339126586914,-32.91843795776367,-19.163959503173828,-49.76536178588867,-43.78592300415039,-55.52489471435547,-26.088773727416992,-1.7998477220535278,19.063798904418945,29.5941219329834,-49.27557373046875,-24.62224006652832,25.418651580810547,-20.343669891357422,-31.092565536499023,6.7977399826049805,3.5992431640625,34.08298873901367,20.437610626220703,28.914226531982422,21.020801544189453,15.173670768737793,32.4959831237793,9.77849292755127,15.659578323364258,4.436030387878418,3.498382806777954,31.633840560913086,19.97103500366211,-52.458045959472656,14.414810180664062,41.21474838256836,-15.094948768615723,-31.3162784576416,20.344873428344727,11.628226280212402,-2.1058754920959473,6.373572826385498,14.842229843139648,6.6251115798950195,7.754104137420654,-20.14177894592285,27.541824340820312,35.337928771972656,-2.7892730236053467,15.674115180969238,45.23147964477539,-1.1947320699691772,34.026939392089844,35.242191314697266,9.282134056091309,29.768207550048828,-5.854924201965332,-22.98903465270996,6.245858669281006,12.251644134521484,-51.437076568603516,13.891879081726074,12.092082023620605,4.045425891876221,11.142727851867676,-30.83181381225586,30.565359115600586,17.490062713623047],\"xaxis\":\"x\",\"y\":[-5.391361713409424,34.87799072265625,34.96088790893555,29.761154174804688,-1.7740159034729004,-21.234161376953125,-25.07016944885254,18.39217758178711,3.4901318550109863,26.811342239379883,15.114726066589355,-14.114152908325195,-25.96333122253418,32.78173065185547,30.642105102539062,-10.35335922241211,-28.158740997314453,-24.2258243560791,-8.833176612854004,28.103593826293945,5.367298126220703,-19.3758602142334,12.48413372039795,-22.016042709350586,-26.194839477539062,-0.4927237629890442,4.587728023529053,-42.63282012939453,-0.12616001069545746,-1.2085591554641724,-24.143159866333008,12.970396995544434,-29.919984817504883,19.197084426879883,-1.3460229635238647,-34.54936599731445,-19.546546936035156,-17.79669761657715,-14.478599548339844,-13.447206497192383,-6.514444828033447,-38.008358001708984,-7.707281589508057,-5.766243934631348,11.306848526000977,-16.407468795776367,-10.124662399291992,11.231734275817871,-13.307772636413574,-8.923370361328125,-14.378852844238281,-12.679174423217773,-2.8060057163238525,-21.78537940979004,16.573997497558594,-23.22667694091797,2.038560152053833,28.414796829223633,-0.4251013696193695,-9.27655029296875,18.220029830932617,-6.669488430023193,-7.068124771118164,1.523743987083435,-6.024151802062988,-18.610626220703125,18.687564849853516,-1.221470832824707],\"yaxis\":\"y\",\"type\":\"scattergl\"},{\"hovertemplate\":\"\\u003cb\\u003e%{hovertext}\\u003c\\u002fb\\u003e\\u003cbr\\u003e\\u003cbr\\u003ecolor=Mystery|Thriller\\u003cbr\\u003e0=%{x}\\u003cbr\\u003e1=%{y}\\u003cextra\\u003e\\u003c\\u002fextra\\u003e\",\"hovertext\":[\"Just Cause (1995)\",\"Rear Window (1954)\",\"Murder at 1600 (1997)\",\"Vertigo (1958)\",\"The Game (1997)\",\"Absolute Power (1997)\",\"Dial M for Murder (1954)\",\"The Third Man (1949)\",\"Basic Instinct (1992)\",\"Gaslight (1944)\",\"Heaven's Prisoners (1996)\",\"True Crime (1995)\",\"The Underneath (1995)\"],\"legendgroup\":\"Mystery|Thriller\",\"marker\":{\"color\":\"#FFA15A\",\"symbol\":\"circle\"},\"mode\":\"markers\",\"name\":\"Mystery|Thriller\",\"showlegend\":true,\"x\":[-4.69630765914917,-46.58295440673828,-8.833043098449707,-45.88655471801758,24.893573760986328,21.538820266723633,-44.54656219482422,-48.22825241088867,-13.884227752685547,-46.99587631225586,-7.382201194763184,-5.983312129974365,5.082686901092529],\"xaxis\":\"x\",\"y\":[7.944340229034424,22.544513702392578,-0.406505286693573,17.16827392578125,-27.0589542388916,-20.865747451782227,34.139652252197266,25.298721313476562,0.06382834166288376,33.28889083862305,-8.424827575683594,8.731282234191895,17.942888259887695],\"yaxis\":\"y\",\"type\":\"scattergl\"},{\"hovertemplate\":\"\\u003cb\\u003e%{hovertext}\\u003c\\u002fb\\u003e\\u003cbr\\u003e\\u003cbr\\u003ecolor=Documentary\\u003cbr\\u003e0=%{x}\\u003cbr\\u003e1=%{y}\\u003cextra\\u003e\\u003c\\u002fextra\\u003e\",\"hovertext\":[\"The Endless Summer 2 (1994)\",\"Crumb (1994)\",\"Hoop Dreams (1994)\",\"Wonderland (1997)\",\"The Celluloid Closet (1995)\",\"The Line King: Al Hirschfeld (1996)\",\"Fast, Cheap & Out of Control (1997)\",\"The Thin Blue Line (1988)\",\"Microcosmos: Le peuple de l'herbe (1996)\",\"When We Were Kings (1996)\",\"The Haunted World of Edward D. Wood Jr. (1995)\",\"Man of the Year (1995)\",\"Paradise Lost: The Child Murders at Robin Hood Hills (1996)\",\"Thirty-Two Short Films About Glenn Gould (1993)\",\"Anne Frank Remembered (1995)\",\"Year of the Horse (1997)\",\"Unzipped (1995)\",\"The War Room (1993)\",\"Paris Is Burning (1990)\",\"Perfect Candidate, A (1996)\",\"Maya Lin: A Strong Clear Vision (1994)\",\"Heidi Fleiss: Hollywood Madam (1995) \",\"Great Day in Harlem, A (1994)\",\"Catwalk (1995)\",\"Rhyme & Reason (1997)\",\"Madonna: Truth or Dare (1991)\",\"Ayn Rand: A Sense of Life (1997)\",\"Paris Was a Woman (1995)\",\"The Wonderful, Horrible Life of Leni Riefenstahl (1993)\",\"Brother Minister: The Assassination of Malcolm X (1994)\",\"Carmen Miranda: Bananas Is My Business (1994)\",\"The Eye of Vichy (1993)\",\"Across the Sea of Time (1995)\",\"The Last Klezmer: Leopold Kozlowski, His Life and Music (1995)\",\"The Leopard Son (1996)\",\"The Show (1995)\",\"Fire on the Mountain (1996)\",\"American Dream (1990)\",\"Grateful Dead (1995)\",\"Nico Icon (1995)\",\"The Gate of Heavenly Peace (1995)\",\"Jupiter's Wife (1994)\",\"Marlene Dietrich: Shadow and Light (1996) \",\"Everest (1998)\",\"Dadetown (1995)\"],\"legendgroup\":\"Documentary\",\"marker\":{\"color\":\"#19d3f3\",\"symbol\":\"circle\"},\"mode\":\"markers\",\"name\":\"Documentary\",\"showlegend\":true,\"x\":[11.45874309539795,36.55641555786133,10.536341667175293,37.963592529296875,2.0810940265655518,8.34218978881836,28.06365203857422,-26.31344223022461,-32.73759460449219,9.876398086547852,-16.018198013305664,12.75406265258789,-13.345874786376953,12.892017364501953,2.490783452987671,31.24852752685547,5.086066722869873,27.248964309692383,-32.72650909423828,5.415931224822998,24.572912216186523,0.5356098413467407,22.59461212158203,5.046379566192627,43.11345291137695,-30.859054565429688,22.408300399780273,-31.677427291870117,-14.774292945861816,-4.229353904724121,-51.004886627197266,18.904987335205078,8.130447387695312,-27.942312240600586,5.847986221313477,4.319857597351074,-14.504502296447754,11.093703269958496,3.2382001876831055,-5.7273712158203125,19.634567260742188,7.279609203338623,-14.283077239990234,43.079307556152344,13.801125526428223],\"xaxis\":\"x\",\"y\":[-17.429336547851562,8.059158325195312,39.10592269897461,-24.51765251159668,28.607486724853516,-29.916982650756836,-44.22510528564453,-0.006597994826734066,-22.728553771972656,-28.621641159057617,27.650066375732422,4.088007926940918,26.68443489074707,14.226222038269043,-36.16775894165039,-9.160564422607422,19.061290740966797,1.4747446775436401,-17.42107391357422,-21.448415756225586,8.372444152832031,-2.2416253089904785,15.836878776550293,15.268136024475098,-19.240537643432617,-4.386398792266846,-42.925086975097656,-17.595335006713867,40.10382080078125,38.645164489746094,-0.5302022695541382,5.414262294769287,18.510093688964844,-33.12329864501953,-24.95838165283203,15.732529640197754,-18.297481536865234,40.13226318359375,21.704444885253906,20.562999725341797,18.92576789855957,7.922985553741455,39.52503204345703,-28.412752151489258,-25.499486923217773],\"yaxis\":\"y\",\"type\":\"scattergl\"},{\"hovertemplate\":\"\\u003cb\\u003e%{hovertext}\\u003c\\u002fb\\u003e\\u003cbr\\u003e\\u003cbr\\u003ecolor=Action|Adventure|Thriller\\u003cbr\\u003e0=%{x}\\u003cbr\\u003e1=%{y}\\u003cextra\\u003e\\u003c\\u002fextra\\u003e\",\"hovertext\":[\"Twister (1996)\",\"Con Air (1997)\",\"The Rock (1996)\",\"GoldenEye (1995)\",\"Chain Reaction (1996)\",\"Clear and Present Danger (1994)\",\"Maximum Risk (1996)\",\"Daylight (1996)\",\"Surviving the Game (1994)\",\"Anaconda (1997)\",\"Firestorm (1998)\"],\"legendgroup\":\"Action|Adventure|Thriller\",\"marker\":{\"color\":\"#FF6692\",\"symbol\":\"circle\"},\"mode\":\"markers\",\"name\":\"Action|Adventure|Thriller\",\"showlegend\":true,\"x\":[-6.130484104156494,32.466243743896484,0.1447211354970932,-7.524470806121826,-0.2604227066040039,23.752464294433594,-5.75958776473999,2.2447469234466553,20.29888916015625,40.561927795410156,17.27130699157715],\"xaxis\":\"x\",\"y\":[-19.06330680847168,-41.394126892089844,-28.286251068115234,14.755823135375977,-22.865341186523438,8.481792449951172,-14.450130462646484,-16.124202728271484,1.3132681846618652,-28.009479522705078,-17.976640701293945],\"yaxis\":\"y\",\"type\":\"scattergl\"},{\"hovertemplate\":\"\\u003cb\\u003e%{hovertext}\\u003c\\u002fb\\u003e\\u003cbr\\u003e\\u003cbr\\u003ecolor=Animation|Children's|Comedy\\u003cbr\\u003e0=%{x}\\u003cbr\\u003e1=%{y}\\u003cextra\\u003e\\u003c\\u002fextra\\u003e\",\"hovertext\":[\"Toy Story (1995)\",\"Aladdin and the King of Thieves (1996)\"],\"legendgroup\":\"Animation|Children's|Comedy\",\"marker\":{\"color\":\"#B6E880\",\"symbol\":\"circle\"},\"mode\":\"markers\",\"name\":\"Animation|Children's|Comedy\",\"showlegend\":true,\"x\":[0.4162702262401581,8.820626258850098],\"xaxis\":\"x\",\"y\":[6.108064651489258,-31.36280059814453],\"yaxis\":\"y\",\"type\":\"scattergl\"},{\"hovertemplate\":\"\\u003cb\\u003e%{hovertext}\\u003c\\u002fb\\u003e\\u003cbr\\u003e\\u003cbr\\u003ecolor=Animation|Children's|Comedy|Musical\\u003cbr\\u003e0=%{x}\\u003cbr\\u003e1=%{y}\\u003cextra\\u003e\\u003c\\u002fextra\\u003e\",\"hovertext\":[\"Aladdin (1992)\"],\"legendgroup\":\"Animation|Children's|Comedy|Musical\",\"marker\":{\"color\":\"#FF97FF\",\"symbol\":\"circle\"},\"mode\":\"markers\",\"name\":\"Animation|Children's|Comedy|Musical\",\"showlegend\":true,\"x\":[8.850628852844238],\"xaxis\":\"x\",\"y\":[-31.464412689208984],\"yaxis\":\"y\",\"type\":\"scattergl\"},{\"hovertemplate\":\"\\u003cb\\u003e%{hovertext}\\u003c\\u002fb\\u003e\\u003cbr\\u003e\\u003cbr\\u003ecolor=Adventure|Children's\\u003cbr\\u003e0=%{x}\\u003cbr\\u003e1=%{y}\\u003cextra\\u003e\\u003c\\u002fextra\\u003e\",\"hovertext\":[\"Casper (1995)\",\"Fly Away Home (1996)\",\"Homeward Bound: The Incredible Journey (1993)\",\"The Adventures of Pinocchio (1996)\",\"Andre (1994)\",\"Homeward Bound II: Lost in San Francisco (1996)\",\"The Second Jungle Book: Mowgli & Baloo (1997)\",\"Swiss Family Robinson (1960)\",\"Alaska (1996)\",\"Black Beauty (1994)\",\"Gold Diggers: The Secret of Bear Mountain (1995)\",\"Flipper (1996)\",\"Tom and Huck (1995)\",\"Wild America (1997)\",\"Far From Home: The Adventures of Yellow Dog (1995)\",\"The Secret Adventures of Tom Thumb (1993)\",\"Lassie (1994)\",\"The Amazing Panda Adventure (1995)\"],\"legendgroup\":\"Adventure|Children's\",\"marker\":{\"color\":\"#FECB52\",\"symbol\":\"circle\"},\"mode\":\"markers\",\"name\":\"Adventure|Children's\",\"showlegend\":true,\"x\":[-3.426445245742798,-4.592115879058838,0.3594563603401184,5.879300594329834,47.78801345825195,0.3416266143321991,39.5531120300293,-56.724830627441406,-5.947559356689453,25.246875762939453,-16.4984188079834,0.1285230666399002,14.67455005645752,34.61025619506836,-45.421966552734375,14.981366157531738,31.207199096679688,-1.1046268939971924],\"xaxis\":\"x\",\"y\":[18.21356773376465,-24.92774200439453,2.368218183517456,-32.070465087890625,8.26320743560791,2.2523505687713623,-6.588500499725342,14.220118522644043,-29.141019821166992,15.1342134475708,-17.311128616333008,-26.390560150146484,35.064849853515625,-7.752254009246826,-11.167905807495117,32.779029846191406,0.32502418756484985,4.981836795806885],\"yaxis\":\"y\",\"type\":\"scattergl\"},{\"hovertemplate\":\"\\u003cb\\u003e%{hovertext}\\u003c\\u002fb\\u003e\\u003cbr\\u003e\\u003cbr\\u003ecolor=Action|Horror\\u003cbr\\u003e0=%{x}\\u003cbr\\u003e1=%{y}\\u003cextra\\u003e\\u003c\\u002fextra\\u003e\",\"hovertext\":[\"Jaws (1975)\",\"Jaws 2 (1978)\",\"Jaws 3-D (1983)\",\"Blood Beach (1981)\"],\"legendgroup\":\"Action|Horror\",\"marker\":{\"color\":\"#636efa\",\"symbol\":\"circle\"},\"mode\":\"markers\",\"name\":\"Action|Horror\",\"showlegend\":true,\"x\":[-39.56073760986328,-39.428470611572266,-39.05849838256836,-33.625938415527344],\"xaxis\":\"x\",\"y\":[11.894590377807617,11.90721321105957,11.996275901794434,-3.5826895236968994],\"yaxis\":\"y\",\"type\":\"scattergl\"},{\"hovertemplate\":\"\\u003cb\\u003e%{hovertext}\\u003c\\u002fb\\u003e\\u003cbr\\u003e\\u003cbr\\u003ecolor=Drama|Romance\\u003cbr\\u003e0=%{x}\\u003cbr\\u003e1=%{y}\\u003cextra\\u003e\\u003c\\u002fextra\\u003e\",\"hovertext\":[\"Chasing Amy (1997)\",\"Beautiful Thing (1996)\",\"Angels and Insects (1995)\",\"Jerry Maguire (1996)\",\"Sense and Sensibility (1995)\",\"One Fine Day (1996)\",\"Blue Sky (1994)\",\"Postino, Il (1994)\",\"Before Sunrise (1995)\",\"It Could Happen to You (1994)\",\"Up Close and Personal (1996)\",\"Afterglow (1997)\",\"Circle of Friends (1995)\",\"Somewhere in Time (1980)\",\"The Graduate (1967)\",\"Like Water For Chocolate (Como agua para chocolate) (1992)\",\"Home for the Holidays (1995)\",\"Shine (1996)\",\"Bed of Roses (1996)\",\"The Bridges of Madison County (1995)\",\"Mrs. Brown (Her Majesty, Mrs. Brown) (1997)\",\"Great Expectations (1998)\",\"Jane Eyre (1996)\",\"Shadowlands (1993)\",\"William Shakespeare's Romeo and Juliet (1996)\",\"Breakfast at Tiffany's (1961)\",\"Phenomenon (1996)\",\"Room with a View, A (1986)\",\"She's So Lovely (1997)\",\"Emma (1996)\",\"How to Make an American Quilt (1995)\",\"Love! Valour! Compassion! (1997)\",\"The Pillow Book (1995)\",\"Some Kind of Wonderful (1987)\",\"The Piano (1993)\",\"Leaving Las Vegas (1995)\",\"Walk in the Clouds, A (1995)\",\"Mad Love (1995)\",\"Farewell My Concubine (1993)\",\"Oscar & Lucinda (1997)\",\"Carrington (1995)\",\"Mr. Jones (1993)\",\"To Gillian on Her 37th Birthday (1996)\",\"The Innocent (1994)\",\"The House of the Spirits (1993)\",\"Anna Karenina (1997)\",\"Inventing the Abbotts (1997)\",\"Immortal Beloved (1994)\",\"Feeling Minnesota (1996)\",\"Penny Serenade (1941)\",\"Go Fish (1994)\",\"The Ghost and Mrs. Muir (1947)\",\"Love Affair (1994)\",\"'Til There Was You (1997)\",\"Carried Away (1996)\",\"Heavy (1995)\",\"Queen Margot (Reine Margot, La) (1994)\",\"Moonlight and Valentino (1995)\",\"When Night Is Falling (1995)\",\"Picture Bride (1995)\",\"Frankie Starlight (1995)\",\"Country Life (1994)\",\"Bliss (1997)\",\"Rough Magic (1995)\",\"Sliding Doors (1998)\"],\"legendgroup\":\"Drama|Romance\",\"marker\":{\"color\":\"#EF553B\",\"symbol\":\"circle\"},\"mode\":\"markers\",\"name\":\"Drama|Romance\",\"showlegend\":true,\"x\":[-4.711248874664307,7.681138038635254,10.604454040527344,11.915706634521484,3.6811940670013428,6.367880344390869,27.756092071533203,42.14337158203125,9.257881164550781,21.008953094482422,8.9816255569458,33.701622009277344,4.308771133422852,-35.240726470947266,-46.829811096191406,-46.152626037597656,9.471480369567871,2.0025856494903564,5.700981616973877,-7.650010585784912,8.370967864990234,19.325464248657227,5.965122699737549,22.93275260925293,-2.8598618507385254,-57.65312194824219,0.3981918692588806,28.197093963623047,12.08718490600586,3.578721761703491,19.888748168945312,32.45567321777344,8.273245811462402,6.252020359039307,21.048290252685547,-3.689095973968506,9.146329879760742,2.5208003520965576,5.096667766571045,30.111780166625977,49.93650817871094,48.0505485534668,13.423186302185059,20.847938537597656,19.0496826171875,24.338777542114258,21.893836975097656,20.90094566345215,-5.018098831176758,-43.171321868896484,27.974035263061523,-46.58327865600586,14.257471084594727,33.27477264404297,-4.636813163757324,0.8876872658729553,20.72224235534668,12.441461563110352,9.378039360046387,11.125017166137695,6.151943206787109,32.075923919677734,33.389888763427734,3.3158414363861084,17.871492385864258],\"xaxis\":\"x\",\"y\":[-46.4261360168457,-14.879066467285156,23.29436492919922,-38.06111526489258,11.752861022949219,-15.75409984588623,13.128252983093262,6.533710479736328,19.468599319458008,-3.903249502182007,-11.704971313476562,-23.297998428344727,25.813783645629883,0.5586021542549133,5.536996841430664,-18.711408615112305,11.660470008850098,-17.164005279541016,-10.046342849731445,28.099796295166016,-38.55645751953125,-10.624372482299805,-37.15842819213867,5.496872425079346,-9.159762382507324,19.577505111694336,-22.12122344970703,29.097900390625,-13.631074905395508,-39.13728713989258,22.01825523376465,-13.848578453063965,28.027442932128906,-0.4489012062549591,15.766046524047852,16.691835403442383,16.50348663330078,7.982242107391357,38.07693099975586,-14.771615982055664,7.23917818069458,2.640868902206421,-41.94092559814453,7.673897743225098,7.974583625793457,-41.067195892333984,-32.69826889038086,6.309386730194092,-30.65140724182129,31.75542449951172,-17.046852111816406,35.855064392089844,-5.935991287231445,-20.779184341430664,-24.431503295898438,17.08147430419922,35.43910598754883,-3.105435848236084,-0.03448031097650528,17.88846778869629,3.529759407043457,-3.0010223388671875,-24.613035202026367,33.97991943359375,41.53126907348633],\"yaxis\":\"y\",\"type\":\"scattergl\"},{\"hovertemplate\":\"\\u003cb\\u003e%{hovertext}\\u003c\\u002fb\\u003e\\u003cbr\\u003e\\u003cbr\\u003ecolor=Drama|Thriller\\u003cbr\\u003e0=%{x}\\u003cbr\\u003e1=%{y}\\u003cextra\\u003e\\u003c\\u002fextra\\u003e\",\"hovertext\":[\"The Silence of the Lambs (1991)\",\"The Trigger Effect (1996)\",\"Taxi Driver (1976)\",\"The Firm (1993)\",\"Diabolique (1996)\",\"Primal Fear (1996)\",\"Volcano (1997)\",\"Apt Pupil (1998)\",\"Crash (1996)\",\"Ransom (1996)\",\"Mary Reilly (1996)\",\"The Last Supper (1995)\",\"The Juror (1996)\",\"Dolores Claiborne (1994)\",\"City Hall (1996)\",\"Eye for an Eye (1996)\",\"Extreme Measures (1996)\",\"Some Folks Call It a Sling Blade (1993)\",\"Disclosure (1994)\",\"Sling Blade (1996)\",\"Death and the Maiden (1994)\",\"Kalifornia (1993)\",\"Poison Ivy II (1995)\",\"Murder in the First (1995)\",\"Loaded (1994)\",\"The Babysitter (1995)\",\"I Can't Sleep (J'ai pas sommeil) (1994)\",\"Color of Night (1994)\",\"Caught (1996)\",\"The Bloody Child (1996)\",\"The Spanish Prisoner (1997)\"],\"legendgroup\":\"Drama|Thriller\",\"marker\":{\"color\":\"#00cc96\",\"symbol\":\"circle\"},\"mode\":\"markers\",\"name\":\"Drama|Thriller\",\"showlegend\":true,\"x\":[26.308687210083008,0.04905904829502106,-44.04985046386719,23.25553321838379,-10.913124084472656,-8.134384155273438,42.35102462768555,19.612415313720703,-2.342752456665039,-6.255396842956543,7.107289791107178,-1.6840567588806152,-7.854539394378662,38.26490783691406,-0.9798206686973572,-1.4624085426330566,-4.960260391235352,-21.386606216430664,35.833866119384766,-21.469968795776367,-7.045582294464111,19.074975967407227,-3.6987197399139404,-9.285432815551758,31.952392578125,6.15966796875,29.93158531188965,9.9912748336792,-2.115614175796509,-9.741629600524902,26.613872528076172],\"xaxis\":\"x\",\"y\":[-4.3525543212890625,-22.521610260009766,5.685032844543457,12.331680297851562,-13.717048645019531,-14.11591911315918,-29.02934455871582,-11.935029029846191,-23.42154884338379,-14.970122337341309,-35.22932052612305,27.793392181396484,-5.394111633300781,10.372663497924805,-33.02311325073242,-15.065052032470703,-13.411160469055176,-14.74146556854248,7.644449710845947,-14.678289413452148,4.170697212219238,13.892291069030762,31.188772201538086,2.8843753337860107,8.641111373901367,24.921316146850586,25.723161697387695,-0.5264412760734558,-24.030990600585938,-10.964468002319336,-38.006343841552734],\"yaxis\":\"y\",\"type\":\"scattergl\"},{\"hovertemplate\":\"\\u003cb\\u003e%{hovertext}\\u003c\\u002fb\\u003e\\u003cbr\\u003e\\u003cbr\\u003ecolor=Comedy|Crime\\u003cbr\\u003e0=%{x}\\u003cbr\\u003e1=%{y}\\u003cextra\\u003e\\u003c\\u002fextra\\u003e\",\"hovertext\":[\"The Sting (1973)\",\"Grosse Pointe Blank (1997)\",\"Striptease (1996)\",\"Some Like It Hot (1959)\",\"Twin Town (1997)\",\"Carpool (1996)\"],\"legendgroup\":\"Comedy|Crime\",\"marker\":{\"color\":\"#ab63fa\",\"symbol\":\"circle\"},\"mode\":\"markers\",\"name\":\"Comedy|Crime\",\"showlegend\":true,\"x\":[-41.78897476196289,21.623435974121094,5.287308216094971,-47.15006637573242,23.87688636779785,-3.835397243499756],\"xaxis\":\"x\",\"y\":[6.6424174308776855,-37.22899627685547,-6.691648960113525,19.75042152404785,-31.40388298034668,-23.264375686645508],\"yaxis\":\"y\",\"type\":\"scattergl\"},{\"hovertemplate\":\"\\u003cb\\u003e%{hovertext}\\u003c\\u002fb\\u003e\\u003cbr\\u003e\\u003cbr\\u003ecolor=Crime\\u003cbr\\u003e0=%{x}\\u003cbr\\u003e1=%{y}\\u003cextra\\u003e\\u003c\\u002fextra\\u003e\",\"hovertext\":[\"Curdled (1996)\",\"Gridlock'd (1997)\",\"2 Days in the Valley (1996)\",\"Deceiver (1997)\",\"Original Gangstas (1996)\",\"The Young Poisoner's Handbook (1995)\",\"Freeway (1996)\",\"Keys to Tulsa (1997)\",\"Switchblade Sisters (1975)\",\"The Innocent Sleep (1995)\",\"Kansas City (1996)\",\"Gang Related (1997)\",\"The Big Bang Theory (1994)\",\"Clean Slate (Coup de Torchon) (1981)\",\"Mad Dog Time (1996)\"],\"legendgroup\":\"Crime\",\"marker\":{\"color\":\"#FFA15A\",\"symbol\":\"circle\"},\"mode\":\"markers\",\"name\":\"Crime\",\"showlegend\":true,\"x\":[-7.859070777893066,22.017507553100586,0.034425750374794006,26.752531051635742,17.884098052978516,-1.8489384651184082,15.854988098144531,31.34147834777832,-22.97718048095703,7.491395473480225,-1.4459245204925537,18.076494216918945,31.45208168029785,-36.776241302490234,-13.301597595214844],\"xaxis\":\"x\",\"y\":[-19.176273345947266,-37.65336608886719,-12.649304389953613,-23.492219924926758,-39.31581115722656,31.298925399780273,-19.118446350097656,-33.86453628540039,-13.871872901916504,27.71417999267578,-33.33515548706055,-39.17478942871094,15.101652145385742,-9.674898147583008,-11.39111614227295],\"yaxis\":\"y\",\"type\":\"scattergl\"},{\"hovertemplate\":\"\\u003cb\\u003e%{hovertext}\\u003c\\u002fb\\u003e\\u003cbr\\u003e\\u003cbr\\u003ecolor=Comedy|Horror\\u003cbr\\u003e0=%{x}\\u003cbr\\u003e1=%{y}\\u003cextra\\u003e\\u003c\\u002fextra\\u003e\",\"hovertext\":[\"Tales from the Hood (1995)\",\"Young Frankenstein (1974)\",\"Dracula: Dead and Loving It (1995)\",\"Cemetery Man (Dellamorte Dellamore) (1994)\",\"Braindead (1992)\",\"The Frighteners (1996)\",\"April Fool's Day (1986)\",\"The Machine (1994)\",\"The Howling (1981)\",\"Bad Taste (1987)\"],\"legendgroup\":\"Comedy|Horror\",\"marker\":{\"color\":\"#19d3f3\",\"symbol\":\"circle\"},\"mode\":\"markers\",\"name\":\"Comedy|Horror\",\"showlegend\":true,\"x\":[-1.9062846899032593,-29.35538673400879,-24.307748794555664,-5.985072612762451,-10.80878734588623,-8.062302589416504,-29.335203170776367,27.98378562927246,-37.00141143798828,-11.470287322998047],\"xaxis\":\"x\",\"y\":[-0.19908972084522247,29.45893669128418,28.787961959838867,5.037063121795654,8.48428726196289,-12.51341724395752,4.121240139007568,5.139097690582275,3.6109459400177,-16.418899536132812],\"yaxis\":\"y\",\"type\":\"scattergl\"},{\"hovertemplate\":\"\\u003cb\\u003e%{hovertext}\\u003c\\u002fb\\u003e\\u003cbr\\u003e\\u003cbr\\u003ecolor=Crime|Drama|Mystery\\u003cbr\\u003e0=%{x}\\u003cbr\\u003e1=%{y}\\u003cextra\\u003e\\u003c\\u002fextra\\u003e\",\"hovertext\":[\"Cop Land (1997)\",\"MURDER and murder (1996)\"],\"legendgroup\":\"Crime|Drama|Mystery\",\"marker\":{\"color\":\"#FF6692\",\"symbol\":\"circle\"},\"mode\":\"markers\",\"name\":\"Crime|Drama|Mystery\",\"showlegend\":true,\"x\":[-13.06932258605957,-8.98389720916748],\"xaxis\":\"x\",\"y\":[-7.922142028808594,-1.0066494941711426],\"yaxis\":\"y\",\"type\":\"scattergl\"},{\"hovertemplate\":\"\\u003cb\\u003e%{hovertext}\\u003c\\u002fb\\u003e\\u003cbr\\u003e\\u003cbr\\u003ecolor=Action|Adventure|Comedy|Horror\\u003cbr\\u003e0=%{x}\\u003cbr\\u003e1=%{y}\\u003cextra\\u003e\\u003c\\u002fextra\\u003e\",\"hovertext\":[\"Evil Dead II (1987)\"],\"legendgroup\":\"Action|Adventure|Comedy|Horror\",\"marker\":{\"color\":\"#B6E880\",\"symbol\":\"circle\"},\"mode\":\"markers\",\"name\":\"Action|Adventure|Comedy|Horror\",\"showlegend\":true,\"x\":[-24.8355712890625],\"xaxis\":\"x\",\"y\":[22.90615463256836],\"yaxis\":\"y\",\"type\":\"scattergl\"},{\"hovertemplate\":\"\\u003cb\\u003e%{hovertext}\\u003c\\u002fb\\u003e\\u003cbr\\u003e\\u003cbr\\u003ecolor=Action|Romance|War\\u003cbr\\u003e0=%{x}\\u003cbr\\u003e1=%{y}\\u003cextra\\u003e\\u003c\\u002fextra\\u003e\",\"hovertext\":[\"The Last of the Mohicans (1992)\"],\"legendgroup\":\"Action|Romance|War\",\"marker\":{\"color\":\"#FF97FF\",\"symbol\":\"circle\"},\"mode\":\"markers\",\"name\":\"Action|Romance|War\",\"showlegend\":true,\"x\":[29.47795295715332],\"xaxis\":\"x\",\"y\":[-6.113600254058838],\"yaxis\":\"y\",\"type\":\"scattergl\"},{\"hovertemplate\":\"\\u003cb\\u003e%{hovertext}\\u003c\\u002fb\\u003e\\u003cbr\\u003e\\u003cbr\\u003ecolor=Action|Comedy|Drama\\u003cbr\\u003e0=%{x}\\u003cbr\\u003e1=%{y}\\u003cextra\\u003e\\u003c\\u002fextra\\u003e\",\"hovertext\":[\"Get Shorty (1995)\",\"Faster Pussycat! Kill! Kill! (1965)\"],\"legendgroup\":\"Action|Comedy|Drama\",\"marker\":{\"color\":\"#FECB52\",\"symbol\":\"circle\"},\"mode\":\"markers\",\"name\":\"Action|Comedy|Drama\",\"showlegend\":true,\"x\":[11.396672248840332,-46.98048782348633],\"xaxis\":\"x\",\"y\":[14.12390422821045,-6.892547607421875],\"yaxis\":\"y\",\"type\":\"scattergl\"},{\"hovertemplate\":\"\\u003cb\\u003e%{hovertext}\\u003c\\u002fb\\u003e\\u003cbr\\u003e\\u003cbr\\u003ecolor=Crime|Drama|Thriller\\u003cbr\\u003e0=%{x}\\u003cbr\\u003e1=%{y}\\u003cextra\\u003e\\u003c\\u002fextra\\u003e\",\"hovertext\":[\"Kiss the Girls (1997)\",\"Fargo (1996)\",\"Copycat (1995)\",\"Once Upon a Time in America (1984)\",\"Kiss of Death (1995)\",\"Desperate Measures (1998)\",\"Amateur (1994)\",\"Guilty as Sin (1993)\"],\"legendgroup\":\"Crime|Drama|Thriller\",\"marker\":{\"color\":\"#636efa\",\"symbol\":\"circle\"},\"mode\":\"markers\",\"name\":\"Crime|Drama|Thriller\",\"showlegend\":true,\"x\":[7.554143905639648,-5.198166847229004,-3.6173410415649414,-42.27619171142578,-7.547057151794434,-4.907591342926025,31.107662200927734,20.78672981262207],\"xaxis\":\"x\",\"y\":[-8.491996765136719,-29.449472427368164,20.614261627197266,23.490949630737305,6.24915075302124,-13.221959114074707,4.21068000793457,9.032561302185059],\"yaxis\":\"y\",\"type\":\"scattergl\"},{\"hovertemplate\":\"\\u003cb\\u003e%{hovertext}\\u003c\\u002fb\\u003e\\u003cbr\\u003e\\u003cbr\\u003ecolor=Animation|Children's|Musical\\u003cbr\\u003e0=%{x}\\u003cbr\\u003e1=%{y}\\u003cextra\\u003e\\u003c\\u002fextra\\u003e\",\"hovertext\":[\"Fantasia (1940)\",\"Dumbo (1941)\",\"The Lion King (1994)\",\"The Hunchback of Notre Dame (1996)\",\"Beauty and the Beast (1991)\",\"Snow White and the Seven Dwarfs (1937)\",\"Cinderella (1950)\",\"All Dogs Go to Heaven 2 (1996)\",\"James and the Giant Peach (1996)\",\"The Three Caballeros (1945)\",\"Alice in Wonderland (1951)\",\"Anastasia (1997)\",\"Cats Don't Dance (1997)\"],\"legendgroup\":\"Animation|Children's|Musical\",\"marker\":{\"color\":\"#EF553B\",\"symbol\":\"circle\"},\"mode\":\"markers\",\"name\":\"Animation|Children's|Musical\",\"showlegend\":true,\"x\":[-51.28755187988281,-52.13272476196289,39.80620574951172,-0.43057575821876526,27.484771728515625,-52.9444580078125,-56.24900817871094,-18.859220504760742,5.708630561828613,-43.29224395751953,-56.975830078125,24.630306243896484,-50.23848342895508],\"xaxis\":\"x\",\"y\":[31.04958152770996,31.5279541015625,-5.504807949066162,-19.443435668945312,-9.776604652404785,27.592315673828125,22.03207015991211,-25.440813064575195,-33.17156219482422,27.205041885375977,21.066408157348633,-40.814613342285156,-7.652151584625244],\"yaxis\":\"y\",\"type\":\"scattergl\"},{\"hovertemplate\":\"\\u003cb\\u003e%{hovertext}\\u003c\\u002fb\\u003e\\u003cbr\\u003e\\u003cbr\\u003ecolor=Action|Adventure|Romance|Sci-Fi|War\\u003cbr\\u003e0=%{x}\\u003cbr\\u003e1=%{y}\\u003cextra\\u003e\\u003c\\u002fextra\\u003e\",\"hovertext\":[\"Return of the Jedi (1983)\",\"Star Wars (1977)\"],\"legendgroup\":\"Action|Adventure|Romance|Sci-Fi|War\",\"marker\":{\"color\":\"#00cc96\",\"symbol\":\"circle\"},\"mode\":\"markers\",\"name\":\"Action|Adventure|Romance|Sci-Fi|War\",\"showlegend\":true,\"x\":[-35.748409271240234,-35.80281066894531],\"xaxis\":\"x\",\"y\":[9.96106243133545,10.575923919677734],\"yaxis\":\"y\",\"type\":\"scattergl\"},{\"hovertemplate\":\"\\u003cb\\u003e%{hovertext}\\u003c\\u002fb\\u003e\\u003cbr\\u003e\\u003cbr\\u003ecolor=Action|Adventure\\u003cbr\\u003e0=%{x}\\u003cbr\\u003e1=%{y}\\u003cextra\\u003e\\u003c\\u002fextra\\u003e\",\"hovertext\":[\"Conan the Barbarian (1981)\",\"Raiders of the Lost Ark (1981)\",\"Waterworld (1995)\",\"Fled (1996)\",\"Indiana Jones and the Last Crusade (1989)\",\"Highlander (1986)\",\"Kull the Conqueror (1997)\",\"The Quest (1996)\",\"The Adventures of Robin Hood (1938)\",\"The Ghost and the Darkness (1996)\",\"Mortal Kombat (1995)\",\"Mortal Kombat: Annihilation (1997)\",\"Good Man in Africa, A (1994)\"],\"legendgroup\":\"Action|Adventure\",\"marker\":{\"color\":\"#ab63fa\",\"symbol\":\"circle\"},\"mode\":\"markers\",\"name\":\"Action|Adventure\",\"showlegend\":true,\"x\":[-35.61315155029297,-35.45522689819336,-1.2407883405685425,-3.2713866233825684,-35.31974411010742,-28.247486114501953,41.17471694946289,0.7393955588340759,-51.46238327026367,-0.43274688720703125,-14.26978588104248,-14.281224250793457,15.887238502502441],\"xaxis\":\"x\",\"y\":[6.817115306854248,7.7306718826293945,9.943603515625,-25.490123748779297,8.016404151916504,7.83925724029541,-23.208189010620117,-20.139225006103516,26.16238021850586,-17.55405044555664,10.072702407836914,10.0812349319458,3.2654144763946533],\"yaxis\":\"y\",\"type\":\"scattergl\"},{\"hovertemplate\":\"\\u003cb\\u003e%{hovertext}\\u003c\\u002fb\\u003e\\u003cbr\\u003e\\u003cbr\\u003ecolor=Musical\\u003cbr\\u003e0=%{x}\\u003cbr\\u003e1=%{y}\\u003cextra\\u003e\\u003c\\u002fextra\\u003e\",\"hovertext\":[\"The Sound of Music (1965)\",\"Meet Me in St. Louis (1944)\",\"Gigi (1958)\",\"Madame Butterfly (1995)\",\"The Inspector General (1949)\"],\"legendgroup\":\"Musical\",\"marker\":{\"color\":\"#FFA15A\",\"symbol\":\"circle\"},\"mode\":\"markers\",\"name\":\"Musical\",\"showlegend\":true,\"x\":[-56.798370361328125,-49.18437194824219,-47.61777114868164,12.780292510986328,-51.13280487060547],\"xaxis\":\"x\",\"y\":[15.840387344360352,30.659767150878906,16.513362884521484,22.723241806030273,35.792579650878906],\"yaxis\":\"y\",\"type\":\"scattergl\"},{\"hovertemplate\":\"\\u003cb\\u003e%{hovertext}\\u003c\\u002fb\\u003e\\u003cbr\\u003e\\u003cbr\\u003ecolor=Children's|Drama|Fantasy|Sci-Fi\\u003cbr\\u003e0=%{x}\\u003cbr\\u003e1=%{y}\\u003cextra\\u003e\\u003c\\u002fextra\\u003e\",\"hovertext\":[\"E.T. the Extra-Terrestrial (1982)\"],\"legendgroup\":\"Children's|Drama|Fantasy|Sci-Fi\",\"marker\":{\"color\":\"#19d3f3\",\"symbol\":\"circle\"},\"mode\":\"markers\",\"name\":\"Children's|Drama|Fantasy|Sci-Fi\",\"showlegend\":true,\"x\":[-32.49142837524414],\"xaxis\":\"x\",\"y\":[6.202174663543701],\"yaxis\":\"y\",\"type\":\"scattergl\"},{\"hovertemplate\":\"\\u003cb\\u003e%{hovertext}\\u003c\\u002fb\\u003e\\u003cbr\\u003e\\u003cbr\\u003ecolor=Action|Drama|War\\u003cbr\\u003e0=%{x}\\u003cbr\\u003e1=%{y}\\u003cextra\\u003e\\u003c\\u002fextra\\u003e\",\"hovertext\":[\"Boot, Das (1981)\",\"Full Metal Jacket (1987)\",\"Braveheart (1995)\",\"Glory (1989)\",\"G.I. Jane (1997)\",\"Heaven & Earth (1993)\"],\"legendgroup\":\"Action|Drama|War\",\"marker\":{\"color\":\"#FF6692\",\"symbol\":\"circle\"},\"mode\":\"markers\",\"name\":\"Action|Drama|War\",\"showlegend\":true,\"x\":[-34.11771011352539,-31.87627601623535,-19.25102996826172,-20.71904182434082,20.918212890625,19.33395004272461],\"xaxis\":\"x\",\"y\":[-2.965453624725342,-0.2600397765636444,18.308242797851562,11.018383026123047,-35.510440826416016,18.36068344116211],\"yaxis\":\"y\",\"type\":\"scattergl\"},{\"hovertemplate\":\"\\u003cb\\u003e%{hovertext}\\u003c\\u002fb\\u003e\\u003cbr\\u003e\\u003cbr\\u003ecolor=Horror|Thriller\\u003cbr\\u003e0=%{x}\\u003cbr\\u003e1=%{y}\\u003cextra\\u003e\\u003c\\u002fextra\\u003e\",\"hovertext\":[\"Scream (1996)\",\"Thinner (1996)\",\"The Believers (1987)\",\"Loch Ness (1995)\",\"Scream 2 (1997)\",\"Relative Fear (1994)\",\"Halloween: The Curse of Michael Myers (1995)\",\"In the Mouth of Madness (1995)\",\"Village of the Damned (1995)\",\"Nightwatch (1997)\"],\"legendgroup\":\"Horror|Thriller\",\"marker\":{\"color\":\"#B6E880\",\"symbol\":\"circle\"},\"mode\":\"markers\",\"name\":\"Horror|Thriller\",\"showlegend\":true,\"x\":[-14.756657600402832,-4.627408504486084,-26.526601791381836,-15.010049819946289,-14.884496688842773,-11.597434997558594,-15.98717975616455,-13.063224792480469,-12.592595100402832,9.916939735412598],\"xaxis\":\"x\",\"y\":[16.946191787719727,-19.655838012695312,5.336750030517578,20.664731979370117,17.16314697265625,18.870283126831055,23.317123413085938,22.792835235595703,22.2203311920166,-2.1421873569488525],\"yaxis\":\"y\",\"type\":\"scattergl\"},{\"hovertemplate\":\"\\u003cb\\u003e%{hovertext}\\u003c\\u002fb\\u003e\\u003cbr\\u003e\\u003cbr\\u003ecolor=Horror\\u003cbr\\u003e0=%{x}\\u003cbr\\u003e1=%{y}\\u003cextra\\u003e\\u003c\\u002fextra\\u003e\",\"hovertext\":[\"Nightmare on Elm Street, A (1984)\",\"The Shining (1980)\",\"Tales From the Crypt Presents: Demon Knight (1995)\",\"The Birds (1963)\",\"The Addiction (1995)\",\"American Werewolf in London, An (1981)\",\"The Omen (1976)\",\"Amityville: A New Generation (1993)\",\"The Prophecy (1995)\",\"Amityville II: The Possession (1982)\",\"Carrie (1976)\",\"Amityville: Dollhouse (1996)\",\"Children of the Corn: The Gathering (1996)\",\"Cat People (1982)\",\"Bride of Frankenstein (1935)\",\"The Relic (1997)\",\"The Amityville Horror (1979)\",\"Tales from the Crypt Presents: Bordello of Blood (1996)\",\"Wes Craven's New Nightmare (1994)\",\"Candyman: Farewell to the Flesh (1995)\",\"Candyman (1992)\",\"Castle Freak (1995)\",\"The Body Snatcher (1945)\",\"The Fog (1980)\",\"Nosferatu (Nosferatu, eine Symphonie des Grauens) (1922)\",\"Stephen King's The Langoliers (1995)\",\"Lord of Illusions (1995)\",\"Wishmaster (1997)\",\"The Prophecy II (1998)\",\"The Fear (1995)\",\"Amityville 1992: It's About Time (1992)\",\"Nosferatu a Venezia (1986)\",\"Phantoms (1998)\",\"Body Parts (1991)\",\"Audrey Rose (1977)\",\"Cronos (1992)\",\"Bad Moon (1996)\",\"The Amityville Curse (1990)\",\"Amityville 3-D (1983)\",\"Burnt Offerings (1976)\",\"Blood For Dracula (Andy Warhol's Dracula) (1974)\",\"Night Flier (1997)\",\"Spirits of the Dead (Tre passi nel delirio) (1968)\"],\"legendgroup\":\"Horror\",\"marker\":{\"color\":\"#FF97FF\",\"symbol\":\"circle\"},\"mode\":\"markers\",\"name\":\"Horror\",\"showlegend\":true,\"x\":[-21.39675521850586,-35.6552619934082,-20.086902618408203,-48.77714538574219,0.755845308303833,-36.91014862060547,-45.238372802734375,-21.26893424987793,9.92719841003418,-22.342174530029297,-44.46302795410156,-20.000370025634766,-8.435124397277832,-49.15904235839844,-29.848114013671875,28.431312561035156,-21.803955078125,-20.224321365356445,-21.070465087890625,-16.975830078125,-17.09641456604004,-13.337525367736816,-34.56494140625,-35.39628601074219,-27.482301712036133,-9.888113021850586,2.5138638019561768,33.804656982421875,9.959053993225098,-11.76547622680664,-21.595190048217773,-27.416221618652344,-1.4460712671279907,17.799617767333984,32.330936431884766,-8.613434791564941,-14.074191093444824,-21.592269897460938,-22.027923583984375,-44.94710159301758,-25.441679000854492,10.034112930297852,-27.111427307128906],\"xaxis\":\"x\",\"y\":[25.046274185180664,2.5782063007354736,21.052762985229492,11.548602104187012,15.171981811523438,4.183709621429443,2.2046873569488525,36.374183654785156,5.193846225738525,36.07442855834961,4.6890869140625,36.05523681640625,-10.883720397949219,-5.358432292938232,29.379749298095703,-26.971227645874023,35.372039794921875,21.22987174987793,25.10472297668457,24.49396514892578,24.580589294433594,20.204204559326172,26.76764678955078,2.3073675632476807,26.790006637573242,26.056581497192383,32.6652946472168,-17.24104118347168,5.158113956451416,19.21778678894043,36.81561279296875,26.65785789489746,-19.427867889404297,-23.507680892944336,-36.75178146362305,20.965665817260742,-13.57518482208252,35.318355560302734,35.90483474731445,1.6818519830703735,30.07811737060547,-1.8932725191116333,24.63083267211914],\"yaxis\":\"y\",\"type\":\"scattergl\"},{\"hovertemplate\":\"\\u003cb\\u003e%{hovertext}\\u003c\\u002fb\\u003e\\u003cbr\\u003e\\u003cbr\\u003ecolor=Action|Adventure|Drama\\u003cbr\\u003e0=%{x}\\u003cbr\\u003e1=%{y}\\u003cextra\\u003e\\u003c\\u002fextra\\u003e\",\"hovertext\":[\"Ben-Hur (1959)\"],\"legendgroup\":\"Action|Adventure|Drama\",\"marker\":{\"color\":\"#FECB52\",\"symbol\":\"circle\"},\"mode\":\"markers\",\"name\":\"Action|Adventure|Drama\",\"showlegend\":true,\"x\":[-42.293270111083984],\"xaxis\":\"x\",\"y\":[20.10645294189453],\"yaxis\":\"y\",\"type\":\"scattergl\"},{\"hovertemplate\":\"\\u003cb\\u003e%{hovertext}\\u003c\\u002fb\\u003e\\u003cbr\\u003e\\u003cbr\\u003ecolor=Adventure|Sci-Fi\\u003cbr\\u003e0=%{x}\\u003cbr\\u003e1=%{y}\\u003cextra\\u003e\\u003c\\u002fextra\\u003e\",\"hovertext\":[\"The City of Lost Children (1995)\",\"Barbarella (1968)\"],\"legendgroup\":\"Adventure|Sci-Fi\",\"marker\":{\"color\":\"#636efa\",\"symbol\":\"circle\"},\"mode\":\"markers\",\"name\":\"Adventure|Sci-Fi\",\"showlegend\":true,\"x\":[-12.696054458618164,-48.04092025756836],\"xaxis\":\"x\",\"y\":[25.90570831298828,14.241232872009277],\"yaxis\":\"y\",\"type\":\"scattergl\"},{\"hovertemplate\":\"\\u003cb\\u003e%{hovertext}\\u003c\\u002fb\\u003e\\u003cbr\\u003e\\u003cbr\\u003ecolor=Action|Comedy|Western\\u003cbr\\u003e0=%{x}\\u003cbr\\u003e1=%{y}\\u003cextra\\u003e\\u003c\\u002fextra\\u003e\",\"hovertext\":[\"Young Guns (1988)\",\"Maverick (1994)\",\"Butch Cassidy and the Sundance Kid (1969)\",\"Young Guns II (1990)\"],\"legendgroup\":\"Action|Comedy|Western\",\"marker\":{\"color\":\"#EF553B\",\"symbol\":\"circle\"},\"mode\":\"markers\",\"name\":\"Action|Comedy|Western\",\"showlegend\":true,\"x\":[-23.056743621826172,33.08724594116211,-40.62251663208008,-22.940114974975586],\"xaxis\":\"x\",\"y\":[1.3155441284179688,-0.6584881544113159,24.37117576599121,1.273970603942871],\"yaxis\":\"y\",\"type\":\"scattergl\"},{\"hovertemplate\":\"\\u003cb\\u003e%{hovertext}\\u003c\\u002fb\\u003e\\u003cbr\\u003e\\u003cbr\\u003ecolor=Comedy|Drama|Romance\\u003cbr\\u003e0=%{x}\\u003cbr\\u003e1=%{y}\\u003cextra\\u003e\\u003c\\u002fextra\\u003e\",\"hovertext\":[\"Wings of Desire (1987)\",\"Twelfth Night (1996)\",\"Corrina, Corrina (1994)\",\"The American President (1995)\",\"What Happened Was... (1994)\",\"Manhattan (1979)\",\"Don Juan DeMarco (1995)\",\"Something to Talk About (1995)\",\"Cinema Paradiso (1988)\",\"I Like It Like That (1994)\",\"Brassed Off (1996)\"],\"legendgroup\":\"Comedy|Drama|Romance\",\"marker\":{\"color\":\"#00cc96\",\"symbol\":\"circle\"},\"mode\":\"markers\",\"name\":\"Comedy|Drama|Romance\",\"showlegend\":true,\"x\":[29.028358459472656,-2.0668599605560303,38.525657653808594,16.781391143798828,21.402626037597656,-42.63762283325195,-1.923123836517334,7.237678050994873,-41.77676010131836,18.927684783935547,-7.336309909820557],\"xaxis\":\"x\",\"y\":[-13.08857250213623,-9.684371948242188,9.768688201904297,22.05207633972168,-3.5654311180114746,3.763314723968506,12.041441917419434,-3.98178768157959,-3.6561598777770996,-5.038969993591309,-24.77712059020996],\"yaxis\":\"y\",\"type\":\"scattergl\"},{\"hovertemplate\":\"\\u003cb\\u003e%{hovertext}\\u003c\\u002fb\\u003e\\u003cbr\\u003e\\u003cbr\\u003ecolor=Children's|Drama\\u003cbr\\u003e0=%{x}\\u003cbr\\u003e1=%{y}\\u003cextra\\u003e\\u003c\\u002fextra\\u003e\",\"hovertext\":[\"Old Yeller (1957)\",\"Shiloh (1997)\",\"The Parent Trap (1961)\",\"So Dear to My Heart (1949)\",\"Little Princess, A (1995)\",\"The Secret Garden (1993)\",\"The Little Princess (1939)\",\"Fluke (1995)\",\"Kim (1950)\"],\"legendgroup\":\"Children's|Drama\",\"marker\":{\"color\":\"#ab63fa\",\"symbol\":\"circle\"},\"mode\":\"markers\",\"name\":\"Children's|Drama\",\"showlegend\":true,\"x\":[-62.88998794555664,36.49153518676758,-56.53535461425781,-43.403587341308594,13.317648887634277,15.137027740478516,-56.62223815917969,0.7651370167732239,-58.876243591308594],\"xaxis\":\"x\",\"y\":[19.35220718383789,-27.911752700805664,13.869693756103516,32.75496292114258,25.774375915527344,30.468551635742188,26.731042861938477,10.654906272888184,23.14849090576172],\"yaxis\":\"y\",\"type\":\"scattergl\"},{\"hovertemplate\":\"\\u003cb\\u003e%{hovertext}\\u003c\\u002fb\\u003e\\u003cbr\\u003e\\u003cbr\\u003ecolor=Drama|War\\u003cbr\\u003e0=%{x}\\u003cbr\\u003e1=%{y}\\u003cextra\\u003e\\u003c\\u002fextra\\u003e\",\"hovertext\":[\"Seven Years in Tibet (1997)\",\"Courage Under Fire (1996)\",\"Richard III (1995)\",\"Schindler's List (1993)\",\"The Bridge on the River Kwai (1957)\",\"Michael Collins (1996)\",\"Henry V (1989)\",\"Apocalypse Now (1979)\",\"Paths of Glory (1957)\",\"Ran (1985)\",\"Patton (1970)\",\"Platoon (1986)\",\"The Killing Fields (1984)\",\"The Deer Hunter (1978)\",\"Welcome To Sarajevo (1997)\",\"Paradise Road (1997)\",\"Bent (1997)\",\"The Walking Dead (1995)\",\"Nothing Personal (1995)\"],\"legendgroup\":\"Drama|War\",\"marker\":{\"color\":\"#FFA15A\",\"symbol\":\"circle\"},\"mode\":\"markers\",\"name\":\"Drama|War\",\"showlegend\":true,\"x\":[39.545372009277344,-4.981744289398193,-20.14307403564453,16.842023849487305,-40.800994873046875,2.8332014083862305,-21.08357048034668,-39.28678894042969,-41.42736053466797,-9.091864585876465,-53.12619400024414,-30.232681274414062,-34.25954055786133,-40.090728759765625,35.60642623901367,35.348899841308594,38.253379821777344,-9.828824996948242,5.804825782775879],\"xaxis\":\"x\",\"y\":[-21.446704864501953,-5.836108684539795,17.768230438232422,15.473015785217285,18.631946563720703,-23.09967803955078,17.02175521850586,7.83821439743042,20.22962760925293,29.990020751953125,1.2379212379455566,2.3801047801971436,-5.040050029754639,8.513394355773926,-24.838809967041016,-25.77042007446289,-34.10344314575195,10.247200965881348,11.259316444396973],\"yaxis\":\"y\",\"type\":\"scattergl\"},{\"hovertemplate\":\"\\u003cb\\u003e%{hovertext}\\u003c\\u002fb\\u003e\\u003cbr\\u003e\\u003cbr\\u003ecolor=Children's|Comedy|Mystery\\u003cbr\\u003e0=%{x}\\u003cbr\\u003e1=%{y}\\u003cextra\\u003e\\u003c\\u002fextra\\u003e\",\"hovertext\":[\"That Darn Cat! (1965)\",\"That Darn Cat! (1997)\"],\"legendgroup\":\"Children's|Comedy|Mystery\",\"marker\":{\"color\":\"#19d3f3\",\"symbol\":\"circle\"},\"mode\":\"markers\",\"name\":\"Children's|Comedy|Mystery\",\"showlegend\":true,\"x\":[-49.88204574584961,-49.990394592285156],\"xaxis\":\"x\",\"y\":[-6.359710693359375,-6.70005989074707],\"yaxis\":\"y\",\"type\":\"scattergl\"},{\"hovertemplate\":\"\\u003cb\\u003e%{hovertext}\\u003c\\u002fb\\u003e\\u003cbr\\u003e\\u003cbr\\u003ecolor=Comedy|Thriller\\u003cbr\\u003e0=%{x}\\u003cbr\\u003e1=%{y}\\u003cextra\\u003e\\u003c\\u002fextra\\u003e\",\"hovertext\":[\"North by Northwest (1959)\",\"Another Stakeout (1993)\",\"Head Above Water (1996)\",\"Tainted (1998)\"],\"legendgroup\":\"Comedy|Thriller\",\"marker\":{\"color\":\"#FF6692\",\"symbol\":\"circle\"},\"mode\":\"markers\",\"name\":\"Comedy|Thriller\",\"showlegend\":true,\"x\":[-46.27561950683594,14.721537590026855,-8.047853469848633,-10.761042594909668],\"xaxis\":\"x\",\"y\":[21.847753524780273,12.535181999206543,-32.21609115600586,-16.52998161315918],\"yaxis\":\"y\",\"type\":\"scattergl\"},{\"hovertemplate\":\"\\u003cb\\u003e%{hovertext}\\u003c\\u002fb\\u003e\\u003cbr\\u003e\\u003cbr\\u003ecolor=Action|Drama|Thriller\\u003cbr\\u003e0=%{x}\\u003cbr\\u003e1=%{y}\\u003cextra\\u003e\\u003c\\u002fextra\\u003e\",\"hovertext\":[\"Outbreak (1995)\",\"Apollo 13 (1995)\",\"Smilla's Sense of Snow (1997)\",\"Fire Down Below (1997)\",\"Mercury Rising (1998)\",\"Hostile Intentions (1994)\",\"Tough and Deadly (1995)\",\"Condition Red (1995)\"],\"legendgroup\":\"Action|Drama|Thriller\",\"marker\":{\"color\":\"#B6E880\",\"symbol\":\"circle\"},\"mode\":\"markers\",\"name\":\"Action|Drama|Thriller\",\"showlegend\":true,\"x\":[-5.0571770668029785,-32.806549072265625,35.90071105957031,-16.611591339111328,22.667306900024414,23.087278366088867,-6.41969108581543,23.58551025390625],\"xaxis\":\"x\",\"y\":[22.632633209228516,15.58671760559082,-14.525713920593262,-32.0863037109375,-12.831071853637695,8.830093383789062,10.528687477111816,27.602121353149414],\"yaxis\":\"y\",\"type\":\"scattergl\"},{\"hovertemplate\":\"\\u003cb\\u003e%{hovertext}\\u003c\\u002fb\\u003e\\u003cbr\\u003e\\u003cbr\\u003ecolor=Action|Adventure|Crime|Drama\\u003cbr\\u003e0=%{x}\\u003cbr\\u003e1=%{y}\\u003cextra\\u003e\\u003c\\u002fextra\\u003e\",\"hovertext\":[\"Batman (1989)\"],\"legendgroup\":\"Action|Adventure|Crime|Drama\",\"marker\":{\"color\":\"#FF97FF\",\"symbol\":\"circle\"},\"mode\":\"markers\",\"name\":\"Action|Adventure|Crime|Drama\",\"showlegend\":true,\"x\":[-20.98605728149414],\"xaxis\":\"x\",\"y\":[14.221477508544922],\"yaxis\":\"y\",\"type\":\"scattergl\"},{\"hovertemplate\":\"\\u003cb\\u003e%{hovertext}\\u003c\\u002fb\\u003e\\u003cbr\\u003e\\u003cbr\\u003ecolor=Animation|Children's\\u003cbr\\u003e0=%{x}\\u003cbr\\u003e1=%{y}\\u003cextra\\u003e\\u003c\\u002fextra\\u003e\",\"hovertext\":[\"The Sword in the Stone (1963)\",\"Pinocchio (1940)\",\"Oliver & Company (1988)\",\"The Aristocats (1970)\",\"Winnie the Pooh and the Blustery Day (1968)\",\"Balto (1995)\",\"The Fox and the Hound (1981)\",\"The Swan Princess (1994)\",\"Gumby: The Movie (1995)\",\"Land Before Time III: The Time of the Great Giving (1995) (V)\"],\"legendgroup\":\"Animation|Children's\",\"marker\":{\"color\":\"#FECB52\",\"symbol\":\"circle\"},\"mode\":\"markers\",\"name\":\"Animation|Children's\",\"showlegend\":true,\"x\":[-48.6468620300293,-51.7470817565918,24.696786880493164,-49.70222854614258,-59.738250732421875,-21.463232040405273,-37.62238311767578,14.228570938110352,0.33632707595825195,0.8834784626960754],\"xaxis\":\"x\",\"y\":[9.455960273742676,31.762680053710938,12.762736320495605,-4.871574878692627,15.834115982055664,-28.83086395263672,3.3179261684417725,26.04437255859375,6.532666206359863,4.115982532501221],\"yaxis\":\"y\",\"type\":\"scattergl\"},{\"hovertemplate\":\"\\u003cb\\u003e%{hovertext}\\u003c\\u002fb\\u003e\\u003cbr\\u003e\\u003cbr\\u003ecolor=Drama|Musical\\u003cbr\\u003e0=%{x}\\u003cbr\\u003e1=%{y}\\u003cextra\\u003e\\u003c\\u002fextra\\u003e\",\"hovertext\":[\"Backbeat (1993)\",\"Evita (1996)\",\"Mis\\u00e9rables, Les (1995)\",\"Selena (1997)\",\"The Doors (1991)\",\"Farinelli: il castrato (1994)\",\"The Umbrellas of Cherbourg (1964)\"],\"legendgroup\":\"Drama|Musical\",\"marker\":{\"color\":\"#636efa\",\"symbol\":\"circle\"},\"mode\":\"markers\",\"name\":\"Drama|Musical\",\"showlegend\":true,\"x\":[39.52002716064453,2.6471197605133057,-29.995939254760742,26.399978637695312,17.717348098754883,42.86631774902344,-58.010833740234375],\"xaxis\":\"x\",\"y\":[15.868471145629883,-39.046165466308594,-19.862695693969727,-40.02888488769531,41.46236038208008,6.993106842041016,10.526274681091309],\"yaxis\":\"y\",\"type\":\"scattergl\"},{\"hovertemplate\":\"\\u003cb\\u003e%{hovertext}\\u003c\\u002fb\\u003e\\u003cbr\\u003e\\u003cbr\\u003ecolor=Action|Adventure|Romance|War\\u003cbr\\u003e0=%{x}\\u003cbr\\u003e1=%{y}\\u003cextra\\u003e\\u003c\\u002fextra\\u003e\",\"hovertext\":[\"The African Queen (1951)\"],\"legendgroup\":\"Action|Adventure|Romance|War\",\"marker\":{\"color\":\"#EF553B\",\"symbol\":\"circle\"},\"mode\":\"markers\",\"name\":\"Action|Adventure|Romance|War\",\"showlegend\":true,\"x\":[-57.287017822265625],\"xaxis\":\"x\",\"y\":[22.132705688476562],\"yaxis\":\"y\",\"type\":\"scattergl\"},{\"hovertemplate\":\"\\u003cb\\u003e%{hovertext}\\u003c\\u002fb\\u003e\\u003cbr\\u003e\\u003cbr\\u003ecolor=Comedy|Drama\\u003cbr\\u003e0=%{x}\\u003cbr\\u003e1=%{y}\\u003cextra\\u003e\\u003c\\u002fextra\\u003e\",\"hovertext\":[\"The Adventures of Priscilla, Queen of the Desert (1994)\",\"Swimming with Sharks (1995)\",\"Roommates (1995)\",\"Wag the Dog (1997)\",\"What's Eating Gilbert Grape (1993)\",\"Kicking and Screaming (1995)\",\"Kicked in the Head (1997)\",\"Family Thing, A (1996)\",\"Down by Law (1986)\",\"To Die For (1995)\",\"Ed Wood (1994)\",\"Tin Men (1987)\",\"Swingers (1996)\",\"The Evening Star (1996)\",\"With Honors (1994)\",\"Jack (1996)\",\"Welcome to the Dollhouse (1995)\",\"Cool Hand Luke (1967)\",\"Sirens (1994)\",\"Unstrung Heroes (1995)\",\"As Good As It Gets (1997)\",\"Private Parts (1997)\",\"Boys on the Side (1995)\",\"Big Bully (1996)\",\"Ma vie en rose (My Life in Pink) (1997)\",\"The Inkwell (1994)\",\"The Paper (1994)\",\"The Doom Generation (1995)\",\"Rosencrantz and Guildenstern Are Dead (1990)\",\"Deconstructing Harry (1997)\",\"The Apartment (1960)\",\"Eat Drink Man Woman (1994)\",\"Spanking the Monkey (1994)\",\"The Van (1996)\",\"Reality Bites (1994)\",\"Night on Earth (1991)\",\"Month by the Lake, A (1995)\",\"Talking About Sex (1994)\",\"The Pompatus of Love (1996)\",\"I'll Do Anything (1994)\",\"Citizen Ruth (1996)\",\"The Big Squeeze (1996)\",\"Caro Diario (Dear Diary) (1994)\",\"Indian Summer (1996)\",\"Love Is All There Is (1996)\",\"Beat the Devil (1954)\",\"Trust (1990)\",\"Yankee Zulu (1994)\",\"Midnight Dancers (Sibak) (1994)\",\"Twisted (1996)\",\"Babyfever (1994)\",\"Stefano Quantestorie (1993)\",\"Grace of My Heart (1996)\",\"Salut cousin! (1996)\",\"The Lay of the Land (1997)\",\"Waiting to Exhale (1995)\",\"Last Summer in the Hamptons (1995)\",\"Vie est belle, La (Life is Rosey) (1987)\",\"Bhaji on the Beach (1993)\",\"The Reluctant Debutante (1958)\",\"\\u00c1 k\\u00f6ldum klaka (Cold Fever) (1994)\",\"The Slingshot (1993)\",\"The Wife (1995)\",\"Sleepover (1995)\",\"Nobody Loves Me (Keiner liebt mich) (1994)\"],\"legendgroup\":\"Comedy|Drama\",\"marker\":{\"color\":\"#00cc96\",\"symbol\":\"circle\"},\"mode\":\"markers\",\"name\":\"Comedy|Drama\",\"showlegend\":true,\"x\":[14.614757537841797,-1.3743362426757812,2.974748373031616,24.258974075317383,15.104903221130371,-13.078109741210938,29.648839950561523,9.331050872802734,-17.379514694213867,-7.711427211761475,-0.35260793566703796,-37.9344596862793,5.769482612609863,4.538501262664795,33.95854949951172,0.5393635630607605,-19.281171798706055,-39.11138916015625,17.217426300048828,5.061624050140381,21.247529983520508,17.916210174560547,-11.756900787353516,-8.667248725891113,-37.64494705200195,27.616594314575195,28.977590560913086,-11.482589721679688,-36.59674072265625,27.911575317382812,-53.31845474243164,14.780227661132812,43.59748840332031,-2.814349889755249,16.0637264251709,10.10224723815918,7.527666091918945,7.394930362701416,11.848852157592773,19.97099494934082,6.740413188934326,-7.687909126281738,39.2996940612793,10.516160011291504,12.68648910522461,-43.85752487182617,-18.460214614868164,36.056644439697266,-9.00345516204834,-6.200655460357666,7.146941661834717,45.269893646240234,8.07740306854248,-29.193002700805664,38.65098571777344,0.13296455144882202,11.300445556640625,-37.40666961669922,-12.188104629516602,-54.319156646728516,26.89530372619629,-20.61358642578125,7.1173787117004395,4.929539680480957,43.921470642089844],\"xaxis\":\"x\",\"y\":[27.16428565979004,9.630439758300781,26.331819534301758,-21.820714950561523,6.62958288192749,16.66862678527832,-25.31429100036621,-15.589300155639648,-31.95334815979004,7.3062896728515625,-40.91976547241211,29.774328231811523,-6.423266410827637,-13.900618553161621,7.134120941162109,-25.58217430114746,36.03009796142578,24.90095329284668,26.776029586791992,20.086597442626953,-26.417512893676758,-23.56203269958496,-38.91368865966797,-26.979007720947266,-19.61375617980957,6.978227615356445,6.085990905761719,21.552753448486328,-13.706962585449219,-23.963939666748047,13.179065704345703,5.5014777183532715,-4.118392467498779,-21.750932693481445,6.321054935455322,-0.08637430518865585,16.613988876342773,-4.805100440979004,-9.366315841674805,-4.278520584106445,-19.779333114624023,-16.937639236450195,8.594759941101074,-19.862533569335938,-10.822836875915527,21.12108039855957,10.860063552856445,3.508635997772217,38.82868576049805,-19.038494110107422,24.452421188354492,9.446017265319824,-17.51340675354004,-23.078588485717773,-20.04039764404297,19.832990646362305,-18.80908966064453,-19.720571517944336,-32.176292419433594,22.045804977416992,22.363933563232422,-15.44896411895752,7.4554266929626465,26.981033325195312,16.327829360961914],\"yaxis\":\"y\",\"type\":\"scattergl\"},{\"hovertemplate\":\"\\u003cb\\u003e%{hovertext}\\u003c\\u002fb\\u003e\\u003cbr\\u003e\\u003cbr\\u003ecolor=Comedy|Drama|Musical\\u003cbr\\u003e0=%{x}\\u003cbr\\u003e1=%{y}\\u003cextra\\u003e\\u003c\\u002fextra\\u003e\",\"hovertext\":[\"This Is Spinal Tap (1984)\"],\"legendgroup\":\"Comedy|Drama|Musical\",\"marker\":{\"color\":\"#ab63fa\",\"symbol\":\"circle\"},\"mode\":\"markers\",\"name\":\"Comedy|Drama|Musical\",\"showlegend\":true,\"x\":[-30.339290618896484],\"xaxis\":\"x\",\"y\":[-0.8680121302604675],\"yaxis\":\"y\",\"type\":\"scattergl\"},{\"hovertemplate\":\"\\u003cb\\u003e%{hovertext}\\u003c\\u002fb\\u003e\\u003cbr\\u003e\\u003cbr\\u003ecolor=Action|Mystery|Romance|Thriller\\u003cbr\\u003e0=%{x}\\u003cbr\\u003e1=%{y}\\u003cextra\\u003e\\u003c\\u002fextra\\u003e\",\"hovertext\":[\"Conspiracy Theory (1997)\"],\"legendgroup\":\"Action|Mystery|Romance|Thriller\",\"marker\":{\"color\":\"#FFA15A\",\"symbol\":\"circle\"},\"mode\":\"markers\",\"name\":\"Action|Mystery|Romance|Thriller\",\"showlegend\":true,\"x\":[24.790035247802734],\"xaxis\":\"x\",\"y\":[-20.496126174926758],\"yaxis\":\"y\",\"type\":\"scattergl\"},{\"hovertemplate\":\"\\u003cb\\u003e%{hovertext}\\u003c\\u002fb\\u003e\\u003cbr\\u003e\\u003cbr\\u003ecolor=Adventure|Children's|Drama|Musical\\u003cbr\\u003e0=%{x}\\u003cbr\\u003e1=%{y}\\u003cextra\\u003e\\u003c\\u002fextra\\u003e\",\"hovertext\":[\"The Wizard of Oz (1939)\"],\"legendgroup\":\"Adventure|Children's|Drama|Musical\",\"marker\":{\"color\":\"#19d3f3\",\"symbol\":\"circle\"},\"mode\":\"markers\",\"name\":\"Adventure|Children's|Drama|Musical\",\"showlegend\":true,\"x\":[-51.59771728515625],\"xaxis\":\"x\",\"y\":[27.769655227661133],\"yaxis\":\"y\",\"type\":\"scattergl\"},{\"hovertemplate\":\"\\u003cb\\u003e%{hovertext}\\u003c\\u002fb\\u003e\\u003cbr\\u003e\\u003cbr\\u003ecolor=Action|Sci-Fi|Thriller\\u003cbr\\u003e0=%{x}\\u003cbr\\u003e1=%{y}\\u003cextra\\u003e\\u003c\\u002fextra\\u003e\",\"hovertext\":[\"Terminator 2: Judgment Day (1991)\",\"The Terminator (1984)\",\"Face\\u002fOff (1997)\",\"The Lawnmower Man (1992)\",\"Johnny Mnemonic (1995)\",\"Solo (1996)\",\"The Arrival (1996)\",\"Lost in Space (1998)\",\"Nemesis 2: Nebula (1995)\"],\"legendgroup\":\"Action|Sci-Fi|Thriller\",\"marker\":{\"color\":\"#FF6692\",\"symbol\":\"circle\"},\"mode\":\"markers\",\"name\":\"Action|Sci-Fi|Thriller\",\"showlegend\":true,\"x\":[-30.5361385345459,-30.740442276000977,26.721424102783203,-6.4773454666137695,-9.954034805297852,3.3703103065490723,-1.6519564390182495,-34.2531852722168,-7.172497272491455],\"xaxis\":\"x\",\"y\":[7.465455055236816,7.1400017738342285,-30.33517837524414,45.178382873535156,24.11771583557129,-26.387659072875977,-22.043058395385742,15.108412742614746,23.54054069519043],\"yaxis\":\"y\",\"type\":\"scattergl\"},{\"hovertemplate\":\"\\u003cb\\u003e%{hovertext}\\u003c\\u002fb\\u003e\\u003cbr\\u003e\\u003cbr\\u003ecolor=Adventure|Children's|Comedy\\u003cbr\\u003e0=%{x}\\u003cbr\\u003e1=%{y}\\u003cextra\\u003e\\u003c\\u002fextra\\u003e\",\"hovertext\":[\"Willy Wonka and the Chocolate Factory (1971)\",\"Herbie Rides Again (1974)\",\"Jingle All the Way (1996)\"],\"legendgroup\":\"Adventure|Children's|Comedy\",\"marker\":{\"color\":\"#B6E880\",\"symbol\":\"circle\"},\"mode\":\"markers\",\"name\":\"Adventure|Children's|Comedy\",\"showlegend\":true,\"x\":[-48.46098327636719,-43.717044830322266,10.558615684509277],\"xaxis\":\"x\",\"y\":[1.4370111227035522,6.327590465545654,-41.9749755859375],\"yaxis\":\"y\",\"type\":\"scattergl\"},{\"hovertemplate\":\"\\u003cb\\u003e%{hovertext}\\u003c\\u002fb\\u003e\\u003cbr\\u003e\\u003cbr\\u003ecolor=Crime|Horror|Mystery|Thriller\\u003cbr\\u003e0=%{x}\\u003cbr\\u003e1=%{y}\\u003cextra\\u003e\\u003c\\u002fextra\\u003e\",\"hovertext\":[\"The Devil's Advocate (1997)\"],\"legendgroup\":\"Crime|Horror|Mystery|Thriller\",\"marker\":{\"color\":\"#FF97FF\",\"symbol\":\"circle\"},\"mode\":\"markers\",\"name\":\"Crime|Horror|Mystery|Thriller\",\"showlegend\":true,\"x\":[24.89476203918457],\"xaxis\":\"x\",\"y\":[-23.706172943115234],\"yaxis\":\"y\",\"type\":\"scattergl\"},{\"hovertemplate\":\"\\u003cb\\u003e%{hovertext}\\u003c\\u002fb\\u003e\\u003cbr\\u003e\\u003cbr\\u003ecolor=Action|Adventure|Comedy|Musical|Thriller\\u003cbr\\u003e0=%{x}\\u003cbr\\u003e1=%{y}\\u003cextra\\u003e\\u003c\\u002fextra\\u003e\",\"hovertext\":[\"Muppet Treasure Island (1996)\"],\"legendgroup\":\"Action|Adventure|Comedy|Musical|Thriller\",\"marker\":{\"color\":\"#FECB52\",\"symbol\":\"circle\"},\"mode\":\"markers\",\"name\":\"Action|Adventure|Comedy|Musical|Thriller\",\"showlegend\":true,\"x\":[7.063028812408447],\"xaxis\":\"x\",\"y\":[-31.97039222717285],\"yaxis\":\"y\",\"type\":\"scattergl\"},{\"hovertemplate\":\"\\u003cb\\u003e%{hovertext}\\u003c\\u002fb\\u003e\\u003cbr\\u003e\\u003cbr\\u003ecolor=Children's|Drama|Fantasy\\u003cbr\\u003e0=%{x}\\u003cbr\\u003e1=%{y}\\u003cextra\\u003e\\u003c\\u002fextra\\u003e\",\"hovertext\":[\"Bogus (1996)\",\"FairyTale: A True Story (1997)\"],\"legendgroup\":\"Children's|Drama|Fantasy\",\"marker\":{\"color\":\"#636efa\",\"symbol\":\"circle\"},\"mode\":\"markers\",\"name\":\"Children's|Drama|Fantasy\",\"showlegend\":true,\"x\":[-8.932745933532715,38.41327667236328],\"xaxis\":\"x\",\"y\":[-22.89588737487793,-16.045122146606445],\"yaxis\":\"y\",\"type\":\"scattergl\"},{\"hovertemplate\":\"\\u003cb\\u003e%{hovertext}\\u003c\\u002fb\\u003e\\u003cbr\\u003e\\u003cbr\\u003ecolor=Musical|Romance\\u003cbr\\u003e0=%{x}\\u003cbr\\u003e1=%{y}\\u003cextra\\u003e\\u003c\\u002fextra\\u003e\",\"hovertext\":[\"My Fair Lady (1964)\",\"Singin' in the Rain (1952)\",\"Dirty Dancing (1987)\",\"American in Paris, An (1951)\"],\"legendgroup\":\"Musical|Romance\",\"marker\":{\"color\":\"#EF553B\",\"symbol\":\"circle\"},\"mode\":\"markers\",\"name\":\"Musical|Romance\",\"showlegend\":true,\"x\":[-57.11302185058594,-50.00690460205078,-31.174726486206055,-54.736473083496094],\"xaxis\":\"x\",\"y\":[16.491039276123047,20.433664321899414,-8.716754913330078,18.454025268554688],\"yaxis\":\"y\",\"type\":\"scattergl\"},{\"hovertemplate\":\"\\u003cb\\u003e%{hovertext}\\u003c\\u002fb\\u003e\\u003cbr\\u003e\\u003cbr\\u003ecolor=Action|Adventure|Comedy|Romance\\u003cbr\\u003e0=%{x}\\u003cbr\\u003e1=%{y}\\u003cextra\\u003e\\u003c\\u002fextra\\u003e\",\"hovertext\":[\"True Lies (1994)\",\"The Princess Bride (1987)\"],\"legendgroup\":\"Action|Adventure|Comedy|Romance\",\"marker\":{\"color\":\"#00cc96\",\"symbol\":\"circle\"},\"mode\":\"markers\",\"name\":\"Action|Adventure|Comedy|Romance\",\"showlegend\":true,\"x\":[12.236455917358398,-28.165159225463867],\"xaxis\":\"x\",\"y\":[7.311574459075928,14.768967628479004],\"yaxis\":\"y\",\"type\":\"scattergl\"},{\"hovertemplate\":\"\\u003cb\\u003e%{hovertext}\\u003c\\u002fb\\u003e\\u003cbr\\u003e\\u003cbr\\u003ecolor=Sci-Fi|Thriller\\u003cbr\\u003e0=%{x}\\u003cbr\\u003e1=%{y}\\u003cextra\\u003e\\u003c\\u002fextra\\u003e\",\"hovertext\":[\"Mimic (1997)\",\"Lawnmower Man 2: Beyond Cyberspace (1996)\",\"The Island of Dr. Moreau (1996)\",\"The Net (1995)\",\"Unforgettable (1996)\",\"Virtuosity (1995)\",\"Robocop 3 (1993)\"],\"legendgroup\":\"Sci-Fi|Thriller\",\"marker\":{\"color\":\"#ab63fa\",\"symbol\":\"circle\"},\"mode\":\"markers\",\"name\":\"Sci-Fi|Thriller\",\"showlegend\":true,\"x\":[28.033218383789062,-6.478928565979004,2.4755699634552,-6.503546237945557,9.820514678955078,-0.7190676331520081,-24.23819351196289],\"xaxis\":\"x\",\"y\":[-29.237293243408203,45.18043899536133,-33.225128173828125,17.34197235107422,-18.59502410888672,23.0268497467041,8.46371078491211],\"yaxis\":\"y\",\"type\":\"scattergl\"},{\"hovertemplate\":\"\\u003cb\\u003e%{hovertext}\\u003c\\u002fb\\u003e\\u003cbr\\u003e\\u003cbr\\u003ecolor=Action|Drama|Thriller|War\\u003cbr\\u003e0=%{x}\\u003cbr\\u003e1=%{y}\\u003cextra\\u003e\\u003c\\u002fextra\\u003e\",\"hovertext\":[\"The Devil's Own (1997)\"],\"legendgroup\":\"Action|Drama|Thriller|War\",\"marker\":{\"color\":\"#FFA15A\",\"symbol\":\"circle\"},\"mode\":\"markers\",\"name\":\"Action|Drama|Thriller|War\",\"showlegend\":true,\"x\":[24.811161041259766],\"xaxis\":\"x\",\"y\":[-23.707744598388672],\"yaxis\":\"y\",\"type\":\"scattergl\"},{\"hovertemplate\":\"\\u003cb\\u003e%{hovertext}\\u003c\\u002fb\\u003e\\u003cbr\\u003e\\u003cbr\\u003ecolor=Drama|Mystery|Sci-Fi|Thriller\\u003cbr\\u003e0=%{x}\\u003cbr\\u003e1=%{y}\\u003cextra\\u003e\\u003c\\u002fextra\\u003e\",\"hovertext\":[\"2001: A Space Odyssey (1968)\"],\"legendgroup\":\"Drama|Mystery|Sci-Fi|Thriller\",\"marker\":{\"color\":\"#19d3f3\",\"symbol\":\"circle\"},\"mode\":\"markers\",\"name\":\"Drama|Mystery|Sci-Fi|Thriller\",\"showlegend\":true,\"x\":[-33.89890670776367],\"xaxis\":\"x\",\"y\":[14.499821662902832],\"yaxis\":\"y\",\"type\":\"scattergl\"},{\"hovertemplate\":\"\\u003cb\\u003e%{hovertext}\\u003c\\u002fb\\u003e\\u003cbr\\u003e\\u003cbr\\u003ecolor=Children's|Comedy|Musical\\u003cbr\\u003e0=%{x}\\u003cbr\\u003e1=%{y}\\u003cextra\\u003e\\u003c\\u002fextra\\u003e\",\"hovertext\":[\"Mary Poppins (1964)\",\"The Nightmare Before Christmas (1993)\"],\"legendgroup\":\"Children's|Comedy|Musical\",\"marker\":{\"color\":\"#FF6692\",\"symbol\":\"circle\"},\"mode\":\"markers\",\"name\":\"Children's|Comedy|Musical\",\"showlegend\":true,\"x\":[-58.02517318725586,-19.826457977294922],\"xaxis\":\"x\",\"y\":[16.06867790222168,25.4576416015625],\"yaxis\":\"y\",\"type\":\"scattergl\"},{\"hovertemplate\":\"\\u003cb\\u003e%{hovertext}\\u003c\\u002fb\\u003e\\u003cbr\\u003e\\u003cbr\\u003ecolor=Action|Adventure|Mystery\\u003cbr\\u003e0=%{x}\\u003cbr\\u003e1=%{y}\\u003cextra\\u003e\\u003c\\u002fextra\\u003e\",\"hovertext\":[\"Mission: Impossible (1996)\"],\"legendgroup\":\"Action|Adventure|Mystery\",\"marker\":{\"color\":\"#B6E880\",\"symbol\":\"circle\"},\"mode\":\"markers\",\"name\":\"Action|Adventure|Mystery\",\"showlegend\":true,\"x\":[-2.69118595123291],\"xaxis\":\"x\",\"y\":[-18.025409698486328],\"yaxis\":\"y\",\"type\":\"scattergl\"},{\"hovertemplate\":\"\\u003cb\\u003e%{hovertext}\\u003c\\u002fb\\u003e\\u003cbr\\u003e\\u003cbr\\u003ecolor=Thriller\\u003cbr\\u003e0=%{x}\\u003cbr\\u003e1=%{y}\\u003cextra\\u003e\\u003c\\u002fextra\\u003e\",\"hovertext\":[\"Red Rock West (1992)\",\"Assassins (1995)\",\"Cape Fear (1991)\",\"The Fan (1996)\",\"Four Rooms (1995)\",\"Nikita (La Femme Nikita) (1990)\",\"Shadow Conspiracy (1997)\",\"Foreign Correspondent (1940)\",\"Killing Zoe (1994)\",\"Blink (1994)\",\"Malice (1993)\",\"Mute Witness (1994)\",\"The 39 Steps (1935)\",\"The Rich Man's Wife (1996)\",\"Shallow Grave (1994)\",\"Fear (1996)\",\"Jade (1995)\",\"Hideaway (1995)\",\"Safe (1995)\",\"The Assignment (1997)\",\"Sliver (1993)\",\"Turbulence (1997)\",\"The Tie That Binds (1995)\",\"Love and a .45 (1994)\",\"The Innocents (1961)\",\"Killer (Bulletproof Heart) (1994)\",\"Switchback (1997)\",\"Trial by Jury (1994)\",\"Stranger in the House (1997)\",\"Dream Man (1995)\",\"Baton Rouge (1988)\",\"Legal Deceit (1997)\",\"Office Killer (1997)\",\"Hush (1998)\",\"Butterfly Kiss (1995)\",\"Underworld (1997)\"],\"legendgroup\":\"Thriller\",\"marker\":{\"color\":\"#FF97FF\",\"symbol\":\"circle\"},\"mode\":\"markers\",\"name\":\"Thriller\",\"showlegend\":true,\"x\":[0.20429015159606934,-6.35026741027832,-58.3604621887207,-2.1758618354797363,2.5936694145202637,-14.012190818786621,24.702959060668945,-50.6468620300293,-9.478178977966309,26.551193237304688,21.727069854736328,24.434967041015625,-47.93698501586914,7.188817977905273,-6.3578667640686035,-7.7187180519104,5.560475826263428,-4.08555793762207,-2.499267578125,25.215497970581055,18.071945190429688,33.202449798583984,13.101171493530273,15.888937950134277,-55.21358871459961,-11.488127708435059,34.24663162231445,-7.92152738571167,36.80453109741211,13.596328735351562,-31.812040328979492,26.730133056640625,23.56472396850586,21.568864822387695,11.922566413879395,38.433349609375],\"xaxis\":\"x\",\"y\":[-28.48988151550293,13.715018272399902,0.28806769847869873,-20.377582550048828,26.514892578125,5.534730434417725,-20.040342330932617,34.14387893676758,1.317918062210083,8.204651832580566,9.913392066955566,-3.2078921794891357,23.3624210357666,6.732597351074219,3.400813341140747,-13.784309387207031,22.802276611328125,14.527528762817383,14.80909252166748,-28.606061935424805,12.768791198730469,-28.95465850830078,16.554269790649414,-4.728386402130127,12.708351135253906,2.7247939109802246,-27.18880844116211,-5.149723529815674,-11.223260879516602,3.7257144451141357,-13.908050537109375,-23.179914474487305,-28.786415100097656,-11.087661743164062,22.761425018310547,-25.852497100830078],\"yaxis\":\"y\",\"type\":\"scattergl\"},{\"hovertemplate\":\"\\u003cb\\u003e%{hovertext}\\u003c\\u002fb\\u003e\\u003cbr\\u003e\\u003cbr\\u003ecolor=Action|Crime|Thriller\\u003cbr\\u003e0=%{x}\\u003cbr\\u003e1=%{y}\\u003cextra\\u003e\\u003c\\u002fextra\\u003e\",\"hovertext\":[\"Heat (1995)\",\"Hackers (1995)\"],\"legendgroup\":\"Action|Crime|Thriller\",\"marker\":{\"color\":\"#FECB52\",\"symbol\":\"circle\"},\"mode\":\"markers\",\"name\":\"Action|Crime|Thriller\",\"showlegend\":true,\"x\":[-0.7062946557998657,-7.359118938446045],\"xaxis\":\"x\",\"y\":[18.900901794433594,16.988290786743164],\"yaxis\":\"y\",\"type\":\"scattergl\"},{\"hovertemplate\":\"\\u003cb\\u003e%{hovertext}\\u003c\\u002fb\\u003e\\u003cbr\\u003e\\u003cbr\\u003ecolor=Drama|Horror\\u003cbr\\u003e0=%{x}\\u003cbr\\u003e1=%{y}\\u003cextra\\u003e\\u003c\\u002fextra\\u003e\",\"hovertext\":[\"Interview with the Vampire (1994)\",\"Mary Shelley's Frankenstein (1994)\",\"Wolf (1994)\",\"The Craft (1996)\",\"Beyond Bedlam (1993)\"],\"legendgroup\":\"Drama|Horror\",\"marker\":{\"color\":\"#636efa\",\"symbol\":\"circle\"},\"mode\":\"markers\",\"name\":\"Drama|Horror\",\"showlegend\":true,\"x\":[-23.174470901489258,-29.226585388183594,34.334354400634766,-4.7969970703125,-1.9394451379776],\"xaxis\":\"x\",\"y\":[28.44203758239746,29.51982879638672,4.292951583862305,-10.857015609741211,-5.825303554534912],\"yaxis\":\"y\",\"type\":\"scattergl\"},{\"hovertemplate\":\"\\u003cb\\u003e%{hovertext}\\u003c\\u002fb\\u003e\\u003cbr\\u003e\\u003cbr\\u003ecolor=Action|Western\\u003cbr\\u003e0=%{x}\\u003cbr\\u003e1=%{y}\\u003cextra\\u003e\\u003c\\u002fextra\\u003e\",\"hovertext\":[\"The Good, The Bad and The Ugly (1966)\"],\"legendgroup\":\"Action|Western\",\"marker\":{\"color\":\"#EF553B\",\"symbol\":\"circle\"},\"mode\":\"markers\",\"name\":\"Action|Western\",\"showlegend\":true,\"x\":[-42.010101318359375],\"xaxis\":\"x\",\"y\":[25.024852752685547],\"yaxis\":\"y\",\"type\":\"scattergl\"},{\"hovertemplate\":\"\\u003cb\\u003e%{hovertext}\\u003c\\u002fb\\u003e\\u003cbr\\u003e\\u003cbr\\u003ecolor=Children's|Comedy|Fantasy\\u003cbr\\u003e0=%{x}\\u003cbr\\u003e1=%{y}\\u003cextra\\u003e\\u003c\\u002fextra\\u003e\",\"hovertext\":[\"Kazaam (1996)\",\"Flubber (1997)\"],\"legendgroup\":\"Children's|Comedy|Fantasy\",\"marker\":{\"color\":\"#00cc96\",\"symbol\":\"circle\"},\"mode\":\"markers\",\"name\":\"Children's|Comedy|Fantasy\",\"showlegend\":true,\"x\":[10.767230033874512,35.695430755615234],\"xaxis\":\"x\",\"y\":[-32.071834564208984,-39.268253326416016],\"yaxis\":\"y\",\"type\":\"scattergl\"},{\"hovertemplate\":\"\\u003cb\\u003e%{hovertext}\\u003c\\u002fb\\u003e\\u003cbr\\u003e\\u003cbr\\u003ecolor=Action|Adventure|Sci-Fi|Thriller\\u003cbr\\u003e0=%{x}\\u003cbr\\u003e1=%{y}\\u003cextra\\u003e\\u003c\\u002fextra\\u003e\",\"hovertext\":[\"The Abyss (1989)\",\"The Lost World: Jurassic Park (1997)\",\"Escape from L.A. (1996)\",\"Escape from New York (1981)\",\"Spawn (1997)\"],\"legendgroup\":\"Action|Adventure|Sci-Fi|Thriller\",\"marker\":{\"color\":\"#ab63fa\",\"symbol\":\"circle\"},\"mode\":\"markers\",\"name\":\"Action|Adventure|Sci-Fi|Thriller\",\"showlegend\":true,\"x\":[-34.163856506347656,43.36613082885742,14.875425338745117,-39.06156921386719,34.6015739440918],\"xaxis\":\"x\",\"y\":[5.295690059661865,-9.325700759887695,-36.1074333190918,1.1997137069702148,-31.219236373901367],\"yaxis\":\"y\",\"type\":\"scattergl\"},{\"hovertemplate\":\"\\u003cb\\u003e%{hovertext}\\u003c\\u002fb\\u003e\\u003cbr\\u003e\\u003cbr\\u003ecolor=Animation|Sci-Fi\\u003cbr\\u003e0=%{x}\\u003cbr\\u003e1=%{y}\\u003cextra\\u003e\\u003c\\u002fextra\\u003e\",\"hovertext\":[\"Ghost in the Shell (Kokaku kidotai) (1995)\"],\"legendgroup\":\"Animation|Sci-Fi\",\"marker\":{\"color\":\"#FFA15A\",\"symbol\":\"circle\"},\"mode\":\"markers\",\"name\":\"Animation|Sci-Fi\",\"showlegend\":true,\"x\":[-14.23940658569336],\"xaxis\":\"x\",\"y\":[12.76701831817627],\"yaxis\":\"y\",\"type\":\"scattergl\"},{\"hovertemplate\":\"\\u003cb\\u003e%{hovertext}\\u003c\\u002fb\\u003e\\u003cbr\\u003e\\u003cbr\\u003ecolor=Drama|Sci-Fi\\u003cbr\\u003e0=%{x}\\u003cbr\\u003e1=%{y}\\u003cextra\\u003e\\u003c\\u002fextra\\u003e\",\"hovertext\":[\"Contact (1997)\",\"Twelve Monkeys (1995)\",\"The Day the Earth Stood Still (1951)\",\"Until the End of the World (Bis ans Ende der Welt) (1991)\"],\"legendgroup\":\"Drama|Sci-Fi\",\"marker\":{\"color\":\"#19d3f3\",\"symbol\":\"circle\"},\"mode\":\"markers\",\"name\":\"Drama|Sci-Fi\",\"showlegend\":true,\"x\":[32.03185272216797,-10.08361530303955,-45.59675216674805,-16.771583557128906],\"xaxis\":\"x\",\"y\":[-30.05129051208496,24.29355239868164,14.658344268798828,15.351092338562012],\"yaxis\":\"y\",\"type\":\"scattergl\"},{\"hovertemplate\":\"\\u003cb\\u003e%{hovertext}\\u003c\\u002fb\\u003e\\u003cbr\\u003e\\u003cbr\\u003ecolor=Action\\u003cbr\\u003e0=%{x}\\u003cbr\\u003e1=%{y}\\u003cextra\\u003e\\u003c\\u002fextra\\u003e\",\"hovertext\":[\"Jackie Chan's First Strike (1996)\",\"Money Train (1995)\",\"Terminal Velocity (1994)\",\"Under Siege (1992)\",\"The Substitute (1996)\",\"Striking Distance (1993)\",\"Bad Boys (1995)\",\"Drop Zone (1994)\",\"Steel (1997)\",\"Sudden Death (1995)\",\"Under Siege 2: Dark Territory (1995)\",\"The Shadow (1994)\",\"Judgment Night (1993)\",\"Best of the Best 3: No Turning Back (1995)\",\"In the Line of Duty 2 (1987)\",\"Bird of Prey (1996)\",\"The Specialist (1994)\",\"Bulletproof (1996)\",\"Street Fighter (1994)\",\"American Strays (1996)\",\"The Stranger (1994)\",\"Metro (1997)\",\"Fair Game (1995)\",\"Double Team (1997)\",\"The Getaway (1994)\",\"Bloodsport 2 (1995)\",\"Police Story 4: Project S (Chao ji ji hua) (1993)\",\"Bad Company (1995)\",\"The Deadly Cure (1996)\",\"Coldblooded (1995)\",\"The Hunted (1995)\",\"The Shooter (1995)\"],\"legendgroup\":\"Action\",\"marker\":{\"color\":\"#FF6692\",\"symbol\":\"circle\"},\"mode\":\"markers\",\"name\":\"Action\",\"showlegend\":true,\"x\":[37.18257141113281,45.785789489746094,27.566747665405273,-17.78250503540039,3.698610544204712,15.049734115600586,-4.601559638977051,25.782732009887695,29.68387222290039,-8.449396133422852,-17.90537452697754,23.643388748168945,11.152551651000977,-16.94350242614746,-20.12327003479004,-3.217604875564575,30.0380859375,-8.41845703125,37.1566162109375,-19.123491287231445,36.57664489746094,30.01369285583496,-4.561059951782227,23.38711929321289,19.864578247070312,-15.271530151367188,37.83409118652344,-4.467592716217041,-10.057519912719727,-1.6718857288360596,-5.094923496246338,-6.275683403015137],\"xaxis\":\"x\",\"y\":[21.301015853881836,-14.353035926818848,10.054795265197754,3.3630599975585938,-20.91655921936035,13.363814353942871,10.511116027832031,10.685802459716797,-33.607215881347656,5.971772193908691,3.454843044281006,5.340224742889404,0.3754960596561432,-0.933621346950531,2.7999117374420166,-27.937517166137695,3.7494966983795166,-25.72896385192871,19.762189865112305,-24.481739044189453,-10.816919326782227,-32.877872467041016,7.827927589416504,-31.199037551879883,2.8865702152252197,8.265639305114746,26.307992935180664,10.52963924407959,-13.44427490234375,19.335554122924805,13.598331451416016,13.657425880432129],\"yaxis\":\"y\",\"type\":\"scattergl\"},{\"hovertemplate\":\"\\u003cb\\u003e%{hovertext}\\u003c\\u002fb\\u003e\\u003cbr\\u003e\\u003cbr\\u003ecolor=Action|Adventure|Children's|Fantasy|Sci-Fi\\u003cbr\\u003e0=%{x}\\u003cbr\\u003e1=%{y}\\u003cextra\\u003e\\u003c\\u002fextra\\u003e\",\"hovertext\":[\"Jumanji (1995)\"],\"legendgroup\":\"Action|Adventure|Children's|Fantasy|Sci-Fi\",\"marker\":{\"color\":\"#B6E880\",\"symbol\":\"circle\"},\"mode\":\"markers\",\"name\":\"Action|Adventure|Children's|Fantasy|Sci-Fi\",\"showlegend\":true,\"x\":[40.946773529052734],\"xaxis\":\"x\",\"y\":[-6.776717662811279],\"yaxis\":\"y\",\"type\":\"scattergl\"},{\"hovertemplate\":\"\\u003cb\\u003e%{hovertext}\\u003c\\u002fb\\u003e\\u003cbr\\u003e\\u003cbr\\u003ecolor=Film-Noir|Thriller\\u003cbr\\u003e0=%{x}\\u003cbr\\u003e1=%{y}\\u003cextra\\u003e\\u003c\\u002fextra\\u003e\",\"hovertext\":[\"Cape Fear (1962)\",\"The Manchurian Candidate (1962)\",\"Murder, My Sweet (1944)\",\"Suture (1993)\"],\"legendgroup\":\"Film-Noir|Thriller\",\"marker\":{\"color\":\"#FF97FF\",\"symbol\":\"circle\"},\"mode\":\"markers\",\"name\":\"Film-Noir|Thriller\",\"showlegend\":true,\"x\":[-58.342777252197266,-47.60860061645508,-44.65843963623047,16.859254837036133],\"xaxis\":\"x\",\"y\":[0.3248896896839142,6.975982666015625,33.793766021728516,11.954362869262695],\"yaxis\":\"y\",\"type\":\"scattergl\"},{\"hovertemplate\":\"\\u003cb\\u003e%{hovertext}\\u003c\\u002fb\\u003e\\u003cbr\\u003e\\u003cbr\\u003ecolor=Action|Adventure|Drama|Romance|Sci-Fi|War\\u003cbr\\u003e0=%{x}\\u003cbr\\u003e1=%{y}\\u003cextra\\u003e\\u003c\\u002fextra\\u003e\",\"hovertext\":[\"The Empire Strikes Back (1980)\"],\"legendgroup\":\"Action|Adventure|Drama|Romance|Sci-Fi|War\",\"marker\":{\"color\":\"#FECB52\",\"symbol\":\"circle\"},\"mode\":\"markers\",\"name\":\"Action|Adventure|Drama|Romance|Sci-Fi|War\",\"showlegend\":true,\"x\":[-35.78688430786133],\"xaxis\":\"x\",\"y\":[9.695999145507812],\"yaxis\":\"y\",\"type\":\"scattergl\"},{\"hovertemplate\":\"\\u003cb\\u003e%{hovertext}\\u003c\\u002fb\\u003e\\u003cbr\\u003e\\u003cbr\\u003ecolor=Comedy|War\\u003cbr\\u003e0=%{x}\\u003cbr\\u003e1=%{y}\\u003cextra\\u003e\\u003c\\u002fextra\\u003e\",\"hovertext\":[\"Canadian Bacon (1994)\",\"Duck Soup (1933)\",\"M*A*S*H (1970)\",\"McHale's Navy (1997)\",\"Mediterraneo (1991)\",\"Bananas (1971)\",\"In the Army Now (1994)\"],\"legendgroup\":\"Comedy|War\",\"marker\":{\"color\":\"#636efa\",\"symbol\":\"circle\"},\"mode\":\"markers\",\"name\":\"Comedy|War\",\"showlegend\":true,\"x\":[-8.086170196533203,-51.40958786010742,-51.302955627441406,31.094472885131836,-18.222909927368164,-49.38889694213867,27.35492515563965],\"xaxis\":\"x\",\"y\":[-40.1411247253418,25.067781448364258,2.3304860591888428,-20.03354835510254,-38.61860275268555,1.1801137924194336,0.1369277387857437],\"yaxis\":\"y\",\"type\":\"scattergl\"},{\"hovertemplate\":\"\\u003cb\\u003e%{hovertext}\\u003c\\u002fb\\u003e\\u003cbr\\u003e\\u003cbr\\u003ecolor=Comedy|Musical\\u003cbr\\u003e0=%{x}\\u003cbr\\u003e1=%{y}\\u003cextra\\u003e\\u003c\\u002fextra\\u003e\",\"hovertext\":[\"Joe's Apartment (1996)\",\"The Band Wagon (1953)\",\"The Great Race (1965)\",\"Funny Face (1957)\",\"Victor\\u002fVictoria (1982)\",\"Spice World (1997)\"],\"legendgroup\":\"Comedy|Musical\",\"marker\":{\"color\":\"#EF553B\",\"symbol\":\"circle\"},\"mode\":\"markers\",\"name\":\"Comedy|Musical\",\"showlegend\":true,\"x\":[-17.608154296875,-49.51142120361328,-53.00908279418945,-49.702945709228516,-36.797088623046875,33.09740447998047],\"xaxis\":\"x\",\"y\":[-21.035890579223633,20.685787200927734,10.034207344055176,14.987007141113281,-3.696601152420044,-31.93873405456543],\"yaxis\":\"y\",\"type\":\"scattergl\"},{\"hovertemplate\":\"\\u003cb\\u003e%{hovertext}\\u003c\\u002fb\\u003e\\u003cbr\\u003e\\u003cbr\\u003ecolor=Drama|Romance|War\\u003cbr\\u003e0=%{x}\\u003cbr\\u003e1=%{y}\\u003cextra\\u003e\\u003c\\u002fextra\\u003e\",\"hovertext\":[\"Casablanca (1942)\",\"Gone with the Wind (1939)\",\"The English Patient (1996)\",\"Rob Roy (1995)\",\"Colonel Chabert, Le (1994)\"],\"legendgroup\":\"Drama|Romance|War\",\"marker\":{\"color\":\"#00cc96\",\"symbol\":\"circle\"},\"mode\":\"markers\",\"name\":\"Drama|Romance|War\",\"showlegend\":true,\"x\":[-45.885284423828125,-51.17243957519531,-6.09415340423584,-18.602005004882812,-27.83708953857422],\"xaxis\":\"x\",\"y\":[29.30398941040039,27.865253448486328,-22.337186813354492,-5.943943977355957,-20.609758377075195],\"yaxis\":\"y\",\"type\":\"scattergl\"},{\"hovertemplate\":\"\\u003cb\\u003e%{hovertext}\\u003c\\u002fb\\u003e\\u003cbr\\u003e\\u003cbr\\u003ecolor=Action|Romance|Thriller\\u003cbr\\u003e0=%{x}\\u003cbr\\u003e1=%{y}\\u003cextra\\u003e\\u003c\\u002fextra\\u003e\",\"hovertext\":[\"The Saint (1997)\",\"Speed (1994)\",\"The Crow (1994)\",\"Desperado (1995)\",\"Tomorrow Never Dies (1997)\",\"Speed 2: Cruise Control (1997)\"],\"legendgroup\":\"Action|Romance|Thriller\",\"marker\":{\"color\":\"#ab63fa\",\"symbol\":\"circle\"},\"mode\":\"markers\",\"name\":\"Action|Romance|Thriller\",\"showlegend\":true,\"x\":[27.752727508544922,27.539060592651367,24.83342742919922,-2.4468162059783936,18.03350830078125,27.72901725769043],\"xaxis\":\"x\",\"y\":[-26.474735260009766,9.454961776733398,-6.751583576202393,12.586322784423828,-32.03135299682617,-44.898887634277344],\"yaxis\":\"y\",\"type\":\"scattergl\"},{\"hovertemplate\":\"\\u003cb\\u003e%{hovertext}\\u003c\\u002fb\\u003e\\u003cbr\\u003e\\u003cbr\\u003ecolor=Animation|Comedy|Thriller\\u003cbr\\u003e0=%{x}\\u003cbr\\u003e1=%{y}\\u003cextra\\u003e\\u003c\\u002fextra\\u003e\",\"hovertext\":[\"Close Shave, A (1995)\"],\"legendgroup\":\"Animation|Comedy|Thriller\",\"marker\":{\"color\":\"#FFA15A\",\"symbol\":\"circle\"},\"mode\":\"markers\",\"name\":\"Animation|Comedy|Thriller\",\"showlegend\":true,\"x\":[9.915570259094238],\"xaxis\":\"x\",\"y\":[14.161747932434082],\"yaxis\":\"y\",\"type\":\"scattergl\"},{\"hovertemplate\":\"\\u003cb\\u003e%{hovertext}\\u003c\\u002fb\\u003e\\u003cbr\\u003e\\u003cbr\\u003ecolor=Action|Comedy|Sci-Fi|War\\u003cbr\\u003e0=%{x}\\u003cbr\\u003e1=%{y}\\u003cextra\\u003e\\u003c\\u002fextra\\u003e\",\"hovertext\":[\"Mars Attacks! (1996)\"],\"legendgroup\":\"Action|Comedy|Sci-Fi|War\",\"marker\":{\"color\":\"#19d3f3\",\"symbol\":\"circle\"},\"mode\":\"markers\",\"name\":\"Action|Comedy|Sci-Fi|War\",\"showlegend\":true,\"x\":[11.951784133911133],\"xaxis\":\"x\",\"y\":[-34.23676681518555],\"yaxis\":\"y\",\"type\":\"scattergl\"},{\"hovertemplate\":\"\\u003cb\\u003e%{hovertext}\\u003c\\u002fb\\u003e\\u003cbr\\u003e\\u003cbr\\u003ecolor=Action|Crime|Drama\\u003cbr\\u003e0=%{x}\\u003cbr\\u003e1=%{y}\\u003cextra\\u003e\\u003c\\u002fextra\\u003e\",\"hovertext\":[\"The Godfather (1972)\",\"The Godfather: Part II (1974)\",\"Menace II Society (1993)\",\"Dead Presidents (1995)\",\"Lashou shentan (1992)\"],\"legendgroup\":\"Action|Crime|Drama\",\"marker\":{\"color\":\"#FF6692\",\"symbol\":\"circle\"},\"mode\":\"markers\",\"name\":\"Action|Crime|Drama\",\"showlegend\":true,\"x\":[-49.505836486816406,-49.46586608886719,22.316328048706055,-8.364174842834473,-26.513301849365234],\"xaxis\":\"x\",\"y\":[5.809779644012451,5.694972515106201,10.174954414367676,9.854570388793945,-23.026979446411133],\"yaxis\":\"y\",\"type\":\"scattergl\"},{\"hovertemplate\":\"\\u003cb\\u003e%{hovertext}\\u003c\\u002fb\\u003e\\u003cbr\\u003e\\u003cbr\\u003ecolor=Comedy|Romance|War\\u003cbr\\u003e0=%{x}\\u003cbr\\u003e1=%{y}\\u003cextra\\u003e\\u003c\\u002fextra\\u003e\",\"hovertext\":[\"Forrest Gump (1994)\"],\"legendgroup\":\"Comedy|Romance|War\",\"marker\":{\"color\":\"#B6E880\",\"symbol\":\"circle\"},\"mode\":\"markers\",\"name\":\"Comedy|Romance|War\",\"showlegend\":true,\"x\":[30.183382034301758],\"xaxis\":\"x\",\"y\":[0.19824209809303284],\"yaxis\":\"y\",\"type\":\"scattergl\"},{\"hovertemplate\":\"\\u003cb\\u003e%{hovertext}\\u003c\\u002fb\\u003e\\u003cbr\\u003e\\u003cbr\\u003ecolor=Comedy|Drama|War\\u003cbr\\u003e0=%{x}\\u003cbr\\u003e1=%{y}\\u003cextra\\u003e\\u003c\\u002fextra\\u003e\",\"hovertext\":[\"Renaissance Man (1994)\",\"To Be or Not to Be (1942)\"],\"legendgroup\":\"Comedy|Drama|War\",\"marker\":{\"color\":\"#FF97FF\",\"symbol\":\"circle\"},\"mode\":\"markers\",\"name\":\"Comedy|Drama|War\",\"showlegend\":true,\"x\":[14.754361152648926,-45.62321853637695],\"xaxis\":\"x\",\"y\":[3.603858470916748,31.13637351989746],\"yaxis\":\"y\",\"type\":\"scattergl\"},{\"hovertemplate\":\"\\u003cb\\u003e%{hovertext}\\u003c\\u002fb\\u003e\\u003cbr\\u003e\\u003cbr\\u003ecolor=Adventure|Animation|Children's|Musical\\u003cbr\\u003e0=%{x}\\u003cbr\\u003e1=%{y}\\u003cextra\\u003e\\u003c\\u002fextra\\u003e\",\"hovertext\":[\"Pete's Dragon (1977)\"],\"legendgroup\":\"Adventure|Animation|Children's|Musical\",\"marker\":{\"color\":\"#FECB52\",\"symbol\":\"circle\"},\"mode\":\"markers\",\"name\":\"Adventure|Animation|Children's|Musical\",\"showlegend\":true,\"x\":[-37.72696304321289],\"xaxis\":\"x\",\"y\":[14.323637008666992],\"yaxis\":\"y\",\"type\":\"scattergl\"},{\"hovertemplate\":\"\\u003cb\\u003e%{hovertext}\\u003c\\u002fb\\u003e\\u003cbr\\u003e\\u003cbr\\u003ecolor=Drama|Musical|War\\u003cbr\\u003e0=%{x}\\u003cbr\\u003e1=%{y}\\u003cextra\\u003e\\u003c\\u002fextra\\u003e\",\"hovertext\":[\"Pink Floyd - The Wall (1982)\"],\"legendgroup\":\"Drama|Musical|War\",\"marker\":{\"color\":\"#636efa\",\"symbol\":\"circle\"},\"mode\":\"markers\",\"name\":\"Drama|Musical|War\",\"showlegend\":true,\"x\":[-34.0723876953125],\"xaxis\":\"x\",\"y\":[-0.8572232723236084],\"yaxis\":\"y\",\"type\":\"scattergl\"},{\"hovertemplate\":\"\\u003cb\\u003e%{hovertext}\\u003c\\u002fb\\u003e\\u003cbr\\u003e\\u003cbr\\u003ecolor=Comedy|Sci-Fi\\u003cbr\\u003e0=%{x}\\u003cbr\\u003e1=%{y}\\u003cextra\\u003e\\u003c\\u002fextra\\u003e\",\"hovertext\":[\"Mystery Science Theater 3000: The Movie (1996)\",\"Delicatessen (1991)\",\"Back to the Future (1985)\",\"Coneheads (1993)\",\"Sleeper (1973)\",\"Junior (1994)\",\"The Visitors (1993)\"],\"legendgroup\":\"Comedy|Sci-Fi\",\"marker\":{\"color\":\"#EF553B\",\"symbol\":\"circle\"},\"mode\":\"markers\",\"name\":\"Comedy|Sci-Fi\",\"showlegend\":true,\"x\":[-14.116830825805664,-18.259511947631836,-30.439603805541992,24.245399475097656,5.874288558959961,32.62910079956055,18.04196548461914],\"xaxis\":\"x\",\"y\":[-23.15677833557129,-38.62446975708008,5.591645240783691,1.2080825567245483,30.308515548706055,7.575342655181885,6.51346492767334],\"yaxis\":\"y\",\"type\":\"scattergl\"},{\"hovertemplate\":\"\\u003cb\\u003e%{hovertext}\\u003c\\u002fb\\u003e\\u003cbr\\u003e\\u003cbr\\u003ecolor=Children's|Comedy|Drama\\u003cbr\\u003e0=%{x}\\u003cbr\\u003e1=%{y}\\u003cextra\\u003e\\u003c\\u002fextra\\u003e\",\"hovertext\":[\"Pollyanna (1960)\",\"Babe (1995)\"],\"legendgroup\":\"Children's|Comedy|Drama\",\"marker\":{\"color\":\"#00cc96\",\"symbol\":\"circle\"},\"mode\":\"markers\",\"name\":\"Children's|Comedy|Drama\",\"showlegend\":true,\"x\":[-58.44414138793945,6.72209358215332],\"xaxis\":\"x\",\"y\":[15.934694290161133,23.038740158081055],\"yaxis\":\"y\",\"type\":\"scattergl\"},{\"hovertemplate\":\"\\u003cb\\u003e%{hovertext}\\u003c\\u002fb\\u003e\\u003cbr\\u003e\\u003cbr\\u003ecolor=Action|Drama\\u003cbr\\u003e0=%{x}\\u003cbr\\u003e1=%{y}\\u003cextra\\u003e\\u003c\\u002fextra\\u003e\",\"hovertext\":[\"Mad City (1997)\",\"Perfect World, A (1993)\",\"Palookaville (1996)\",\"The Program (1993)\",\"Marked for Death (1990)\",\"Romper Stomper (1992)\",\"Target (1995)\",\"Johnny 100 Pesos (1993)\",\"Men With Guns (1997)\",\"Tokyo Fist (1995)\",\"Men of Means (1998)\"],\"legendgroup\":\"Action|Drama\",\"marker\":{\"color\":\"#ab63fa\",\"symbol\":\"circle\"},\"mode\":\"markers\",\"name\":\"Action|Drama\",\"showlegend\":true,\"x\":[30.128684997558594,46.638519287109375,-11.053522109985352,22.33551597595215,-11.279959678649902,-16.365373611450195,2.390620470046997,31.760643005371094,16.73200225830078,-15.485628128051758,15.8273344039917],\"xaxis\":\"x\",\"y\":[-32.4151496887207,-20.111204147338867,-31.284332275390625,12.719971656799316,6.25312614440918,-9.583008766174316,14.36766242980957,31.02776527404785,-28.800493240356445,7.468729496002197,-27.607393264770508],\"yaxis\":\"y\",\"type\":\"scattergl\"},{\"hovertemplate\":\"\\u003cb\\u003e%{hovertext}\\u003c\\u002fb\\u003e\\u003cbr\\u003e\\u003cbr\\u003ecolor=Action|Crime|Mystery\\u003cbr\\u003e0=%{x}\\u003cbr\\u003e1=%{y}\\u003cextra\\u003e\\u003c\\u002fextra\\u003e\",\"hovertext\":[\"U Turn (1997)\"],\"legendgroup\":\"Action|Crime|Mystery\",\"marker\":{\"color\":\"#FFA15A\",\"symbol\":\"circle\"},\"mode\":\"markers\",\"name\":\"Action|Crime|Mystery\",\"showlegend\":true,\"x\":[32.982025146484375],\"xaxis\":\"x\",\"y\":[-27.030738830566406],\"yaxis\":\"y\",\"type\":\"scattergl\"},{\"hovertemplate\":\"\\u003cb\\u003e%{hovertext}\\u003c\\u002fb\\u003e\\u003cbr\\u003e\\u003cbr\\u003ecolor=Film-Noir|Sci-Fi\\u003cbr\\u003e0=%{x}\\u003cbr\\u003e1=%{y}\\u003cextra\\u003e\\u003c\\u002fextra\\u003e\",\"hovertext\":[\"Blade Runner (1982)\"],\"legendgroup\":\"Film-Noir|Sci-Fi\",\"marker\":{\"color\":\"#19d3f3\",\"symbol\":\"circle\"},\"mode\":\"markers\",\"name\":\"Film-Noir|Sci-Fi\",\"showlegend\":true,\"x\":[-32.365013122558594],\"xaxis\":\"x\",\"y\":[6.945835590362549],\"yaxis\":\"y\",\"type\":\"scattergl\"},{\"hovertemplate\":\"\\u003cb\\u003e%{hovertext}\\u003c\\u002fb\\u003e\\u003cbr\\u003e\\u003cbr\\u003ecolor=Adventure|Children's|Fantasy|Sci-Fi\\u003cbr\\u003e0=%{x}\\u003cbr\\u003e1=%{y}\\u003cextra\\u003e\\u003c\\u002fextra\\u003e\",\"hovertext\":[\"20,000 Leagues Under the Sea (1954)\",\"Star Kid (1997)\"],\"legendgroup\":\"Adventure|Children's|Fantasy|Sci-Fi\",\"marker\":{\"color\":\"#FF6692\",\"symbol\":\"circle\"},\"mode\":\"markers\",\"name\":\"Adventure|Children's|Fantasy|Sci-Fi\",\"showlegend\":true,\"x\":[-63.429542541503906,11.1657075881958],\"xaxis\":\"x\",\"y\":[20.572511672973633,-24.966283798217773],\"yaxis\":\"y\",\"type\":\"scattergl\"},{\"hovertemplate\":\"\\u003cb\\u003e%{hovertext}\\u003c\\u002fb\\u003e\\u003cbr\\u003e\\u003cbr\\u003ecolor=Action|Adventure|Crime\\u003cbr\\u003e0=%{x}\\u003cbr\\u003e1=%{y}\\u003cextra\\u003e\\u003c\\u002fextra\\u003e\",\"hovertext\":[\"Cliffhanger (1993)\",\"Rumble in the Bronx (1995)\",\"Batman & Robin (1997)\"],\"legendgroup\":\"Action|Adventure|Crime\",\"marker\":{\"color\":\"#B6E880\",\"symbol\":\"circle\"},\"mode\":\"markers\",\"name\":\"Action|Adventure|Crime\",\"showlegend\":true,\"x\":[14.070869445800781,-2.6312146186828613,20.78394889831543],\"xaxis\":\"x\",\"y\":[10.97004222869873,1.9145910739898682,-32.46488571166992],\"yaxis\":\"y\",\"type\":\"scattergl\"},{\"hovertemplate\":\"\\u003cb\\u003e%{hovertext}\\u003c\\u002fb\\u003e\\u003cbr\\u003e\\u003cbr\\u003ecolor=Romance\\u003cbr\\u003e0=%{x}\\u003cbr\\u003e1=%{y}\\u003cextra\\u003e\\u003c\\u002fextra\\u003e\",\"hovertext\":[\"Love Jones (1997)\",\"Touch (1997)\",\"Kissed (1996)\",\"Jack and Sarah (1995)\",\"Swept from the Sea (1997)\",\"Kama Sutra: A Tale of Love (1996)\",\"Modern Affair, A (1995)\",\"City of Angels (1998)\",\"Walking and Talking (1996)\",\"Affair to Remember, An (1957)\",\"Persuasion (1995)\",\"Mrs. Dalloway (1997)\",\"The Tango Lesson (1997)\",\"Hugo Pool (1997)\",\"1-900 (1994)\",\"Fall (1997)\",\"Love and Other Catastrophes (1996)\",\"Shooting Fish (1997)\",\"The Promise (1994)\",\"Liebelei (1933)\",\"Commandments (1997)\",\"The Crude Oasis (1995)\",\"The Leading Man (1996)\",\"Temptress Moon (Feng Yue) (1996)\"],\"legendgroup\":\"Romance\",\"marker\":{\"color\":\"#FF97FF\",\"symbol\":\"circle\"},\"mode\":\"markers\",\"name\":\"Romance\",\"showlegend\":true,\"x\":[48.08219909667969,31.798099517822266,7.636946678161621,11.783330917358398,30.186145782470703,10.449137687683105,13.1973237991333,23.864215850830078,6.8004150390625,-54.41496276855469,3.419215440750122,7.802465438842773,25.11164665222168,41.075096130371094,33.65370559692383,35.562896728515625,14.16185188293457,28.18695068359375,18.65593719482422,-56.82927703857422,26.052583694458008,2.183685064315796,7.468518257141113,-14.727251052856445],\"xaxis\":\"x\",\"y\":[2.536851644515991,-29.961959838867188,-9.183359146118164,33.981285095214844,-19.269044876098633,-8.164243698120117,-5.096956253051758,-7.867344379425049,-3.689856767654419,19.924697875976562,11.7675142288208,-38.28801727294922,-29.77932357788086,-29.912521362304688,8.598844528198242,-30.58820915222168,-9.633191108703613,-17.593050003051758,-0.7474679946899414,29.236709594726562,-25.46603012084961,22.61739730834961,-27.337703704833984,-13.133671760559082],\"yaxis\":\"y\",\"type\":\"scattergl\"},{\"hovertemplate\":\"\\u003cb\\u003e%{hovertext}\\u003c\\u002fb\\u003e\\u003cbr\\u003e\\u003cbr\\u003ecolor=Crime|Thriller\\u003cbr\\u003e0=%{x}\\u003cbr\\u003e1=%{y}\\u003cextra\\u003e\\u003c\\u002fextra\\u003e\",\"hovertext\":[\"Seven (Se7en) (1995)\",\"The Usual Suspects (1995)\",\"Reservoir Dogs (1992)\",\"Purple Noon (1960)\",\"Romeo Is Bleeding (1993)\",\"Red Corner (1997)\",\"Incognito (1997)\",\"Playing God (1997)\",\"Albino Alligator (1996)\",\"Hard Eight (1996)\",\"City of Industry (1997)\"],\"legendgroup\":\"Crime|Thriller\",\"marker\":{\"color\":\"#FECB52\",\"symbol\":\"circle\"},\"mode\":\"markers\",\"name\":\"Crime|Thriller\",\"showlegend\":true,\"x\":[-39.01319122314453,-7.497057914733887,-15.693467140197754,-50.81523132324219,-2.281376600265503,24.236881256103516,28.88994026184082,25.503040313720703,-8.555744171142578,6.548374652862549,-0.7108005285263062],\"xaxis\":\"x\",\"y\":[19.605995178222656,12.455360412597656,1.841561198234558,19.064722061157227,-8.35197639465332,28.245859146118164,-29.23019790649414,-25.789508819580078,-29.270008087158203,-48.515419006347656,-34.54035949707031],\"yaxis\":\"y\",\"type\":\"scattergl\"},{\"hovertemplate\":\"\\u003cb\\u003e%{hovertext}\\u003c\\u002fb\\u003e\\u003cbr\\u003e\\u003cbr\\u003ecolor=Adventure|War\\u003cbr\\u003e0=%{x}\\u003cbr\\u003e1=%{y}\\u003cextra\\u003e\\u003c\\u002fextra\\u003e\",\"hovertext\":[\"The Great Escape (1963)\",\"Lawrence of Arabia (1962)\",\"For Whom the Bell Tolls (1943)\"],\"legendgroup\":\"Adventure|War\",\"marker\":{\"color\":\"#636efa\",\"symbol\":\"circle\"},\"mode\":\"markers\",\"name\":\"Adventure|War\",\"showlegend\":true,\"x\":[-52.553794860839844,-49.9219856262207,-47.295257568359375],\"xaxis\":\"x\",\"y\":[9.220739364624023,8.96193790435791,27.537151336669922],\"yaxis\":\"y\",\"type\":\"scattergl\"},{\"hovertemplate\":\"\\u003cb\\u003e%{hovertext}\\u003c\\u002fb\\u003e\\u003cbr\\u003e\\u003cbr\\u003ecolor=Animation|Comedy\\u003cbr\\u003e0=%{x}\\u003cbr\\u003e1=%{y}\\u003cextra\\u003e\\u003c\\u002fextra\\u003e\",\"hovertext\":[\"Grand Day Out, A (1992)\",\"The Wrong Trousers (1993)\",\"Beavis and Butt-head Do America (1996)\"],\"legendgroup\":\"Animation|Comedy\",\"marker\":{\"color\":\"#EF553B\",\"symbol\":\"circle\"},\"mode\":\"markers\",\"name\":\"Animation|Comedy\",\"showlegend\":true,\"x\":[1.7865495681762695,-10.134529113769531,17.606603622436523],\"xaxis\":\"x\",\"y\":[-12.138479232788086,-21.192668914794922,-14.037460327148438],\"yaxis\":\"y\",\"type\":\"scattergl\"},{\"hovertemplate\":\"\\u003cb\\u003e%{hovertext}\\u003c\\u002fb\\u003e\\u003cbr\\u003e\\u003cbr\\u003ecolor=Film-Noir|Mystery\\u003cbr\\u003e0=%{x}\\u003cbr\\u003e1=%{y}\\u003cextra\\u003e\\u003c\\u002fextra\\u003e\",\"hovertext\":[\"The Maltese Falcon (1941)\",\"The Big Sleep (1946)\"],\"legendgroup\":\"Film-Noir|Mystery\",\"marker\":{\"color\":\"#00cc96\",\"symbol\":\"circle\"},\"mode\":\"markers\",\"name\":\"Film-Noir|Mystery\",\"showlegend\":true,\"x\":[-45.96070861816406,-43.58219909667969],\"xaxis\":\"x\",\"y\":[29.26675033569336,29.544513702392578],\"yaxis\":\"y\",\"type\":\"scattergl\"},{\"hovertemplate\":\"\\u003cb\\u003e%{hovertext}\\u003c\\u002fb\\u003e\\u003cbr\\u003e\\u003cbr\\u003ecolor=Action|Horror|Sci-Fi\\u003cbr\\u003e0=%{x}\\u003cbr\\u003e1=%{y}\\u003cextra\\u003e\\u003c\\u002fextra\\u003e\",\"hovertext\":[\"Alien: Resurrection (1997)\",\"Hellraiser: Bloodline (1996)\",\"Deep Rising (1998)\"],\"legendgroup\":\"Action|Horror|Sci-Fi\",\"marker\":{\"color\":\"#ab63fa\",\"symbol\":\"circle\"},\"mode\":\"markers\",\"name\":\"Action|Horror|Sci-Fi\",\"showlegend\":true,\"x\":[23.979494094848633,-9.951215744018555,23.24292755126953],\"xaxis\":\"x\",\"y\":[-33.80791091918945,-11.078839302062988,-13.314712524414062],\"yaxis\":\"y\",\"type\":\"scattergl\"},{\"hovertemplate\":\"\\u003cb\\u003e%{hovertext}\\u003c\\u002fb\\u003e\\u003cbr\\u003e\\u003cbr\\u003ecolor=Drama|Mystery\\u003cbr\\u003e0=%{x}\\u003cbr\\u003e1=%{y}\\u003cextra\\u003e\\u003c\\u002fextra\\u003e\",\"hovertext\":[\"Amadeus (1984)\",\"The Hour of the Pig (1993)\",\"Six Degrees of Separation (1993)\",\"Before and After (1996)\",\"Lone Star (1996)\"],\"legendgroup\":\"Drama|Mystery\",\"marker\":{\"color\":\"#FFA15A\",\"symbol\":\"circle\"},\"mode\":\"markers\",\"name\":\"Drama|Mystery\",\"showlegend\":true,\"x\":[-41.56124496459961,29.651931762695312,15.133302688598633,3.290402889251709,3.4998929500579834],\"xaxis\":\"x\",\"y\":[-3.40842604637146,32.738590240478516,13.702773094177246,-29.881662368774414,-26.60820198059082],\"yaxis\":\"y\",\"type\":\"scattergl\"},{\"hovertemplate\":\"\\u003cb\\u003e%{hovertext}\\u003c\\u002fb\\u003e\\u003cbr\\u003e\\u003cbr\\u003ecolor=Action|Horror|Sci-Fi|Thriller\\u003cbr\\u003e0=%{x}\\u003cbr\\u003e1=%{y}\\u003cextra\\u003e\\u003c\\u002fextra\\u003e\",\"hovertext\":[\"Alien (1979)\",\"Alien 3 (1992)\"],\"legendgroup\":\"Action|Horror|Sci-Fi|Thriller\",\"marker\":{\"color\":\"#19d3f3\",\"symbol\":\"circle\"},\"mode\":\"markers\",\"name\":\"Action|Horror|Sci-Fi|Thriller\",\"showlegend\":true,\"x\":[-39.04603576660156,-25.221208572387695],\"xaxis\":\"x\",\"y\":[6.998326778411865,8.576565742492676],\"yaxis\":\"y\",\"type\":\"scattergl\"},{\"hovertemplate\":\"\\u003cb\\u003e%{hovertext}\\u003c\\u002fb\\u003e\\u003cbr\\u003e\\u003cbr\\u003ecolor=Action|Thriller|War\\u003cbr\\u003e0=%{x}\\u003cbr\\u003e1=%{y}\\u003cextra\\u003e\\u003c\\u002fextra\\u003e\",\"hovertext\":[\"The Peacemaker (1997)\"],\"legendgroup\":\"Action|Thriller|War\",\"marker\":{\"color\":\"#FF6692\",\"symbol\":\"circle\"},\"mode\":\"markers\",\"name\":\"Action|Thriller|War\",\"showlegend\":true,\"x\":[23.21056365966797],\"xaxis\":\"x\",\"y\":[-24.762155532836914],\"yaxis\":\"y\",\"type\":\"scattergl\"},{\"hovertemplate\":\"\\u003cb\\u003e%{hovertext}\\u003c\\u002fb\\u003e\\u003cbr\\u003e\\u003cbr\\u003ecolor=Action|Adventure|Sci-Fi|War\\u003cbr\\u003e0=%{x}\\u003cbr\\u003e1=%{y}\\u003cextra\\u003e\\u003c\\u002fextra\\u003e\",\"hovertext\":[\"Starship Troopers (1997)\"],\"legendgroup\":\"Action|Adventure|Sci-Fi|War\",\"marker\":{\"color\":\"#B6E880\",\"symbol\":\"circle\"},\"mode\":\"markers\",\"name\":\"Action|Adventure|Sci-Fi|War\",\"showlegend\":true,\"x\":[24.03607177734375],\"xaxis\":\"x\",\"y\":[-34.71547317504883],\"yaxis\":\"y\",\"type\":\"scattergl\"},{\"hovertemplate\":\"\\u003cb\\u003e%{hovertext}\\u003c\\u002fb\\u003e\\u003cbr\\u003e\\u003cbr\\u003ecolor=Adventure|Children's|Fantasy\\u003cbr\\u003e0=%{x}\\u003cbr\\u003e1=%{y}\\u003cextra\\u003e\\u003c\\u002fextra\\u003e\",\"hovertext\":[\"The Indian in the Cupboard (1995)\",\"Escape to Witch Mountain (1975)\"],\"legendgroup\":\"Adventure|Children's|Fantasy\",\"marker\":{\"color\":\"#FF97FF\",\"symbol\":\"circle\"},\"mode\":\"markers\",\"name\":\"Adventure|Children's|Fantasy\",\"showlegend\":true,\"x\":[2.1677310466766357,-40.45703125],\"xaxis\":\"x\",\"y\":[28.90474510192871,0.9261713027954102],\"yaxis\":\"y\",\"type\":\"scattergl\"},{\"hovertemplate\":\"\\u003cb\\u003e%{hovertext}\\u003c\\u002fb\\u003e\\u003cbr\\u003e\\u003cbr\\u003ecolor=Sci-Fi\\u003cbr\\u003e0=%{x}\\u003cbr\\u003e1=%{y}\\u003cextra\\u003e\\u003c\\u002fextra\\u003e\",\"hovertext\":[\"Brazil (1985)\",\"Clockwork Orange, A (1971)\",\"Species (1995)\",\"Screamers (1995)\",\"Forbidden Planet (1956)\",\"Tetsuo II: Body Hammer (1992)\",\"Alphaville (1965)\"],\"legendgroup\":\"Sci-Fi\",\"marker\":{\"color\":\"#FECB52\",\"symbol\":\"circle\"},\"mode\":\"markers\",\"name\":\"Sci-Fi\",\"showlegend\":true,\"x\":[-5.071178913116455,-47.661048889160156,-1.3847061395645142,-14.04806137084961,-46.18722152709961,-16.419147491455078,-56.45806121826172],\"xaxis\":\"x\",\"y\":[26.6572322845459,0.8323489427566528,22.635730743408203,17.03812026977539,14.905588150024414,7.004506587982178,9.448927879333496],\"yaxis\":\"y\",\"type\":\"scattergl\"},{\"hovertemplate\":\"\\u003cb\\u003e%{hovertext}\\u003c\\u002fb\\u003e\\u003cbr\\u003e\\u003cbr\\u003ecolor=Drama|Fantasy|Thriller\\u003cbr\\u003e0=%{x}\\u003cbr\\u003e1=%{y}\\u003cextra\\u003e\\u003c\\u002fextra\\u003e\",\"hovertext\":[\"Heavenly Creatures (1994)\"],\"legendgroup\":\"Drama|Fantasy|Thriller\",\"marker\":{\"color\":\"#636efa\",\"symbol\":\"circle\"},\"mode\":\"markers\",\"name\":\"Drama|Fantasy|Thriller\",\"showlegend\":true,\"x\":[18.88577651977539],\"xaxis\":\"x\",\"y\":[18.041763305664062],\"yaxis\":\"y\",\"type\":\"scattergl\"},{\"hovertemplate\":\"\\u003cb\\u003e%{hovertext}\\u003c\\u002fb\\u003e\\u003cbr\\u003e\\u003cbr\\u003ecolor=Adventure|Animation|Sci-Fi|Thriller\\u003cbr\\u003e0=%{x}\\u003cbr\\u003e1=%{y}\\u003cextra\\u003e\\u003c\\u002fextra\\u003e\",\"hovertext\":[\"Akira (1988)\"],\"legendgroup\":\"Adventure|Animation|Sci-Fi|Thriller\",\"marker\":{\"color\":\"#EF553B\",\"symbol\":\"circle\"},\"mode\":\"markers\",\"name\":\"Adventure|Animation|Sci-Fi|Thriller\",\"showlegend\":true,\"x\":[-32.67802810668945],\"xaxis\":\"x\",\"y\":[4.355483055114746],\"yaxis\":\"y\",\"type\":\"scattergl\"},{\"hovertemplate\":\"\\u003cb\\u003e%{hovertext}\\u003c\\u002fb\\u003e\\u003cbr\\u003e\\u003cbr\\u003ecolor=Comedy|Romance|Thriller\\u003cbr\\u003e0=%{x}\\u003cbr\\u003e1=%{y}\\u003cextra\\u003e\\u003c\\u002fextra\\u003e\",\"hovertext\":[\"Ghost (1990)\",\"So I Married an Axe Murderer (1993)\",\"To Catch a Thief (1955)\"],\"legendgroup\":\"Comedy|Romance|Thriller\",\"marker\":{\"color\":\"#00cc96\",\"symbol\":\"circle\"},\"mode\":\"markers\",\"name\":\"Comedy|Romance|Thriller\",\"showlegend\":true,\"x\":[-18.513444900512695,-8.062936782836914,-47.21353530883789],\"xaxis\":\"x\",\"y\":[10.481529235839844,2.0413248538970947,22.850255966186523],\"yaxis\":\"y\",\"type\":\"scattergl\"},{\"hovertemplate\":\"\\u003cb\\u003e%{hovertext}\\u003c\\u002fb\\u003e\\u003cbr\\u003e\\u003cbr\\u003ecolor=Action|Sci-Fi\\u003cbr\\u003e0=%{x}\\u003cbr\\u003e1=%{y}\\u003cextra\\u003e\\u003c\\u002fextra\\u003e\",\"hovertext\":[\"The Fifth Element (1997)\",\"Demolition Man (1993)\",\"Timecop (1994)\",\"No Escape (1994)\",\"Barb Wire (1996)\",\"Highlander III: The Sorcerer (1994)\"],\"legendgroup\":\"Action|Sci-Fi\",\"marker\":{\"color\":\"#ab63fa\",\"symbol\":\"circle\"},\"mode\":\"markers\",\"name\":\"Action|Sci-Fi\",\"showlegend\":true,\"x\":[16.204322814941406,-22.625572204589844,-7.793872356414795,21.337467193603516,-10.846160888671875,-27.96864891052246],\"xaxis\":\"x\",\"y\":[-31.249937057495117,8.06319808959961,19.826839447021484,1.979849934577942,-24.688730239868164,8.133584022521973],\"yaxis\":\"y\",\"type\":\"scattergl\"},{\"hovertemplate\":\"\\u003cb\\u003e%{hovertext}\\u003c\\u002fb\\u003e\\u003cbr\\u003e\\u003cbr\\u003ecolor=Crime|Film-Noir|Thriller\\u003cbr\\u003e0=%{x}\\u003cbr\\u003e1=%{y}\\u003cextra\\u003e\\u003c\\u002fextra\\u003e\",\"hovertext\":[\"Mulholland Falls (1996)\",\"Touch of Evil (1958)\",\"M (1931)\",\"He Walked by Night (1948)\"],\"legendgroup\":\"Crime|Film-Noir|Thriller\",\"marker\":{\"color\":\"#FFA15A\",\"symbol\":\"circle\"},\"mode\":\"markers\",\"name\":\"Crime|Film-Noir|Thriller\",\"showlegend\":true,\"x\":[3.824544906616211,-44.69184494018555,-43.792991638183594,-50.16450119018555],\"xaxis\":\"x\",\"y\":[-18.66281509399414,17.907756805419922,35.74869155883789,23.09576988220215],\"yaxis\":\"y\",\"type\":\"scattergl\"},{\"hovertemplate\":\"\\u003cb\\u003e%{hovertext}\\u003c\\u002fb\\u003e\\u003cbr\\u003e\\u003cbr\\u003ecolor=Action|Comedy|Musical\\u003cbr\\u003e0=%{x}\\u003cbr\\u003e1=%{y}\\u003cextra\\u003e\\u003c\\u002fextra\\u003e\",\"hovertext\":[\"The Blues Brothers (1980)\",\"Blues Brothers 2000 (1998)\"],\"legendgroup\":\"Action|Comedy|Musical\",\"marker\":{\"color\":\"#19d3f3\",\"symbol\":\"circle\"},\"mode\":\"markers\",\"name\":\"Action|Comedy|Musical\",\"showlegend\":true,\"x\":[-27.902246475219727,-27.752138137817383],\"xaxis\":\"x\",\"y\":[-2.294823169708252,-2.3945231437683105],\"yaxis\":\"y\",\"type\":\"scattergl\"},{\"hovertemplate\":\"\\u003cb\\u003e%{hovertext}\\u003c\\u002fb\\u003e\\u003cbr\\u003e\\u003cbr\\u003ecolor=Action|Sci-Fi|Thriller|War\\u003cbr\\u003e0=%{x}\\u003cbr\\u003e1=%{y}\\u003cextra\\u003e\\u003c\\u002fextra\\u003e\",\"hovertext\":[\"Aliens (1986)\"],\"legendgroup\":\"Action|Sci-Fi|Thriller|War\",\"marker\":{\"color\":\"#FF6692\",\"symbol\":\"circle\"},\"mode\":\"markers\",\"name\":\"Action|Sci-Fi|Thriller|War\",\"showlegend\":true,\"x\":[-31.983469009399414],\"xaxis\":\"x\",\"y\":[5.580833435058594],\"yaxis\":\"y\",\"type\":\"scattergl\"},{\"hovertemplate\":\"\\u003cb\\u003e%{hovertext}\\u003c\\u002fb\\u003e\\u003cbr\\u003e\\u003cbr\\u003ecolor=Action|Comedy\\u003cbr\\u003e0=%{x}\\u003cbr\\u003e1=%{y}\\u003cextra\\u003e\\u003c\\u002fextra\\u003e\",\"hovertext\":[\"Low Down Dirty Shame, A (1994)\",\"I Love Trouble (1994)\",\"Beverly Hills Ninja (1997)\",\"Money Talks (1997)\",\"The Cowboy Way (1994)\",\"Last Action Hero (1993)\",\"The Jerky Boys (1994)\",\"Beverly Hills Cop III (1994)\"],\"legendgroup\":\"Action|Comedy\",\"marker\":{\"color\":\"#B6E880\",\"symbol\":\"circle\"},\"mode\":\"markers\",\"name\":\"Action|Comedy\",\"showlegend\":true,\"x\":[30.10849952697754,17.258575439453125,19.8138370513916,44.55855178833008,34.026004791259766,-23.80066680908203,-10.029681205749512,-23.96596908569336],\"xaxis\":\"x\",\"y\":[-2.7688918113708496,-5.153787612915039,-32.88795471191406,-15.238566398620605,-2.4218099117279053,5.510497093200684,-39.14534378051758,8.741851806640625],\"yaxis\":\"y\",\"type\":\"scattergl\"},{\"hovertemplate\":\"\\u003cb\\u003e%{hovertext}\\u003c\\u002fb\\u003e\\u003cbr\\u003e\\u003cbr\\u003ecolor=Adventure|Children's|Drama\\u003cbr\\u003e0=%{x}\\u003cbr\\u003e1=%{y}\\u003cextra\\u003e\\u003c\\u002fextra\\u003e\",\"hovertext\":[\"Free Willy (1993)\",\"Free Willy 3: The Rescue (1997)\",\"Free Willy 2: The Adventure Home (1995)\",\"Buddy (1997)\"],\"legendgroup\":\"Adventure|Children's|Drama\",\"marker\":{\"color\":\"#FF97FF\",\"symbol\":\"circle\"},\"mode\":\"markers\",\"name\":\"Adventure|Children's|Drama\",\"showlegend\":true,\"x\":[26.22644805908203,26.240625381469727,26.104366302490234,30.760229110717773],\"xaxis\":\"x\",\"y\":[39.4042854309082,39.43280792236328,39.41636657714844,-30.24887466430664],\"yaxis\":\"y\",\"type\":\"scattergl\"},{\"hovertemplate\":\"\\u003cb\\u003e%{hovertext}\\u003c\\u002fb\\u003e\\u003cbr\\u003e\\u003cbr\\u003ecolor=Action|Drama|Romance|War\\u003cbr\\u003e0=%{x}\\u003cbr\\u003e1=%{y}\\u003cextra\\u003e\\u003c\\u002fextra\\u003e\",\"hovertext\":[\"The Crying Game (1992)\"],\"legendgroup\":\"Action|Drama|Romance|War\",\"marker\":{\"color\":\"#FECB52\",\"symbol\":\"circle\"},\"mode\":\"markers\",\"name\":\"Action|Drama|Romance|War\",\"showlegend\":true,\"x\":[-14.334490776062012],\"xaxis\":\"x\",\"y\":[-2.0909266471862793],\"yaxis\":\"y\",\"type\":\"scattergl\"},{\"hovertemplate\":\"\\u003cb\\u003e%{hovertext}\\u003c\\u002fb\\u003e\\u003cbr\\u003e\\u003cbr\\u003ecolor=Adventure|Drama|Western\\u003cbr\\u003e0=%{x}\\u003cbr\\u003e1=%{y}\\u003cextra\\u003e\\u003c\\u002fextra\\u003e\",\"hovertext\":[\"Dances with Wolves (1990)\"],\"legendgroup\":\"Adventure|Drama|Western\",\"marker\":{\"color\":\"#636efa\",\"symbol\":\"circle\"},\"mode\":\"markers\",\"name\":\"Adventure|Drama|Western\",\"showlegend\":true,\"x\":[30.072162628173828],\"xaxis\":\"x\",\"y\":[-6.077342987060547],\"yaxis\":\"y\",\"type\":\"scattergl\"},{\"hovertemplate\":\"\\u003cb\\u003e%{hovertext}\\u003c\\u002fb\\u003e\\u003cbr\\u003e\\u003cbr\\u003ecolor=Action|Comedy|Crime|Horror|Thriller\\u003cbr\\u003e0=%{x}\\u003cbr\\u003e1=%{y}\\u003cextra\\u003e\\u003c\\u002fextra\\u003e\",\"hovertext\":[\"From Dusk Till Dawn (1996)\"],\"legendgroup\":\"Action|Comedy|Crime|Horror|Thriller\",\"marker\":{\"color\":\"#EF553B\",\"symbol\":\"circle\"},\"mode\":\"markers\",\"name\":\"Action|Comedy|Crime|Horror|Thriller\",\"showlegend\":true,\"x\":[2.0224056243896484],\"xaxis\":\"x\",\"y\":[-15.88388442993164],\"yaxis\":\"y\",\"type\":\"scattergl\"},{\"hovertemplate\":\"\\u003cb\\u003e%{hovertext}\\u003c\\u002fb\\u003e\\u003cbr\\u003e\\u003cbr\\u003ecolor=Action|Comedy|War\\u003cbr\\u003e0=%{x}\\u003cbr\\u003e1=%{y}\\u003cextra\\u003e\\u003c\\u002fextra\\u003e\",\"hovertext\":[\"Hot Shots! Part Deux (1993)\"],\"legendgroup\":\"Action|Comedy|War\",\"marker\":{\"color\":\"#00cc96\",\"symbol\":\"circle\"},\"mode\":\"markers\",\"name\":\"Action|Comedy|War\",\"showlegend\":true,\"x\":[-21.22466468811035],\"xaxis\":\"x\",\"y\":[-0.9747501611709595],\"yaxis\":\"y\",\"type\":\"scattergl\"},{\"hovertemplate\":\"\\u003cb\\u003e%{hovertext}\\u003c\\u002fb\\u003e\\u003cbr\\u003e\\u003cbr\\u003ecolor=Horror|Romance\\u003cbr\\u003e0=%{x}\\u003cbr\\u003e1=%{y}\\u003cextra\\u003e\\u003c\\u002fextra\\u003e\",\"hovertext\":[\"Bram Stoker's Dracula (1992)\"],\"legendgroup\":\"Horror|Romance\",\"marker\":{\"color\":\"#ab63fa\",\"symbol\":\"circle\"},\"mode\":\"markers\",\"name\":\"Horror|Romance\",\"showlegend\":true,\"x\":[-24.429821014404297],\"xaxis\":\"x\",\"y\":[28.8541316986084],\"yaxis\":\"y\",\"type\":\"scattergl\"},{\"hovertemplate\":\"\\u003cb\\u003e%{hovertext}\\u003c\\u002fb\\u003e\\u003cbr\\u003e\\u003cbr\\u003ecolor=Action|Comedy|Musical|Sci-Fi\\u003cbr\\u003e0=%{x}\\u003cbr\\u003e1=%{y}\\u003cextra\\u003e\\u003c\\u002fextra\\u003e\",\"hovertext\":[\"Tank Girl (1995)\"],\"legendgroup\":\"Action|Comedy|Musical|Sci-Fi\",\"marker\":{\"color\":\"#FFA15A\",\"symbol\":\"circle\"},\"mode\":\"markers\",\"name\":\"Action|Comedy|Musical|Sci-Fi\",\"showlegend\":true,\"x\":[-13.64963150024414],\"xaxis\":\"x\",\"y\":[12.837234497070312],\"yaxis\":\"y\",\"type\":\"scattergl\"},{\"hovertemplate\":\"\\u003cb\\u003e%{hovertext}\\u003c\\u002fb\\u003e\\u003cbr\\u003e\\u003cbr\\u003ecolor=Action|Mystery|Thriller\\u003cbr\\u003e0=%{x}\\u003cbr\\u003e1=%{y}\\u003cextra\\u003e\\u003c\\u002fextra\\u003e\",\"hovertext\":[\"Fallen (1998)\",\"Power 98 (1995)\"],\"legendgroup\":\"Action|Mystery|Thriller\",\"marker\":{\"color\":\"#19d3f3\",\"symbol\":\"circle\"},\"mode\":\"markers\",\"name\":\"Action|Mystery|Thriller\",\"showlegend\":true,\"x\":[20.806459426879883,21.508554458618164],\"xaxis\":\"x\",\"y\":[-14.155360221862793,-20.57029914855957],\"yaxis\":\"y\",\"type\":\"scattergl\"},{\"hovertemplate\":\"\\u003cb\\u003e%{hovertext}\\u003c\\u002fb\\u003e\\u003cbr\\u003e\\u003cbr\\u003ecolor=Horror|Romance|Thriller\\u003cbr\\u003e0=%{x}\\u003cbr\\u003e1=%{y}\\u003cextra\\u003e\\u003c\\u002fextra\\u003e\",\"hovertext\":[\"Psycho (1960)\"],\"legendgroup\":\"Horror|Romance|Thriller\",\"marker\":{\"color\":\"#FF6692\",\"symbol\":\"circle\"},\"mode\":\"markers\",\"name\":\"Horror|Romance|Thriller\",\"showlegend\":true,\"x\":[-52.939857482910156],\"xaxis\":\"x\",\"y\":[13.026314735412598],\"yaxis\":\"y\",\"type\":\"scattergl\"},{\"hovertemplate\":\"\\u003cb\\u003e%{hovertext}\\u003c\\u002fb\\u003e\\u003cbr\\u003e\\u003cbr\\u003ecolor=Action|Romance\\u003cbr\\u003e0=%{x}\\u003cbr\\u003e1=%{y}\\u003cextra\\u003e\\u003c\\u002fextra\\u003e\",\"hovertext\":[\"Days of Thunder (1990)\",\"Top Gun (1986)\"],\"legendgroup\":\"Action|Romance\",\"marker\":{\"color\":\"#B6E880\",\"symbol\":\"circle\"},\"mode\":\"markers\",\"name\":\"Action|Romance\",\"showlegend\":true,\"x\":[-3.1555793285369873,-31.01055908203125],\"xaxis\":\"x\",\"y\":[-3.3762519359588623,3.5233685970306396],\"yaxis\":\"y\",\"type\":\"scattergl\"},{\"hovertemplate\":\"\\u003cb\\u003e%{hovertext}\\u003c\\u002fb\\u003e\\u003cbr\\u003e\\u003cbr\\u003ecolor=Action|Adventure|Comedy|Horror|Sci-Fi\\u003cbr\\u003e0=%{x}\\u003cbr\\u003e1=%{y}\\u003cextra\\u003e\\u003c\\u002fextra\\u003e\",\"hovertext\":[\"Army of Darkness (1993)\"],\"legendgroup\":\"Action|Adventure|Comedy|Horror|Sci-Fi\",\"marker\":{\"color\":\"#FF97FF\",\"symbol\":\"circle\"},\"mode\":\"markers\",\"name\":\"Action|Adventure|Comedy|Horror|Sci-Fi\",\"showlegend\":true,\"x\":[-24.583053588867188],\"xaxis\":\"x\",\"y\":[22.671661376953125],\"yaxis\":\"y\",\"type\":\"scattergl\"},{\"hovertemplate\":\"\\u003cb\\u003e%{hovertext}\\u003c\\u002fb\\u003e\\u003cbr\\u003e\\u003cbr\\u003ecolor=Action|Adventure|Drama|Romance\\u003cbr\\u003e0=%{x}\\u003cbr\\u003e1=%{y}\\u003cextra\\u003e\\u003c\\u002fextra\\u003e\",\"hovertext\":[\"First Knight (1995)\"],\"legendgroup\":\"Action|Adventure|Drama|Romance\",\"marker\":{\"color\":\"#FECB52\",\"symbol\":\"circle\"},\"mode\":\"markers\",\"name\":\"Action|Adventure|Drama|Romance\",\"showlegend\":true,\"x\":[-19.156816482543945],\"xaxis\":\"x\",\"y\":[18.625686645507812],\"yaxis\":\"y\",\"type\":\"scattergl\"},{\"hovertemplate\":\"\\u003cb\\u003e%{hovertext}\\u003c\\u002fb\\u003e\\u003cbr\\u003e\\u003cbr\\u003ecolor=Western\\u003cbr\\u003e0=%{x}\\u003cbr\\u003e1=%{y}\\u003cextra\\u003e\\u003c\\u002fextra\\u003e\",\"hovertext\":[\"Dead Man (1995)\",\"High Noon (1952)\",\"The Wild Bunch (1969)\",\"Unforgiven (1992)\",\"Tombstone (1993)\",\"Wild Bill (1995)\",\"Wyatt Earp (1994)\",\"Davy Crockett, King of the Wild Frontier (1955)\",\"Once Upon a Time in the West (1969)\",\"Bad Girls (1994)\",\"The Outlaw (1943)\",\"Angel and the Badman (1947)\",\"Terror in a Texas Town (1958)\"],\"legendgroup\":\"Western\",\"marker\":{\"color\":\"#636efa\",\"symbol\":\"circle\"},\"mode\":\"markers\",\"name\":\"Western\",\"showlegend\":true,\"x\":[-9.254307746887207,-50.74253463745117,-40.97625732421875,-15.626648902893066,14.794772148132324,-3.337519407272339,33.539154052734375,-39.99485397338867,-41.98772430419922,2.4073596000671387,-45.573875427246094,-40.26572799682617,-44.03665542602539],\"xaxis\":\"x\",\"y\":[8.696236610412598,19.038429260253906,24.115955352783203,3.084329128265381,9.70657730102539,12.242269515991211,-1.1433042287826538,22.844018936157227,23.80479621887207,-3.2354166507720947,26.367332458496094,30.627668380737305,18.215654373168945],\"yaxis\":\"y\",\"type\":\"scattergl\"},{\"hovertemplate\":\"\\u003cb\\u003e%{hovertext}\\u003c\\u002fb\\u003e\\u003cbr\\u003e\\u003cbr\\u003ecolor=Crime|Film-Noir|Mystery\\u003cbr\\u003e0=%{x}\\u003cbr\\u003e1=%{y}\\u003cextra\\u003e\\u003c\\u002fextra\\u003e\",\"hovertext\":[\"Laura (1944)\"],\"legendgroup\":\"Crime|Film-Noir|Mystery\",\"marker\":{\"color\":\"#EF553B\",\"symbol\":\"circle\"},\"mode\":\"markers\",\"name\":\"Crime|Film-Noir|Mystery\",\"showlegend\":true,\"x\":[-49.04277038574219],\"xaxis\":\"x\",\"y\":[34.70945358276367],\"yaxis\":\"y\",\"type\":\"scattergl\"},{\"hovertemplate\":\"\\u003cb\\u003e%{hovertext}\\u003c\\u002fb\\u003e\\u003cbr\\u003e\\u003cbr\\u003ecolor=Adventure|Children's|Musical\\u003cbr\\u003e0=%{x}\\u003cbr\\u003e1=%{y}\\u003cextra\\u003e\\u003c\\u002fextra\\u003e\",\"hovertext\":[\"Bedknobs and Broomsticks (1971)\"],\"legendgroup\":\"Adventure|Children's|Musical\",\"marker\":{\"color\":\"#00cc96\",\"symbol\":\"circle\"},\"mode\":\"markers\",\"name\":\"Adventure|Children's|Musical\",\"showlegend\":true,\"x\":[-49.19877624511719],\"xaxis\":\"x\",\"y\":[2.0616157054901123],\"yaxis\":\"y\",\"type\":\"scattergl\"},{\"hovertemplate\":\"\\u003cb\\u003e%{hovertext}\\u003c\\u002fb\\u003e\\u003cbr\\u003e\\u003cbr\\u003ecolor=Crime|Drama|Romance|Thriller\\u003cbr\\u003e0=%{x}\\u003cbr\\u003e1=%{y}\\u003cextra\\u003e\\u003c\\u002fextra\\u003e\",\"hovertext\":[\"The Professional (1994)\",\"Bound (1996)\"],\"legendgroup\":\"Crime|Drama|Romance|Thriller\",\"marker\":{\"color\":\"#ab63fa\",\"symbol\":\"circle\"},\"mode\":\"markers\",\"name\":\"Crime|Drama|Romance|Thriller\",\"showlegend\":true,\"x\":[30.3906307220459,-1.7511504888534546],\"xaxis\":\"x\",\"y\":[3.9183571338653564,-23.95863151550293],\"yaxis\":\"y\",\"type\":\"scattergl\"},{\"hovertemplate\":\"\\u003cb\\u003e%{hovertext}\\u003c\\u002fb\\u003e\\u003cbr\\u003e\\u003cbr\\u003ecolor=Crime|Drama|Film-Noir\\u003cbr\\u003e0=%{x}\\u003cbr\\u003e1=%{y}\\u003cextra\\u003e\\u003c\\u002fextra\\u003e\",\"hovertext\":[\"The Grifters (1990)\",\"Hoodlum (1997)\"],\"legendgroup\":\"Crime|Drama|Film-Noir\",\"marker\":{\"color\":\"#FFA15A\",\"symbol\":\"circle\"},\"mode\":\"markers\",\"name\":\"Crime|Drama|Film-Noir\",\"showlegend\":true,\"x\":[-17.573862075805664,19.602312088012695],\"xaxis\":\"x\",\"y\":[11.710304260253906,-39.61891555786133],\"yaxis\":\"y\",\"type\":\"scattergl\"},{\"hovertemplate\":\"\\u003cb\\u003e%{hovertext}\\u003c\\u002fb\\u003e\\u003cbr\\u003e\\u003cbr\\u003ecolor=Action|Sci-Fi|War\\u003cbr\\u003e0=%{x}\\u003cbr\\u003e1=%{y}\\u003cextra\\u003e\\u003c\\u002fextra\\u003e\",\"hovertext\":[\"Independence Day (ID4) (1996)\"],\"legendgroup\":\"Action|Sci-Fi|War\",\"marker\":{\"color\":\"#19d3f3\",\"symbol\":\"circle\"},\"mode\":\"markers\",\"name\":\"Action|Sci-Fi|War\",\"showlegend\":true,\"x\":[11.532570838928223],\"xaxis\":\"x\",\"y\":[-21.70864486694336],\"yaxis\":\"y\",\"type\":\"scattergl\"},{\"hovertemplate\":\"\\u003cb\\u003e%{hovertext}\\u003c\\u002fb\\u003e\\u003cbr\\u003e\\u003cbr\\u003ecolor=Action|Adventure|Comedy\\u003cbr\\u003e0=%{x}\\u003cbr\\u003e1=%{y}\\u003cextra\\u003e\\u003c\\u002fextra\\u003e\",\"hovertext\":[\"The Three Musketeers (1993)\"],\"legendgroup\":\"Action|Adventure|Comedy\",\"marker\":{\"color\":\"#FF6692\",\"symbol\":\"circle\"},\"mode\":\"markers\",\"name\":\"Action|Adventure|Comedy\",\"showlegend\":true,\"x\":[-23.135746002197266],\"xaxis\":\"x\",\"y\":[11.67059326171875],\"yaxis\":\"y\",\"type\":\"scattergl\"},{\"hovertemplate\":\"\\u003cb\\u003e%{hovertext}\\u003c\\u002fb\\u003e\\u003cbr\\u003e\\u003cbr\\u003ecolor=Action|Drama|Mystery\\u003cbr\\u003e0=%{x}\\u003cbr\\u003e1=%{y}\\u003cextra\\u003e\\u003c\\u002fextra\\u003e\",\"hovertext\":[\"Rising Sun (1993)\"],\"legendgroup\":\"Action|Drama|Mystery\",\"marker\":{\"color\":\"#B6E880\",\"symbol\":\"circle\"},\"mode\":\"markers\",\"name\":\"Action|Drama|Mystery\",\"showlegend\":true,\"x\":[23.86696434020996],\"xaxis\":\"x\",\"y\":[20.60236358642578],\"yaxis\":\"y\",\"type\":\"scattergl\"},{\"hovertemplate\":\"\\u003cb\\u003e%{hovertext}\\u003c\\u002fb\\u003e\\u003cbr\\u003e\\u003cbr\\u003ecolor=Crime|Drama|Romance\\u003cbr\\u003e0=%{x}\\u003cbr\\u003e1=%{y}\\u003cextra\\u003e\\u003c\\u002fextra\\u003e\",\"hovertext\":[\"Thieves (Voleurs, Les) (1996)\",\"Things to Do in Denver when You're Dead (1995)\"],\"legendgroup\":\"Crime|Drama|Romance\",\"marker\":{\"color\":\"#FF97FF\",\"symbol\":\"circle\"},\"mode\":\"markers\",\"name\":\"Crime|Drama|Romance\",\"showlegend\":true,\"x\":[-23.465105056762695,-8.218208312988281],\"xaxis\":\"x\",\"y\":[-21.87861442565918,8.430511474609375],\"yaxis\":\"y\",\"type\":\"scattergl\"},{\"hovertemplate\":\"\\u003cb\\u003e%{hovertext}\\u003c\\u002fb\\u003e\\u003cbr\\u003e\\u003cbr\\u003ecolor=Adventure|Comedy|Drama\\u003cbr\\u003e0=%{x}\\u003cbr\\u003e1=%{y}\\u003cextra\\u003e\\u003c\\u002fextra\\u003e\",\"hovertext\":[\"Stand by Me (1986)\"],\"legendgroup\":\"Adventure|Comedy|Drama\",\"marker\":{\"color\":\"#FECB52\",\"symbol\":\"circle\"},\"mode\":\"markers\",\"name\":\"Adventure|Comedy|Drama\",\"showlegend\":true,\"x\":[-29.235143661499023],\"xaxis\":\"x\",\"y\":[1.7134621143341064],\"yaxis\":\"y\",\"type\":\"scattergl\"},{\"hovertemplate\":\"\\u003cb\\u003e%{hovertext}\\u003c\\u002fb\\u003e\\u003cbr\\u003e\\u003cbr\\u003ecolor=War\\u003cbr\\u003e0=%{x}\\u003cbr\\u003e1=%{y}\\u003cextra\\u003e\\u003c\\u002fextra\\u003e\",\"hovertext\":[\"Stalingrad (1993)\",\"Underground (1995)\",\"Prisoner of the Mountains (Kavkazsky Plennik) (1996)\",\"Land and Freedom (Tierra y libertad) (1995)\",\"Pharaoh's Army (1995)\"],\"legendgroup\":\"War\",\"marker\":{\"color\":\"#636efa\",\"symbol\":\"circle\"},\"mode\":\"markers\",\"name\":\"War\",\"showlegend\":true,\"x\":[16.694501876831055,5.042123317718506,-13.308730125427246,39.76727294921875,18.965763092041016],\"xaxis\":\"x\",\"y\":[15.528923988342285,17.84165382385254,-28.026735305786133,-19.01756477355957,30.889127731323242],\"yaxis\":\"y\",\"type\":\"scattergl\"},{\"hovertemplate\":\"\\u003cb\\u003e%{hovertext}\\u003c\\u002fb\\u003e\\u003cbr\\u003e\\u003cbr\\u003ecolor=Action|Crime|Sci-Fi\\u003cbr\\u003e0=%{x}\\u003cbr\\u003e1=%{y}\\u003cextra\\u003e\\u003c\\u002fextra\\u003e\",\"hovertext\":[\"Strange Days (1995)\"],\"legendgroup\":\"Action|Crime|Sci-Fi\",\"marker\":{\"color\":\"#EF553B\",\"symbol\":\"circle\"},\"mode\":\"markers\",\"name\":\"Action|Crime|Sci-Fi\",\"showlegend\":true,\"x\":[-1.7075579166412354],\"xaxis\":\"x\",\"y\":[16.601648330688477],\"yaxis\":\"y\",\"type\":\"scattergl\"},{\"hovertemplate\":\"\\u003cb\\u003e%{hovertext}\\u003c\\u002fb\\u003e\\u003cbr\\u003e\\u003cbr\\u003ecolor=Adventure|Animation|Children's|Comedy|Fantasy\\u003cbr\\u003e0=%{x}\\u003cbr\\u003e1=%{y}\\u003cextra\\u003e\\u003c\\u002fextra\\u003e\",\"hovertext\":[\"Space Jam (1996)\"],\"legendgroup\":\"Adventure|Animation|Children's|Comedy|Fantasy\",\"marker\":{\"color\":\"#00cc96\",\"symbol\":\"circle\"},\"mode\":\"markers\",\"name\":\"Adventure|Animation|Children's|Comedy|Fantasy\",\"showlegend\":true,\"x\":[11.672290802001953],\"xaxis\":\"x\",\"y\":[-32.52598571777344],\"yaxis\":\"y\",\"type\":\"scattergl\"},{\"hovertemplate\":\"\\u003cb\\u003e%{hovertext}\\u003c\\u002fb\\u003e\\u003cbr\\u003e\\u003cbr\\u003ecolor=Adventure|Romance\\u003cbr\\u003e0=%{x}\\u003cbr\\u003e1=%{y}\\u003cextra\\u003e\\u003c\\u002fextra\\u003e\",\"hovertext\":[\"Excess Baggage (1997)\",\"The Big Blue (1988)\",\"Golden Earrings (1947)\",\"Wings of Courage (1995)\"],\"legendgroup\":\"Adventure|Romance\",\"marker\":{\"color\":\"#ab63fa\",\"symbol\":\"circle\"},\"mode\":\"markers\",\"name\":\"Adventure|Romance\",\"showlegend\":true,\"x\":[29.61111831665039,-25.933874130249023,-40.5272331237793,29.398719787597656],\"xaxis\":\"x\",\"y\":[-40.76472473144531,-0.5075621604919434,28.673873901367188,-12.988432884216309],\"yaxis\":\"y\",\"type\":\"scattergl\"},{\"hovertemplate\":\"\\u003cb\\u003e%{hovertext}\\u003c\\u002fb\\u003e\\u003cbr\\u003e\\u003cbr\\u003ecolor=Comedy|Mystery|Thriller\\u003cbr\\u003e0=%{x}\\u003cbr\\u003e1=%{y}\\u003cextra\\u003e\\u003c\\u002fextra\\u003e\",\"hovertext\":[\"Arsenic and Old Lace (1944)\"],\"legendgroup\":\"Comedy|Mystery|Thriller\",\"marker\":{\"color\":\"#FFA15A\",\"symbol\":\"circle\"},\"mode\":\"markers\",\"name\":\"Comedy|Mystery|Thriller\",\"showlegend\":true,\"x\":[-46.358158111572266],\"xaxis\":\"x\",\"y\":[33.58689498901367],\"yaxis\":\"y\",\"type\":\"scattergl\"},{\"hovertemplate\":\"\\u003cb\\u003e%{hovertext}\\u003c\\u002fb\\u003e\\u003cbr\\u003e\\u003cbr\\u003ecolor=Film-Noir|Mystery|Thriller\\u003cbr\\u003e0=%{x}\\u003cbr\\u003e1=%{y}\\u003cextra\\u003e\\u003c\\u002fextra\\u003e\",\"hovertext\":[\"Chinatown (1974)\",\"Palmetto (1998)\"],\"legendgroup\":\"Film-Noir|Mystery|Thriller\",\"marker\":{\"color\":\"#19d3f3\",\"symbol\":\"circle\"},\"mode\":\"markers\",\"name\":\"Film-Noir|Mystery|Thriller\",\"showlegend\":true,\"x\":[36.07783126831055,51.21352767944336],\"xaxis\":\"x\",\"y\":[24.220022201538086,-17.515016555786133],\"yaxis\":\"y\",\"type\":\"scattergl\"},{\"hovertemplate\":\"\\u003cb\\u003e%{hovertext}\\u003c\\u002fb\\u003e\\u003cbr\\u003e\\u003cbr\\u003ecolor=Mystery\\u003cbr\\u003e0=%{x}\\u003cbr\\u003e1=%{y}\\u003cextra\\u003e\\u003c\\u002fextra\\u003e\",\"hovertext\":[\"Lost Highway (1997)\",\"The Thin Man (1934)\",\"The Daytrippers (1996)\",\"The Woman in Question (1950)\"],\"legendgroup\":\"Mystery\",\"marker\":{\"color\":\"#FF6692\",\"symbol\":\"circle\"},\"mode\":\"markers\",\"name\":\"Mystery\",\"showlegend\":true,\"x\":[35.23923873901367,-48.53216552734375,1.6369153261184692,-56.79746627807617],\"xaxis\":\"x\",\"y\":[-26.196304321289062,25.299415588378906,-12.93857192993164,24.050804138183594],\"yaxis\":\"y\",\"type\":\"scattergl\"},{\"hovertemplate\":\"\\u003cb\\u003e%{hovertext}\\u003c\\u002fb\\u003e\\u003cbr\\u003e\\u003cbr\\u003ecolor=Action|Crime|Romance\\u003cbr\\u003e0=%{x}\\u003cbr\\u003e1=%{y}\\u003cextra\\u003e\\u003c\\u002fextra\\u003e\",\"hovertext\":[\"True Romance (1993)\",\"Truth or Consequences, N.M. (1997)\"],\"legendgroup\":\"Action|Crime|Romance\",\"marker\":{\"color\":\"#B6E880\",\"symbol\":\"circle\"},\"mode\":\"markers\",\"name\":\"Action|Crime|Romance\",\"showlegend\":true,\"x\":[12.957905769348145,26.916675567626953],\"xaxis\":\"x\",\"y\":[8.279073715209961,-20.464006423950195],\"yaxis\":\"y\",\"type\":\"scattergl\"},{\"hovertemplate\":\"\\u003cb\\u003e%{hovertext}\\u003c\\u002fb\\u003e\\u003cbr\\u003e\\u003cbr\\u003ecolor=Adventure\\u003cbr\\u003e0=%{x}\\u003cbr\\u003e1=%{y}\\u003cextra\\u003e\\u003c\\u002fextra\\u003e\",\"hovertext\":[\"The Secret of Roan Inish (1994)\",\"The Phantom (1996)\",\"The Man Who Would Be King (1975)\",\"The Mark of Zorro (1940)\",\"The Treasure of the Sierra Madre (1948)\"],\"legendgroup\":\"Adventure\",\"marker\":{\"color\":\"#FF97FF\",\"symbol\":\"circle\"},\"mode\":\"markers\",\"name\":\"Adventure\",\"showlegend\":true,\"x\":[-19.69533348083496,-1.3474688529968262,-45.78179168701172,-43.95159912109375,-44.771305084228516],\"xaxis\":\"x\",\"y\":[-4.52979850769043,-19.56743049621582,7.7216081619262695,27.467790603637695,28.616092681884766],\"yaxis\":\"y\",\"type\":\"scattergl\"},{\"hovertemplate\":\"\\u003cb\\u003e%{hovertext}\\u003c\\u002fb\\u003e\\u003cbr\\u003e\\u003cbr\\u003ecolor=Documentary|War\\u003cbr\\u003e0=%{x}\\u003cbr\\u003e1=%{y}\\u003cextra\\u003e\\u003c\\u002fextra\\u003e\",\"hovertext\":[\"Koyaanisqatsi (1983)\"],\"legendgroup\":\"Documentary|War\",\"marker\":{\"color\":\"#FECB52\",\"symbol\":\"circle\"},\"mode\":\"markers\",\"name\":\"Documentary|War\",\"showlegend\":true,\"x\":[-42.22763442993164],\"xaxis\":\"x\",\"y\":[-5.206659317016602],\"yaxis\":\"y\",\"type\":\"scattergl\"},{\"hovertemplate\":\"\\u003cb\\u003e%{hovertext}\\u003c\\u002fb\\u003e\\u003cbr\\u003e\\u003cbr\\u003ecolor=Action|Adventure|Comedy|War\\u003cbr\\u003e0=%{x}\\u003cbr\\u003e1=%{y}\\u003cextra\\u003e\\u003c\\u002fextra\\u003e\",\"hovertext\":[\"Operation Dumbo Drop (1995)\"],\"legendgroup\":\"Action|Adventure|Comedy|War\",\"marker\":{\"color\":\"#636efa\",\"symbol\":\"circle\"},\"mode\":\"markers\",\"name\":\"Action|Adventure|Comedy|War\",\"showlegend\":true,\"x\":[-6.211300373077393],\"xaxis\":\"x\",\"y\":[35.26923370361328],\"yaxis\":\"y\",\"type\":\"scattergl\"},{\"hovertemplate\":\"\\u003cb\\u003e%{hovertext}\\u003c\\u002fb\\u003e\\u003cbr\\u003e\\u003cbr\\u003ecolor=Action|Adventure|Fantasy\\u003cbr\\u003e0=%{x}\\u003cbr\\u003e1=%{y}\\u003cextra\\u003e\\u003c\\u002fextra\\u003e\",\"hovertext\":[\"Dragonheart (1996)\"],\"legendgroup\":\"Action|Adventure|Fantasy\",\"marker\":{\"color\":\"#EF553B\",\"symbol\":\"circle\"},\"mode\":\"markers\",\"name\":\"Action|Adventure|Fantasy\",\"showlegend\":true,\"x\":[16.655838012695312],\"xaxis\":\"x\",\"y\":[-16.927661895751953],\"yaxis\":\"y\",\"type\":\"scattergl\"},{\"hovertemplate\":\"\\u003cb\\u003e%{hovertext}\\u003c\\u002fb\\u003e\\u003cbr\\u003e\\u003cbr\\u003ecolor=Comedy|Crime|Fantasy\\u003cbr\\u003e0=%{x}\\u003cbr\\u003e1=%{y}\\u003cextra\\u003e\\u003c\\u002fextra\\u003e\",\"hovertext\":[\"The Mask (1994)\"],\"legendgroup\":\"Comedy|Crime|Fantasy\",\"marker\":{\"color\":\"#00cc96\",\"symbol\":\"circle\"},\"mode\":\"markers\",\"name\":\"Comedy|Crime|Fantasy\",\"showlegend\":true,\"x\":[25.267086029052734],\"xaxis\":\"x\",\"y\":[3.887042760848999],\"yaxis\":\"y\",\"type\":\"scattergl\"},{\"hovertemplate\":\"\\u003cb\\u003e%{hovertext}\\u003c\\u002fb\\u003e\\u003cbr\\u003e\\u003cbr\\u003ecolor=Crime|Drama|Sci-Fi\\u003cbr\\u003e0=%{x}\\u003cbr\\u003e1=%{y}\\u003cextra\\u003e\\u003c\\u002fextra\\u003e\",\"hovertext\":[\"Sneakers (1992)\"],\"legendgroup\":\"Crime|Drama|Sci-Fi\",\"marker\":{\"color\":\"#ab63fa\",\"symbol\":\"circle\"},\"mode\":\"markers\",\"name\":\"Crime|Drama|Sci-Fi\",\"showlegend\":true,\"x\":[-16.49087905883789],\"xaxis\":\"x\",\"y\":[-9.454087257385254],\"yaxis\":\"y\",\"type\":\"scattergl\"},{\"hovertemplate\":\"\\u003cb\\u003e%{hovertext}\\u003c\\u002fb\\u003e\\u003cbr\\u003e\\u003cbr\\u003ecolor=Horror|Sci-Fi\\u003cbr\\u003e0=%{x}\\u003cbr\\u003e1=%{y}\\u003cextra\\u003e\\u003c\\u002fextra\\u003e\",\"hovertext\":[\"Night of the Living Dead (1968)\",\"Robert A. Heinlein's The Puppet Masters (1994)\",\"The Blob (1958)\"],\"legendgroup\":\"Horror|Sci-Fi\",\"marker\":{\"color\":\"#FFA15A\",\"symbol\":\"circle\"},\"mode\":\"markers\",\"name\":\"Horror|Sci-Fi\",\"showlegend\":true,\"x\":[-25.65143585205078,42.52478790283203,-45.25439453125],\"xaxis\":\"x\",\"y\":[23.719526290893555,10.069845199584961,16.975387573242188],\"yaxis\":\"y\",\"type\":\"scattergl\"},{\"hovertemplate\":\"\\u003cb\\u003e%{hovertext}\\u003c\\u002fb\\u003e\\u003cbr\\u003e\\u003cbr\\u003ecolor=Comedy|Mystery|Romance|Thriller\\u003cbr\\u003e0=%{x}\\u003cbr\\u003e1=%{y}\\u003cextra\\u003e\\u003c\\u002fextra\\u003e\",\"hovertext\":[\"Charade (1963)\"],\"legendgroup\":\"Comedy|Mystery|Romance|Thriller\",\"marker\":{\"color\":\"#19d3f3\",\"symbol\":\"circle\"},\"mode\":\"markers\",\"name\":\"Comedy|Mystery|Romance|Thriller\",\"showlegend\":true,\"x\":[-50.592140197753906],\"xaxis\":\"x\",\"y\":[12.609888076782227],\"yaxis\":\"y\",\"type\":\"scattergl\"},{\"hovertemplate\":\"\\u003cb\\u003e%{hovertext}\\u003c\\u002fb\\u003e\\u003cbr\\u003e\\u003cbr\\u003ecolor=Horror|Mystery|Thriller\\u003cbr\\u003e0=%{x}\\u003cbr\\u003e1=%{y}\\u003cextra\\u003e\\u003c\\u002fextra\\u003e\",\"hovertext\":[\"I Know What You Did Last Summer (1997)\"],\"legendgroup\":\"Horror|Mystery|Thriller\",\"marker\":{\"color\":\"#FF6692\",\"symbol\":\"circle\"},\"mode\":\"markers\",\"name\":\"Horror|Mystery|Thriller\",\"showlegend\":true,\"x\":[12.771929740905762],\"xaxis\":\"x\",\"y\":[-19.684680938720703],\"yaxis\":\"y\",\"type\":\"scattergl\"},{\"hovertemplate\":\"\\u003cb\\u003e%{hovertext}\\u003c\\u002fb\\u003e\\u003cbr\\u003e\\u003cbr\\u003ecolor=Documentary|Drama\\u003cbr\\u003e0=%{x}\\u003cbr\\u003e1=%{y}\\u003cextra\\u003e\\u003c\\u002fextra\\u003e\",\"hovertext\":[\"Looking for Richard (1996)\",\"Tigrero: A Film That Was Never Made (1994)\",\"JLG\\u002fJLG - autoportrait de d\\u00e9cembre (1994)\"],\"legendgroup\":\"Documentary|Drama\",\"marker\":{\"color\":\"#B6E880\",\"symbol\":\"circle\"},\"mode\":\"markers\",\"name\":\"Documentary|Drama\",\"showlegend\":true,\"x\":[2.0571272373199463,40.15388488769531,35.043113708496094],\"xaxis\":\"x\",\"y\":[-19.694883346557617,0.24874995648860931,36.04802322387695],\"yaxis\":\"y\",\"type\":\"scattergl\"},{\"hovertemplate\":\"\\u003cb\\u003e%{hovertext}\\u003c\\u002fb\\u003e\\u003cbr\\u003e\\u003cbr\\u003ecolor=Horror|Sci-Fi|Thriller\\u003cbr\\u003e0=%{x}\\u003cbr\\u003e1=%{y}\\u003cextra\\u003e\\u003c\\u002fextra\\u003e\",\"hovertext\":[\"Body Snatchers (1993)\"],\"legendgroup\":\"Horror|Sci-Fi|Thriller\",\"marker\":{\"color\":\"#FF97FF\",\"symbol\":\"circle\"},\"mode\":\"markers\",\"name\":\"Horror|Sci-Fi|Thriller\",\"showlegend\":true,\"x\":[-34.42892837524414],\"xaxis\":\"x\",\"y\":[26.74635887145996],\"yaxis\":\"y\",\"type\":\"scattergl\"},{\"hovertemplate\":\"\\u003cb\\u003e%{hovertext}\\u003c\\u002fb\\u003e\\u003cbr\\u003e\\u003cbr\\u003ecolor=Adventure|Thriller\\u003cbr\\u003e0=%{x}\\u003cbr\\u003e1=%{y}\\u003cextra\\u003e\\u003c\\u002fextra\\u003e\",\"hovertext\":[\"The Edge (1997)\"],\"legendgroup\":\"Adventure|Thriller\",\"marker\":{\"color\":\"#FECB52\",\"symbol\":\"circle\"},\"mode\":\"markers\",\"name\":\"Adventure|Thriller\",\"showlegend\":true,\"x\":[30.735031127929688],\"xaxis\":\"x\",\"y\":[-27.03239631652832],\"yaxis\":\"y\",\"type\":\"scattergl\"},{\"hovertemplate\":\"\\u003cb\\u003e%{hovertext}\\u003c\\u002fb\\u003e\\u003cbr\\u003e\\u003cbr\\u003ecolor=Adventure|Sci-Fi|Thriller\\u003cbr\\u003e0=%{x}\\u003cbr\\u003e1=%{y}\\u003cextra\\u003e\\u003c\\u002fextra\\u003e\",\"hovertext\":[\"Sphere (1998)\"],\"legendgroup\":\"Adventure|Sci-Fi|Thriller\",\"marker\":{\"color\":\"#636efa\",\"symbol\":\"circle\"},\"mode\":\"markers\",\"name\":\"Adventure|Sci-Fi|Thriller\",\"showlegend\":true,\"x\":[22.104259490966797],\"xaxis\":\"x\",\"y\":[-11.967529296875],\"yaxis\":\"y\",\"type\":\"scattergl\"},{\"hovertemplate\":\"\\u003cb\\u003e%{hovertext}\\u003c\\u002fb\\u003e\\u003cbr\\u003e\\u003cbr\\u003ecolor=Film-Noir\\u003cbr\\u003e0=%{x}\\u003cbr\\u003e1=%{y}\\u003cextra\\u003e\\u003c\\u002fextra\\u003e\",\"hovertext\":[\"Sunset Blvd. (1950)\",\"T-Men (1947)\",\"Raw Deal (1948)\"],\"legendgroup\":\"Film-Noir\",\"marker\":{\"color\":\"#EF553B\",\"symbol\":\"circle\"},\"mode\":\"markers\",\"name\":\"Film-Noir\",\"showlegend\":true,\"x\":[-51.03373336791992,-38.58726501464844,-44.54216003417969],\"xaxis\":\"x\",\"y\":[21.61525535583496,29.819049835205078,25.396780014038086],\"yaxis\":\"y\",\"type\":\"scattergl\"},{\"hovertemplate\":\"\\u003cb\\u003e%{hovertext}\\u003c\\u002fb\\u003e\\u003cbr\\u003e\\u003cbr\\u003ecolor=Animation\\u003cbr\\u003e0=%{x}\\u003cbr\\u003e1=%{y}\\u003cextra\\u003e\\u003c\\u002fextra\\u003e\",\"hovertext\":[\"Wallace & Gromit: The Best of Aardman Animation (1996)\",\"Faust (1994)\"],\"legendgroup\":\"Animation\",\"marker\":{\"color\":\"#00cc96\",\"symbol\":\"circle\"},\"mode\":\"markers\",\"name\":\"Animation\",\"showlegend\":true,\"x\":[-15.08281421661377,43.8250846862793],\"xaxis\":\"x\",\"y\":[-25.183683395385742,9.345274925231934],\"yaxis\":\"y\",\"type\":\"scattergl\"},{\"hovertemplate\":\"\\u003cb\\u003e%{hovertext}\\u003c\\u002fb\\u003e\\u003cbr\\u003e\\u003cbr\\u003ecolor=Action|Drama|Western\\u003cbr\\u003e0=%{x}\\u003cbr\\u003e1=%{y}\\u003cextra\\u003e\\u003c\\u002fextra\\u003e\",\"hovertext\":[\"The Magnificent Seven (1954)\",\"Last Man Standing (1996)\"],\"legendgroup\":\"Action|Drama|Western\",\"marker\":{\"color\":\"#ab63fa\",\"symbol\":\"circle\"},\"mode\":\"markers\",\"name\":\"Action|Drama|Western\",\"showlegend\":true,\"x\":[-40.40066146850586,7.436838150024414],\"xaxis\":\"x\",\"y\":[19.966758728027344,-27.200727462768555],\"yaxis\":\"y\",\"type\":\"scattergl\"},{\"hovertemplate\":\"\\u003cb\\u003e%{hovertext}\\u003c\\u002fb\\u003e\\u003cbr\\u003e\\u003cbr\\u003ecolor=Comedy|Fantasy|Romance|Sci-Fi\\u003cbr\\u003e0=%{x}\\u003cbr\\u003e1=%{y}\\u003cextra\\u003e\\u003c\\u002fextra\\u003e\",\"hovertext\":[\"The Nutty Professor (1996)\"],\"legendgroup\":\"Comedy|Fantasy|Romance|Sci-Fi\",\"marker\":{\"color\":\"#FFA15A\",\"symbol\":\"circle\"},\"mode\":\"markers\",\"name\":\"Comedy|Fantasy|Romance|Sci-Fi\",\"showlegend\":true,\"x\":[-12.19959831237793],\"xaxis\":\"x\",\"y\":[-21.442480087280273],\"yaxis\":\"y\",\"type\":\"scattergl\"},{\"hovertemplate\":\"\\u003cb\\u003e%{hovertext}\\u003c\\u002fb\\u003e\\u003cbr\\u003e\\u003cbr\\u003ecolor=Action|Animation|Children's|Sci-Fi|Thriller|War\\u003cbr\\u003e0=%{x}\\u003cbr\\u003e1=%{y}\\u003cextra\\u003e\\u003c\\u002fextra\\u003e\",\"hovertext\":[\"The Transformers: The Movie (1986)\"],\"legendgroup\":\"Action|Animation|Children's|Sci-Fi|Thriller|War\",\"marker\":{\"color\":\"#19d3f3\",\"symbol\":\"circle\"},\"mode\":\"markers\",\"name\":\"Action|Animation|Children's|Sci-Fi|Thriller|War\",\"showlegend\":true,\"x\":[-31.03350067138672],\"xaxis\":\"x\",\"y\":[5.236532688140869],\"yaxis\":\"y\",\"type\":\"scattergl\"},{\"hovertemplate\":\"\\u003cb\\u003e%{hovertext}\\u003c\\u002fb\\u003e\\u003cbr\\u003e\\u003cbr\\u003ecolor=Comedy|Crime|Horror\\u003cbr\\u003e0=%{x}\\u003cbr\\u003e1=%{y}\\u003cextra\\u003e\\u003c\\u002fextra\\u003e\",\"hovertext\":[\"Serial Mom (1994)\"],\"legendgroup\":\"Comedy|Crime|Horror\",\"marker\":{\"color\":\"#FF6692\",\"symbol\":\"circle\"},\"mode\":\"markers\",\"name\":\"Comedy|Crime|Horror\",\"showlegend\":true,\"x\":[35.750083923339844],\"xaxis\":\"x\",\"y\":[1.0379809141159058],\"yaxis\":\"y\",\"type\":\"scattergl\"},{\"hovertemplate\":\"\\u003cb\\u003e%{hovertext}\\u003c\\u002fb\\u003e\\u003cbr\\u003e\\u003cbr\\u003ecolor=Comedy|Crime|Drama|Mystery\\u003cbr\\u003e0=%{x}\\u003cbr\\u003e1=%{y}\\u003cextra\\u003e\\u003c\\u002fextra\\u003e\",\"hovertext\":[\"Midnight in the Garden of Good and Evil (1997)\"],\"legendgroup\":\"Comedy|Crime|Drama|Mystery\",\"marker\":{\"color\":\"#B6E880\",\"symbol\":\"circle\"},\"mode\":\"markers\",\"name\":\"Comedy|Crime|Drama|Mystery\",\"showlegend\":true,\"x\":[10.207069396972656],\"xaxis\":\"x\",\"y\":[-3.4684455394744873],\"yaxis\":\"y\",\"type\":\"scattergl\"},{\"hovertemplate\":\"\\u003cb\\u003e%{hovertext}\\u003c\\u002fb\\u003e\\u003cbr\\u003e\\u003cbr\\u003ecolor=Action|Drama|Romance\\u003cbr\\u003e0=%{x}\\u003cbr\\u003e1=%{y}\\u003cextra\\u003e\\u003c\\u002fextra\\u003e\",\"hovertext\":[\"Cyrano de Bergerac (1990)\",\"Titanic (1997)\",\"The Man in the Iron Mask (1998)\"],\"legendgroup\":\"Action|Drama|Romance\",\"marker\":{\"color\":\"#FF97FF\",\"symbol\":\"circle\"},\"mode\":\"markers\",\"name\":\"Action|Drama|Romance\",\"showlegend\":true,\"x\":[-37.01030349731445,28.985660552978516,24.95357894897461],\"xaxis\":\"x\",\"y\":[-15.286410331726074,-36.734230041503906,3.643650770187378],\"yaxis\":\"y\",\"type\":\"scattergl\"},{\"hovertemplate\":\"\\u003cb\\u003e%{hovertext}\\u003c\\u002fb\\u003e\\u003cbr\\u003e\\u003cbr\\u003ecolor=Romance|Thriller\\u003cbr\\u003e0=%{x}\\u003cbr\\u003e1=%{y}\\u003cextra\\u003e\\u003c\\u002fextra\\u003e\",\"hovertext\":[\"Life Less Ordinary, A (1997)\",\"Rebecca (1940)\",\"B. Monkey (1998)\"],\"legendgroup\":\"Romance|Thriller\",\"marker\":{\"color\":\"#FECB52\",\"symbol\":\"circle\"},\"mode\":\"markers\",\"name\":\"Romance|Thriller\",\"showlegend\":true,\"x\":[35.474727630615234,-49.31670379638672,43.59403610229492],\"xaxis\":\"x\",\"y\":[-19.400596618652344,34.459964752197266,-4.160290241241455],\"yaxis\":\"y\",\"type\":\"scattergl\"},{\"hovertemplate\":\"\\u003cb\\u003e%{hovertext}\\u003c\\u002fb\\u003e\\u003cbr\\u003e\\u003cbr\\u003ecolor=Action|Drama|Mystery|Romance|Thriller\\u003cbr\\u003e0=%{x}\\u003cbr\\u003e1=%{y}\\u003cextra\\u003e\\u003c\\u002fextra\\u003e\",\"hovertext\":[\"Diva (1981)\"],\"legendgroup\":\"Action|Drama|Mystery|Romance|Thriller\",\"marker\":{\"color\":\"#636efa\",\"symbol\":\"circle\"},\"mode\":\"markers\",\"name\":\"Action|Drama|Mystery|Romance|Thriller\",\"showlegend\":true,\"x\":[-31.598785400390625],\"xaxis\":\"x\",\"y\":[-3.568619966506958],\"yaxis\":\"y\",\"type\":\"scattergl\"},{\"hovertemplate\":\"\\u003cb\\u003e%{hovertext}\\u003c\\u002fb\\u003e\\u003cbr\\u003e\\u003cbr\\u003ecolor=Animation|Children's|Musical|Romance\\u003cbr\\u003e0=%{x}\\u003cbr\\u003e1=%{y}\\u003cextra\\u003e\\u003c\\u002fextra\\u003e\",\"hovertext\":[\"Pocahontas (1995)\"],\"legendgroup\":\"Animation|Children's|Musical|Romance\",\"marker\":{\"color\":\"#EF553B\",\"symbol\":\"circle\"},\"mode\":\"markers\",\"name\":\"Animation|Children's|Musical|Romance\",\"showlegend\":true,\"x\":[11.487421035766602],\"xaxis\":\"x\",\"y\":[26.830204010009766],\"yaxis\":\"y\",\"type\":\"scattergl\"},{\"hovertemplate\":\"\\u003cb\\u003e%{hovertext}\\u003c\\u002fb\\u003e\\u003cbr\\u003e\\u003cbr\\u003ecolor=Comedy|Drama|Thriller\\u003cbr\\u003e0=%{x}\\u003cbr\\u003e1=%{y}\\u003cextra\\u003e\\u003c\\u002fextra\\u003e\",\"hovertext\":[\"The House of Yes (1997)\"],\"legendgroup\":\"Comedy|Drama|Thriller\",\"marker\":{\"color\":\"#00cc96\",\"symbol\":\"circle\"},\"mode\":\"markers\",\"name\":\"Comedy|Drama|Thriller\",\"showlegend\":true,\"x\":[37.64432144165039],\"xaxis\":\"x\",\"y\":[-11.753958702087402],\"yaxis\":\"y\",\"type\":\"scattergl\"},{\"hovertemplate\":\"\\u003cb\\u003e%{hovertext}\\u003c\\u002fb\\u003e\\u003cbr\\u003e\\u003cbr\\u003ecolor=Drama|Mystery|Romance\\u003cbr\\u003e0=%{x}\\u003cbr\\u003e1=%{y}\\u003cextra\\u003e\\u003c\\u002fextra\\u003e\",\"hovertext\":[\"Chungking Express (1994)\",\"Flesh and Bone (1993)\"],\"legendgroup\":\"Drama|Mystery|Romance\",\"marker\":{\"color\":\"#ab63fa\",\"symbol\":\"circle\"},\"mode\":\"markers\",\"name\":\"Drama|Mystery|Romance\",\"showlegend\":true,\"x\":[36.08511734008789,16.24981117248535],\"xaxis\":\"x\",\"y\":[24.20372200012207,9.954161643981934],\"yaxis\":\"y\",\"type\":\"scattergl\"},{\"hovertemplate\":\"\\u003cb\\u003e%{hovertext}\\u003c\\u002fb\\u003e\\u003cbr\\u003e\\u003cbr\\u003ecolor=Comedy|Western\\u003cbr\\u003e0=%{x}\\u003cbr\\u003e1=%{y}\\u003cextra\\u003e\\u003c\\u002fextra\\u003e\",\"hovertext\":[\"City Slickers II: The Legend of Curly's Gold (1994)\",\"Lightning Jack (1994)\"],\"legendgroup\":\"Comedy|Western\",\"marker\":{\"color\":\"#FFA15A\",\"symbol\":\"circle\"},\"mode\":\"markers\",\"name\":\"Comedy|Western\",\"showlegend\":true,\"x\":[12.326773643493652,43.4302978515625],\"xaxis\":\"x\",\"y\":[-16.702829360961914,-0.5810296535491943],\"yaxis\":\"y\",\"type\":\"scattergl\"},{\"hovertemplate\":\"\\u003cb\\u003e%{hovertext}\\u003c\\u002fb\\u003e\\u003cbr\\u003e\\u003cbr\\u003ecolor=Drama|Mystery|Thriller\\u003cbr\\u003e0=%{x}\\u003cbr\\u003e1=%{y}\\u003cextra\\u003e\\u003c\\u002fextra\\u003e\",\"hovertext\":[\"The Client (1994)\"],\"legendgroup\":\"Drama|Mystery|Thriller\",\"marker\":{\"color\":\"#19d3f3\",\"symbol\":\"circle\"},\"mode\":\"markers\",\"name\":\"Drama|Mystery|Thriller\",\"showlegend\":true,\"x\":[30.751033782958984],\"xaxis\":\"x\",\"y\":[5.593416690826416],\"yaxis\":\"y\",\"type\":\"scattergl\"},{\"hovertemplate\":\"\\u003cb\\u003e%{hovertext}\\u003c\\u002fb\\u003e\\u003cbr\\u003e\\u003cbr\\u003ecolor=Action|Adventure|Animation|Horror|Sci-Fi\\u003cbr\\u003e0=%{x}\\u003cbr\\u003e1=%{y}\\u003cextra\\u003e\\u003c\\u002fextra\\u003e\",\"hovertext\":[\"Heavy Metal (1981)\"],\"legendgroup\":\"Action|Adventure|Animation|Horror|Sci-Fi\",\"marker\":{\"color\":\"#FF6692\",\"symbol\":\"circle\"},\"mode\":\"markers\",\"name\":\"Action|Adventure|Animation|Horror|Sci-Fi\",\"showlegend\":true,\"x\":[-31.99854278564453],\"xaxis\":\"x\",\"y\":[-0.6210174560546875],\"yaxis\":\"y\",\"type\":\"scattergl\"},{\"hovertemplate\":\"\\u003cb\\u003e%{hovertext}\\u003c\\u002fb\\u003e\\u003cbr\\u003e\\u003cbr\\u003ecolor=unknown\\u003cbr\\u003e0=%{x}\\u003cbr\\u003e1=%{y}\\u003cextra\\u003e\\u003c\\u002fextra\\u003e\",\"hovertext\":[\"unknown\",\"Good Morning (1971)\"],\"legendgroup\":\"unknown\",\"marker\":{\"color\":\"#B6E880\",\"symbol\":\"circle\"},\"mode\":\"markers\",\"name\":\"unknown\",\"showlegend\":true,\"x\":[40.42316436767578,-49.794219970703125],\"xaxis\":\"x\",\"y\":[-12.603561401367188,1.0066773891448975],\"yaxis\":\"y\",\"type\":\"scattergl\"},{\"hovertemplate\":\"\\u003cb\\u003e%{hovertext}\\u003c\\u002fb\\u003e\\u003cbr\\u003e\\u003cbr\\u003ecolor=Drama|Romance|Thriller\\u003cbr\\u003e0=%{x}\\u003cbr\\u003e1=%{y}\\u003cextra\\u003e\\u003c\\u002fextra\\u003e\",\"hovertext\":[\"The Wings of the Dove (1997)\",\"Witness (1985)\"],\"legendgroup\":\"Drama|Romance|Thriller\",\"marker\":{\"color\":\"#FF97FF\",\"symbol\":\"circle\"},\"mode\":\"markers\",\"name\":\"Drama|Romance|Thriller\",\"showlegend\":true,\"x\":[29.294605255126953,-27.010231018066406],\"xaxis\":\"x\",\"y\":[-13.381877899169922,4.716918468475342],\"yaxis\":\"y\",\"type\":\"scattergl\"},{\"hovertemplate\":\"\\u003cb\\u003e%{hovertext}\\u003c\\u002fb\\u003e\\u003cbr\\u003e\\u003cbr\\u003ecolor=Action|Mystery|Sci-Fi|Thriller\\u003cbr\\u003e0=%{x}\\u003cbr\\u003e1=%{y}\\u003cextra\\u003e\\u003c\\u002fextra\\u003e\",\"hovertext\":[\"Event Horizon (1997)\"],\"legendgroup\":\"Action|Mystery|Sci-Fi|Thriller\",\"marker\":{\"color\":\"#FECB52\",\"symbol\":\"circle\"},\"mode\":\"markers\",\"name\":\"Action|Mystery|Sci-Fi|Thriller\",\"showlegend\":true,\"x\":[30.791976928710938],\"xaxis\":\"x\",\"y\":[-26.802780151367188],\"yaxis\":\"y\",\"type\":\"scattergl\"},{\"hovertemplate\":\"\\u003cb\\u003e%{hovertext}\\u003c\\u002fb\\u003e\\u003cbr\\u003e\\u003cbr\\u003ecolor=Children's\\u003cbr\\u003e0=%{x}\\u003cbr\\u003e1=%{y}\\u003cextra\\u003e\\u003c\\u002fextra\\u003e\",\"hovertext\":[\"Zeus and Roxanne (1997)\",\"The Baby-Sitters Club (1995)\",\"Daniel Defoe's Robinson Crusoe (1996)\"],\"legendgroup\":\"Children's\",\"marker\":{\"color\":\"#636efa\",\"symbol\":\"circle\"},\"mode\":\"markers\",\"name\":\"Children's\",\"showlegend\":true,\"x\":[40.770076751708984,5.952498912811279,3.0616567134857178],\"xaxis\":\"x\",\"y\":[-26.01788330078125,25.21445083618164,-34.04301452636719],\"yaxis\":\"y\",\"type\":\"scattergl\"},{\"hovertemplate\":\"\\u003cb\\u003e%{hovertext}\\u003c\\u002fb\\u003e\\u003cbr\\u003e\\u003cbr\\u003ecolor=Action|Adventure|Mystery|Sci-Fi\\u003cbr\\u003e0=%{x}\\u003cbr\\u003e1=%{y}\\u003cextra\\u003e\\u003c\\u002fextra\\u003e\",\"hovertext\":[\"Congo (1995)\"],\"legendgroup\":\"Action|Adventure|Mystery|Sci-Fi\",\"marker\":{\"color\":\"#EF553B\",\"symbol\":\"circle\"},\"mode\":\"markers\",\"name\":\"Action|Adventure|Mystery|Sci-Fi\",\"showlegend\":true,\"x\":[-4.371132850646973],\"xaxis\":\"x\",\"y\":[26.143949508666992],\"yaxis\":\"y\",\"type\":\"scattergl\"},{\"hovertemplate\":\"\\u003cb\\u003e%{hovertext}\\u003c\\u002fb\\u003e\\u003cbr\\u003e\\u003cbr\\u003ecolor=Adventure|Children's|Comedy|Fantasy|Romance|Sci-Fi\\u003cbr\\u003e0=%{x}\\u003cbr\\u003e1=%{y}\\u003cextra\\u003e\\u003c\\u002fextra\\u003e\",\"hovertext\":[\"Kid in King Arthur's Court, A (1995)\"],\"legendgroup\":\"Adventure|Children's|Comedy|Fantasy|Romance|Sci-Fi\",\"marker\":{\"color\":\"#00cc96\",\"symbol\":\"circle\"},\"mode\":\"markers\",\"name\":\"Adventure|Children's|Comedy|Fantasy|Romance|Sci-Fi\",\"showlegend\":true,\"x\":[-17.736553192138672],\"xaxis\":\"x\",\"y\":[19.63819122314453],\"yaxis\":\"y\",\"type\":\"scattergl\"},{\"hovertemplate\":\"\\u003cb\\u003e%{hovertext}\\u003c\\u002fb\\u003e\\u003cbr\\u003e\\u003cbr\\u003ecolor=Drama|Thriller|War\\u003cbr\\u003e0=%{x}\\u003cbr\\u003e1=%{y}\\u003cextra\\u003e\\u003c\\u002fextra\\u003e\",\"hovertext\":[\"Crimson Tide (1995)\"],\"legendgroup\":\"Drama|Thriller|War\",\"marker\":{\"color\":\"#ab63fa\",\"symbol\":\"circle\"},\"mode\":\"markers\",\"name\":\"Drama|Thriller|War\",\"showlegend\":true,\"x\":[-3.2724030017852783],\"xaxis\":\"x\",\"y\":[24.69426727294922],\"yaxis\":\"y\",\"type\":\"scattergl\"},{\"hovertemplate\":\"\\u003cb\\u003e%{hovertext}\\u003c\\u002fb\\u003e\\u003cbr\\u003e\\u003cbr\\u003ecolor=Film-Noir|Romance|Thriller\\u003cbr\\u003e0=%{x}\\u003cbr\\u003e1=%{y}\\u003cextra\\u003e\\u003c\\u002fextra\\u003e\",\"hovertext\":[\"Notorious (1946)\"],\"legendgroup\":\"Film-Noir|Romance|Thriller\",\"marker\":{\"color\":\"#FFA15A\",\"symbol\":\"circle\"},\"mode\":\"markers\",\"name\":\"Film-Noir|Romance|Thriller\",\"showlegend\":true,\"x\":[-45.39582061767578],\"xaxis\":\"x\",\"y\":[26.99143409729004],\"yaxis\":\"y\",\"type\":\"scattergl\"},{\"hovertemplate\":\"\\u003cb\\u003e%{hovertext}\\u003c\\u002fb\\u003e\\u003cbr\\u003e\\u003cbr\\u003ecolor=Adventure|Comedy\\u003cbr\\u003e0=%{x}\\u003cbr\\u003e1=%{y}\\u003cextra\\u003e\\u003c\\u002fextra\\u003e\",\"hovertext\":[\"Around the World in 80 Days (1956)\"],\"legendgroup\":\"Adventure|Comedy\",\"marker\":{\"color\":\"#19d3f3\",\"symbol\":\"circle\"},\"mode\":\"markers\",\"name\":\"Adventure|Comedy\",\"showlegend\":true,\"x\":[-48.14109802246094],\"xaxis\":\"x\",\"y\":[21.955524444580078],\"yaxis\":\"y\",\"type\":\"scattergl\"},{\"hovertemplate\":\"\\u003cb\\u003e%{hovertext}\\u003c\\u002fb\\u003e\\u003cbr\\u003e\\u003cbr\\u003ecolor=Action|Children's\\u003cbr\\u003e0=%{x}\\u003cbr\\u003e1=%{y}\\u003cextra\\u003e\\u003c\\u002fextra\\u003e\",\"hovertext\":[\"3 Ninjas: High Noon At Mega Mountain (1998)\",\"Mighty Morphin Power Rangers: The Movie (1995)\",\"The Next Karate Kid (1994)\"],\"legendgroup\":\"Action|Children's\",\"marker\":{\"color\":\"#FF6692\",\"symbol\":\"circle\"},\"mode\":\"markers\",\"name\":\"Action|Children's\",\"showlegend\":true,\"x\":[19.12541961669922,21.313352584838867,39.12263488769531],\"xaxis\":\"x\",\"y\":[-33.537635803222656,-18.02499008178711,19.76067352294922],\"yaxis\":\"y\",\"type\":\"scattergl\"},{\"hovertemplate\":\"\\u003cb\\u003e%{hovertext}\\u003c\\u002fb\\u003e\\u003cbr\\u003e\\u003cbr\\u003ecolor=Action|Adventure|Crime|Thriller\\u003cbr\\u003e0=%{x}\\u003cbr\\u003e1=%{y}\\u003cextra\\u003e\\u003c\\u002fextra\\u003e\",\"hovertext\":[\"Hard Target (1993)\"],\"legendgroup\":\"Action|Adventure|Crime|Thriller\",\"marker\":{\"color\":\"#B6E880\",\"symbol\":\"circle\"},\"mode\":\"markers\",\"name\":\"Action|Adventure|Crime|Thriller\",\"showlegend\":true,\"x\":[2.5062572956085205],\"xaxis\":\"x\",\"y\":[14.091597557067871],\"yaxis\":\"y\",\"type\":\"scattergl\"},{\"hovertemplate\":\"\\u003cb\\u003e%{hovertext}\\u003c\\u002fb\\u003e\\u003cbr\\u003e\\u003cbr\\u003ecolor=Children's|Fantasy\\u003cbr\\u003e0=%{x}\\u003cbr\\u003e1=%{y}\\u003cextra\\u003e\\u003c\\u002fextra\\u003e\",\"hovertext\":[\"The NeverEnding Story III (1994)\",\"Simple Wish, A (1997)\"],\"legendgroup\":\"Children's|Fantasy\",\"marker\":{\"color\":\"#FF97FF\",\"symbol\":\"circle\"},\"mode\":\"markers\",\"name\":\"Children's|Fantasy\",\"showlegend\":true,\"x\":[-26.58098602294922,34.36090850830078],\"xaxis\":\"x\",\"y\":[9.145601272583008,-17.384658813476562],\"yaxis\":\"y\",\"type\":\"scattergl\"},{\"hovertemplate\":\"\\u003cb\\u003e%{hovertext}\\u003c\\u002fb\\u003e\\u003cbr\\u003e\\u003cbr\\u003ecolor=Adventure|Animation|Children's|Comedy|Musical\\u003cbr\\u003e0=%{x}\\u003cbr\\u003e1=%{y}\\u003cextra\\u003e\\u003c\\u002fextra\\u003e\",\"hovertext\":[\"Hercules (1997)\"],\"legendgroup\":\"Adventure|Animation|Children's|Comedy|Musical\",\"marker\":{\"color\":\"#FECB52\",\"symbol\":\"circle\"},\"mode\":\"markers\",\"name\":\"Adventure|Animation|Children's|Comedy|Musical\",\"showlegend\":true,\"x\":[40.02324676513672],\"xaxis\":\"x\",\"y\":[-26.573400497436523],\"yaxis\":\"y\",\"type\":\"scattergl\"},{\"hovertemplate\":\"\\u003cb\\u003e%{hovertext}\\u003c\\u002fb\\u003e\\u003cbr\\u003e\\u003cbr\\u003ecolor=Action|Adventure|Western\\u003cbr\\u003e0=%{x}\\u003cbr\\u003e1=%{y}\\u003cextra\\u003e\\u003c\\u002fextra\\u003e\",\"hovertext\":[\"The Quick and the Dead (1995)\"],\"legendgroup\":\"Action|Adventure|Western\",\"marker\":{\"color\":\"#636efa\",\"symbol\":\"circle\"},\"mode\":\"markers\",\"name\":\"Action|Adventure|Western\",\"showlegend\":true,\"x\":[-9.250149726867676],\"xaxis\":\"x\",\"y\":[7.505716800689697],\"yaxis\":\"y\",\"type\":\"scattergl\"},{\"hovertemplate\":\"\\u003cb\\u003e%{hovertext}\\u003c\\u002fb\\u003e\\u003cbr\\u003e\\u003cbr\\u003ecolor=Drama|Sci-Fi|Thriller\\u003cbr\\u003e0=%{x}\\u003cbr\\u003e1=%{y}\\u003cextra\\u003e\\u003c\\u002fextra\\u003e\",\"hovertext\":[\"Gattaca (1997)\"],\"legendgroup\":\"Drama|Sci-Fi|Thriller\",\"marker\":{\"color\":\"#EF553B\",\"symbol\":\"circle\"},\"mode\":\"markers\",\"name\":\"Drama|Sci-Fi|Thriller\",\"showlegend\":true,\"x\":[23.732206344604492],\"xaxis\":\"x\",\"y\":[-35.15589904785156],\"yaxis\":\"y\",\"type\":\"scattergl\"},{\"hovertemplate\":\"\\u003cb\\u003e%{hovertext}\\u003c\\u002fb\\u003e\\u003cbr\\u003e\\u003cbr\\u003ecolor=Comedy|Mystery|Romance\\u003cbr\\u003e0=%{x}\\u003cbr\\u003e1=%{y}\\u003cextra\\u003e\\u003c\\u002fextra\\u003e\",\"hovertext\":[\"Radioland Murders (1994)\"],\"legendgroup\":\"Comedy|Mystery|Romance\",\"marker\":{\"color\":\"#00cc96\",\"symbol\":\"circle\"},\"mode\":\"markers\",\"name\":\"Comedy|Mystery|Romance\",\"showlegend\":true,\"x\":[-10.909123420715332],\"xaxis\":\"x\",\"y\":[-1.8714663982391357],\"yaxis\":\"y\",\"type\":\"scattergl\"},{\"hovertemplate\":\"\\u003cb\\u003e%{hovertext}\\u003c\\u002fb\\u003e\\u003cbr\\u003e\\u003cbr\\u003ecolor=Comedy|Mystery\\u003cbr\\u003e0=%{x}\\u003cbr\\u003e1=%{y}\\u003cextra\\u003e\\u003c\\u002fextra\\u003e\",\"hovertext\":[\"Manhattan Murder Mystery (1993)\",\"The Man Who Knew Too Little (1997)\",\"Lady of Burlesque (1943)\"],\"legendgroup\":\"Comedy|Mystery\",\"marker\":{\"color\":\"#ab63fa\",\"symbol\":\"circle\"},\"mode\":\"markers\",\"name\":\"Comedy|Mystery\",\"showlegend\":true,\"x\":[-11.092352867126465,30.30612564086914,-54.55861282348633],\"xaxis\":\"x\",\"y\":[-2.6104865074157715,-22.43052101135254,27.815614700317383],\"yaxis\":\"y\",\"type\":\"scattergl\"},{\"hovertemplate\":\"\\u003cb\\u003e%{hovertext}\\u003c\\u002fb\\u003e\\u003cbr\\u003e\\u003cbr\\u003ecolor=Comedy|Fantasy\\u003cbr\\u003e0=%{x}\\u003cbr\\u003e1=%{y}\\u003cextra\\u003e\\u003c\\u002fextra\\u003e\",\"hovertext\":[\"Drop Dead Fred (1991)\"],\"legendgroup\":\"Comedy|Fantasy\",\"marker\":{\"color\":\"#FFA15A\",\"symbol\":\"circle\"},\"mode\":\"markers\",\"name\":\"Comedy|Fantasy\",\"showlegend\":true,\"x\":[-11.461915016174316],\"xaxis\":\"x\",\"y\":[7.5054931640625],\"yaxis\":\"y\",\"type\":\"scattergl\"},{\"hovertemplate\":\"\\u003cb\\u003e%{hovertext}\\u003c\\u002fb\\u003e\\u003cbr\\u003e\\u003cbr\\u003ecolor=Mystery|Romance|Thriller\\u003cbr\\u003e0=%{x}\\u003cbr\\u003e1=%{y}\\u003cextra\\u003e\\u003c\\u002fextra\\u003e\",\"hovertext\":[\"Boxing Helena (1993)\",\"Spellbound (1945)\"],\"legendgroup\":\"Mystery|Romance|Thriller\",\"marker\":{\"color\":\"#19d3f3\",\"symbol\":\"circle\"},\"mode\":\"markers\",\"name\":\"Mystery|Romance|Thriller\",\"showlegend\":true,\"x\":[22.6392765045166,-47.51716613769531],\"xaxis\":\"x\",\"y\":[17.205150604248047,32.525062561035156],\"yaxis\":\"y\",\"type\":\"scattergl\"},{\"hovertemplate\":\"\\u003cb\\u003e%{hovertext}\\u003c\\u002fb\\u003e\\u003cbr\\u003e\\u003cbr\\u003ecolor=Film-Noir|Sci-Fi|Thriller\\u003cbr\\u003e0=%{x}\\u003cbr\\u003e1=%{y}\\u003cextra\\u003e\\u003c\\u002fextra\\u003e\",\"hovertext\":[\"Dark City (1998)\"],\"legendgroup\":\"Film-Noir|Sci-Fi|Thriller\",\"marker\":{\"color\":\"#FF6692\",\"symbol\":\"circle\"},\"mode\":\"markers\",\"name\":\"Film-Noir|Sci-Fi|Thriller\",\"showlegend\":true,\"x\":[23.019229888916016],\"xaxis\":\"x\",\"y\":[-8.854878425598145],\"yaxis\":\"y\",\"type\":\"scattergl\"},{\"hovertemplate\":\"\\u003cb\\u003e%{hovertext}\\u003c\\u002fb\\u003e\\u003cbr\\u003e\\u003cbr\\u003ecolor=Adventure|Drama\\u003cbr\\u003e0=%{x}\\u003cbr\\u003e1=%{y}\\u003cextra\\u003e\\u003c\\u002fextra\\u003e\",\"hovertext\":[\"White Squall (1996)\",\"The Old Man and the Sea (1958)\",\"The War (1994)\"],\"legendgroup\":\"Adventure|Drama\",\"marker\":{\"color\":\"#B6E880\",\"symbol\":\"circle\"},\"mode\":\"markers\",\"name\":\"Adventure|Drama\",\"showlegend\":true,\"x\":[-5.453103065490723,-63.34279251098633,27.367576599121094],\"xaxis\":\"x\",\"y\":[-33.95528793334961,19.991605758666992,0.7593791484832764],\"yaxis\":\"y\",\"type\":\"scattergl\"},{\"hovertemplate\":\"\\u003cb\\u003e%{hovertext}\\u003c\\u002fb\\u003e\\u003cbr\\u003e\\u003cbr\\u003ecolor=Action|Adventure|Children's|Sci-Fi\\u003cbr\\u003e0=%{x}\\u003cbr\\u003e1=%{y}\\u003cextra\\u003e\\u003c\\u002fextra\\u003e\",\"hovertext\":[\"Super Mario Bros. (1993)\"],\"legendgroup\":\"Action|Adventure|Children's|Sci-Fi\",\"marker\":{\"color\":\"#FF97FF\",\"symbol\":\"circle\"},\"mode\":\"markers\",\"name\":\"Action|Adventure|Children's|Sci-Fi\",\"showlegend\":true,\"x\":[-10.538952827453613],\"xaxis\":\"x\",\"y\":[32.60725784301758],\"yaxis\":\"y\",\"type\":\"scattergl\"},{\"hovertemplate\":\"\\u003cb\\u003e%{hovertext}\\u003c\\u002fb\\u003e\\u003cbr\\u003e\\u003cbr\\u003ecolor=Children's|Comedy|Western\\u003cbr\\u003e0=%{x}\\u003cbr\\u003e1=%{y}\\u003cextra\\u003e\\u003c\\u002fextra\\u003e\",\"hovertext\":[\"The Apple Dumpling Gang (1975)\"],\"legendgroup\":\"Children's|Comedy|Western\",\"marker\":{\"color\":\"#FECB52\",\"symbol\":\"circle\"},\"mode\":\"markers\",\"name\":\"Children's|Comedy|Western\",\"showlegend\":true,\"x\":[-51.31797790527344],\"xaxis\":\"x\",\"y\":[-4.203536033630371],\"yaxis\":\"y\",\"type\":\"scattergl\"},{\"hovertemplate\":\"\\u003cb\\u003e%{hovertext}\\u003c\\u002fb\\u003e\\u003cbr\\u003e\\u003cbr\\u003ecolor=Comedy|Crime|Mystery|Thriller\\u003cbr\\u003e0=%{x}\\u003cbr\\u003e1=%{y}\\u003cextra\\u003e\\u003c\\u002fextra\\u003e\",\"hovertext\":[\"The Big Lebowski (1998)\"],\"legendgroup\":\"Comedy|Crime|Mystery|Thriller\",\"marker\":{\"color\":\"#636efa\",\"symbol\":\"circle\"},\"mode\":\"markers\",\"name\":\"Comedy|Crime|Mystery|Thriller\",\"showlegend\":true,\"x\":[-23.75914192199707],\"xaxis\":\"x\",\"y\":[-4.156377792358398],\"yaxis\":\"y\",\"type\":\"scattergl\"},{\"hovertemplate\":\"\\u003cb\\u003e%{hovertext}\\u003c\\u002fb\\u003e\\u003cbr\\u003e\\u003cbr\\u003ecolor=Action|Adventure|Romance\\u003cbr\\u003e0=%{x}\\u003cbr\\u003e1=%{y}\\u003cextra\\u003e\\u003c\\u002fextra\\u003e\",\"hovertext\":[\"Cutthroat Island (1995)\"],\"legendgroup\":\"Action|Adventure|Romance\",\"marker\":{\"color\":\"#EF553B\",\"symbol\":\"circle\"},\"mode\":\"markers\",\"name\":\"Action|Adventure|Romance\",\"showlegend\":true,\"x\":[-1.6658157110214233],\"xaxis\":\"x\",\"y\":[8.56183910369873],\"yaxis\":\"y\",\"type\":\"scattergl\"},{\"hovertemplate\":\"\\u003cb\\u003e%{hovertext}\\u003c\\u002fb\\u003e\\u003cbr\\u003e\\u003cbr\\u003ecolor=Action|Crime\\u003cbr\\u003e0=%{x}\\u003cbr\\u003e1=%{y}\\u003cextra\\u003e\\u003c\\u002fextra\\u003e\",\"hovertext\":[\"Set It Off (1996)\",\"New York Cop (1996)\",\"King of New York (1990)\"],\"legendgroup\":\"Action|Crime\",\"marker\":{\"color\":\"#00cc96\",\"symbol\":\"circle\"},\"mode\":\"markers\",\"name\":\"Action|Crime\",\"showlegend\":true,\"x\":[-6.791524410247803,-13.324234008789062,-12.34271240234375],\"xaxis\":\"x\",\"y\":[-24.549510955810547,-7.522209167480469,-6.154219150543213],\"yaxis\":\"y\",\"type\":\"scattergl\"},{\"hovertemplate\":\"\\u003cb\\u003e%{hovertext}\\u003c\\u002fb\\u003e\\u003cbr\\u003e\\u003cbr\\u003ecolor=Romance|War\\u003cbr\\u003e0=%{x}\\u003cbr\\u003e1=%{y}\\u003cextra\\u003e\\u003c\\u002fextra\\u003e\",\"hovertext\":[\"In Love and War (1996)\",\"Farewell to Arms, A (1932)\",\"For the Moment (1994)\"],\"legendgroup\":\"Romance|War\",\"marker\":{\"color\":\"#ab63fa\",\"symbol\":\"circle\"},\"mode\":\"markers\",\"name\":\"Romance|War\",\"showlegend\":true,\"x\":[13.421188354492188,-48.127384185791016,20.223772048950195],\"xaxis\":\"x\",\"y\":[-9.717198371887207,27.51495933532715,-2.3380684852600098],\"yaxis\":\"y\",\"type\":\"scattergl\"},{\"hovertemplate\":\"\\u003cb\\u003e%{hovertext}\\u003c\\u002fb\\u003e\\u003cbr\\u003e\\u003cbr\\u003ecolor=Comedy|Crime|Drama\\u003cbr\\u003e0=%{x}\\u003cbr\\u003e1=%{y}\\u003cextra\\u003e\\u003c\\u002fextra\\u003e\",\"hovertext\":[\"C'est arriv\\u00e9 pr\\u00e8s de chez vous (1992)\",\"Hana-bi (1997)\"],\"legendgroup\":\"Comedy|Crime|Drama\",\"marker\":{\"color\":\"#FFA15A\",\"symbol\":\"circle\"},\"mode\":\"markers\",\"name\":\"Comedy|Crime|Drama\",\"showlegend\":true,\"x\":[-25.98064422607422,37.0285758972168],\"xaxis\":\"x\",\"y\":[-24.79423713684082,-23.527568817138672],\"yaxis\":\"y\",\"type\":\"scattergl\"},{\"hovertemplate\":\"\\u003cb\\u003e%{hovertext}\\u003c\\u002fb\\u003e\\u003cbr\\u003e\\u003cbr\\u003ecolor=Drama|Western\\u003cbr\\u003e0=%{x}\\u003cbr\\u003e1=%{y}\\u003cextra\\u003e\\u003c\\u002fextra\\u003e\",\"hovertext\":[\"Geronimo: An American Legend (1993)\"],\"legendgroup\":\"Drama|Western\",\"marker\":{\"color\":\"#19d3f3\",\"symbol\":\"circle\"},\"mode\":\"markers\",\"name\":\"Drama|Western\",\"showlegend\":true,\"x\":[36.12894058227539],\"xaxis\":\"x\",\"y\":[-3.3913817405700684],\"yaxis\":\"y\",\"type\":\"scattergl\"},{\"hovertemplate\":\"\\u003cb\\u003e%{hovertext}\\u003c\\u002fb\\u003e\\u003cbr\\u003e\\u003cbr\\u003ecolor=Animation|Children's|Comedy|Romance\\u003cbr\\u003e0=%{x}\\u003cbr\\u003e1=%{y}\\u003cextra\\u003e\\u003c\\u002fextra\\u003e\",\"hovertext\":[\"Goofy Movie, A (1995)\"],\"legendgroup\":\"Animation|Children's|Comedy|Romance\",\"marker\":{\"color\":\"#FF6692\",\"symbol\":\"circle\"},\"mode\":\"markers\",\"name\":\"Animation|Children's|Comedy|Romance\",\"showlegend\":true,\"x\":[0.39824795722961426],\"xaxis\":\"x\",\"y\":[6.458292007446289],\"yaxis\":\"y\",\"type\":\"scattergl\"},{\"hovertemplate\":\"\\u003cb\\u003e%{hovertext}\\u003c\\u002fb\\u003e\\u003cbr\\u003e\\u003cbr\\u003ecolor=Action|Adventure|Children's\\u003cbr\\u003e0=%{x}\\u003cbr\\u003e1=%{y}\\u003cextra\\u003e\\u003c\\u002fextra\\u003e\",\"hovertext\":[\"Turbo: A Power Rangers Movie (1997)\"],\"legendgroup\":\"Action|Adventure|Children's\",\"marker\":{\"color\":\"#B6E880\",\"symbol\":\"circle\"},\"mode\":\"markers\",\"name\":\"Action|Adventure|Children's\",\"showlegend\":true,\"x\":[21.29886817932129],\"xaxis\":\"x\",\"y\":[-18.136367797851562],\"yaxis\":\"y\",\"type\":\"scattergl\"},{\"hovertemplate\":\"\\u003cb\\u003e%{hovertext}\\u003c\\u002fb\\u003e\\u003cbr\\u003e\\u003cbr\\u003ecolor=Action|Adventure|Animation|Children's|Fantasy\\u003cbr\\u003e0=%{x}\\u003cbr\\u003e1=%{y}\\u003cextra\\u003e\\u003c\\u002fextra\\u003e\",\"hovertext\":[\"The Pagemaster (1994)\"],\"legendgroup\":\"Action|Adventure|Animation|Children's|Fantasy\",\"marker\":{\"color\":\"#FF97FF\",\"symbol\":\"circle\"},\"mode\":\"markers\",\"name\":\"Action|Adventure|Animation|Children's|Fantasy\",\"showlegend\":true,\"x\":[26.44568634033203],\"xaxis\":\"x\",\"y\":[3.664599895477295],\"yaxis\":\"y\",\"type\":\"scattergl\"},{\"hovertemplate\":\"\\u003cb\\u003e%{hovertext}\\u003c\\u002fb\\u003e\\u003cbr\\u003e\\u003cbr\\u003ecolor=Crime|Drama|Mystery|Thriller\\u003cbr\\u003e0=%{x}\\u003cbr\\u003e1=%{y}\\u003cextra\\u003e\\u003c\\u002fextra\\u003e\",\"hovertext\":[\"Wild Things (1998)\"],\"legendgroup\":\"Crime|Drama|Mystery|Thriller\",\"marker\":{\"color\":\"#FECB52\",\"symbol\":\"circle\"},\"mode\":\"markers\",\"name\":\"Crime|Drama|Mystery|Thriller\",\"showlegend\":true,\"x\":[34.12293243408203],\"xaxis\":\"x\",\"y\":[-7.817327976226807],\"yaxis\":\"y\",\"type\":\"scattergl\"},{\"hovertemplate\":\"\\u003cb\\u003e%{hovertext}\\u003c\\u002fb\\u003e\\u003cbr\\u003e\\u003cbr\\u003ecolor=Crime|Film-Noir\\u003cbr\\u003e0=%{x}\\u003cbr\\u003e1=%{y}\\u003cextra\\u003e\\u003c\\u002fextra\\u003e\",\"hovertext\":[\"Crossfire (1947)\"],\"legendgroup\":\"Crime|Film-Noir\",\"marker\":{\"color\":\"#636efa\",\"symbol\":\"circle\"},\"mode\":\"markers\",\"name\":\"Crime|Film-Noir\",\"showlegend\":true,\"x\":[-39.92784881591797],\"xaxis\":\"x\",\"y\":[27.448591232299805],\"yaxis\":\"y\",\"type\":\"scattergl\"},{\"hovertemplate\":\"\\u003cb\\u003e%{hovertext}\\u003c\\u002fb\\u003e\\u003cbr\\u003e\\u003cbr\\u003ecolor=Action|Comedy|Crime|Drama\\u003cbr\\u003e0=%{x}\\u003cbr\\u003e1=%{y}\\u003cextra\\u003e\\u003c\\u002fextra\\u003e\",\"hovertext\":[\"Best Men (1997)\"],\"legendgroup\":\"Action|Comedy|Crime|Drama\",\"marker\":{\"color\":\"#EF553B\",\"symbol\":\"circle\"},\"mode\":\"markers\",\"name\":\"Action|Comedy|Crime|Drama\",\"showlegend\":true,\"x\":[16.672452926635742],\"xaxis\":\"x\",\"y\":[-27.829626083374023],\"yaxis\":\"y\",\"type\":\"scattergl\"},{\"hovertemplate\":\"\\u003cb\\u003e%{hovertext}\\u003c\\u002fb\\u003e\\u003cbr\\u003e\\u003cbr\\u003ecolor=Mystery|Sci-Fi\\u003cbr\\u003e0=%{x}\\u003cbr\\u003e1=%{y}\\u003cextra\\u003e\\u003c\\u002fextra\\u003e\",\"hovertext\":[\"Stalker (1979)\"],\"legendgroup\":\"Mystery|Sci-Fi\",\"marker\":{\"color\":\"#00cc96\",\"symbol\":\"circle\"},\"mode\":\"markers\",\"name\":\"Mystery|Sci-Fi\",\"showlegend\":true,\"x\":[-40.43349075317383],\"xaxis\":\"x\",\"y\":[6.378934860229492],\"yaxis\":\"y\",\"type\":\"scattergl\"},{\"hovertemplate\":\"\\u003cb\\u003e%{hovertext}\\u003c\\u002fb\\u003e\\u003cbr\\u003e\\u003cbr\\u003ecolor=Fantasy\\u003cbr\\u003e0=%{x}\\u003cbr\\u003e1=%{y}\\u003cextra\\u003e\\u003c\\u002fextra\\u003e\",\"hovertext\":[\"Hungarian Fairy Tale, A (1987)\"],\"legendgroup\":\"Fantasy\",\"marker\":{\"color\":\"#ab63fa\",\"symbol\":\"circle\"},\"mode\":\"markers\",\"name\":\"Fantasy\",\"showlegend\":true,\"x\":[38.485145568847656],\"xaxis\":\"x\",\"y\":[-15.983316421508789],\"yaxis\":\"y\",\"type\":\"scattergl\"},{\"hovertemplate\":\"\\u003cb\\u003e%{hovertext}\\u003c\\u002fb\\u003e\\u003cbr\\u003e\\u003cbr\\u003ecolor=Action|Adventure|Children's|Fantasy\\u003cbr\\u003e0=%{x}\\u003cbr\\u003e1=%{y}\\u003cextra\\u003e\\u003c\\u002fextra\\u003e\",\"hovertext\":[\"Warriors of Virtue (1997)\"],\"legendgroup\":\"Action|Adventure|Children's|Fantasy\",\"marker\":{\"color\":\"#FFA15A\",\"symbol\":\"circle\"},\"mode\":\"markers\",\"name\":\"Action|Adventure|Children's|Fantasy\",\"showlegend\":true,\"x\":[32.512855529785156],\"xaxis\":\"x\",\"y\":[-12.92248249053955],\"yaxis\":\"y\",\"type\":\"scattergl\"},{\"hovertemplate\":\"\\u003cb\\u003e%{hovertext}\\u003c\\u002fb\\u003e\\u003cbr\\u003e\\u003cbr\\u003ecolor=Comedy|Documentary\\u003cbr\\u003e0=%{x}\\u003cbr\\u003e1=%{y}\\u003cextra\\u003e\\u003c\\u002fextra\\u003e\",\"hovertext\":[\"The Big One (1997)\"],\"legendgroup\":\"Comedy|Documentary\",\"marker\":{\"color\":\"#19d3f3\",\"symbol\":\"circle\"},\"mode\":\"markers\",\"name\":\"Comedy|Documentary\",\"showlegend\":true,\"x\":[21.015880584716797],\"xaxis\":\"x\",\"y\":[-24.016983032226562],\"yaxis\":\"y\",\"type\":\"scattergl\"}],                        {\"template\":{\"data\":{\"histogram2dcontour\":[{\"type\":\"histogram2dcontour\",\"colorbar\":{\"outlinewidth\":0,\"ticks\":\"\"},\"colorscale\":[[0.0,\"#0d0887\"],[0.1111111111111111,\"#46039f\"],[0.2222222222222222,\"#7201a8\"],[0.3333333333333333,\"#9c179e\"],[0.4444444444444444,\"#bd3786\"],[0.5555555555555556,\"#d8576b\"],[0.6666666666666666,\"#ed7953\"],[0.7777777777777778,\"#fb9f3a\"],[0.8888888888888888,\"#fdca26\"],[1.0,\"#f0f921\"]]}],\"choropleth\":[{\"type\":\"choropleth\",\"colorbar\":{\"outlinewidth\":0,\"ticks\":\"\"}}],\"histogram2d\":[{\"type\":\"histogram2d\",\"colorbar\":{\"outlinewidth\":0,\"ticks\":\"\"},\"colorscale\":[[0.0,\"#0d0887\"],[0.1111111111111111,\"#46039f\"],[0.2222222222222222,\"#7201a8\"],[0.3333333333333333,\"#9c179e\"],[0.4444444444444444,\"#bd3786\"],[0.5555555555555556,\"#d8576b\"],[0.6666666666666666,\"#ed7953\"],[0.7777777777777778,\"#fb9f3a\"],[0.8888888888888888,\"#fdca26\"],[1.0,\"#f0f921\"]]}],\"heatmap\":[{\"type\":\"heatmap\",\"colorbar\":{\"outlinewidth\":0,\"ticks\":\"\"},\"colorscale\":[[0.0,\"#0d0887\"],[0.1111111111111111,\"#46039f\"],[0.2222222222222222,\"#7201a8\"],[0.3333333333333333,\"#9c179e\"],[0.4444444444444444,\"#bd3786\"],[0.5555555555555556,\"#d8576b\"],[0.6666666666666666,\"#ed7953\"],[0.7777777777777778,\"#fb9f3a\"],[0.8888888888888888,\"#fdca26\"],[1.0,\"#f0f921\"]]}],\"heatmapgl\":[{\"type\":\"heatmapgl\",\"colorbar\":{\"outlinewidth\":0,\"ticks\":\"\"},\"colorscale\":[[0.0,\"#0d0887\"],[0.1111111111111111,\"#46039f\"],[0.2222222222222222,\"#7201a8\"],[0.3333333333333333,\"#9c179e\"],[0.4444444444444444,\"#bd3786\"],[0.5555555555555556,\"#d8576b\"],[0.6666666666666666,\"#ed7953\"],[0.7777777777777778,\"#fb9f3a\"],[0.8888888888888888,\"#fdca26\"],[1.0,\"#f0f921\"]]}],\"contourcarpet\":[{\"type\":\"contourcarpet\",\"colorbar\":{\"outlinewidth\":0,\"ticks\":\"\"}}],\"contour\":[{\"type\":\"contour\",\"colorbar\":{\"outlinewidth\":0,\"ticks\":\"\"},\"colorscale\":[[0.0,\"#0d0887\"],[0.1111111111111111,\"#46039f\"],[0.2222222222222222,\"#7201a8\"],[0.3333333333333333,\"#9c179e\"],[0.4444444444444444,\"#bd3786\"],[0.5555555555555556,\"#d8576b\"],[0.6666666666666666,\"#ed7953\"],[0.7777777777777778,\"#fb9f3a\"],[0.8888888888888888,\"#fdca26\"],[1.0,\"#f0f921\"]]}],\"surface\":[{\"type\":\"surface\",\"colorbar\":{\"outlinewidth\":0,\"ticks\":\"\"},\"colorscale\":[[0.0,\"#0d0887\"],[0.1111111111111111,\"#46039f\"],[0.2222222222222222,\"#7201a8\"],[0.3333333333333333,\"#9c179e\"],[0.4444444444444444,\"#bd3786\"],[0.5555555555555556,\"#d8576b\"],[0.6666666666666666,\"#ed7953\"],[0.7777777777777778,\"#fb9f3a\"],[0.8888888888888888,\"#fdca26\"],[1.0,\"#f0f921\"]]}],\"mesh3d\":[{\"type\":\"mesh3d\",\"colorbar\":{\"outlinewidth\":0,\"ticks\":\"\"}}],\"scatter\":[{\"fillpattern\":{\"fillmode\":\"overlay\",\"size\":10,\"solidity\":0.2},\"type\":\"scatter\"}],\"parcoords\":[{\"type\":\"parcoords\",\"line\":{\"colorbar\":{\"outlinewidth\":0,\"ticks\":\"\"}}}],\"scatterpolargl\":[{\"type\":\"scatterpolargl\",\"marker\":{\"colorbar\":{\"outlinewidth\":0,\"ticks\":\"\"}}}],\"bar\":[{\"error_x\":{\"color\":\"#2a3f5f\"},\"error_y\":{\"color\":\"#2a3f5f\"},\"marker\":{\"line\":{\"color\":\"#E5ECF6\",\"width\":0.5},\"pattern\":{\"fillmode\":\"overlay\",\"size\":10,\"solidity\":0.2}},\"type\":\"bar\"}],\"scattergeo\":[{\"type\":\"scattergeo\",\"marker\":{\"colorbar\":{\"outlinewidth\":0,\"ticks\":\"\"}}}],\"scatterpolar\":[{\"type\":\"scatterpolar\",\"marker\":{\"colorbar\":{\"outlinewidth\":0,\"ticks\":\"\"}}}],\"histogram\":[{\"marker\":{\"pattern\":{\"fillmode\":\"overlay\",\"size\":10,\"solidity\":0.2}},\"type\":\"histogram\"}],\"scattergl\":[{\"type\":\"scattergl\",\"marker\":{\"colorbar\":{\"outlinewidth\":0,\"ticks\":\"\"}}}],\"scatter3d\":[{\"type\":\"scatter3d\",\"line\":{\"colorbar\":{\"outlinewidth\":0,\"ticks\":\"\"}},\"marker\":{\"colorbar\":{\"outlinewidth\":0,\"ticks\":\"\"}}}],\"scattermapbox\":[{\"type\":\"scattermapbox\",\"marker\":{\"colorbar\":{\"outlinewidth\":0,\"ticks\":\"\"}}}],\"scatterternary\":[{\"type\":\"scatterternary\",\"marker\":{\"colorbar\":{\"outlinewidth\":0,\"ticks\":\"\"}}}],\"scattercarpet\":[{\"type\":\"scattercarpet\",\"marker\":{\"colorbar\":{\"outlinewidth\":0,\"ticks\":\"\"}}}],\"carpet\":[{\"aaxis\":{\"endlinecolor\":\"#2a3f5f\",\"gridcolor\":\"white\",\"linecolor\":\"white\",\"minorgridcolor\":\"white\",\"startlinecolor\":\"#2a3f5f\"},\"baxis\":{\"endlinecolor\":\"#2a3f5f\",\"gridcolor\":\"white\",\"linecolor\":\"white\",\"minorgridcolor\":\"white\",\"startlinecolor\":\"#2a3f5f\"},\"type\":\"carpet\"}],\"table\":[{\"cells\":{\"fill\":{\"color\":\"#EBF0F8\"},\"line\":{\"color\":\"white\"}},\"header\":{\"fill\":{\"color\":\"#C8D4E3\"},\"line\":{\"color\":\"white\"}},\"type\":\"table\"}],\"barpolar\":[{\"marker\":{\"line\":{\"color\":\"#E5ECF6\",\"width\":0.5},\"pattern\":{\"fillmode\":\"overlay\",\"size\":10,\"solidity\":0.2}},\"type\":\"barpolar\"}],\"pie\":[{\"automargin\":true,\"type\":\"pie\"}]},\"layout\":{\"autotypenumbers\":\"strict\",\"colorway\":[\"#636efa\",\"#EF553B\",\"#00cc96\",\"#ab63fa\",\"#FFA15A\",\"#19d3f3\",\"#FF6692\",\"#B6E880\",\"#FF97FF\",\"#FECB52\"],\"font\":{\"color\":\"#2a3f5f\"},\"hovermode\":\"closest\",\"hoverlabel\":{\"align\":\"left\"},\"paper_bgcolor\":\"white\",\"plot_bgcolor\":\"#E5ECF6\",\"polar\":{\"bgcolor\":\"#E5ECF6\",\"angularaxis\":{\"gridcolor\":\"white\",\"linecolor\":\"white\",\"ticks\":\"\"},\"radialaxis\":{\"gridcolor\":\"white\",\"linecolor\":\"white\",\"ticks\":\"\"}},\"ternary\":{\"bgcolor\":\"#E5ECF6\",\"aaxis\":{\"gridcolor\":\"white\",\"linecolor\":\"white\",\"ticks\":\"\"},\"baxis\":{\"gridcolor\":\"white\",\"linecolor\":\"white\",\"ticks\":\"\"},\"caxis\":{\"gridcolor\":\"white\",\"linecolor\":\"white\",\"ticks\":\"\"}},\"coloraxis\":{\"colorbar\":{\"outlinewidth\":0,\"ticks\":\"\"}},\"colorscale\":{\"sequential\":[[0.0,\"#0d0887\"],[0.1111111111111111,\"#46039f\"],[0.2222222222222222,\"#7201a8\"],[0.3333333333333333,\"#9c179e\"],[0.4444444444444444,\"#bd3786\"],[0.5555555555555556,\"#d8576b\"],[0.6666666666666666,\"#ed7953\"],[0.7777777777777778,\"#fb9f3a\"],[0.8888888888888888,\"#fdca26\"],[1.0,\"#f0f921\"]],\"sequentialminus\":[[0.0,\"#0d0887\"],[0.1111111111111111,\"#46039f\"],[0.2222222222222222,\"#7201a8\"],[0.3333333333333333,\"#9c179e\"],[0.4444444444444444,\"#bd3786\"],[0.5555555555555556,\"#d8576b\"],[0.6666666666666666,\"#ed7953\"],[0.7777777777777778,\"#fb9f3a\"],[0.8888888888888888,\"#fdca26\"],[1.0,\"#f0f921\"]],\"diverging\":[[0,\"#8e0152\"],[0.1,\"#c51b7d\"],[0.2,\"#de77ae\"],[0.3,\"#f1b6da\"],[0.4,\"#fde0ef\"],[0.5,\"#f7f7f7\"],[0.6,\"#e6f5d0\"],[0.7,\"#b8e186\"],[0.8,\"#7fbc41\"],[0.9,\"#4d9221\"],[1,\"#276419\"]]},\"xaxis\":{\"gridcolor\":\"white\",\"linecolor\":\"white\",\"ticks\":\"\",\"title\":{\"standoff\":15},\"zerolinecolor\":\"white\",\"automargin\":true,\"zerolinewidth\":2},\"yaxis\":{\"gridcolor\":\"white\",\"linecolor\":\"white\",\"ticks\":\"\",\"title\":{\"standoff\":15},\"zerolinecolor\":\"white\",\"automargin\":true,\"zerolinewidth\":2},\"scene\":{\"xaxis\":{\"backgroundcolor\":\"#E5ECF6\",\"gridcolor\":\"white\",\"linecolor\":\"white\",\"showbackground\":true,\"ticks\":\"\",\"zerolinecolor\":\"white\",\"gridwidth\":2},\"yaxis\":{\"backgroundcolor\":\"#E5ECF6\",\"gridcolor\":\"white\",\"linecolor\":\"white\",\"showbackground\":true,\"ticks\":\"\",\"zerolinecolor\":\"white\",\"gridwidth\":2},\"zaxis\":{\"backgroundcolor\":\"#E5ECF6\",\"gridcolor\":\"white\",\"linecolor\":\"white\",\"showbackground\":true,\"ticks\":\"\",\"zerolinecolor\":\"white\",\"gridwidth\":2}},\"shapedefaults\":{\"line\":{\"color\":\"#2a3f5f\"}},\"annotationdefaults\":{\"arrowcolor\":\"#2a3f5f\",\"arrowhead\":0,\"arrowwidth\":1},\"geo\":{\"bgcolor\":\"white\",\"landcolor\":\"#E5ECF6\",\"subunitcolor\":\"white\",\"showland\":true,\"showlakes\":true,\"lakecolor\":\"white\"},\"title\":{\"x\":0.05},\"mapbox\":{\"style\":\"light\"}}},\"xaxis\":{\"anchor\":\"y\",\"domain\":[0.0,1.0],\"title\":{\"text\":\"0\"}},\"yaxis\":{\"anchor\":\"x\",\"domain\":[0.0,1.0],\"title\":{\"text\":\"1\"}},\"legend\":{\"title\":{\"text\":\"color\"},\"tracegroupgap\":0},\"title\":{\"text\":\"Movie Title Embeddings\"}},                        {\"responsive\": true}                    ).then(function(){\n",
       "                            \n",
       "var gd = document.getElementById('cf47f935-4426-4790-867d-9b5ffb1da07f');\n",
       "var x = new MutationObserver(function (mutations, observer) {{\n",
       "        var display = window.getComputedStyle(gd).display;\n",
       "        if (!display || display === 'none') {{\n",
       "            console.log([gd, 'removed!']);\n",
       "            Plotly.purge(gd);\n",
       "            observer.disconnect();\n",
       "        }}\n",
       "}});\n",
       "\n",
       "// Listen for the removal of the full notebook cells\n",
       "var notebookContainer = gd.closest('#notebook-container');\n",
       "if (notebookContainer) {{\n",
       "    x.observe(notebookContainer, {childList: true});\n",
       "}}\n",
       "\n",
       "// Listen for the clearing of the current output cell\n",
       "var outputEl = gd.closest('.output');\n",
       "if (outputEl) {{\n",
       "    x.observe(outputEl, {childList: true});\n",
       "}}\n",
       "\n",
       "                        })                };                });            </script>        </div>"
      ]
     },
     "metadata": {},
     "output_type": "display_data"
    }
   ],
   "source": [
    "# use tsne and plotly to visualize the embeddings\n",
    "import plotly.express as px\n",
    "from sklearn.manifold import TSNE\n",
    "\n",
    "embeddings = np.array(title_embeddings_df['title_embedding'].tolist())\n",
    "embeddings_2d = TSNE(n_components=2, random_state=0).fit_transform(embeddings)\n",
    "\n",
    "px.scatter(\n",
    "    embeddings_2d, x=0, y=1, hover_name=title_embeddings_df['title'], color=title_embeddings_df['genres'],\n",
    "    title=\"Movie Title Embeddings\",\n",
    ")\n"
   ]
  },
  {
   "cell_type": "code",
   "execution_count": 53,
   "metadata": {},
   "outputs": [
    {
     "data": {
      "application/vnd.jupyter.widget-view+json": {
       "model_id": "924c6f70af9a45218d51bfbc94ff37d2",
       "version_major": 2,
       "version_minor": 0
      },
      "text/plain": [
       "  0%|          | 0/1 [00:00<?, ?it/s]"
      ]
     },
     "metadata": {},
     "output_type": "display_data"
    }
   ],
   "source": [
    "query = \"Movies about childhood.\"\n",
    "\n",
    "res = search_docs(embedding_model(query), title_embeddings_df, 'title_embedding', top_n=3)"
   ]
  },
  {
   "cell_type": "code",
   "execution_count": 54,
   "metadata": {},
   "outputs": [
    {
     "data": {
      "text/html": [
       "<div>\n",
       "<style scoped>\n",
       "    .dataframe tbody tr th:only-of-type {\n",
       "        vertical-align: middle;\n",
       "    }\n",
       "\n",
       "    .dataframe tbody tr th {\n",
       "        vertical-align: top;\n",
       "    }\n",
       "\n",
       "    .dataframe thead th {\n",
       "        text-align: right;\n",
       "    }\n",
       "</style>\n",
       "<table border=\"1\" class=\"dataframe\">\n",
       "  <thead>\n",
       "    <tr style=\"text-align: right;\">\n",
       "      <th></th>\n",
       "      <th>title</th>\n",
       "      <th>title_embedding</th>\n",
       "      <th>genres</th>\n",
       "      <th>similarities</th>\n",
       "    </tr>\n",
       "  </thead>\n",
       "  <tbody>\n",
       "    <tr>\n",
       "      <th>1219</th>\n",
       "      <td>The Little Princess (1939)</td>\n",
       "      <td>[-0.007742746267467737, -0.05224580690264702, ...</td>\n",
       "      <td>Children's|Drama</td>\n",
       "      <td>0.845682</td>\n",
       "    </tr>\n",
       "    <tr>\n",
       "      <th>730</th>\n",
       "      <td>Kids (1995)</td>\n",
       "      <td>[0.01046755351126194, -0.01780427061021328, -0...</td>\n",
       "      <td>Drama</td>\n",
       "      <td>0.845399</td>\n",
       "    </tr>\n",
       "    <tr>\n",
       "      <th>1244</th>\n",
       "      <td>Little Lord Fauntleroy (1936)</td>\n",
       "      <td>[-0.00991661474108696, -0.023266395553946495, ...</td>\n",
       "      <td>Drama</td>\n",
       "      <td>0.839722</td>\n",
       "    </tr>\n",
       "  </tbody>\n",
       "</table>\n",
       "</div>"
      ],
      "text/plain": [
       "                              title  \\\n",
       "1219     The Little Princess (1939)   \n",
       "730                     Kids (1995)   \n",
       "1244  Little Lord Fauntleroy (1936)   \n",
       "\n",
       "                                        title_embedding            genres  \\\n",
       "1219  [-0.007742746267467737, -0.05224580690264702, ...  Children's|Drama   \n",
       "730   [0.01046755351126194, -0.01780427061021328, -0...             Drama   \n",
       "1244  [-0.00991661474108696, -0.023266395553946495, ...             Drama   \n",
       "\n",
       "      similarities  \n",
       "1219      0.845682  \n",
       "730       0.845399  \n",
       "1244      0.839722  "
      ]
     },
     "execution_count": 54,
     "metadata": {},
     "output_type": "execute_result"
    }
   ],
   "source": [
    "res"
   ]
  },
  {
   "cell_type": "code",
   "execution_count": null,
   "metadata": {},
   "outputs": [],
   "source": []
  }
 ],
 "metadata": {
  "kernelspec": {
   "display_name": "reco",
   "language": "python",
   "name": "python3"
  },
  "language_info": {
   "codemirror_mode": {
    "name": "ipython",
    "version": 3
   },
   "file_extension": ".py",
   "mimetype": "text/x-python",
   "name": "python",
   "nbconvert_exporter": "python",
   "pygments_lexer": "ipython3",
   "version": "3.10.13"
  }
 },
 "nbformat": 4,
 "nbformat_minor": 2
}
