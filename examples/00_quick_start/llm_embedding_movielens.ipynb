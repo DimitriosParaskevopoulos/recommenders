{
 "cells": [
  {
   "cell_type": "code",
   "execution_count": 1,
   "metadata": {},
   "outputs": [],
   "source": [
    "from recommenders.datasets import movielens"
   ]
  },
  {
   "cell_type": "code",
   "execution_count": 2,
   "metadata": {},
   "outputs": [],
   "source": [
    "import os\n",
    "from openai import AzureOpenAI"
   ]
  },
  {
   "cell_type": "code",
   "execution_count": 3,
   "metadata": {},
   "outputs": [
    {
     "name": "stderr",
     "output_type": "stream",
     "text": [
      "100%|██████████| 4.81k/4.81k [00:00<00:00, 11.8kKB/s]\n"
     ]
    },
    {
     "data": {
      "text/html": [
       "<div>\n",
       "<style scoped>\n",
       "    .dataframe tbody tr th:only-of-type {\n",
       "        vertical-align: middle;\n",
       "    }\n",
       "\n",
       "    .dataframe tbody tr th {\n",
       "        vertical-align: top;\n",
       "    }\n",
       "\n",
       "    .dataframe thead th {\n",
       "        text-align: right;\n",
       "    }\n",
       "</style>\n",
       "<table border=\"1\" class=\"dataframe\">\n",
       "  <thead>\n",
       "    <tr style=\"text-align: right;\">\n",
       "      <th></th>\n",
       "      <th>userID</th>\n",
       "      <th>itemID</th>\n",
       "      <th>rating</th>\n",
       "      <th>timestamp</th>\n",
       "      <th>title</th>\n",
       "      <th>genres</th>\n",
       "    </tr>\n",
       "  </thead>\n",
       "  <tbody>\n",
       "    <tr>\n",
       "      <th>0</th>\n",
       "      <td>196</td>\n",
       "      <td>242</td>\n",
       "      <td>3.0</td>\n",
       "      <td>881250949</td>\n",
       "      <td>Kolya (1996)</td>\n",
       "      <td>Comedy</td>\n",
       "    </tr>\n",
       "    <tr>\n",
       "      <th>1</th>\n",
       "      <td>63</td>\n",
       "      <td>242</td>\n",
       "      <td>3.0</td>\n",
       "      <td>875747190</td>\n",
       "      <td>Kolya (1996)</td>\n",
       "      <td>Comedy</td>\n",
       "    </tr>\n",
       "    <tr>\n",
       "      <th>2</th>\n",
       "      <td>226</td>\n",
       "      <td>242</td>\n",
       "      <td>5.0</td>\n",
       "      <td>883888671</td>\n",
       "      <td>Kolya (1996)</td>\n",
       "      <td>Comedy</td>\n",
       "    </tr>\n",
       "    <tr>\n",
       "      <th>3</th>\n",
       "      <td>154</td>\n",
       "      <td>242</td>\n",
       "      <td>3.0</td>\n",
       "      <td>879138235</td>\n",
       "      <td>Kolya (1996)</td>\n",
       "      <td>Comedy</td>\n",
       "    </tr>\n",
       "    <tr>\n",
       "      <th>4</th>\n",
       "      <td>306</td>\n",
       "      <td>242</td>\n",
       "      <td>5.0</td>\n",
       "      <td>876503793</td>\n",
       "      <td>Kolya (1996)</td>\n",
       "      <td>Comedy</td>\n",
       "    </tr>\n",
       "  </tbody>\n",
       "</table>\n",
       "</div>"
      ],
      "text/plain": [
       "   userID  itemID  rating  timestamp         title  genres\n",
       "0     196     242     3.0  881250949  Kolya (1996)  Comedy\n",
       "1      63     242     3.0  875747190  Kolya (1996)  Comedy\n",
       "2     226     242     5.0  883888671  Kolya (1996)  Comedy\n",
       "3     154     242     3.0  879138235  Kolya (1996)  Comedy\n",
       "4     306     242     5.0  876503793  Kolya (1996)  Comedy"
      ]
     },
     "execution_count": 3,
     "metadata": {},
     "output_type": "execute_result"
    }
   ],
   "source": [
    "df = movielens.load_pandas_df(\n",
    "    title_col='title',\n",
    "    genres_col='genres',\n",
    ")\n",
    "df.head()"
   ]
  },
  {
   "cell_type": "code",
   "execution_count": 5,
   "metadata": {},
   "outputs": [
    {
     "data": {
      "text/plain": [
       "array(['Kolya (1996)', 'L.A. Confidential (1997)', 'Heavyweights (1994)',\n",
       "       'Legends of the Fall (1994)', 'Jackie Brown (1997)',\n",
       "       'Dr. Strangelove or: How I Learned to Stop Worrying and Love the Bomb (1963)',\n",
       "       'Hunt for Red October, The (1990)', 'Jungle Book, The (1994)',\n",
       "       'Grease (1978)', 'Remains of the Day, The (1993)',\n",
       "       'Men in Black (1997)',\n",
       "       \"Romy and Michele's High School Reunion (1997)\",\n",
       "       'Star Trek: First Contact (1996)',\n",
       "       'To Wong Foo, Thanks for Everything! Julie Newmar (1995)',\n",
       "       'Batman Forever (1995)', 'Only You (1994)',\n",
       "       'Age of Innocence, The (1993)', 'Sabrina (1995)',\n",
       "       'Just Cause (1995)', 'Endless Summer 2, The (1994)',\n",
       "       'Man Without a Face, The (1993)', 'Sabrina (1954)',\n",
       "       'Die Hard (1988)', 'Twister (1996)', 'Toy Story (1995)',\n",
       "       'Broken Arrow (1996)', 'Aladdin (1992)', 'Casper (1995)',\n",
       "       'Restoration (1995)', 'Jaws (1975)', 'Chasing Amy (1997)',\n",
       "       'Silence of the Lambs, The (1991)', 'Right Stuff, The (1983)',\n",
       "       'Sleepless in Seattle (1993)', 'Sting, The (1973)',\n",
       "       'Curdled (1996)', 'Rear Window (1954)', 'Speechless (1994)',\n",
       "       'Crumb (1994)', 'French Twist (Gazon maudit) (1995)',\n",
       "       'Fly Away Home (1996)', 'Trigger Effect, The (1996)',\n",
       "       'Tales from the Hood (1995)', 'Cop Land (1997)',\n",
       "       'Evil Dead II (1987)', 'Beautiful Thing (1996)',\n",
       "       'Last of the Mohicans, The (1992)', 'Get Shorty (1995)',\n",
       "       'Kiss the Girls (1997)', 'Fargo (1996)', 'Fantasia (1940)',\n",
       "       'Murder at 1600 (1997)', 'Return of the Jedi (1983)',\n",
       "       'Dead Poets Society (1989)', 'Conan the Barbarian (1981)',\n",
       "       'Naked Gun 33 1/3: The Final Insult (1994)',\n",
       "       'Sound of Music, The (1965)', 'E.T. the Extra-Terrestrial (1982)',\n",
       "       'Boot, Das (1981)', 'Angels and Insects (1995)', 'Scream (1996)',\n",
       "       'Nightmare on Elm Street, A (1984)', 'Ben-Hur (1959)',\n",
       "       'City of Lost Children, The (1995)',\n",
       "       'Brothers McMullen, The (1995)', 'Young Guns (1988)',\n",
       "       'To Kill a Mockingbird (1962)', 'Wings of Desire (1987)',\n",
       "       \"Mr. Holland's Opus (1995)\", 'House Arrest (1996)',\n",
       "       'Old Yeller (1957)', 'Jean de Florette (1986)',\n",
       "       'Seven Years in Tibet (1997)', 'Grosse Pointe Blank (1997)',\n",
       "       'That Darn Cat! (1965)', 'Copycat (1995)',\n",
       "       'Star Trek III: The Search for Spock (1984)',\n",
       "       'Jerry Maguire (1996)', 'North by Northwest (1959)',\n",
       "       'Outbreak (1995)', 'Dangerous Minds (1995)',\n",
       "       \"Miller's Crossing (1990)\", 'Batman (1989)',\n",
       "       'Truth About Cats & Dogs, The (1996)',\n",
       "       'Sword in the Stone, The (1963)', 'Bean (1997)',\n",
       "       'Birdcage, The (1996)', 'Con Air (1997)',\n",
       "       \"Monty Python's Life of Brian (1979)\",\n",
       "       'Sense and Sensibility (1995)', 'Backbeat (1993)',\n",
       "       'African Queen, The (1951)',\n",
       "       'Adventures of Priscilla, Queen of the Desert, The (1994)',\n",
       "       'This Is Spinal Tap (1984)', 'Taxi Driver (1976)',\n",
       "       'Liar Liar (1997)', 'Young Frankenstein (1974)',\n",
       "       'Executive Decision (1996)', 'Conspiracy Theory (1997)',\n",
       "       \"It's a Wonderful Life (1946)\"], dtype=object)"
      ]
     },
     "execution_count": 5,
     "metadata": {},
     "output_type": "execute_result"
    }
   ],
   "source": [
    "# TODO Do we want to parse title to remove year?\n",
    "df[\"title\"].unique()[:100]\n",
    "# , The (year) or (year)\n",
    "\n"
   ]
  },
  {
   "cell_type": "code",
   "execution_count": 6,
   "metadata": {},
   "outputs": [],
   "source": [
    "MODEL = \"jun-openai-ada\""
   ]
  },
  {
   "cell_type": "code",
   "execution_count": 7,
   "metadata": {},
   "outputs": [],
   "source": [
    "client = AzureOpenAI(\n",
    "    api_key=os.getenv(\"OPENAI_API_KEY\"),  \n",
    "    api_version=\"2023-05-15\",\n",
    "    azure_endpoint=os.getenv(\"OPENAI_API_ENDPOINT\"), \n",
    ")"
   ]
  },
  {
   "cell_type": "code",
   "execution_count": 8,
   "metadata": {},
   "outputs": [],
   "source": [
    "def generate_embeddings(text):\n",
    "    # The maximum length of input text for our latest embedding models is 8192 tokens\n",
    "    response = client.embeddings.create(\n",
    "        model=MODEL,\n",
    "        input=[text],\n",
    "    )\n",
    "    return response.data[0].embedding"
   ]
  },
  {
   "cell_type": "code",
   "execution_count": 10,
   "metadata": {},
   "outputs": [],
   "source": [
    "titles = [\n",
    "    \"Harry Potter and the Sorcerer's Stone (2001)\",\n",
    "    \"Harry Potter and the Half-Blood Prince (2009)\",\n",
    "    \"Hannibal (2001)\",\n",
    "    \"Fantastic Beasts and Where to Find Them (2016)\",\n",
    "]\n",
    "\n",
    "titles_embeddings = {\n",
    "    title: generate_embeddings(title) for title in titles\n",
    "}"
   ]
  },
  {
   "cell_type": "code",
   "execution_count": 12,
   "metadata": {},
   "outputs": [
    {
     "name": "stderr",
     "output_type": "stream",
     "text": [
      "/anaconda/envs/reco/lib/python3.10/site-packages/sklearn/manifold/_t_sne.py:780: FutureWarning: The default initialization in TSNE will change from 'random' to 'pca' in 1.2.\n",
      "  warnings.warn(\n",
      "/anaconda/envs/reco/lib/python3.10/site-packages/sklearn/manifold/_t_sne.py:790: FutureWarning: The default learning rate in TSNE will change from 200.0 to 'auto' in 1.2.\n",
      "  warnings.warn(\n"
     ]
    },
    {
     "data": {
      "text/plain": [
       "<matplotlib.collections.PathCollection at 0x7fb3df361f30>"
      ]
     },
     "execution_count": 12,
     "metadata": {},
     "output_type": "execute_result"
    },
    {
     "data": {
      "image/png": "[encoded data removed]",
      "text/plain": [
       "<Figure size 1000x1000 with 1 Axes>"
      ]
     },
     "metadata": {},
     "output_type": "display_data"
    }
   ],
   "source": [
    "# use tsne to visualize the embeddings\n",
    "from sklearn.manifold import TSNE\n",
    "\n",
    "embeddings = list(titles_embeddings.values())\n",
    "data = TSNE(n_components=2, random_state=0).fit_transform(embeddings)\n",
    "\n",
    "# plot embedding \n",
    "import matplotlib\n",
    "import matplotlib.pyplot as plt\n",
    "matplotlib.style.use('ggplot')\n",
    "\n",
    "fig, ax = plt.subplots(figsize=(10, 10))\n",
    "ax.scatter(data[:,0], data[:,1])\n",
    "\n",
    "\n"
   ]
  },
  {
   "cell_type": "code",
   "execution_count": null,
   "metadata": {},
   "outputs": [],
   "source": []
  }
 ],
 "metadata": {
  "kernelspec": {
   "display_name": "reco",
   "language": "python",
   "name": "python3"
  },
  "language_info": {
   "codemirror_mode": {
    "name": "ipython",
    "version": 3
   },
   "file_extension": ".py",
   "mimetype": "text/x-python",
   "name": "python",
   "nbconvert_exporter": "python",
   "pygments_lexer": "ipython3",
   "version": "3.10.13"
  }
 },
 "nbformat": 4,
 "nbformat_minor": 2
}
